{
 "cells": [
  {
   "cell_type": "markdown",
   "id": "f6c7c9c8",
   "metadata": {},
   "source": [
    "# installing beautifulsoap"
   ]
  },
  {
   "cell_type": "code",
   "execution_count": 1,
   "id": "daaf305e",
   "metadata": {},
   "outputs": [
    {
     "name": "stdout",
     "output_type": "stream",
     "text": [
      "Requirement already satisfied: bs4 in c:\\python311\\lib\\site-packages (0.0.1)\n",
      "Requirement already satisfied: beautifulsoup4 in c:\\python311\\lib\\site-packages (from bs4) (4.12.2)\n",
      "Requirement already satisfied: soupsieve>1.2 in c:\\python311\\lib\\site-packages (from beautifulsoup4->bs4) (2.4.1)\n"
     ]
    },
    {
     "name": "stderr",
     "output_type": "stream",
     "text": [
      "\n",
      "[notice] A new release of pip available: 22.3 -> 23.1\n",
      "[notice] To update, run: python.exe -m pip install --upgrade pip\n"
     ]
    }
   ],
   "source": [
    "!pip install bs4 "
   ]
  },
  {
   "cell_type": "markdown",
   "id": "914e4285",
   "metadata": {},
   "source": [
    "## saving the index.html pages "
   ]
  },
  {
   "cell_type": "code",
   "execution_count": 2,
   "id": "e5bfe4cc",
   "metadata": {},
   "outputs": [
    {
     "name": "stderr",
     "output_type": "stream",
     "text": [
      "C:\\Users\\Er. Aadil Ji\\AppData\\Local\\Programs\\Python\\Python39\\lib\\site-packages\\requests\\__init__.py:102: RequestsDependencyWarning: urllib3 (1.26.9) or chardet (5.0.0)/charset_normalizer (2.0.12) doesn't match a supported version!\n",
      "  warnings.warn(\"urllib3 ({}) or chardet ({})/charset_normalizer ({}) doesn't match a supported \"\n"
     ]
    }
   ],
   "source": [
    "import requests \n",
    "\n",
    "# Data Collections\n",
    "links = ['https://www.codewithharry.com/blog','https://www.codewithharry.com/videos','https://www.codewithharry.com/contact'] \n",
    "\n",
    "for link in links:\n",
    "    with open(f\"htmls/{link.split('/')[-1]}\",'w') as f:\n",
    "        r = requests.get(link)\n",
    "        f.write(r.text) \n",
    "        \n"
   ]
  },
  {
   "cell_type": "code",
   "execution_count": 3,
   "id": "645b0a52",
   "metadata": {},
   "outputs": [
    {
     "data": {
      "text/plain": [
       "['blog', 'contact', 'videos']"
      ]
     },
     "execution_count": 3,
     "metadata": {},
     "output_type": "execute_result"
    }
   ],
   "source": [
    "import os\n",
    "\n",
    "os.listdir('htmls/')   "
   ]
  },
  {
   "cell_type": "markdown",
   "id": "f32ae256",
   "metadata": {},
   "source": [
    "## creating beaultifulsoap object using html.parser"
   ]
  },
  {
   "cell_type": "code",
   "execution_count": 4,
   "id": "1ac391fe",
   "metadata": {},
   "outputs": [
    {
     "name": "stdout",
     "output_type": "stream",
     "text": [
      "<title>Blog | CodeWithHarry</title>\n",
      "<title>Contact | CodeWithHarry</title>\n",
      "<title>Courses | CodeWithHarry</title>\n"
     ]
    }
   ],
   "source": [
    "from bs4 import BeautifulSoup \n",
    "\n",
    "for file in os.listdir('htmls/'):\n",
    "    with open(f'htmls/{file}') as f:\n",
    "        html_content = f.read()\n",
    "        \n",
    "        soup = BeautifulSoup(html_content,'html.parser')\n",
    "        print(soup.title)  \n"
   ]
  },
  {
   "cell_type": "markdown",
   "id": "74c93eb2",
   "metadata": {},
   "source": [
    "## getting the links of html pages"
   ]
  },
  {
   "cell_type": "code",
   "execution_count": 5,
   "id": "480d2d35",
   "metadata": {},
   "outputs": [
    {
     "name": "stdout",
     "output_type": "stream",
     "text": [
      "<a href=\"/\">CodeWithHarry</a>\n",
      "<a href=\"/\">Home</a>\n",
      "<a href=\"/videos/\">Courses</a>\n",
      "<a href=\"/tutorials/\">Tutorial</a>\n",
      "<a href=\"/blog/\">Blog</a>\n",
      "<a href=\"/notes/\">Notes</a>\n",
      "<a href=\"/contact/\">Contact</a>\n",
      "<a href=\"/my-gear/\">My Gear</a>\n",
      "<a href=\"/work/\">Work With Us</a>\n",
      "<a href=\"/tutorial/html-home/\">HTML</a>\n",
      "<a href=\"/tutorial/css-home/\">CSS</a>\n",
      "<a href=\"/tutorial/js/\">JS</a>\n",
      "<a href=\"/tutorial/c/\">C</a>\n",
      "<a href=\"/tutorial/cplusplus/\">C++</a>\n",
      "<a href=\"/tutorial/java/\">JAVA</a>\n",
      "<a href=\"/tutorial/python/\">PYTHON</a>\n",
      "<a href=\"/tutorial/php/\">PHP</a>\n",
      "<a href=\"/tutorial/react-home/\">REACT JS</a>\n",
      "<a href=\"/\">Home</a>\n",
      "<a href=\"/videos/\">Courses</a>\n",
      "<a href=\"/tutorial/html-home/\">HTML</a>\n",
      "<a href=\"/tutorial/css-home/\">CSS</a>\n",
      "<a href=\"/tutorial/js/\">JS</a>\n",
      "<a href=\"/tutorial/c/\">C</a>\n",
      "<a href=\"/tutorial/cplusplus/\">C++</a>\n",
      "<a href=\"/tutorial/java/\">JAVA</a>\n",
      "<a href=\"/tutorial/python/\">PYTHON</a>\n",
      "<a href=\"/tutorial/php/\">PHP</a>\n",
      "<a href=\"/tutorial/react-home/\">REACT JS</a>\n",
      "<a href=\"/blog/\">Blog</a>\n",
      "<a href=\"/notes/\">Notes</a>\n",
      "<a href=\"/contact/\">Contact</a>\n",
      "<a href=\"/my-gear/\">My Gear</a>\n",
      "<a href=\"/work/\">Work With Us</a>\n",
      "<a aria-label=\"facebook\" class=\"text-gray-500 dark:text-gray-300\" href=\"https://www.facebook.com/codewithharry\" rel=\"noreferrer\" target=\"_blank\"><svg class=\"w-5 h-5\" fill=\"currentColor\" stroke-linecap=\"round\" stroke-linejoin=\"round\" stroke-width=\"2\" viewbox=\"0 0 24 24\"><path d=\"M18 2h-3a5 5 0 00-5 5v3H7v4h3v8h4v-8h3l1-4h-4V7a1 1 0 011-1h3z\"></path></svg></a>\n",
      "<a aria-label=\"twitter\" class=\"ml-3 text-gray-500 dark:text-gray-300\" href=\"https://www.twitter.com/codewithharry\" rel=\"noreferrer\" target=\"_blank\"><svg class=\"w-5 h-5\" fill=\"currentColor\" stroke-linecap=\"round\" stroke-linejoin=\"round\" stroke-width=\"2\" viewbox=\"0 0 24 24\"><path d=\"M23 3a10.9 10.9 0 01-3.14 1.53 4.48 4.48 0 00-7.86 3v1A10.66 10.66 0 013 4s-4 9 5 13a11.64 11.64 0 01-7 2c9 5 20 0 20-11.5a4.5 4.5 0 00-.08-.83A7.72 7.72 0 0023 3z\"></path></svg></a>\n",
      "<a aria-label=\"instagram\" class=\"ml-3 text-gray-500 dark:text-gray-300\" href=\"https://www.instagram.com/codewithharry\" rel=\"noreferrer\" target=\"_blank\"><svg class=\"w-5 h-5\" fill=\"none\" stroke=\"currentColor\" stroke-linecap=\"round\" stroke-linejoin=\"round\" stroke-width=\"2\" viewbox=\"0 0 24 24\"><rect height=\"20\" rx=\"5\" ry=\"5\" width=\"20\" x=\"2\" y=\"2\"></rect><path d=\"M16 11.37A4 4 0 1112.63 8 4 4 0 0116 11.37zm1.5-4.87h.01\"></path></svg></a>\n",
      "<a aria-label=\"github\" class=\"ml-3 text-gray-500 dark:text-gray-300\" href=\"https://www.github.com/codewithharry\" rel=\"noreferrer\" target=\"_blank\"><svg class=\"text-xl\" fill=\"currentColor\" height=\"1em\" stroke=\"currentColor\" stroke-width=\"0\" viewbox=\"0 0 1024 1024\" width=\"1em\" xmlns=\"http://www.w3.org/2000/svg\"><path d=\"M511.6 76.3C264.3 76.2 64 276.4 64 523.5 64 718.9 189.3 885 363.8 946c23.5 5.9 19.9-10.8 19.9-22.2v-77.5c-135.7 15.9-141.2-73.9-150.3-88.9C215 726 171.5 718 184.5 703c30.9-15.9 62.4 4 98.9 57.9 26.4 39.1 77.9 32.5 104 26 5.7-23.5 17.9-44.5 34.7-60.8-140.6-25.2-199.2-111-199.2-213 0-49.5 16.3-95 48.3-131.7-20.4-60.5 1.9-112.3 4.9-120 58.1-5.2 118.5 41.6 123.2 45.3 33-8.9 70.7-13.6 112.9-13.6 42.4 0 80.2 4.9 113.5 13.9 11.3-8.6 67.3-48.8 121.3-43.9 2.9 7.7 24.7 58.3 5.5 118 32.4 36.8 48.9 82.7 48.9 132.3 0 102.2-59 188.1-200 212.9a127.5 127.5 0 0 1 38.1 91v112.5c.8 9 0 17.9 15 17.9 177.1-59.7 304.6-227 304.6-424.1 0-247.2-200.4-447.3-447.5-447.3z\"></path></svg></a>\n",
      "<a href=\"/\">CodeWithHarry</a>\n",
      "<a href=\"/\">Home</a>\n",
      "<a href=\"/videos/\">Courses</a>\n",
      "<a href=\"/tutorials/\">Tutorial</a>\n",
      "<a href=\"/blog/\">Blog</a>\n",
      "<a href=\"/notes/\">Notes</a>\n",
      "<a href=\"/contact/\">Contact</a>\n",
      "<a href=\"/my-gear/\">My Gear</a>\n",
      "<a href=\"/work/\">Work With Us</a>\n",
      "<a href=\"/tutorial/html-home/\">HTML</a>\n",
      "<a href=\"/tutorial/css-home/\">CSS</a>\n",
      "<a href=\"/tutorial/js/\">JS</a>\n",
      "<a href=\"/tutorial/c/\">C</a>\n",
      "<a href=\"/tutorial/cplusplus/\">C++</a>\n",
      "<a href=\"/tutorial/java/\">JAVA</a>\n",
      "<a href=\"/tutorial/python/\">PYTHON</a>\n",
      "<a href=\"/tutorial/php/\">PHP</a>\n",
      "<a href=\"/tutorial/react-home/\">REACT JS</a>\n",
      "<a href=\"/\">Home</a>\n",
      "<a href=\"/videos/\">Courses</a>\n",
      "<a href=\"/tutorial/html-home/\">HTML</a>\n",
      "<a href=\"/tutorial/css-home/\">CSS</a>\n",
      "<a href=\"/tutorial/js/\">JS</a>\n",
      "<a href=\"/tutorial/c/\">C</a>\n",
      "<a href=\"/tutorial/cplusplus/\">C++</a>\n",
      "<a href=\"/tutorial/java/\">JAVA</a>\n",
      "<a href=\"/tutorial/python/\">PYTHON</a>\n",
      "<a href=\"/tutorial/php/\">PHP</a>\n",
      "<a href=\"/tutorial/react-home/\">REACT JS</a>\n",
      "<a href=\"/blog/\">Blog</a>\n",
      "<a href=\"/notes/\">Notes</a>\n",
      "<a href=\"/contact/\">Contact</a>\n",
      "<a href=\"/my-gear/\">My Gear</a>\n",
      "<a href=\"/work/\">Work With Us</a>\n",
      "<a class=\"cursor-pointer mx-6 hover:text-purple-500 active:text-purple-700\" href=\"https://www.facebook.com/codewithharry\" rel=\"noreferrer\" target=\"_blank\"><svg fill=\"currentColor\" height=\"1em\" stroke=\"currentColor\" stroke-width=\"0\" viewbox=\"0 0 448 512\" width=\"1em\" xmlns=\"http://www.w3.org/2000/svg\"><path d=\"M400 32H48A48 48 0 0 0 0 80v352a48 48 0 0 0 48 48h137.25V327.69h-63V256h63v-54.64c0-62.15 37-96.48 93.67-96.48 27.14 0 55.52 4.84 55.52 4.84v61h-31.27c-30.81 0-40.42 19.12-40.42 38.73V256h68.78l-11 71.69h-57.78V480H400a48 48 0 0 0 48-48V80a48 48 0 0 0-48-48z\"></path></svg></a>\n",
      "<a class=\"cursor-pointer mx-6 hover:text-purple-500 active:text-purple-700\" href=\"https://www.twitter.com/codewithharry\" rel=\"noreferrer\" target=\"_blank\"><svg fill=\"currentColor\" height=\"1em\" stroke=\"currentColor\" stroke-width=\"0\" viewbox=\"0 0 1024 1024\" width=\"1em\" xmlns=\"http://www.w3.org/2000/svg\"><path d=\"M512 64C264.6 64 64 264.6 64 512s200.6 448 448 448 448-200.6 448-448S759.4 64 512 64zm215.3 337.7c.3 4.7.3 9.6.3 14.4 0 146.8-111.8 315.9-316.1 315.9-63 0-121.4-18.3-170.6-49.8 9 1 17.6 1.4 26.8 1.4 52 0 99.8-17.6 137.9-47.4-48.8-1-89.8-33-103.8-77 17.1 2.5 32.5 2.5 50.1-2a111 111 0 0 1-88.9-109v-1.4c14.7 8.3 32 13.4 50.1 14.1a111.13 111.13 0 0 1-49.5-92.4c0-20.7 5.4-39.6 15.1-56a315.28 315.28 0 0 0 229 116.1C492 353.1 548.4 292 616.2 292c32 0 60.8 13.4 81.1 35 25.1-4.7 49.1-14.1 70.5-26.7-8.3 25.7-25.7 47.4-48.8 61.1 22.4-2.4 44-8.6 64-17.3-15.1 22.2-34 41.9-55.7 57.6z\"></path></svg></a>\n",
      "<a class=\"cursor-pointer mx-6 hover:text-purple-500 active:text-purple-700\" href=\"https://www.instagram.com/codewithharry\" rel=\"noreferrer\" target=\"_blank\"><svg fill=\"currentColor\" height=\"1em\" stroke=\"currentColor\" stroke-width=\"0\" viewbox=\"0 0 448 512\" width=\"1em\" xmlns=\"http://www.w3.org/2000/svg\"><path d=\"M224.1 141c-63.6 0-114.9 51.3-114.9 114.9s51.3 114.9 114.9 114.9S339 319.5 339 255.9 287.7 141 224.1 141zm0 189.6c-41.1 0-74.7-33.5-74.7-74.7s33.5-74.7 74.7-74.7 74.7 33.5 74.7 74.7-33.6 74.7-74.7 74.7zm146.4-194.3c0 14.9-12 26.8-26.8 26.8-14.9 0-26.8-12-26.8-26.8s12-26.8 26.8-26.8 26.8 12 26.8 26.8zm76.1 27.2c-1.7-35.9-9.9-67.7-36.2-93.9-26.2-26.2-58-34.4-93.9-36.2-37-2.1-147.9-2.1-184.9 0-35.8 1.7-67.6 9.9-93.9 36.1s-34.4 58-36.2 93.9c-2.1 37-2.1 147.9 0 184.9 1.7 35.9 9.9 67.7 36.2 93.9s58 34.4 93.9 36.2c37 2.1 147.9 2.1 184.9 0 35.9-1.7 67.7-9.9 93.9-36.2 26.2-26.2 34.4-58 36.2-93.9 2.1-37 2.1-147.8 0-184.8zM398.8 388c-7.8 19.6-22.9 34.7-42.6 42.6-29.5 11.7-99.5 9-132.1 9s-102.7 2.6-132.1-9c-19.6-7.8-34.7-22.9-42.6-42.6-11.7-29.5-9-99.5-9-132.1s-2.6-102.7 9-132.1c7.8-19.6 22.9-34.7 42.6-42.6 29.5-11.7 99.5-9 132.1-9s102.7-2.6 132.1 9c19.6 7.8 34.7 22.9 42.6 42.6 11.7 29.5 9 99.5 9 132.1s2.7 102.7-9 132.1z\"></path></svg></a>\n",
      "<a class=\"cursor-pointer mx-6 hover:text-purple-500 active:text-purple-700\" href=\"https://www.github.com/codewithharry\" rel=\"noreferrer\" target=\"_blank\"><svg fill=\"currentColor\" height=\"1em\" stroke=\"currentColor\" stroke-width=\"0\" viewbox=\"0 0 1024 1024\" width=\"1em\" xmlns=\"http://www.w3.org/2000/svg\"><path d=\"M511.6 76.3C264.3 76.2 64 276.4 64 523.5 64 718.9 189.3 885 363.8 946c23.5 5.9 19.9-10.8 19.9-22.2v-77.5c-135.7 15.9-141.2-73.9-150.3-88.9C215 726 171.5 718 184.5 703c30.9-15.9 62.4 4 98.9 57.9 26.4 39.1 77.9 32.5 104 26 5.7-23.5 17.9-44.5 34.7-60.8-140.6-25.2-199.2-111-199.2-213 0-49.5 16.3-95 48.3-131.7-20.4-60.5 1.9-112.3 4.9-120 58.1-5.2 118.5 41.6 123.2 45.3 33-8.9 70.7-13.6 112.9-13.6 42.4 0 80.2 4.9 113.5 13.9 11.3-8.6 67.3-48.8 121.3-43.9 2.9 7.7 24.7 58.3 5.5 118 32.4 36.8 48.9 82.7 48.9 132.3 0 102.2-59 188.1-200 212.9a127.5 127.5 0 0 1 38.1 91v112.5c.8 9 0 17.9 15 17.9 177.1-59.7 304.6-227 304.6-424.1 0-247.2-200.4-447.3-447.5-447.3z\"></path></svg></a>\n",
      "<a aria-label=\"facebook\" class=\"text-gray-500 dark:text-gray-300\" href=\"https://www.facebook.com/codewithharry\" rel=\"noreferrer\" target=\"_blank\"><svg class=\"w-5 h-5\" fill=\"currentColor\" stroke-linecap=\"round\" stroke-linejoin=\"round\" stroke-width=\"2\" viewbox=\"0 0 24 24\"><path d=\"M18 2h-3a5 5 0 00-5 5v3H7v4h3v8h4v-8h3l1-4h-4V7a1 1 0 011-1h3z\"></path></svg></a>\n",
      "<a aria-label=\"twitter\" class=\"ml-3 text-gray-500 dark:text-gray-300\" href=\"https://www.twitter.com/codewithharry\" rel=\"noreferrer\" target=\"_blank\"><svg class=\"w-5 h-5\" fill=\"currentColor\" stroke-linecap=\"round\" stroke-linejoin=\"round\" stroke-width=\"2\" viewbox=\"0 0 24 24\"><path d=\"M23 3a10.9 10.9 0 01-3.14 1.53 4.48 4.48 0 00-7.86 3v1A10.66 10.66 0 013 4s-4 9 5 13a11.64 11.64 0 01-7 2c9 5 20 0 20-11.5a4.5 4.5 0 00-.08-.83A7.72 7.72 0 0023 3z\"></path></svg></a>\n",
      "<a aria-label=\"instagram\" class=\"ml-3 text-gray-500 dark:text-gray-300\" href=\"https://www.instagram.com/codewithharry\" rel=\"noreferrer\" target=\"_blank\"><svg class=\"w-5 h-5\" fill=\"none\" stroke=\"currentColor\" stroke-linecap=\"round\" stroke-linejoin=\"round\" stroke-width=\"2\" viewbox=\"0 0 24 24\"><rect height=\"20\" rx=\"5\" ry=\"5\" width=\"20\" x=\"2\" y=\"2\"></rect><path d=\"M16 11.37A4 4 0 1112.63 8 4 4 0 0116 11.37zm1.5-4.87h.01\"></path></svg></a>\n",
      "<a aria-label=\"github\" class=\"ml-3 text-gray-500 dark:text-gray-300\" href=\"https://www.github.com/codewithharry\" rel=\"noreferrer\" target=\"_blank\"><svg class=\"text-xl\" fill=\"currentColor\" height=\"1em\" stroke=\"currentColor\" stroke-width=\"0\" viewbox=\"0 0 1024 1024\" width=\"1em\" xmlns=\"http://www.w3.org/2000/svg\"><path d=\"M511.6 76.3C264.3 76.2 64 276.4 64 523.5 64 718.9 189.3 885 363.8 946c23.5 5.9 19.9-10.8 19.9-22.2v-77.5c-135.7 15.9-141.2-73.9-150.3-88.9C215 726 171.5 718 184.5 703c30.9-15.9 62.4 4 98.9 57.9 26.4 39.1 77.9 32.5 104 26 5.7-23.5 17.9-44.5 34.7-60.8-140.6-25.2-199.2-111-199.2-213 0-49.5 16.3-95 48.3-131.7-20.4-60.5 1.9-112.3 4.9-120 58.1-5.2 118.5 41.6 123.2 45.3 33-8.9 70.7-13.6 112.9-13.6 42.4 0 80.2 4.9 113.5 13.9 11.3-8.6 67.3-48.8 121.3-43.9 2.9 7.7 24.7 58.3 5.5 118 32.4 36.8 48.9 82.7 48.9 132.3 0 102.2-59 188.1-200 212.9a127.5 127.5 0 0 1 38.1 91v112.5c.8 9 0 17.9 15 17.9 177.1-59.7 304.6-227 304.6-424.1 0-247.2-200.4-447.3-447.5-447.3z\"></path></svg></a>\n",
      "<a href=\"/\">CodeWithHarry</a>\n",
      "<a href=\"/\">Home</a>\n",
      "<a href=\"/videos/\">Courses</a>\n",
      "<a href=\"/tutorials/\">Tutorial</a>\n",
      "<a href=\"/blog/\">Blog</a>\n",
      "<a href=\"/notes/\">Notes</a>\n",
      "<a href=\"/contact/\">Contact</a>\n",
      "<a href=\"/my-gear/\">My Gear</a>\n",
      "<a href=\"/work/\">Work With Us</a>\n",
      "<a href=\"/tutorial/html-home/\">HTML</a>\n",
      "<a href=\"/tutorial/css-home/\">CSS</a>\n",
      "<a href=\"/tutorial/js/\">JS</a>\n",
      "<a href=\"/tutorial/c/\">C</a>\n",
      "<a href=\"/tutorial/cplusplus/\">C++</a>\n",
      "<a href=\"/tutorial/java/\">JAVA</a>\n",
      "<a href=\"/tutorial/python/\">PYTHON</a>\n",
      "<a href=\"/tutorial/php/\">PHP</a>\n",
      "<a href=\"/tutorial/react-home/\">REACT JS</a>\n",
      "<a href=\"/\">Home</a>\n",
      "<a href=\"/videos/\">Courses</a>\n",
      "<a href=\"/tutorial/html-home/\">HTML</a>\n",
      "<a href=\"/tutorial/css-home/\">CSS</a>\n",
      "<a href=\"/tutorial/js/\">JS</a>\n",
      "<a href=\"/tutorial/c/\">C</a>\n",
      "<a href=\"/tutorial/cplusplus/\">C++</a>\n",
      "<a href=\"/tutorial/java/\">JAVA</a>\n",
      "<a href=\"/tutorial/python/\">PYTHON</a>\n",
      "<a href=\"/tutorial/php/\">PHP</a>\n",
      "<a href=\"/tutorial/react-home/\">REACT JS</a>\n",
      "<a href=\"/blog/\">Blog</a>\n",
      "<a href=\"/notes/\">Notes</a>\n",
      "<a href=\"/contact/\">Contact</a>\n",
      "<a href=\"/my-gear/\">My Gear</a>\n",
      "<a href=\"/work/\">Work With Us</a>\n",
      "<a aria-label=\"facebook\" class=\"text-gray-500 dark:text-gray-300\" href=\"https://www.facebook.com/codewithharry\" rel=\"noreferrer\" target=\"_blank\"><svg class=\"w-5 h-5\" fill=\"currentColor\" stroke-linecap=\"round\" stroke-linejoin=\"round\" stroke-width=\"2\" viewbox=\"0 0 24 24\"><path d=\"M18 2h-3a5 5 0 00-5 5v3H7v4h3v8h4v-8h3l1-4h-4V7a1 1 0 011-1h3z\"></path></svg></a>\n",
      "<a aria-label=\"twitter\" class=\"ml-3 text-gray-500 dark:text-gray-300\" href=\"https://www.twitter.com/codewithharry\" rel=\"noreferrer\" target=\"_blank\"><svg class=\"w-5 h-5\" fill=\"currentColor\" stroke-linecap=\"round\" stroke-linejoin=\"round\" stroke-width=\"2\" viewbox=\"0 0 24 24\"><path d=\"M23 3a10.9 10.9 0 01-3.14 1.53 4.48 4.48 0 00-7.86 3v1A10.66 10.66 0 013 4s-4 9 5 13a11.64 11.64 0 01-7 2c9 5 20 0 20-11.5a4.5 4.5 0 00-.08-.83A7.72 7.72 0 0023 3z\"></path></svg></a>\n",
      "<a aria-label=\"instagram\" class=\"ml-3 text-gray-500 dark:text-gray-300\" href=\"https://www.instagram.com/codewithharry\" rel=\"noreferrer\" target=\"_blank\"><svg class=\"w-5 h-5\" fill=\"none\" stroke=\"currentColor\" stroke-linecap=\"round\" stroke-linejoin=\"round\" stroke-width=\"2\" viewbox=\"0 0 24 24\"><rect height=\"20\" rx=\"5\" ry=\"5\" width=\"20\" x=\"2\" y=\"2\"></rect><path d=\"M16 11.37A4 4 0 1112.63 8 4 4 0 0116 11.37zm1.5-4.87h.01\"></path></svg></a>\n",
      "<a aria-label=\"github\" class=\"ml-3 text-gray-500 dark:text-gray-300\" href=\"https://www.github.com/codewithharry\" rel=\"noreferrer\" target=\"_blank\"><svg class=\"text-xl\" fill=\"currentColor\" height=\"1em\" stroke=\"currentColor\" stroke-width=\"0\" viewbox=\"0 0 1024 1024\" width=\"1em\" xmlns=\"http://www.w3.org/2000/svg\"><path d=\"M511.6 76.3C264.3 76.2 64 276.4 64 523.5 64 718.9 189.3 885 363.8 946c23.5 5.9 19.9-10.8 19.9-22.2v-77.5c-135.7 15.9-141.2-73.9-150.3-88.9C215 726 171.5 718 184.5 703c30.9-15.9 62.4 4 98.9 57.9 26.4 39.1 77.9 32.5 104 26 5.7-23.5 17.9-44.5 34.7-60.8-140.6-25.2-199.2-111-199.2-213 0-49.5 16.3-95 48.3-131.7-20.4-60.5 1.9-112.3 4.9-120 58.1-5.2 118.5 41.6 123.2 45.3 33-8.9 70.7-13.6 112.9-13.6 42.4 0 80.2 4.9 113.5 13.9 11.3-8.6 67.3-48.8 121.3-43.9 2.9 7.7 24.7 58.3 5.5 118 32.4 36.8 48.9 82.7 48.9 132.3 0 102.2-59 188.1-200 212.9a127.5 127.5 0 0 1 38.1 91v112.5c.8 9 0 17.9 15 17.9 177.1-59.7 304.6-227 304.6-424.1 0-247.2-200.4-447.3-447.5-447.3z\"></path></svg></a>\n"
     ]
    }
   ],
   "source": [
    "from bs4 import BeautifulSoup \n",
    "\n",
    "for file in os.listdir('htmls/'):\n",
    "    with open(f'htmls/{file}') as f:\n",
    "        html_content = f.read()\n",
    "        \n",
    "        soup = BeautifulSoup(html_content,'html.parser')\n",
    "        for link in soup.findAll(\"a\"):\n",
    "            print(link) "
   ]
  },
  {
   "cell_type": "code",
   "execution_count": 6,
   "id": "0568098e",
   "metadata": {},
   "outputs": [
    {
     "name": "stdout",
     "output_type": "stream",
     "text": [
      "/\n",
      "/\n",
      "/videos/\n",
      "/tutorials/\n",
      "/blog/\n",
      "/notes/\n",
      "/contact/\n",
      "/my-gear/\n",
      "/work/\n",
      "/tutorial/html-home/\n",
      "/tutorial/css-home/\n",
      "/tutorial/js/\n",
      "/tutorial/c/\n",
      "/tutorial/cplusplus/\n",
      "/tutorial/java/\n",
      "/tutorial/python/\n",
      "/tutorial/php/\n",
      "/tutorial/react-home/\n",
      "/\n",
      "/videos/\n",
      "/tutorial/html-home/\n",
      "/tutorial/css-home/\n",
      "/tutorial/js/\n",
      "/tutorial/c/\n",
      "/tutorial/cplusplus/\n",
      "/tutorial/java/\n",
      "/tutorial/python/\n",
      "/tutorial/php/\n",
      "/tutorial/react-home/\n",
      "/blog/\n",
      "/notes/\n",
      "/contact/\n",
      "/my-gear/\n",
      "/work/\n",
      "https://www.facebook.com/codewithharry\n",
      "https://www.twitter.com/codewithharry\n",
      "https://www.instagram.com/codewithharry\n",
      "https://www.github.com/codewithharry\n",
      "/\n",
      "/\n",
      "/videos/\n",
      "/tutorials/\n",
      "/blog/\n",
      "/notes/\n",
      "/contact/\n",
      "/my-gear/\n",
      "/work/\n",
      "/tutorial/html-home/\n",
      "/tutorial/css-home/\n",
      "/tutorial/js/\n",
      "/tutorial/c/\n",
      "/tutorial/cplusplus/\n",
      "/tutorial/java/\n",
      "/tutorial/python/\n",
      "/tutorial/php/\n",
      "/tutorial/react-home/\n",
      "/\n",
      "/videos/\n",
      "/tutorial/html-home/\n",
      "/tutorial/css-home/\n",
      "/tutorial/js/\n",
      "/tutorial/c/\n",
      "/tutorial/cplusplus/\n",
      "/tutorial/java/\n",
      "/tutorial/python/\n",
      "/tutorial/php/\n",
      "/tutorial/react-home/\n",
      "/blog/\n",
      "/notes/\n",
      "/contact/\n",
      "/my-gear/\n",
      "/work/\n",
      "https://www.facebook.com/codewithharry\n",
      "https://www.twitter.com/codewithharry\n",
      "https://www.instagram.com/codewithharry\n",
      "https://www.github.com/codewithharry\n",
      "https://www.facebook.com/codewithharry\n",
      "https://www.twitter.com/codewithharry\n",
      "https://www.instagram.com/codewithharry\n",
      "https://www.github.com/codewithharry\n",
      "/\n",
      "/\n",
      "/videos/\n",
      "/tutorials/\n",
      "/blog/\n",
      "/notes/\n",
      "/contact/\n",
      "/my-gear/\n",
      "/work/\n",
      "/tutorial/html-home/\n",
      "/tutorial/css-home/\n",
      "/tutorial/js/\n",
      "/tutorial/c/\n",
      "/tutorial/cplusplus/\n",
      "/tutorial/java/\n",
      "/tutorial/python/\n",
      "/tutorial/php/\n",
      "/tutorial/react-home/\n",
      "/\n",
      "/videos/\n",
      "/tutorial/html-home/\n",
      "/tutorial/css-home/\n",
      "/tutorial/js/\n",
      "/tutorial/c/\n",
      "/tutorial/cplusplus/\n",
      "/tutorial/java/\n",
      "/tutorial/python/\n",
      "/tutorial/php/\n",
      "/tutorial/react-home/\n",
      "/blog/\n",
      "/notes/\n",
      "/contact/\n",
      "/my-gear/\n",
      "/work/\n",
      "https://www.facebook.com/codewithharry\n",
      "https://www.twitter.com/codewithharry\n",
      "https://www.instagram.com/codewithharry\n",
      "https://www.github.com/codewithharry\n"
     ]
    }
   ],
   "source": [
    "from bs4 import BeautifulSoup \n",
    "\n",
    "for file in os.listdir('htmls/'):\n",
    "    with open(f'htmls/{file}') as f:\n",
    "        html_content = f.read()\n",
    "        \n",
    "        soup = BeautifulSoup(html_content,'html.parser')\n",
    "        for link in soup.findAll(\"a\"):\n",
    "            print(link.get('href')) "
   ]
  },
  {
   "cell_type": "raw",
   "id": "7b2e1cd4",
   "metadata": {},
   "source": [
    "# if we want to scarap the data from a website, then there are 2 ways of doing it:-\n",
    "    a. using API\n",
    "    b. using python libraries like selenium, beautifulsoup and scrapyy"
   ]
  },
  {
   "cell_type": "markdown",
   "id": "f68cc7d5",
   "metadata": {},
   "source": [
    "# Step-1:- Install the libraries"
   ]
  },
  {
   "cell_type": "code",
   "execution_count": 7,
   "id": "d723e590",
   "metadata": {},
   "outputs": [
    {
     "name": "stderr",
     "output_type": "stream",
     "text": [
      "\n",
      "[notice] A new release of pip available: 22.3 -> 23.1\n",
      "[notice] To update, run: python.exe -m pip install --upgrade pip\n"
     ]
    },
    {
     "name": "stdout",
     "output_type": "stream",
     "text": [
      "Requirement already satisfied: bs4 in c:\\python311\\lib\\site-packages (0.0.1)\n",
      "Requirement already satisfied: beautifulsoup4 in c:\\python311\\lib\\site-packages (from bs4) (4.12.2)\n",
      "Requirement already satisfied: soupsieve>1.2 in c:\\python311\\lib\\site-packages (from beautifulsoup4->bs4) (2.4.1)\n",
      "Requirement already satisfied: requests in c:\\python311\\lib\\site-packages (2.28.2)\n",
      "Requirement already satisfied: charset-normalizer<4,>=2 in c:\\python311\\lib\\site-packages (from requests) (3.1.0)\n",
      "Requirement already satisfied: idna<4,>=2.5 in c:\\python311\\lib\\site-packages (from requests) (3.4)\n",
      "Requirement already satisfied: urllib3<1.27,>=1.21.1 in c:\\python311\\lib\\site-packages (from requests) (1.26.15)\n",
      "Requirement already satisfied: certifi>=2017.4.17 in c:\\python311\\lib\\site-packages (from requests) (2022.12.7)\n"
     ]
    },
    {
     "name": "stderr",
     "output_type": "stream",
     "text": [
      "\n",
      "[notice] A new release of pip available: 22.3 -> 23.1\n",
      "[notice] To update, run: python.exe -m pip install --upgrade pip\n"
     ]
    },
    {
     "name": "stdout",
     "output_type": "stream",
     "text": [
      "Requirement already satisfied: html5lib in c:\\python311\\lib\\site-packages (1.1)\n",
      "Requirement already satisfied: six>=1.9 in c:\\python311\\lib\\site-packages (from html5lib) (1.16.0)\n",
      "Requirement already satisfied: webencodings in c:\\python311\\lib\\site-packages (from html5lib) (0.5.1)\n"
     ]
    },
    {
     "name": "stderr",
     "output_type": "stream",
     "text": [
      "\n",
      "[notice] A new release of pip available: 22.3 -> 23.1\n",
      "[notice] To update, run: python.exe -m pip install --upgrade pip\n"
     ]
    }
   ],
   "source": [
    "!pip install bs4 \n",
    "!pip install requests\n",
    "!pip install html5lib "
   ]
  },
  {
   "cell_type": "markdown",
   "id": "247c6816",
   "metadata": {},
   "source": [
    "# step-2:- get the html:- "
   ]
  },
  {
   "cell_type": "code",
   "execution_count": 8,
   "id": "26ef8ce0",
   "metadata": {},
   "outputs": [],
   "source": [
    "import requests \n",
    "from bs4 import BeautifulSoup\n",
    "\n",
    "url = 'https://codewithharry.com' "
   ]
  },
  {
   "cell_type": "code",
   "execution_count": 9,
   "id": "3225a3e5",
   "metadata": {},
   "outputs": [],
   "source": [
    "r = requests.get(url) \n",
    "html_content = r.content "
   ]
  },
  {
   "cell_type": "code",
   "execution_count": 10,
   "id": "7ad49462",
   "metadata": {},
   "outputs": [
    {
     "data": {
      "text/plain": [
       "b'<!DOCTYPE html><html><head><meta name=\"viewport\" content=\"width=device-width\"/><meta charSet=\"utf-8\"/><link rel=\"shortcut icon\" href=\"/img/favicon.ico\" type=\"image/x-icon\"/><script async=\"\" src=\"https://pagead2.googlesyndication.com/pagead/js/adsbygoogle.js?client=ca-pub-9655830461045889\" crossorigin=\"anonymous\"></script><title>Learn to code online - CodeWithHarry</title><meta name=\"description\" content=\"Generated by create next app\"/><link rel=\"icon\" href=\"/img/favicon.ico\"/><meta name=\"next-head-count\" content=\"7\"/><meta name=\"next-font-preconnect\"/><link rel=\"preload\" href=\"/_next/static/css/ced2f5f753e05303.css\" as=\"style\"/><link rel=\"stylesheet\" href=\"/_next/static/css/ced2f5f753e05303.css\" data-n-g=\"\"/><link rel=\"preload\" href=\"/_next/static/css/470c5e8db7cdc7e9.css\" as=\"style\"/><link rel=\"stylesheet\" href=\"/_next/static/css/470c5e8db7cdc7e9.css\" data-n-p=\"\"/><noscript data-n-css=\"\"></noscript><script defer=\"\" nomodule=\"\" src=\"/_next/static/chunks/polyfills-5cd94c89d3acac5f.js\"></script><script src=\"/_next/static/chunks/webpack-beddf46cb441c0f2.js\" defer=\"\"></script><script src=\"/_next/static/chunks/framework-a87821de553db91d.js\" defer=\"\"></script><script src=\"/_next/static/chunks/main-49d106e7eacac86b.js\" defer=\"\"></script><script src=\"/_next/static/chunks/pages/_app-a93afd1efa83860f.js\" defer=\"\"></script><script src=\"/_next/static/chunks/10-5d256216d58885d9.js\" defer=\"\"></script><script src=\"/_next/static/chunks/pages/index-2eb23443eb493791.js\" defer=\"\"></script><script src=\"/_next/static/m_hyoqLdBgkk3xZsvW8xP/_buildManifest.js\" defer=\"\"></script><script src=\"/_next/static/m_hyoqLdBgkk3xZsvW8xP/_ssgManifest.js\" defer=\"\"></script><script src=\"/_next/static/m_hyoqLdBgkk3xZsvW8xP/_middlewareManifest.js\" defer=\"\"></script></head><body><div id=\"__next\"><div class=\"\"><div class=\"\" style=\"position:fixed;top:0;left:0;height:2px;background:transparent;z-index:99999999999;width:100%\"><div class=\"\" style=\"height:100%;background:purple;transition:all 500ms ease;width:0%\"><div style=\"box-shadow:0 0 10px purple, 0 0 10px purple;width:5%;opacity:1;position:absolute;height:100%;transition:all 500ms ease;transform:rotate(3deg) translate(0px, -4px);left:-10rem\"></div></div></div><div id=\"imgpreview2\" class=\"w-full z-10 sticky bg-white top-0 border-b border-grey-light shadow-md dark:bg-gray-800 dark:border-black\"><div class=\"w-full flex flex-wrap items-center lg:justify-between mt-0 py-4 \"><div class=\"px-0 lg:pl-4 flex items-center lg:mx-4 cursor-pointer text-purple-700 text-xl font-bold mx-3 dark:text-purple-300\"><a href=\"/\">CodeWithHarry</a></div><div class=\"flex items-center md:hidden\"><div class=\"text-purple-700 text-md font-semibold\">Menu</div><svg stroke=\"currentColor\" fill=\"currentColor\" stroke-width=\"0\" viewBox=\"0 0 1024 1024\" class=\"text-purple-700 mt-1\" height=\"1em\" width=\"1em\" xmlns=\"http://www.w3.org/2000/svg\"><path d=\"M840.4 300H183.6c-19.7 0-30.7 20.8-18.5 35l328.4 380.8c9.4 10.9 27.5 10.9 37 0L858.9 335c12.2-14.2 1.2-35-18.5-35z\"></path></svg></div><svg stroke=\"currentColor\" fill=\"currentColor\" stroke-width=\"0\" viewBox=\"0 0 16 16\" class=\"md:hidden text-purple-700 mt-1 ml-2 cursor-pointer dark:text-white\" height=\"28\" width=\"28\" xmlns=\"http://www.w3.org/2000/svg\"><path d=\"M6 .278a.768.768 0 0 1 .08.858 7.208 7.208 0 0 0-.878 3.46c0 4.021 3.278 7.277 7.318 7.277.527 0 1.04-.055 1.533-.16a.787.787 0 0 1 .81.316.733.733 0 0 1-.031.893A8.349 8.349 0 0 1 8.344 16C3.734 16 0 12.286 0 7.71 0 4.266 2.114 1.312 5.124.06A.752.752 0 0 1 6 .278z\"></path><path d=\"M10.794 3.148a.217.217 0 0 1 .412 0l.387 1.162c.173.518.579.924 1.097 1.097l1.162.387a.217.217 0 0 1 0 .412l-1.162.387a1.734 1.734 0 0 0-1.097 1.097l-.387 1.162a.217.217 0 0 1-.412 0l-.387-1.162A1.734 1.734 0 0 0 9.31 6.593l-1.162-.387a.217.217 0 0 1 0-.412l1.162-.387a1.734 1.734 0 0 0 1.097-1.097l.387-1.162zM13.863.099a.145.145 0 0 1 .274 0l.258.774c.115.346.386.617.732.732l.774.258a.145.145 0 0 1 0 .274l-.774.258a1.156 1.156 0 0 0-.732.732l-.258.774a.145.145 0 0 1-.274 0l-.258-.774a1.156 1.156 0 0 0-.732-.732l-.774-.258a.145.145 0 0 1 0-.274l.774-.258c.346-.115.617-.386.732-.732L13.863.1z\"></path></svg><button class=\"md:hidden text-white bg-purple-700 hover:bg-purple-800 focus:ring-4 focus:ring-purple-300 font-medium rounded-lg text-sm px-3 py-2 text-center inline-flex items-center mx-1 absolute right-3 md:right-12\">Login</button><div class=\"w-full flex-grow lg:flex lg:flex-1 lg:content-center lg:justify-end lg:w-auto h-0 lg:h-auto overflow-hidden mt-2 lg:mt-0 z-20 transition-all\" id=\"nav-content\"><ul class=\"flex items-center flex-col lg:flex-row\"><div id=\"search-toggle\" class=\"search-icon cursor-pointer px-6 hidden\"><svg class=\"fill-current pointer-events-none text-grey-darkest w-4 h-4 inline\" xmlns=\"http://www.w3.org/2000/svg\" viewBox=\"0 0 20 20\"><path d=\"M12.9 14.32a8 8 0 1 1 1.41-1.41l5.35 5.33-1.42 1.42-5.33-5.34zM8 14A6 6 0 1 0 8 2a6 6 0 0 0 0 12z\"></path></svg></div><li class=\"mx-2 my-2 text-black hover:border-b-2 hover:border-purple-700 dark:text-white\"><a href=\"/\">Home</a></li><li class=\"mx-2 my-2 text-black hover:border-b-2 hover:border-purple-700 dark:text-white\"><a href=\"/videos/\">Courses</a></li><li class=\"mx-2 my-2 text-black hover:border-b-2 hover:border-purple-700 dark:text-white\"><a href=\"/tutorials/\">Tutorial</a></li><li class=\"mx-2 my-2 text-black hover:border-b-2 hover:border-purple-700 dark:text-white\"><a href=\"/blog/\">Blog</a></li><li class=\"mx-2 my-2 text-black hover:border-b-2 hover:border-purple-700 dark:text-white\"><a href=\"/notes/\">Notes</a></li><li class=\"mx-2 my-2 text-black hover:border-b-2 hover:border-purple-700 dark:text-white\"><a href=\"/contact/\">Contact</a></li><li class=\"mx-2 my-2 text-black hover:border-b-2 hover:border-purple-700 dark:text-white\"><a href=\"/my-gear/\">My Gear</a></li><li class=\"mx-2 my-2 text-black hover:border-b-2 hover:border-purple-700 dark:text-white\"><a href=\"/work/\">Work With Us</a></li><li><svg stroke=\"currentColor\" fill=\"currentColor\" stroke-width=\"0\" viewBox=\"0 0 16 16\" class=\"hidden md:block text-purple-700 mt-1 ml-2 cursor-pointer dark:text-white\" height=\"28\" width=\"28\" xmlns=\"http://www.w3.org/2000/svg\"><path d=\"M6 .278a.768.768 0 0 1 .08.858 7.208 7.208 0 0 0-.878 3.46c0 4.021 3.278 7.277 7.318 7.277.527 0 1.04-.055 1.533-.16a.787.787 0 0 1 .81.316.733.733 0 0 1-.031.893A8.349 8.349 0 0 1 8.344 16C3.734 16 0 12.286 0 7.71 0 4.266 2.114 1.312 5.124.06A.752.752 0 0 1 6 .278z\"></path><path d=\"M10.794 3.148a.217.217 0 0 1 .412 0l.387 1.162c.173.518.579.924 1.097 1.097l1.162.387a.217.217 0 0 1 0 .412l-1.162.387a1.734 1.734 0 0 0-1.097 1.097l-.387 1.162a.217.217 0 0 1-.412 0l-.387-1.162A1.734 1.734 0 0 0 9.31 6.593l-1.162-.387a.217.217 0 0 1 0-.412l1.162-.387a1.734 1.734 0 0 0 1.097-1.097l.387-1.162zM13.863.099a.145.145 0 0 1 .274 0l.258.774c.115.346.386.617.732.732l.774.258a.145.145 0 0 1 0 .274l-.774.258a1.156 1.156 0 0 0-.732.732l-.258.774a.145.145 0 0 1-.274 0l-.258-.774a1.156 1.156 0 0 0-.732-.732l-.774-.258a.145.145 0 0 1 0-.274l.774-.258c.346-.115.617-.386.732-.732L13.863.1z\"></path></svg></li></ul><div class=\"text-center my-2 pr-4 pl-2\"><button class=\"text-white bg-purple-700 hover:bg-purple-800 focus:ring-4 focus:ring-purple-300 font-medium rounded-lg text-sm px-3 py-2 text-center inline-flex items-center mx-1 dark:bg-purple-500 dark:hover:bg-purple-800\">Login</button><button class=\"text-white bg-purple-700 hover:bg-purple-800 focus:ring-4 focus:ring-purple-300 font-medium rounded-lg text-sm px-3 py-2 text-center inline-flex items-center mx-1 dark:bg-purple-500 dark:hover:bg-purple-800\">Signup</button></div></div></div><hr class=\"dark:border-gray-500\"/><div class=\"max-h-[6vh] min-h-[40px] flex items-center ml-3 mr-3 md:ml-10 md:mr-10 my-1\"><span><svg stroke=\"currentColor\" fill=\"currentColor\" stroke-width=\"0\" viewBox=\"0 0 1024 1024\" class=\"text-purple-700 text-xl cursor-pointer dark:text-purple-300\" height=\"1em\" width=\"1em\" xmlns=\"http://www.w3.org/2000/svg\"><path d=\"M946.5 505L534.6 93.4a31.93 31.93 0 0 0-45.2 0L77.5 505c-12 12-18.8 28.3-18.8 45.3 0 35.3 28.7 64 64 64h43.4V908c0 17.7 14.3 32 32 32H448V716h112v224h265.9c17.7 0 32-14.3 32-32V614.3h43.4c17 0 33.3-6.7 45.3-18.8 24.9-25 24.9-65.5-.1-90.5z\"></path></svg></span><ul class=\"space-x-7 m-auto text-purple-700 font-semibold hidden md:flex items-center\"><li class=\"cursor-pointer hover:border-b-2 hover:border-purple-700 active:border-b-4 dark:text-purple-300\"><a href=\"/tutorial/html-home/\">HTML</a></li><li class=\"cursor-pointer hover:border-b-2 hover:border-purple-700 active:border-b-4 dark:text-purple-300\"><a href=\"/tutorial/css-home/\">CSS</a></li><li class=\"cursor-pointer hover:border-b-2 hover:border-purple-700 active:border-b-4 dark:text-purple-300\"><a href=\"/tutorial/js/\">JS</a></li><li class=\"cursor-pointer hover:border-b-2 hover:border-purple-700 active:border-b-4 dark:text-purple-300\"><a href=\"/tutorial/c/\">C</a></li><li class=\"cursor-pointer hover:border-b-2 hover:border-purple-700 active:border-b-4 dark:text-purple-300\"><a href=\"/tutorial/cplusplus/\">C++</a></li><li class=\"cursor-pointer hover:border-b-2 hover:border-purple-700 active:border-b-4 dark:text-purple-300\"><a href=\"/tutorial/java/\">JAVA</a></li><li class=\"cursor-pointer hover:border-b-2 hover:border-purple-700 active:border-b-4 dark:text-purple-300\"><a href=\"/tutorial/python/\">PYTHON</a></li><li class=\"cursor-pointer hover:border-b-2 hover:border-purple-700 active:border-b-4 dark:text-purple-300\"><a href=\"/tutorial/php/\">PHP</a></li><li class=\"cursor-pointer hover:border-b-2 hover:border-purple-700 active:border-b-4 dark:text-purple-300\"><a href=\"/tutorial/react-home/\">REACT JS</a></li></ul><input id=\"search\" class=\"hidden right-10 md:right-10 absolute w-48 md:w-60 h-8 bg-white rounded border-2 border-purple-500 focus:border-purple-700 focus:ring-2 focus:ring-indigo-200 text-base outline-none text-gray-700 py-1 px-3 leading-8 transition-colors duration-200 ease-in-out dark:bg-gray-500 dark:text-gray-200 \" placeholder=\"Search...\"/><svg stroke=\"currentColor\" fill=\"currentColor\" stroke-width=\"0\" viewBox=\"0 0 1024 1024\" class=\"text-purple-700 dark:text-purple-300 cursor-pointer text-2xl absolute right-3 md:right-12 }\" height=\"1em\" width=\"1em\" xmlns=\"http://www.w3.org/2000/svg\"><path d=\"M909.6 854.5L649.9 594.8C690.2 542.7 712 479 712 412c0-80.2-31.3-155.4-87.9-212.1-56.6-56.7-132-87.9-212.1-87.9s-155.5 31.3-212.1 87.9C143.2 256.5 112 331.8 112 412c0 80.1 31.3 155.5 87.9 212.1C256.5 680.8 331.8 712 412 712c67 0 130.6-21.8 182.7-62l259.7 259.6a8.2 8.2 0 0 0 11.6 0l43.6-43.5a8.2 8.2 0 0 0 0-11.6zM570.4 570.4C528 612.7 471.8 636 412 636s-116-23.3-158.4-65.6C211.3 528 188 471.8 188 412s23.3-116.1 65.6-158.4C296 211.3 352.2 188 412 188s116.1 23.2 158.4 65.6S636 352.2 636 412s-23.3 116.1-65.6 158.4z\"></path></svg></div><div class=\"bg-purple-100 text-center shadow-lg absolute w-full dark:bg-gray-600 hidden mt-1 md:hidden\"><ul><li class=\"pt-4 text-purple-500 font-bold\"><a href=\"/\">Home</a></li><li class=\"pt-4 text-purple-500 font-bold\"><a href=\"/videos/\">Courses</a></li><li class=\"pt-4 text-purple-500 font-bold flex justify-center ml-3\">Tutorial <!-- --><svg stroke=\"currentColor\" fill=\"currentColor\" stroke-width=\"0\" viewBox=\"0 0 1024 1024\" class=\"mt-1\" height=\"1em\" width=\"1em\" xmlns=\"http://www.w3.org/2000/svg\"><path d=\"M840.4 300H183.6c-19.7 0-30.7 20.8-18.5 35l328.4 380.8c9.4 10.9 27.5 10.9 37 0L858.9 335c12.2-14.2 1.2-35-18.5-35z\"></path></svg></li><li class=\"my-2 text-purple-500 font-semibold text-sm bg-purple-200 dark:bg-gray-700  hidden\"><ul><li class=\"cursor-pointer py-1 border-y-2 dark:border-gray-400\"><a href=\"/tutorial/html-home/\">HTML</a></li><li class=\"cursor-pointer py-1 border-b-2 dark:border-gray-400\"><a href=\"/tutorial/css-home/\">CSS</a></li><li class=\"cursor-pointer py-1 border-b-2 dark:border-gray-400\"><a href=\"/tutorial/js/\">JS</a></li><li class=\"cursor-pointer py-1 border-b-2 dark:border-gray-400\"><a href=\"/tutorial/c/\">C</a></li><li class=\"cursor-pointer py-1 border-b-2 dark:border-gray-400\"><a href=\"/tutorial/cplusplus/\">C++</a></li><li class=\"cursor-pointer py-1 border-b-2 dark:border-gray-400\"><a href=\"/tutorial/java/\">JAVA</a></li><li class=\"cursor-pointer py-1 border-b-2 dark:border-gray-400\"><a href=\"/tutorial/python/\">PYTHON</a></li><li class=\"cursor-pointer py-1 border-b-2 dark:border-gray-400\"><a href=\"/tutorial/php/\">PHP</a></li><li class=\"cursor-pointer py-1 border-b-2 dark:border-gray-400\"><a href=\"/tutorial/react-home/\">REACT JS</a></li></ul></li><li class=\"pt-4 text-purple-500 font-bold\"><a href=\"/blog/\">Blog</a></li><li class=\"pt-4 text-purple-500 font-bold\"><a href=\"/notes/\">Notes</a></li><li class=\"pt-4 text-purple-500 font-bold\"><a href=\"/contact/\">Contact</a></li><li class=\"pt-4 text-purple-500 font-bold\"><a href=\"/my-gear/\">My Gear</a></li><li class=\"pt-4 pb-4 text-purple-500 font-bold\"><a href=\"/work/\">Work With Us</a></li></ul></div></div><div class=\"dark:bg-gray-900\"><div class=\"Toastify\"></div><div class=\"flex bg-white h-96 container mx-auto dark:bg-gray-900\"><div class=\"flex items-center text-center lg:text-left px-8 md:px-12 lg:w-1/2\"><div><h2 class=\"text-3xl font-semibold text-gray-800 md:text-4xl dark:text-white\">Welcome to <!-- --><span class=\"text-purple-700 dark:text-purple-600\"></span></h2><h4 class=\"text-xl font-semibold text-gray-800 md:text-2xl dark:text-white\">Learn <!-- --><span class=\"text-purple-700 dark:text-purple-600\"></span></h4><p class=\"mt-2 text-sm text-gray-500 md:text-base dark:text-gray-400\">Confused on which course to take? I have got you covered. Browse courses and find out the best course for you. Its free! Code With Harry is my attempt to teach basics and those coding techniques to people in short time which took me ages to learn.</p><div class=\"flex justify-center lg:justify-start mt-6\"><button class=\"px-3 py-2 lg:px-4 lg:py-3 bg-gray-900 text-gray-200 text-xs font-semibold rounded hover:text-white hover:bg-gray-800 dark:bg-gray-100 dark:text-gray-600 dark:hover:bg-gray-300\">Free Courses</button><button class=\"px-3 py-2 mx-4 lg:px-4 lg:py-3 bg-gray-300 text-gray-900 text-xs font-semibold rounded hover:bg-gray-400\">Explore Blog</button></div></div></div><div class=\"hidden lg:block lg:w-1/2\" style=\"clip-path:polygon(10% 0px, 100% 0%, 100% 100%, 0px 100%)\"><div class=\"h-full object-cover\" style=\"background-image:url(&quot;https://images.unsplash.com/photo-1498050108023-c5249f4df085?ixlib=rb-1.2.1&amp;ixid=eyJhcHBfaWQiOjEyMDd9&amp;auto=format&amp;fit=crop&amp;w=1352&amp;q=80&quot;)\"><div class=\"h-full bg-black opacity-25\"></div></div></div></div><div class=\"container mx-auto lg:my-2\"><h2 class=\"text-3xl font-medium title-font text-gray-900 my-10 text-center dark:text-purple-600\">Recommended Courses</h2><div class=\"flex flex-wrap justify-center mx-6\"><div class=\"p-4 md:w-1/3 flex justify-center\"><div class=\"max-w-sm rounded-2xl overflow-hidden shadow-lg dark:bg-slate-800\"><span style=\"box-sizing:border-box;display:inline-block;overflow:hidden;width:initial;height:initial;background:none;opacity:1;border:0;margin:0;padding:0;position:relative;max-width:100%\"><span style=\"box-sizing:border-box;display:block;width:initial;height:initial;background:none;opacity:1;border:0;margin:0;padding:0;max-width:100%\"><img style=\"display:block;max-width:100%;width:initial;height:initial;background:none;opacity:1;border:0;margin:0;padding:0\" alt=\"\" aria-hidden=\"true\" src=\"data:image/svg+xml,%3csvg%20xmlns=%27http://www.w3.org/2000/svg%27%20version=%271.1%27%20width=%27384%27%20height=%27216%27/%3e\"/></span><img alt=\"img\" src=\"data:image/gif;base64,R0lGODlhAQABAIAAAAAAAP///yH5BAEAAAAALAAAAAABAAEAAAIBRAA7\" decoding=\"async\" data-nimg=\"intrinsic\" class=\"lg:h-48 md:h-36 w-full object-cover object-center\" style=\"position:absolute;top:0;left:0;bottom:0;right:0;box-sizing:border-box;padding:0;border:none;margin:auto;display:block;width:0;height:0;min-width:100%;max-width:100%;min-height:100%;max-height:100%\"/><noscript><img alt=\"img\" srcSet=\"/_next/image/?url=https%3A%2F%2Fcwh-full-next-space.fra1.digitaloceanspaces.com%2Fvideoseries%2Fpython-100-days-of-code-1%2F7wnove7K-ZQ-HD.jpg&amp;w=384&amp;q=75 1x, /_next/image/?url=https%3A%2F%2Fcwh-full-next-space.fra1.digitaloceanspaces.com%2Fvideoseries%2Fpython-100-days-of-code-1%2F7wnove7K-ZQ-HD.jpg&amp;w=828&amp;q=75 2x\" src=\"/_next/image/?url=https%3A%2F%2Fcwh-full-next-space.fra1.digitaloceanspaces.com%2Fvideoseries%2Fpython-100-days-of-code-1%2F7wnove7K-ZQ-HD.jpg&amp;w=828&amp;q=75\" decoding=\"async\" data-nimg=\"intrinsic\" style=\"position:absolute;top:0;left:0;bottom:0;right:0;box-sizing:border-box;padding:0;border:none;margin:auto;display:block;width:0;height:0;min-width:100%;max-width:100%;min-height:100%;max-height:100%\" class=\"lg:h-48 md:h-36 w-full object-cover object-center\" loading=\"lazy\"/></noscript></span><div class=\"px-6 md:my-11 lg:my-0 md:h-72 lg:h-64 lg:py-4 xl:h-52\"><span class=\"tracking-widest text-xs title-font font-medium mb-1 dark:text-gray-400\">FREE COURSE</span><div class=\"title-font flex text-lg font-medium text-gray-900 mb-3 dark:text-white\">Python Tutorials - 100 Days of Code    </div><p class=\"text-gray-700 text-base dark:text-gray-400\">Python is one of the most demanded programming languages in the job market. Surprisingly, it is equally easy to learn and master Python. Let&#x27;s commit our 100 days of code to python!</p></div><div class=\"px-6 pt-4 pb-2\"><span class=\"inline-block text-white bg-purple-700 rounded-full px-3 py-2 text-sm font-semibold mr-2 my-2 cursor-pointer hover:bg-purple-600\">  Start Watching </span></div></div></div><div class=\"p-4 md:w-1/3 flex justify-center\"><div class=\"max-w-sm rounded-2xl overflow-hidden shadow-lg dark:bg-slate-800\"><span style=\"box-sizing:border-box;display:inline-block;overflow:hidden;width:initial;height:initial;background:none;opacity:1;border:0;margin:0;padding:0;position:relative;max-width:100%\"><span style=\"box-sizing:border-box;display:block;width:initial;height:initial;background:none;opacity:1;border:0;margin:0;padding:0;max-width:100%\"><img style=\"display:block;max-width:100%;width:initial;height:initial;background:none;opacity:1;border:0;margin:0;padding:0\" alt=\"\" aria-hidden=\"true\" src=\"data:image/svg+xml,%3csvg%20xmlns=%27http://www.w3.org/2000/svg%27%20version=%271.1%27%20width=%27384%27%20height=%27216%27/%3e\"/></span><img alt=\"img\" src=\"data:image/gif;base64,R0lGODlhAQABAIAAAAAAAP///yH5BAEAAAAALAAAAAABAAEAAAIBRAA7\" decoding=\"async\" data-nimg=\"intrinsic\" class=\"lg:h-48 md:h-36 w-full object-cover object-center\" style=\"position:absolute;top:0;left:0;bottom:0;right:0;box-sizing:border-box;padding:0;border:none;margin:auto;display:block;width:0;height:0;min-width:100%;max-width:100%;min-height:100%;max-height:100%\"/><noscript><img alt=\"img\" srcSet=\"/_next/image/?url=https%3A%2F%2Fcwh-full-next-space.fra1.digitaloceanspaces.com%2Fvideoseries%2Fultimate-js-tutorial-hindi-1%2FJS-Thumb.jpg&amp;w=384&amp;q=75 1x, /_next/image/?url=https%3A%2F%2Fcwh-full-next-space.fra1.digitaloceanspaces.com%2Fvideoseries%2Fultimate-js-tutorial-hindi-1%2FJS-Thumb.jpg&amp;w=828&amp;q=75 2x\" src=\"/_next/image/?url=https%3A%2F%2Fcwh-full-next-space.fra1.digitaloceanspaces.com%2Fvideoseries%2Fultimate-js-tutorial-hindi-1%2FJS-Thumb.jpg&amp;w=828&amp;q=75\" decoding=\"async\" data-nimg=\"intrinsic\" style=\"position:absolute;top:0;left:0;bottom:0;right:0;box-sizing:border-box;padding:0;border:none;margin:auto;display:block;width:0;height:0;min-width:100%;max-width:100%;min-height:100%;max-height:100%\" class=\"lg:h-48 md:h-36 w-full object-cover object-center\" loading=\"lazy\"/></noscript></span><div class=\"px-6 md:my-11 lg:my-0 md:h-72 lg:h-64 lg:py-4 xl:h-52\"><span class=\"tracking-widest text-xs title-font font-medium mb-1 dark:text-gray-400\">FREE COURSE</span><div class=\"title-font flex text-lg font-medium text-gray-900 mb-3 dark:text-white\">Ultimate JavaScript Course</div><p class=\"text-gray-700 text-base dark:text-gray-400\">This latest JavaScript course comes with premium curriculum that covers everything from basics to advance. On top of that, you will get my handwritten notes of JS for completely free. What are you waiting for? Just Enroll Buddy</p></div><div class=\"px-6 pt-4 pb-2\"><span class=\"inline-block text-white bg-purple-700 rounded-full px-3 py-2 text-sm font-semibold mr-2 my-2 cursor-pointer hover:bg-purple-600\">  Start Watching </span></div></div></div><div class=\"p-4 md:w-1/3 flex justify-center\"><div class=\"max-w-sm rounded-2xl overflow-hidden shadow-lg dark:bg-slate-800\"><span style=\"box-sizing:border-box;display:inline-block;overflow:hidden;width:initial;height:initial;background:none;opacity:1;border:0;margin:0;padding:0;position:relative;max-width:100%\"><span style=\"box-sizing:border-box;display:block;width:initial;height:initial;background:none;opacity:1;border:0;margin:0;padding:0;max-width:100%\"><img style=\"display:block;max-width:100%;width:initial;height:initial;background:none;opacity:1;border:0;margin:0;padding:0\" alt=\"\" aria-hidden=\"true\" src=\"data:image/svg+xml,%3csvg%20xmlns=%27http://www.w3.org/2000/svg%27%20version=%271.1%27%20width=%27384%27%20height=%27216%27/%3e\"/></span><img alt=\"img\" src=\"data:image/gif;base64,R0lGODlhAQABAIAAAAAAAP///yH5BAEAAAAALAAAAAABAAEAAAIBRAA7\" decoding=\"async\" data-nimg=\"intrinsic\" class=\"lg:h-48 md:h-36 w-full object-cover object-center\" style=\"position:absolute;top:0;left:0;bottom:0;right:0;box-sizing:border-box;padding:0;border:none;margin:auto;display:block;width:0;height:0;min-width:100%;max-width:100%;min-height:100%;max-height:100%\"/><noscript><img alt=\"img\" srcSet=\"/_next/image/?url=https%3A%2F%2Fcodewithharry.nyc3.cdn.digitaloceanspaces.com%2Fassets%2F090fefe24d23d47584f6ddc7eb5a241e.png&amp;w=384&amp;q=75 1x, /_next/image/?url=https%3A%2F%2Fcodewithharry.nyc3.cdn.digitaloceanspaces.com%2Fassets%2F090fefe24d23d47584f6ddc7eb5a241e.png&amp;w=828&amp;q=75 2x\" src=\"/_next/image/?url=https%3A%2F%2Fcodewithharry.nyc3.cdn.digitaloceanspaces.com%2Fassets%2F090fefe24d23d47584f6ddc7eb5a241e.png&amp;w=828&amp;q=75\" decoding=\"async\" data-nimg=\"intrinsic\" style=\"position:absolute;top:0;left:0;bottom:0;right:0;box-sizing:border-box;padding:0;border:none;margin:auto;display:block;width:0;height:0;min-width:100%;max-width:100%;min-height:100%;max-height:100%\" class=\"lg:h-48 md:h-36 w-full object-cover object-center\" loading=\"lazy\"/></noscript></span><div class=\"px-6 md:my-11 lg:my-0 md:h-72 lg:h-64 lg:py-4 xl:h-52\"><span class=\"tracking-widest text-xs title-font font-medium mb-1 dark:text-gray-400\">FREE COURSE</span><div class=\"title-font flex text-lg font-medium text-gray-900 mb-3 dark:text-white\">React JS Tutorials For Beginners</div><p class=\"text-gray-700 text-base dark:text-gray-400\">React is a free and open-source front-end JavaScript library. This series will cover React from starting to the end. We will learn react from the ground up!</p></div><div class=\"px-6 pt-4 pb-2\"><span class=\"inline-block text-white bg-purple-700 rounded-full px-3 py-2 text-sm font-semibold mr-2 my-2 cursor-pointer hover:bg-purple-600\">  Start Watching </span></div></div></div></div></div><div class=\"container mx-auto\"><section class=\"text-gray-600 body-font\"><div class=\"container px-5 py-12 mx-auto\"><h2 class=\"text-3xl font-medium title-font text-gray-900 mb-12 text-center dark:text-purple-600\">Testimonials</h2><div class=\"flex flex-wrap -m-4\"><div class=\"p-4 md:w-1/2 w-full\"><div class=\"h-full bg-gray-100 p-8 rounded dark:bg-gray-700\"><svg xmlns=\"http://www.w3.org/2000/svg\" fill=\"currentColor\" class=\"block w-5 h-5 text-gray-400 mb-4\" viewBox=\"0 0 975.036 975.036\"><path d=\"M925.036 57.197h-304c-27.6 0-50 22.4-50 50v304c0 27.601 22.4 50 50 50h145.5c-1.9 79.601-20.4 143.3-55.4 191.2-27.6 37.8-69.399 69.1-125.3 93.8-25.7 11.3-36.8 41.7-24.8 67.101l36 76c11.6 24.399 40.3 35.1 65.1 24.399 66.2-28.6 122.101-64.8 167.7-108.8 55.601-53.7 93.7-114.3 114.3-181.9 20.601-67.6 30.9-159.8 30.9-276.8v-239c0-27.599-22.401-50-50-50zM106.036 913.497c65.4-28.5 121-64.699 166.9-108.6 56.1-53.7 94.4-114.1 115-181.2 20.6-67.1 30.899-159.6 30.899-277.5v-239c0-27.6-22.399-50-50-50h-304c-27.6 0-50 22.4-50 50v304c0 27.601 22.4 50 50 50h145.5c-1.9 79.601-20.4 143.3-55.4 191.2-27.6 37.8-69.4 69.1-125.3 93.8-25.7 11.3-36.8 41.7-24.8 67.101l35.9 75.8c11.601 24.399 40.501 35.2 65.301 24.399z\"></path></svg><p class=\"leading-relaxed mb-6 dark:text-gray-300\">I don&#x27;t have words to thank this man, I&#x27;m really grateful to have this channel and website in my daily routine. If you&#x27;re a mere beginner, then you can trust this guy and can put your time into his content. I can assure you that it&#x27;ll be worth it.</p><span class=\"inline-flex items-center\"><span class=\"flex-grow flex flex-col pl-4\"><span class=\"title-font font-medium text-gray-900 dark:text-white\">Mohit Kumar</span><span class=\"text-gray-500 text-sm dark:text-gray-400\">Web Developer</span></span></span></div></div><div class=\"p-4 md:w-1/2 w-full\"><div class=\"h-full bg-gray-100 p-8 rounded dark:bg-gray-700\"><svg xmlns=\"http://www.w3.org/2000/svg\" fill=\"currentColor\" class=\"block w-5 h-5 text-gray-400 mb-4\" viewBox=\"0 0 975.036 975.036\"><path d=\"M925.036 57.197h-304c-27.6 0-50 22.4-50 50v304c0 27.601 22.4 50 50 50h145.5c-1.9 79.601-20.4 143.3-55.4 191.2-27.6 37.8-69.399 69.1-125.3 93.8-25.7 11.3-36.8 41.7-24.8 67.101l36 76c11.6 24.399 40.3 35.1 65.1 24.399 66.2-28.6 122.101-64.8 167.7-108.8 55.601-53.7 93.7-114.3 114.3-181.9 20.601-67.6 30.9-159.8 30.9-276.8v-239c0-27.599-22.401-50-50-50zM106.036 913.497c65.4-28.5 121-64.699 166.9-108.6 56.1-53.7 94.4-114.1 115-181.2 20.6-67.1 30.899-159.6 30.899-277.5v-239c0-27.6-22.399-50-50-50h-304c-27.6 0-50 22.4-50 50v304c0 27.601 22.4 50 50 50h145.5c-1.9 79.601-20.4 143.3-55.4 191.2-27.6 37.8-69.4 69.1-125.3 93.8-25.7 11.3-36.8 41.7-24.8 67.101l35.9 75.8c11.601 24.399 40.501 35.2 65.301 24.399z\"></path></svg><p class=\"leading-relaxed mb-6 dark:text-gray-300\">For everyone who wants to level up their #Coding and #Dev skills - seriously, this channel is for you! Both basic and advanced stacks are covered on this channel, and one can learn according to his skill levels. And the icing on the cake is, everything is available for free.</p><span class=\"inline-flex items-center\"><span class=\"flex-grow flex flex-col pl-4\"><span class=\"title-font font-medium text-gray-900 dark:text-white\">Rakesh Shetty</span><span class=\"text-gray-500 text-sm dark:text-gray-400\">Web Developer</span></span></span></div></div></div></div></section></div></div><footer class=\"text-gray-600 bg-white body-font dark:bg-gray-800 dark:text-white \"><div class=\"container mx-auto py-4 px-5 flex flex-wrap flex-col sm:flex-row\"><div class=\"flex title-font font-medium items-center md:justify-start justify-center text-gray-900 dark:text-gray-200\"><span style=\"box-sizing:border-box;display:inline-block;overflow:hidden;width:initial;height:initial;background:none;opacity:1;border:0;margin:0;padding:0;position:relative;max-width:100%\"><span style=\"box-sizing:border-box;display:block;width:initial;height:initial;background:none;opacity:1;border:0;margin:0;padding:0;max-width:100%\"><img style=\"display:block;max-width:100%;width:initial;height:initial;background:none;opacity:1;border:0;margin:0;padding:0\" alt=\"\" aria-hidden=\"true\" src=\"data:image/svg+xml,%3csvg%20xmlns=%27http://www.w3.org/2000/svg%27%20version=%271.1%27%20width=%2748%27%20height=%2748%27/%3e\"/></span><img name=\"logo\" alt=\"CodeWithHarry Logo\" src=\"data:image/gif;base64,R0lGODlhAQABAIAAAAAAAP///yH5BAEAAAAALAAAAAABAAEAAAIBRAA7\" decoding=\"async\" data-nimg=\"intrinsic\" class=\"rounded h-12\" style=\"position:absolute;top:0;left:0;bottom:0;right:0;box-sizing:border-box;padding:0;border:none;margin:auto;display:block;width:0;height:0;min-width:100%;max-width:100%;min-height:100%;max-height:100%\"/><noscript><img name=\"logo\" alt=\"CodeWithHarry Logo\" srcSet=\"/_next/image/?url=%2Fimg%2Flogo-blue.png&amp;w=48&amp;q=75 1x, /_next/image/?url=%2Fimg%2Flogo-blue.png&amp;w=96&amp;q=75 2x\" src=\"/_next/image/?url=%2Fimg%2Flogo-blue.png&amp;w=96&amp;q=75\" decoding=\"async\" data-nimg=\"intrinsic\" style=\"position:absolute;top:0;left:0;bottom:0;right:0;box-sizing:border-box;padding:0;border:none;margin:auto;display:block;width:0;height:0;min-width:100%;max-width:100%;min-height:100%;max-height:100%\" class=\"rounded h-12\" loading=\"lazy\"/></noscript></span><div class=\"ml-3 text-xl\">CodeWithHarry</div></div><p class=\"text-sm text-gray-500 sm:ml-4 sm:pl-4 sm:border-l-2 sm:border-gray-200 sm:py-2 mt-4 md:mt-2 mb-2 md:mb-0 text-center dark:text-gray-400\">Copyright \\xc2\\xa9 2022 CodeWithHarry.com</p><div class=\"inline-flex sm:ml-auto sm:mt-0 mt-2 justify-center sm:justify-start\" style=\"align-items:center\"><a href=\"https://www.facebook.com/codewithharry\" aria-label=\"facebook\" target=\"_blank\" rel=\"noreferrer\" class=\"text-gray-500 dark:text-gray-300\"><svg fill=\"currentColor\" stroke-linecap=\"round\" stroke-linejoin=\"round\" stroke-width=\"2\" class=\"w-5 h-5\" viewBox=\"0 0 24 24\"><path d=\"M18 2h-3a5 5 0 00-5 5v3H7v4h3v8h4v-8h3l1-4h-4V7a1 1 0 011-1h3z\"></path></svg></a><a href=\"https://www.twitter.com/codewithharry\" aria-label=\"twitter\" target=\"_blank\" rel=\"noreferrer\" class=\"ml-3 text-gray-500 dark:text-gray-300\"><svg fill=\"currentColor\" stroke-linecap=\"round\" stroke-linejoin=\"round\" stroke-width=\"2\" class=\"w-5 h-5\" viewBox=\"0 0 24 24\"><path d=\"M23 3a10.9 10.9 0 01-3.14 1.53 4.48 4.48 0 00-7.86 3v1A10.66 10.66 0 013 4s-4 9 5 13a11.64 11.64 0 01-7 2c9 5 20 0 20-11.5a4.5 4.5 0 00-.08-.83A7.72 7.72 0 0023 3z\"></path></svg></a><a href=\"https://www.instagram.com/codewithharry\" aria-label=\"instagram\" target=\"_blank\" rel=\"noreferrer\" class=\"ml-3 text-gray-500 dark:text-gray-300\"><svg fill=\"none\" stroke=\"currentColor\" stroke-linecap=\"round\" stroke-linejoin=\"round\" stroke-width=\"2\" class=\"w-5 h-5\" viewBox=\"0 0 24 24\"><rect width=\"20\" height=\"20\" x=\"2\" y=\"2\" rx=\"5\" ry=\"5\"></rect><path d=\"M16 11.37A4 4 0 1112.63 8 4 4 0 0116 11.37zm1.5-4.87h.01\"></path></svg></a><a href=\"https://www.github.com/codewithharry\" aria-label=\"github\" target=\"_blank\" rel=\"noreferrer\" class=\"ml-3 text-gray-500 dark:text-gray-300\"><svg stroke=\"currentColor\" fill=\"currentColor\" stroke-width=\"0\" viewBox=\"0 0 1024 1024\" class=\"text-xl\" height=\"1em\" width=\"1em\" xmlns=\"http://www.w3.org/2000/svg\"><path d=\"M511.6 76.3C264.3 76.2 64 276.4 64 523.5 64 718.9 189.3 885 363.8 946c23.5 5.9 19.9-10.8 19.9-22.2v-77.5c-135.7 15.9-141.2-73.9-150.3-88.9C215 726 171.5 718 184.5 703c30.9-15.9 62.4 4 98.9 57.9 26.4 39.1 77.9 32.5 104 26 5.7-23.5 17.9-44.5 34.7-60.8-140.6-25.2-199.2-111-199.2-213 0-49.5 16.3-95 48.3-131.7-20.4-60.5 1.9-112.3 4.9-120 58.1-5.2 118.5 41.6 123.2 45.3 33-8.9 70.7-13.6 112.9-13.6 42.4 0 80.2 4.9 113.5 13.9 11.3-8.6 67.3-48.8 121.3-43.9 2.9 7.7 24.7 58.3 5.5 118 32.4 36.8 48.9 82.7 48.9 132.3 0 102.2-59 188.1-200 212.9a127.5 127.5 0 0 1 38.1 91v112.5c.8 9 0 17.9 15 17.9 177.1-59.7 304.6-227 304.6-424.1 0-247.2-200.4-447.3-447.5-447.3z\"></path></svg></a></div></div></footer></div></div><script id=\"__NEXT_DATA__\" type=\"application/json\">{\"props\":{\"pageProps\":{},\"__N_SSP\":true},\"page\":\"/\",\"query\":{},\"buildId\":\"m_hyoqLdBgkk3xZsvW8xP\",\"isFallback\":false,\"gssp\":true,\"scriptLoader\":[]}</script></body></html>'"
      ]
     },
     "execution_count": 10,
     "metadata": {},
     "output_type": "execute_result"
    }
   ],
   "source": [
    "html_content "
   ]
  },
  {
   "cell_type": "markdown",
   "id": "abf0df78",
   "metadata": {},
   "source": [
    "# step-3:- parse the HTML"
   ]
  },
  {
   "cell_type": "code",
   "execution_count": 11,
   "id": "fb68f811",
   "metadata": {},
   "outputs": [],
   "source": [
    "soup = BeautifulSoup(html_content,'html.parser') "
   ]
  },
  {
   "cell_type": "code",
   "execution_count": 12,
   "id": "4c1ac50c",
   "metadata": {},
   "outputs": [
    {
     "data": {
      "text/plain": [
       "<!DOCTYPE html>\n",
       "<html><head><meta content=\"width=device-width\" name=\"viewport\"/><meta charset=\"utf-8\"/><link href=\"/img/favicon.ico\" rel=\"shortcut icon\" type=\"image/x-icon\"/><script async=\"\" crossorigin=\"anonymous\" src=\"https://pagead2.googlesyndication.com/pagead/js/adsbygoogle.js?client=ca-pub-9655830461045889\"></script><title>Learn to code online - CodeWithHarry</title><meta content=\"Generated by create next app\" name=\"description\"/><link href=\"/img/favicon.ico\" rel=\"icon\"/><meta content=\"7\" name=\"next-head-count\"/><meta name=\"next-font-preconnect\"/><link as=\"style\" href=\"/_next/static/css/ced2f5f753e05303.css\" rel=\"preload\"/><link data-n-g=\"\" href=\"/_next/static/css/ced2f5f753e05303.css\" rel=\"stylesheet\"/><link as=\"style\" href=\"/_next/static/css/470c5e8db7cdc7e9.css\" rel=\"preload\"/><link data-n-p=\"\" href=\"/_next/static/css/470c5e8db7cdc7e9.css\" rel=\"stylesheet\"/><noscript data-n-css=\"\"></noscript><script defer=\"\" nomodule=\"\" src=\"/_next/static/chunks/polyfills-5cd94c89d3acac5f.js\"></script><script defer=\"\" src=\"/_next/static/chunks/webpack-beddf46cb441c0f2.js\"></script><script defer=\"\" src=\"/_next/static/chunks/framework-a87821de553db91d.js\"></script><script defer=\"\" src=\"/_next/static/chunks/main-49d106e7eacac86b.js\"></script><script defer=\"\" src=\"/_next/static/chunks/pages/_app-a93afd1efa83860f.js\"></script><script defer=\"\" src=\"/_next/static/chunks/10-5d256216d58885d9.js\"></script><script defer=\"\" src=\"/_next/static/chunks/pages/index-2eb23443eb493791.js\"></script><script defer=\"\" src=\"/_next/static/m_hyoqLdBgkk3xZsvW8xP/_buildManifest.js\"></script><script defer=\"\" src=\"/_next/static/m_hyoqLdBgkk3xZsvW8xP/_ssgManifest.js\"></script><script defer=\"\" src=\"/_next/static/m_hyoqLdBgkk3xZsvW8xP/_middlewareManifest.js\"></script></head><body><div id=\"__next\"><div class=\"\"><div class=\"\" style=\"position:fixed;top:0;left:0;height:2px;background:transparent;z-index:99999999999;width:100%\"><div class=\"\" style=\"height:100%;background:purple;transition:all 500ms ease;width:0%\"><div style=\"box-shadow:0 0 10px purple, 0 0 10px purple;width:5%;opacity:1;position:absolute;height:100%;transition:all 500ms ease;transform:rotate(3deg) translate(0px, -4px);left:-10rem\"></div></div></div><div class=\"w-full z-10 sticky bg-white top-0 border-b border-grey-light shadow-md dark:bg-gray-800 dark:border-black\" id=\"imgpreview2\"><div class=\"w-full flex flex-wrap items-center lg:justify-between mt-0 py-4\"><div class=\"px-0 lg:pl-4 flex items-center lg:mx-4 cursor-pointer text-purple-700 text-xl font-bold mx-3 dark:text-purple-300\"><a href=\"/\">CodeWithHarry</a></div><div class=\"flex items-center md:hidden\"><div class=\"text-purple-700 text-md font-semibold\">Menu</div><svg class=\"text-purple-700 mt-1\" fill=\"currentColor\" height=\"1em\" stroke=\"currentColor\" stroke-width=\"0\" viewbox=\"0 0 1024 1024\" width=\"1em\" xmlns=\"http://www.w3.org/2000/svg\"><path d=\"M840.4 300H183.6c-19.7 0-30.7 20.8-18.5 35l328.4 380.8c9.4 10.9 27.5 10.9 37 0L858.9 335c12.2-14.2 1.2-35-18.5-35z\"></path></svg></div><svg class=\"md:hidden text-purple-700 mt-1 ml-2 cursor-pointer dark:text-white\" fill=\"currentColor\" height=\"28\" stroke=\"currentColor\" stroke-width=\"0\" viewbox=\"0 0 16 16\" width=\"28\" xmlns=\"http://www.w3.org/2000/svg\"><path d=\"M6 .278a.768.768 0 0 1 .08.858 7.208 7.208 0 0 0-.878 3.46c0 4.021 3.278 7.277 7.318 7.277.527 0 1.04-.055 1.533-.16a.787.787 0 0 1 .81.316.733.733 0 0 1-.031.893A8.349 8.349 0 0 1 8.344 16C3.734 16 0 12.286 0 7.71 0 4.266 2.114 1.312 5.124.06A.752.752 0 0 1 6 .278z\"></path><path d=\"M10.794 3.148a.217.217 0 0 1 .412 0l.387 1.162c.173.518.579.924 1.097 1.097l1.162.387a.217.217 0 0 1 0 .412l-1.162.387a1.734 1.734 0 0 0-1.097 1.097l-.387 1.162a.217.217 0 0 1-.412 0l-.387-1.162A1.734 1.734 0 0 0 9.31 6.593l-1.162-.387a.217.217 0 0 1 0-.412l1.162-.387a1.734 1.734 0 0 0 1.097-1.097l.387-1.162zM13.863.099a.145.145 0 0 1 .274 0l.258.774c.115.346.386.617.732.732l.774.258a.145.145 0 0 1 0 .274l-.774.258a1.156 1.156 0 0 0-.732.732l-.258.774a.145.145 0 0 1-.274 0l-.258-.774a1.156 1.156 0 0 0-.732-.732l-.774-.258a.145.145 0 0 1 0-.274l.774-.258c.346-.115.617-.386.732-.732L13.863.1z\"></path></svg><button class=\"md:hidden text-white bg-purple-700 hover:bg-purple-800 focus:ring-4 focus:ring-purple-300 font-medium rounded-lg text-sm px-3 py-2 text-center inline-flex items-center mx-1 absolute right-3 md:right-12\">Login</button><div class=\"w-full flex-grow lg:flex lg:flex-1 lg:content-center lg:justify-end lg:w-auto h-0 lg:h-auto overflow-hidden mt-2 lg:mt-0 z-20 transition-all\" id=\"nav-content\"><ul class=\"flex items-center flex-col lg:flex-row\"><div class=\"search-icon cursor-pointer px-6 hidden\" id=\"search-toggle\"><svg class=\"fill-current pointer-events-none text-grey-darkest w-4 h-4 inline\" viewbox=\"0 0 20 20\" xmlns=\"http://www.w3.org/2000/svg\"><path d=\"M12.9 14.32a8 8 0 1 1 1.41-1.41l5.35 5.33-1.42 1.42-5.33-5.34zM8 14A6 6 0 1 0 8 2a6 6 0 0 0 0 12z\"></path></svg></div><li class=\"mx-2 my-2 text-black hover:border-b-2 hover:border-purple-700 dark:text-white\"><a href=\"/\">Home</a></li><li class=\"mx-2 my-2 text-black hover:border-b-2 hover:border-purple-700 dark:text-white\"><a href=\"/videos/\">Courses</a></li><li class=\"mx-2 my-2 text-black hover:border-b-2 hover:border-purple-700 dark:text-white\"><a href=\"/tutorials/\">Tutorial</a></li><li class=\"mx-2 my-2 text-black hover:border-b-2 hover:border-purple-700 dark:text-white\"><a href=\"/blog/\">Blog</a></li><li class=\"mx-2 my-2 text-black hover:border-b-2 hover:border-purple-700 dark:text-white\"><a href=\"/notes/\">Notes</a></li><li class=\"mx-2 my-2 text-black hover:border-b-2 hover:border-purple-700 dark:text-white\"><a href=\"/contact/\">Contact</a></li><li class=\"mx-2 my-2 text-black hover:border-b-2 hover:border-purple-700 dark:text-white\"><a href=\"/my-gear/\">My Gear</a></li><li class=\"mx-2 my-2 text-black hover:border-b-2 hover:border-purple-700 dark:text-white\"><a href=\"/work/\">Work With Us</a></li><li><svg class=\"hidden md:block text-purple-700 mt-1 ml-2 cursor-pointer dark:text-white\" fill=\"currentColor\" height=\"28\" stroke=\"currentColor\" stroke-width=\"0\" viewbox=\"0 0 16 16\" width=\"28\" xmlns=\"http://www.w3.org/2000/svg\"><path d=\"M6 .278a.768.768 0 0 1 .08.858 7.208 7.208 0 0 0-.878 3.46c0 4.021 3.278 7.277 7.318 7.277.527 0 1.04-.055 1.533-.16a.787.787 0 0 1 .81.316.733.733 0 0 1-.031.893A8.349 8.349 0 0 1 8.344 16C3.734 16 0 12.286 0 7.71 0 4.266 2.114 1.312 5.124.06A.752.752 0 0 1 6 .278z\"></path><path d=\"M10.794 3.148a.217.217 0 0 1 .412 0l.387 1.162c.173.518.579.924 1.097 1.097l1.162.387a.217.217 0 0 1 0 .412l-1.162.387a1.734 1.734 0 0 0-1.097 1.097l-.387 1.162a.217.217 0 0 1-.412 0l-.387-1.162A1.734 1.734 0 0 0 9.31 6.593l-1.162-.387a.217.217 0 0 1 0-.412l1.162-.387a1.734 1.734 0 0 0 1.097-1.097l.387-1.162zM13.863.099a.145.145 0 0 1 .274 0l.258.774c.115.346.386.617.732.732l.774.258a.145.145 0 0 1 0 .274l-.774.258a1.156 1.156 0 0 0-.732.732l-.258.774a.145.145 0 0 1-.274 0l-.258-.774a1.156 1.156 0 0 0-.732-.732l-.774-.258a.145.145 0 0 1 0-.274l.774-.258c.346-.115.617-.386.732-.732L13.863.1z\"></path></svg></li></ul><div class=\"text-center my-2 pr-4 pl-2\"><button class=\"text-white bg-purple-700 hover:bg-purple-800 focus:ring-4 focus:ring-purple-300 font-medium rounded-lg text-sm px-3 py-2 text-center inline-flex items-center mx-1 dark:bg-purple-500 dark:hover:bg-purple-800\">Login</button><button class=\"text-white bg-purple-700 hover:bg-purple-800 focus:ring-4 focus:ring-purple-300 font-medium rounded-lg text-sm px-3 py-2 text-center inline-flex items-center mx-1 dark:bg-purple-500 dark:hover:bg-purple-800\">Signup</button></div></div></div><hr class=\"dark:border-gray-500\"/><div class=\"max-h-[6vh] min-h-[40px] flex items-center ml-3 mr-3 md:ml-10 md:mr-10 my-1\"><span><svg class=\"text-purple-700 text-xl cursor-pointer dark:text-purple-300\" fill=\"currentColor\" height=\"1em\" stroke=\"currentColor\" stroke-width=\"0\" viewbox=\"0 0 1024 1024\" width=\"1em\" xmlns=\"http://www.w3.org/2000/svg\"><path d=\"M946.5 505L534.6 93.4a31.93 31.93 0 0 0-45.2 0L77.5 505c-12 12-18.8 28.3-18.8 45.3 0 35.3 28.7 64 64 64h43.4V908c0 17.7 14.3 32 32 32H448V716h112v224h265.9c17.7 0 32-14.3 32-32V614.3h43.4c17 0 33.3-6.7 45.3-18.8 24.9-25 24.9-65.5-.1-90.5z\"></path></svg></span><ul class=\"space-x-7 m-auto text-purple-700 font-semibold hidden md:flex items-center\"><li class=\"cursor-pointer hover:border-b-2 hover:border-purple-700 active:border-b-4 dark:text-purple-300\"><a href=\"/tutorial/html-home/\">HTML</a></li><li class=\"cursor-pointer hover:border-b-2 hover:border-purple-700 active:border-b-4 dark:text-purple-300\"><a href=\"/tutorial/css-home/\">CSS</a></li><li class=\"cursor-pointer hover:border-b-2 hover:border-purple-700 active:border-b-4 dark:text-purple-300\"><a href=\"/tutorial/js/\">JS</a></li><li class=\"cursor-pointer hover:border-b-2 hover:border-purple-700 active:border-b-4 dark:text-purple-300\"><a href=\"/tutorial/c/\">C</a></li><li class=\"cursor-pointer hover:border-b-2 hover:border-purple-700 active:border-b-4 dark:text-purple-300\"><a href=\"/tutorial/cplusplus/\">C++</a></li><li class=\"cursor-pointer hover:border-b-2 hover:border-purple-700 active:border-b-4 dark:text-purple-300\"><a href=\"/tutorial/java/\">JAVA</a></li><li class=\"cursor-pointer hover:border-b-2 hover:border-purple-700 active:border-b-4 dark:text-purple-300\"><a href=\"/tutorial/python/\">PYTHON</a></li><li class=\"cursor-pointer hover:border-b-2 hover:border-purple-700 active:border-b-4 dark:text-purple-300\"><a href=\"/tutorial/php/\">PHP</a></li><li class=\"cursor-pointer hover:border-b-2 hover:border-purple-700 active:border-b-4 dark:text-purple-300\"><a href=\"/tutorial/react-home/\">REACT JS</a></li></ul><input class=\"hidden right-10 md:right-10 absolute w-48 md:w-60 h-8 bg-white rounded border-2 border-purple-500 focus:border-purple-700 focus:ring-2 focus:ring-indigo-200 text-base outline-none text-gray-700 py-1 px-3 leading-8 transition-colors duration-200 ease-in-out dark:bg-gray-500 dark:text-gray-200\" id=\"search\" placeholder=\"Search...\"/><svg class=\"text-purple-700 dark:text-purple-300 cursor-pointer text-2xl absolute right-3 md:right-12 }\" fill=\"currentColor\" height=\"1em\" stroke=\"currentColor\" stroke-width=\"0\" viewbox=\"0 0 1024 1024\" width=\"1em\" xmlns=\"http://www.w3.org/2000/svg\"><path d=\"M909.6 854.5L649.9 594.8C690.2 542.7 712 479 712 412c0-80.2-31.3-155.4-87.9-212.1-56.6-56.7-132-87.9-212.1-87.9s-155.5 31.3-212.1 87.9C143.2 256.5 112 331.8 112 412c0 80.1 31.3 155.5 87.9 212.1C256.5 680.8 331.8 712 412 712c67 0 130.6-21.8 182.7-62l259.7 259.6a8.2 8.2 0 0 0 11.6 0l43.6-43.5a8.2 8.2 0 0 0 0-11.6zM570.4 570.4C528 612.7 471.8 636 412 636s-116-23.3-158.4-65.6C211.3 528 188 471.8 188 412s23.3-116.1 65.6-158.4C296 211.3 352.2 188 412 188s116.1 23.2 158.4 65.6S636 352.2 636 412s-23.3 116.1-65.6 158.4z\"></path></svg></div><div class=\"bg-purple-100 text-center shadow-lg absolute w-full dark:bg-gray-600 hidden mt-1 md:hidden\"><ul><li class=\"pt-4 text-purple-500 font-bold\"><a href=\"/\">Home</a></li><li class=\"pt-4 text-purple-500 font-bold\"><a href=\"/videos/\">Courses</a></li><li class=\"pt-4 text-purple-500 font-bold flex justify-center ml-3\">Tutorial <!-- --><svg class=\"mt-1\" fill=\"currentColor\" height=\"1em\" stroke=\"currentColor\" stroke-width=\"0\" viewbox=\"0 0 1024 1024\" width=\"1em\" xmlns=\"http://www.w3.org/2000/svg\"><path d=\"M840.4 300H183.6c-19.7 0-30.7 20.8-18.5 35l328.4 380.8c9.4 10.9 27.5 10.9 37 0L858.9 335c12.2-14.2 1.2-35-18.5-35z\"></path></svg></li><li class=\"my-2 text-purple-500 font-semibold text-sm bg-purple-200 dark:bg-gray-700 hidden\"><ul><li class=\"cursor-pointer py-1 border-y-2 dark:border-gray-400\"><a href=\"/tutorial/html-home/\">HTML</a></li><li class=\"cursor-pointer py-1 border-b-2 dark:border-gray-400\"><a href=\"/tutorial/css-home/\">CSS</a></li><li class=\"cursor-pointer py-1 border-b-2 dark:border-gray-400\"><a href=\"/tutorial/js/\">JS</a></li><li class=\"cursor-pointer py-1 border-b-2 dark:border-gray-400\"><a href=\"/tutorial/c/\">C</a></li><li class=\"cursor-pointer py-1 border-b-2 dark:border-gray-400\"><a href=\"/tutorial/cplusplus/\">C++</a></li><li class=\"cursor-pointer py-1 border-b-2 dark:border-gray-400\"><a href=\"/tutorial/java/\">JAVA</a></li><li class=\"cursor-pointer py-1 border-b-2 dark:border-gray-400\"><a href=\"/tutorial/python/\">PYTHON</a></li><li class=\"cursor-pointer py-1 border-b-2 dark:border-gray-400\"><a href=\"/tutorial/php/\">PHP</a></li><li class=\"cursor-pointer py-1 border-b-2 dark:border-gray-400\"><a href=\"/tutorial/react-home/\">REACT JS</a></li></ul></li><li class=\"pt-4 text-purple-500 font-bold\"><a href=\"/blog/\">Blog</a></li><li class=\"pt-4 text-purple-500 font-bold\"><a href=\"/notes/\">Notes</a></li><li class=\"pt-4 text-purple-500 font-bold\"><a href=\"/contact/\">Contact</a></li><li class=\"pt-4 text-purple-500 font-bold\"><a href=\"/my-gear/\">My Gear</a></li><li class=\"pt-4 pb-4 text-purple-500 font-bold\"><a href=\"/work/\">Work With Us</a></li></ul></div></div><div class=\"dark:bg-gray-900\"><div class=\"Toastify\"></div><div class=\"flex bg-white h-96 container mx-auto dark:bg-gray-900\"><div class=\"flex items-center text-center lg:text-left px-8 md:px-12 lg:w-1/2\"><div><h2 class=\"text-3xl font-semibold text-gray-800 md:text-4xl dark:text-white\">Welcome to <!-- --><span class=\"text-purple-700 dark:text-purple-600\"></span></h2><h4 class=\"text-xl font-semibold text-gray-800 md:text-2xl dark:text-white\">Learn <!-- --><span class=\"text-purple-700 dark:text-purple-600\"></span></h4><p class=\"mt-2 text-sm text-gray-500 md:text-base dark:text-gray-400\">Confused on which course to take? I have got you covered. Browse courses and find out the best course for you. Its free! Code With Harry is my attempt to teach basics and those coding techniques to people in short time which took me ages to learn.</p><div class=\"flex justify-center lg:justify-start mt-6\"><button class=\"px-3 py-2 lg:px-4 lg:py-3 bg-gray-900 text-gray-200 text-xs font-semibold rounded hover:text-white hover:bg-gray-800 dark:bg-gray-100 dark:text-gray-600 dark:hover:bg-gray-300\">Free Courses</button><button class=\"px-3 py-2 mx-4 lg:px-4 lg:py-3 bg-gray-300 text-gray-900 text-xs font-semibold rounded hover:bg-gray-400\">Explore Blog</button></div></div></div><div class=\"hidden lg:block lg:w-1/2\" style=\"clip-path:polygon(10% 0px, 100% 0%, 100% 100%, 0px 100%)\"><div class=\"h-full object-cover\" style='background-image:url(\"https://images.unsplash.com/photo-1498050108023-c5249f4df085?ixlib=rb-1.2.1&amp;ixid=eyJhcHBfaWQiOjEyMDd9&amp;auto=format&amp;fit=crop&amp;w=1352&amp;q=80\")'><div class=\"h-full bg-black opacity-25\"></div></div></div></div><div class=\"container mx-auto lg:my-2\"><h2 class=\"text-3xl font-medium title-font text-gray-900 my-10 text-center dark:text-purple-600\">Recommended Courses</h2><div class=\"flex flex-wrap justify-center mx-6\"><div class=\"p-4 md:w-1/3 flex justify-center\"><div class=\"max-w-sm rounded-2xl overflow-hidden shadow-lg dark:bg-slate-800\"><span style=\"box-sizing:border-box;display:inline-block;overflow:hidden;width:initial;height:initial;background:none;opacity:1;border:0;margin:0;padding:0;position:relative;max-width:100%\"><span style=\"box-sizing:border-box;display:block;width:initial;height:initial;background:none;opacity:1;border:0;margin:0;padding:0;max-width:100%\"><img alt=\"\" aria-hidden=\"true\" src=\"data:image/svg+xml,%3csvg%20xmlns=%27http://www.w3.org/2000/svg%27%20version=%271.1%27%20width=%27384%27%20height=%27216%27/%3e\" style=\"display:block;max-width:100%;width:initial;height:initial;background:none;opacity:1;border:0;margin:0;padding:0\"/></span><img alt=\"img\" class=\"lg:h-48 md:h-36 w-full object-cover object-center\" data-nimg=\"intrinsic\" decoding=\"async\" src=\"data:image/gif;base64,R0lGODlhAQABAIAAAAAAAP///yH5BAEAAAAALAAAAAABAAEAAAIBRAA7\" style=\"position:absolute;top:0;left:0;bottom:0;right:0;box-sizing:border-box;padding:0;border:none;margin:auto;display:block;width:0;height:0;min-width:100%;max-width:100%;min-height:100%;max-height:100%\"/><noscript><img alt=\"img\" class=\"lg:h-48 md:h-36 w-full object-cover object-center\" data-nimg=\"intrinsic\" decoding=\"async\" loading=\"lazy\" src=\"/_next/image/?url=https%3A%2F%2Fcwh-full-next-space.fra1.digitaloceanspaces.com%2Fvideoseries%2Fpython-100-days-of-code-1%2F7wnove7K-ZQ-HD.jpg&amp;w=828&amp;q=75\" srcset=\"/_next/image/?url=https%3A%2F%2Fcwh-full-next-space.fra1.digitaloceanspaces.com%2Fvideoseries%2Fpython-100-days-of-code-1%2F7wnove7K-ZQ-HD.jpg&amp;w=384&amp;q=75 1x, /_next/image/?url=https%3A%2F%2Fcwh-full-next-space.fra1.digitaloceanspaces.com%2Fvideoseries%2Fpython-100-days-of-code-1%2F7wnove7K-ZQ-HD.jpg&amp;w=828&amp;q=75 2x\" style=\"position:absolute;top:0;left:0;bottom:0;right:0;box-sizing:border-box;padding:0;border:none;margin:auto;display:block;width:0;height:0;min-width:100%;max-width:100%;min-height:100%;max-height:100%\"/></noscript></span><div class=\"px-6 md:my-11 lg:my-0 md:h-72 lg:h-64 lg:py-4 xl:h-52\"><span class=\"tracking-widest text-xs title-font font-medium mb-1 dark:text-gray-400\">FREE COURSE</span><div class=\"title-font flex text-lg font-medium text-gray-900 mb-3 dark:text-white\">Python Tutorials - 100 Days of Code    </div><p class=\"text-gray-700 text-base dark:text-gray-400\">Python is one of the most demanded programming languages in the job market. Surprisingly, it is equally easy to learn and master Python. Let's commit our 100 days of code to python!</p></div><div class=\"px-6 pt-4 pb-2\"><span class=\"inline-block text-white bg-purple-700 rounded-full px-3 py-2 text-sm font-semibold mr-2 my-2 cursor-pointer hover:bg-purple-600\">  Start Watching </span></div></div></div><div class=\"p-4 md:w-1/3 flex justify-center\"><div class=\"max-w-sm rounded-2xl overflow-hidden shadow-lg dark:bg-slate-800\"><span style=\"box-sizing:border-box;display:inline-block;overflow:hidden;width:initial;height:initial;background:none;opacity:1;border:0;margin:0;padding:0;position:relative;max-width:100%\"><span style=\"box-sizing:border-box;display:block;width:initial;height:initial;background:none;opacity:1;border:0;margin:0;padding:0;max-width:100%\"><img alt=\"\" aria-hidden=\"true\" src=\"data:image/svg+xml,%3csvg%20xmlns=%27http://www.w3.org/2000/svg%27%20version=%271.1%27%20width=%27384%27%20height=%27216%27/%3e\" style=\"display:block;max-width:100%;width:initial;height:initial;background:none;opacity:1;border:0;margin:0;padding:0\"/></span><img alt=\"img\" class=\"lg:h-48 md:h-36 w-full object-cover object-center\" data-nimg=\"intrinsic\" decoding=\"async\" src=\"data:image/gif;base64,R0lGODlhAQABAIAAAAAAAP///yH5BAEAAAAALAAAAAABAAEAAAIBRAA7\" style=\"position:absolute;top:0;left:0;bottom:0;right:0;box-sizing:border-box;padding:0;border:none;margin:auto;display:block;width:0;height:0;min-width:100%;max-width:100%;min-height:100%;max-height:100%\"/><noscript><img alt=\"img\" class=\"lg:h-48 md:h-36 w-full object-cover object-center\" data-nimg=\"intrinsic\" decoding=\"async\" loading=\"lazy\" src=\"/_next/image/?url=https%3A%2F%2Fcwh-full-next-space.fra1.digitaloceanspaces.com%2Fvideoseries%2Fultimate-js-tutorial-hindi-1%2FJS-Thumb.jpg&amp;w=828&amp;q=75\" srcset=\"/_next/image/?url=https%3A%2F%2Fcwh-full-next-space.fra1.digitaloceanspaces.com%2Fvideoseries%2Fultimate-js-tutorial-hindi-1%2FJS-Thumb.jpg&amp;w=384&amp;q=75 1x, /_next/image/?url=https%3A%2F%2Fcwh-full-next-space.fra1.digitaloceanspaces.com%2Fvideoseries%2Fultimate-js-tutorial-hindi-1%2FJS-Thumb.jpg&amp;w=828&amp;q=75 2x\" style=\"position:absolute;top:0;left:0;bottom:0;right:0;box-sizing:border-box;padding:0;border:none;margin:auto;display:block;width:0;height:0;min-width:100%;max-width:100%;min-height:100%;max-height:100%\"/></noscript></span><div class=\"px-6 md:my-11 lg:my-0 md:h-72 lg:h-64 lg:py-4 xl:h-52\"><span class=\"tracking-widest text-xs title-font font-medium mb-1 dark:text-gray-400\">FREE COURSE</span><div class=\"title-font flex text-lg font-medium text-gray-900 mb-3 dark:text-white\">Ultimate JavaScript Course</div><p class=\"text-gray-700 text-base dark:text-gray-400\">This latest JavaScript course comes with premium curriculum that covers everything from basics to advance. On top of that, you will get my handwritten notes of JS for completely free. What are you waiting for? Just Enroll Buddy</p></div><div class=\"px-6 pt-4 pb-2\"><span class=\"inline-block text-white bg-purple-700 rounded-full px-3 py-2 text-sm font-semibold mr-2 my-2 cursor-pointer hover:bg-purple-600\">  Start Watching </span></div></div></div><div class=\"p-4 md:w-1/3 flex justify-center\"><div class=\"max-w-sm rounded-2xl overflow-hidden shadow-lg dark:bg-slate-800\"><span style=\"box-sizing:border-box;display:inline-block;overflow:hidden;width:initial;height:initial;background:none;opacity:1;border:0;margin:0;padding:0;position:relative;max-width:100%\"><span style=\"box-sizing:border-box;display:block;width:initial;height:initial;background:none;opacity:1;border:0;margin:0;padding:0;max-width:100%\"><img alt=\"\" aria-hidden=\"true\" src=\"data:image/svg+xml,%3csvg%20xmlns=%27http://www.w3.org/2000/svg%27%20version=%271.1%27%20width=%27384%27%20height=%27216%27/%3e\" style=\"display:block;max-width:100%;width:initial;height:initial;background:none;opacity:1;border:0;margin:0;padding:0\"/></span><img alt=\"img\" class=\"lg:h-48 md:h-36 w-full object-cover object-center\" data-nimg=\"intrinsic\" decoding=\"async\" src=\"data:image/gif;base64,R0lGODlhAQABAIAAAAAAAP///yH5BAEAAAAALAAAAAABAAEAAAIBRAA7\" style=\"position:absolute;top:0;left:0;bottom:0;right:0;box-sizing:border-box;padding:0;border:none;margin:auto;display:block;width:0;height:0;min-width:100%;max-width:100%;min-height:100%;max-height:100%\"/><noscript><img alt=\"img\" class=\"lg:h-48 md:h-36 w-full object-cover object-center\" data-nimg=\"intrinsic\" decoding=\"async\" loading=\"lazy\" src=\"/_next/image/?url=https%3A%2F%2Fcodewithharry.nyc3.cdn.digitaloceanspaces.com%2Fassets%2F090fefe24d23d47584f6ddc7eb5a241e.png&amp;w=828&amp;q=75\" srcset=\"/_next/image/?url=https%3A%2F%2Fcodewithharry.nyc3.cdn.digitaloceanspaces.com%2Fassets%2F090fefe24d23d47584f6ddc7eb5a241e.png&amp;w=384&amp;q=75 1x, /_next/image/?url=https%3A%2F%2Fcodewithharry.nyc3.cdn.digitaloceanspaces.com%2Fassets%2F090fefe24d23d47584f6ddc7eb5a241e.png&amp;w=828&amp;q=75 2x\" style=\"position:absolute;top:0;left:0;bottom:0;right:0;box-sizing:border-box;padding:0;border:none;margin:auto;display:block;width:0;height:0;min-width:100%;max-width:100%;min-height:100%;max-height:100%\"/></noscript></span><div class=\"px-6 md:my-11 lg:my-0 md:h-72 lg:h-64 lg:py-4 xl:h-52\"><span class=\"tracking-widest text-xs title-font font-medium mb-1 dark:text-gray-400\">FREE COURSE</span><div class=\"title-font flex text-lg font-medium text-gray-900 mb-3 dark:text-white\">React JS Tutorials For Beginners</div><p class=\"text-gray-700 text-base dark:text-gray-400\">React is a free and open-source front-end JavaScript library. This series will cover React from starting to the end. We will learn react from the ground up!</p></div><div class=\"px-6 pt-4 pb-2\"><span class=\"inline-block text-white bg-purple-700 rounded-full px-3 py-2 text-sm font-semibold mr-2 my-2 cursor-pointer hover:bg-purple-600\">  Start Watching </span></div></div></div></div></div><div class=\"container mx-auto\"><section class=\"text-gray-600 body-font\"><div class=\"container px-5 py-12 mx-auto\"><h2 class=\"text-3xl font-medium title-font text-gray-900 mb-12 text-center dark:text-purple-600\">Testimonials</h2><div class=\"flex flex-wrap -m-4\"><div class=\"p-4 md:w-1/2 w-full\"><div class=\"h-full bg-gray-100 p-8 rounded dark:bg-gray-700\"><svg class=\"block w-5 h-5 text-gray-400 mb-4\" fill=\"currentColor\" viewbox=\"0 0 975.036 975.036\" xmlns=\"http://www.w3.org/2000/svg\"><path d=\"M925.036 57.197h-304c-27.6 0-50 22.4-50 50v304c0 27.601 22.4 50 50 50h145.5c-1.9 79.601-20.4 143.3-55.4 191.2-27.6 37.8-69.399 69.1-125.3 93.8-25.7 11.3-36.8 41.7-24.8 67.101l36 76c11.6 24.399 40.3 35.1 65.1 24.399 66.2-28.6 122.101-64.8 167.7-108.8 55.601-53.7 93.7-114.3 114.3-181.9 20.601-67.6 30.9-159.8 30.9-276.8v-239c0-27.599-22.401-50-50-50zM106.036 913.497c65.4-28.5 121-64.699 166.9-108.6 56.1-53.7 94.4-114.1 115-181.2 20.6-67.1 30.899-159.6 30.899-277.5v-239c0-27.6-22.399-50-50-50h-304c-27.6 0-50 22.4-50 50v304c0 27.601 22.4 50 50 50h145.5c-1.9 79.601-20.4 143.3-55.4 191.2-27.6 37.8-69.4 69.1-125.3 93.8-25.7 11.3-36.8 41.7-24.8 67.101l35.9 75.8c11.601 24.399 40.501 35.2 65.301 24.399z\"></path></svg><p class=\"leading-relaxed mb-6 dark:text-gray-300\">I don't have words to thank this man, I'm really grateful to have this channel and website in my daily routine. If you're a mere beginner, then you can trust this guy and can put your time into his content. I can assure you that it'll be worth it.</p><span class=\"inline-flex items-center\"><span class=\"flex-grow flex flex-col pl-4\"><span class=\"title-font font-medium text-gray-900 dark:text-white\">Mohit Kumar</span><span class=\"text-gray-500 text-sm dark:text-gray-400\">Web Developer</span></span></span></div></div><div class=\"p-4 md:w-1/2 w-full\"><div class=\"h-full bg-gray-100 p-8 rounded dark:bg-gray-700\"><svg class=\"block w-5 h-5 text-gray-400 mb-4\" fill=\"currentColor\" viewbox=\"0 0 975.036 975.036\" xmlns=\"http://www.w3.org/2000/svg\"><path d=\"M925.036 57.197h-304c-27.6 0-50 22.4-50 50v304c0 27.601 22.4 50 50 50h145.5c-1.9 79.601-20.4 143.3-55.4 191.2-27.6 37.8-69.399 69.1-125.3 93.8-25.7 11.3-36.8 41.7-24.8 67.101l36 76c11.6 24.399 40.3 35.1 65.1 24.399 66.2-28.6 122.101-64.8 167.7-108.8 55.601-53.7 93.7-114.3 114.3-181.9 20.601-67.6 30.9-159.8 30.9-276.8v-239c0-27.599-22.401-50-50-50zM106.036 913.497c65.4-28.5 121-64.699 166.9-108.6 56.1-53.7 94.4-114.1 115-181.2 20.6-67.1 30.899-159.6 30.899-277.5v-239c0-27.6-22.399-50-50-50h-304c-27.6 0-50 22.4-50 50v304c0 27.601 22.4 50 50 50h145.5c-1.9 79.601-20.4 143.3-55.4 191.2-27.6 37.8-69.4 69.1-125.3 93.8-25.7 11.3-36.8 41.7-24.8 67.101l35.9 75.8c11.601 24.399 40.501 35.2 65.301 24.399z\"></path></svg><p class=\"leading-relaxed mb-6 dark:text-gray-300\">For everyone who wants to level up their #Coding and #Dev skills - seriously, this channel is for you! Both basic and advanced stacks are covered on this channel, and one can learn according to his skill levels. And the icing on the cake is, everything is available for free.</p><span class=\"inline-flex items-center\"><span class=\"flex-grow flex flex-col pl-4\"><span class=\"title-font font-medium text-gray-900 dark:text-white\">Rakesh Shetty</span><span class=\"text-gray-500 text-sm dark:text-gray-400\">Web Developer</span></span></span></div></div></div></div></section></div></div><footer class=\"text-gray-600 bg-white body-font dark:bg-gray-800 dark:text-white\"><div class=\"container mx-auto py-4 px-5 flex flex-wrap flex-col sm:flex-row\"><div class=\"flex title-font font-medium items-center md:justify-start justify-center text-gray-900 dark:text-gray-200\"><span style=\"box-sizing:border-box;display:inline-block;overflow:hidden;width:initial;height:initial;background:none;opacity:1;border:0;margin:0;padding:0;position:relative;max-width:100%\"><span style=\"box-sizing:border-box;display:block;width:initial;height:initial;background:none;opacity:1;border:0;margin:0;padding:0;max-width:100%\"><img alt=\"\" aria-hidden=\"true\" src=\"data:image/svg+xml,%3csvg%20xmlns=%27http://www.w3.org/2000/svg%27%20version=%271.1%27%20width=%2748%27%20height=%2748%27/%3e\" style=\"display:block;max-width:100%;width:initial;height:initial;background:none;opacity:1;border:0;margin:0;padding:0\"/></span><img alt=\"CodeWithHarry Logo\" class=\"rounded h-12\" data-nimg=\"intrinsic\" decoding=\"async\" name=\"logo\" src=\"data:image/gif;base64,R0lGODlhAQABAIAAAAAAAP///yH5BAEAAAAALAAAAAABAAEAAAIBRAA7\" style=\"position:absolute;top:0;left:0;bottom:0;right:0;box-sizing:border-box;padding:0;border:none;margin:auto;display:block;width:0;height:0;min-width:100%;max-width:100%;min-height:100%;max-height:100%\"/><noscript><img alt=\"CodeWithHarry Logo\" class=\"rounded h-12\" data-nimg=\"intrinsic\" decoding=\"async\" loading=\"lazy\" name=\"logo\" src=\"/_next/image/?url=%2Fimg%2Flogo-blue.png&amp;w=96&amp;q=75\" srcset=\"/_next/image/?url=%2Fimg%2Flogo-blue.png&amp;w=48&amp;q=75 1x, /_next/image/?url=%2Fimg%2Flogo-blue.png&amp;w=96&amp;q=75 2x\" style=\"position:absolute;top:0;left:0;bottom:0;right:0;box-sizing:border-box;padding:0;border:none;margin:auto;display:block;width:0;height:0;min-width:100%;max-width:100%;min-height:100%;max-height:100%\"/></noscript></span><div class=\"ml-3 text-xl\">CodeWithHarry</div></div><p class=\"text-sm text-gray-500 sm:ml-4 sm:pl-4 sm:border-l-2 sm:border-gray-200 sm:py-2 mt-4 md:mt-2 mb-2 md:mb-0 text-center dark:text-gray-400\">Copyright © 2022 CodeWithHarry.com</p><div class=\"inline-flex sm:ml-auto sm:mt-0 mt-2 justify-center sm:justify-start\" style=\"align-items:center\"><a aria-label=\"facebook\" class=\"text-gray-500 dark:text-gray-300\" href=\"https://www.facebook.com/codewithharry\" rel=\"noreferrer\" target=\"_blank\"><svg class=\"w-5 h-5\" fill=\"currentColor\" stroke-linecap=\"round\" stroke-linejoin=\"round\" stroke-width=\"2\" viewbox=\"0 0 24 24\"><path d=\"M18 2h-3a5 5 0 00-5 5v3H7v4h3v8h4v-8h3l1-4h-4V7a1 1 0 011-1h3z\"></path></svg></a><a aria-label=\"twitter\" class=\"ml-3 text-gray-500 dark:text-gray-300\" href=\"https://www.twitter.com/codewithharry\" rel=\"noreferrer\" target=\"_blank\"><svg class=\"w-5 h-5\" fill=\"currentColor\" stroke-linecap=\"round\" stroke-linejoin=\"round\" stroke-width=\"2\" viewbox=\"0 0 24 24\"><path d=\"M23 3a10.9 10.9 0 01-3.14 1.53 4.48 4.48 0 00-7.86 3v1A10.66 10.66 0 013 4s-4 9 5 13a11.64 11.64 0 01-7 2c9 5 20 0 20-11.5a4.5 4.5 0 00-.08-.83A7.72 7.72 0 0023 3z\"></path></svg></a><a aria-label=\"instagram\" class=\"ml-3 text-gray-500 dark:text-gray-300\" href=\"https://www.instagram.com/codewithharry\" rel=\"noreferrer\" target=\"_blank\"><svg class=\"w-5 h-5\" fill=\"none\" stroke=\"currentColor\" stroke-linecap=\"round\" stroke-linejoin=\"round\" stroke-width=\"2\" viewbox=\"0 0 24 24\"><rect height=\"20\" rx=\"5\" ry=\"5\" width=\"20\" x=\"2\" y=\"2\"></rect><path d=\"M16 11.37A4 4 0 1112.63 8 4 4 0 0116 11.37zm1.5-4.87h.01\"></path></svg></a><a aria-label=\"github\" class=\"ml-3 text-gray-500 dark:text-gray-300\" href=\"https://www.github.com/codewithharry\" rel=\"noreferrer\" target=\"_blank\"><svg class=\"text-xl\" fill=\"currentColor\" height=\"1em\" stroke=\"currentColor\" stroke-width=\"0\" viewbox=\"0 0 1024 1024\" width=\"1em\" xmlns=\"http://www.w3.org/2000/svg\"><path d=\"M511.6 76.3C264.3 76.2 64 276.4 64 523.5 64 718.9 189.3 885 363.8 946c23.5 5.9 19.9-10.8 19.9-22.2v-77.5c-135.7 15.9-141.2-73.9-150.3-88.9C215 726 171.5 718 184.5 703c30.9-15.9 62.4 4 98.9 57.9 26.4 39.1 77.9 32.5 104 26 5.7-23.5 17.9-44.5 34.7-60.8-140.6-25.2-199.2-111-199.2-213 0-49.5 16.3-95 48.3-131.7-20.4-60.5 1.9-112.3 4.9-120 58.1-5.2 118.5 41.6 123.2 45.3 33-8.9 70.7-13.6 112.9-13.6 42.4 0 80.2 4.9 113.5 13.9 11.3-8.6 67.3-48.8 121.3-43.9 2.9 7.7 24.7 58.3 5.5 118 32.4 36.8 48.9 82.7 48.9 132.3 0 102.2-59 188.1-200 212.9a127.5 127.5 0 0 1 38.1 91v112.5c.8 9 0 17.9 15 17.9 177.1-59.7 304.6-227 304.6-424.1 0-247.2-200.4-447.3-447.5-447.3z\"></path></svg></a></div></div></footer></div></div><script id=\"__NEXT_DATA__\" type=\"application/json\">{\"props\":{\"pageProps\":{},\"__N_SSP\":true},\"page\":\"/\",\"query\":{},\"buildId\":\"m_hyoqLdBgkk3xZsvW8xP\",\"isFallback\":false,\"gssp\":true,\"scriptLoader\":[]}</script></body></html>"
      ]
     },
     "execution_count": 12,
     "metadata": {},
     "output_type": "execute_result"
    }
   ],
   "source": [
    "soup "
   ]
  },
  {
   "cell_type": "code",
   "execution_count": 13,
   "id": "46cce547",
   "metadata": {},
   "outputs": [
    {
     "data": {
      "text/plain": [
       "<bound method Tag.prettify of <!DOCTYPE html>\n",
       "<html><head><meta content=\"width=device-width\" name=\"viewport\"/><meta charset=\"utf-8\"/><link href=\"/img/favicon.ico\" rel=\"shortcut icon\" type=\"image/x-icon\"/><script async=\"\" crossorigin=\"anonymous\" src=\"https://pagead2.googlesyndication.com/pagead/js/adsbygoogle.js?client=ca-pub-9655830461045889\"></script><title>Learn to code online - CodeWithHarry</title><meta content=\"Generated by create next app\" name=\"description\"/><link href=\"/img/favicon.ico\" rel=\"icon\"/><meta content=\"7\" name=\"next-head-count\"/><meta name=\"next-font-preconnect\"/><link as=\"style\" href=\"/_next/static/css/ced2f5f753e05303.css\" rel=\"preload\"/><link data-n-g=\"\" href=\"/_next/static/css/ced2f5f753e05303.css\" rel=\"stylesheet\"/><link as=\"style\" href=\"/_next/static/css/470c5e8db7cdc7e9.css\" rel=\"preload\"/><link data-n-p=\"\" href=\"/_next/static/css/470c5e8db7cdc7e9.css\" rel=\"stylesheet\"/><noscript data-n-css=\"\"></noscript><script defer=\"\" nomodule=\"\" src=\"/_next/static/chunks/polyfills-5cd94c89d3acac5f.js\"></script><script defer=\"\" src=\"/_next/static/chunks/webpack-beddf46cb441c0f2.js\"></script><script defer=\"\" src=\"/_next/static/chunks/framework-a87821de553db91d.js\"></script><script defer=\"\" src=\"/_next/static/chunks/main-49d106e7eacac86b.js\"></script><script defer=\"\" src=\"/_next/static/chunks/pages/_app-a93afd1efa83860f.js\"></script><script defer=\"\" src=\"/_next/static/chunks/10-5d256216d58885d9.js\"></script><script defer=\"\" src=\"/_next/static/chunks/pages/index-2eb23443eb493791.js\"></script><script defer=\"\" src=\"/_next/static/m_hyoqLdBgkk3xZsvW8xP/_buildManifest.js\"></script><script defer=\"\" src=\"/_next/static/m_hyoqLdBgkk3xZsvW8xP/_ssgManifest.js\"></script><script defer=\"\" src=\"/_next/static/m_hyoqLdBgkk3xZsvW8xP/_middlewareManifest.js\"></script></head><body><div id=\"__next\"><div class=\"\"><div class=\"\" style=\"position:fixed;top:0;left:0;height:2px;background:transparent;z-index:99999999999;width:100%\"><div class=\"\" style=\"height:100%;background:purple;transition:all 500ms ease;width:0%\"><div style=\"box-shadow:0 0 10px purple, 0 0 10px purple;width:5%;opacity:1;position:absolute;height:100%;transition:all 500ms ease;transform:rotate(3deg) translate(0px, -4px);left:-10rem\"></div></div></div><div class=\"w-full z-10 sticky bg-white top-0 border-b border-grey-light shadow-md dark:bg-gray-800 dark:border-black\" id=\"imgpreview2\"><div class=\"w-full flex flex-wrap items-center lg:justify-between mt-0 py-4\"><div class=\"px-0 lg:pl-4 flex items-center lg:mx-4 cursor-pointer text-purple-700 text-xl font-bold mx-3 dark:text-purple-300\"><a href=\"/\">CodeWithHarry</a></div><div class=\"flex items-center md:hidden\"><div class=\"text-purple-700 text-md font-semibold\">Menu</div><svg class=\"text-purple-700 mt-1\" fill=\"currentColor\" height=\"1em\" stroke=\"currentColor\" stroke-width=\"0\" viewbox=\"0 0 1024 1024\" width=\"1em\" xmlns=\"http://www.w3.org/2000/svg\"><path d=\"M840.4 300H183.6c-19.7 0-30.7 20.8-18.5 35l328.4 380.8c9.4 10.9 27.5 10.9 37 0L858.9 335c12.2-14.2 1.2-35-18.5-35z\"></path></svg></div><svg class=\"md:hidden text-purple-700 mt-1 ml-2 cursor-pointer dark:text-white\" fill=\"currentColor\" height=\"28\" stroke=\"currentColor\" stroke-width=\"0\" viewbox=\"0 0 16 16\" width=\"28\" xmlns=\"http://www.w3.org/2000/svg\"><path d=\"M6 .278a.768.768 0 0 1 .08.858 7.208 7.208 0 0 0-.878 3.46c0 4.021 3.278 7.277 7.318 7.277.527 0 1.04-.055 1.533-.16a.787.787 0 0 1 .81.316.733.733 0 0 1-.031.893A8.349 8.349 0 0 1 8.344 16C3.734 16 0 12.286 0 7.71 0 4.266 2.114 1.312 5.124.06A.752.752 0 0 1 6 .278z\"></path><path d=\"M10.794 3.148a.217.217 0 0 1 .412 0l.387 1.162c.173.518.579.924 1.097 1.097l1.162.387a.217.217 0 0 1 0 .412l-1.162.387a1.734 1.734 0 0 0-1.097 1.097l-.387 1.162a.217.217 0 0 1-.412 0l-.387-1.162A1.734 1.734 0 0 0 9.31 6.593l-1.162-.387a.217.217 0 0 1 0-.412l1.162-.387a1.734 1.734 0 0 0 1.097-1.097l.387-1.162zM13.863.099a.145.145 0 0 1 .274 0l.258.774c.115.346.386.617.732.732l.774.258a.145.145 0 0 1 0 .274l-.774.258a1.156 1.156 0 0 0-.732.732l-.258.774a.145.145 0 0 1-.274 0l-.258-.774a1.156 1.156 0 0 0-.732-.732l-.774-.258a.145.145 0 0 1 0-.274l.774-.258c.346-.115.617-.386.732-.732L13.863.1z\"></path></svg><button class=\"md:hidden text-white bg-purple-700 hover:bg-purple-800 focus:ring-4 focus:ring-purple-300 font-medium rounded-lg text-sm px-3 py-2 text-center inline-flex items-center mx-1 absolute right-3 md:right-12\">Login</button><div class=\"w-full flex-grow lg:flex lg:flex-1 lg:content-center lg:justify-end lg:w-auto h-0 lg:h-auto overflow-hidden mt-2 lg:mt-0 z-20 transition-all\" id=\"nav-content\"><ul class=\"flex items-center flex-col lg:flex-row\"><div class=\"search-icon cursor-pointer px-6 hidden\" id=\"search-toggle\"><svg class=\"fill-current pointer-events-none text-grey-darkest w-4 h-4 inline\" viewbox=\"0 0 20 20\" xmlns=\"http://www.w3.org/2000/svg\"><path d=\"M12.9 14.32a8 8 0 1 1 1.41-1.41l5.35 5.33-1.42 1.42-5.33-5.34zM8 14A6 6 0 1 0 8 2a6 6 0 0 0 0 12z\"></path></svg></div><li class=\"mx-2 my-2 text-black hover:border-b-2 hover:border-purple-700 dark:text-white\"><a href=\"/\">Home</a></li><li class=\"mx-2 my-2 text-black hover:border-b-2 hover:border-purple-700 dark:text-white\"><a href=\"/videos/\">Courses</a></li><li class=\"mx-2 my-2 text-black hover:border-b-2 hover:border-purple-700 dark:text-white\"><a href=\"/tutorials/\">Tutorial</a></li><li class=\"mx-2 my-2 text-black hover:border-b-2 hover:border-purple-700 dark:text-white\"><a href=\"/blog/\">Blog</a></li><li class=\"mx-2 my-2 text-black hover:border-b-2 hover:border-purple-700 dark:text-white\"><a href=\"/notes/\">Notes</a></li><li class=\"mx-2 my-2 text-black hover:border-b-2 hover:border-purple-700 dark:text-white\"><a href=\"/contact/\">Contact</a></li><li class=\"mx-2 my-2 text-black hover:border-b-2 hover:border-purple-700 dark:text-white\"><a href=\"/my-gear/\">My Gear</a></li><li class=\"mx-2 my-2 text-black hover:border-b-2 hover:border-purple-700 dark:text-white\"><a href=\"/work/\">Work With Us</a></li><li><svg class=\"hidden md:block text-purple-700 mt-1 ml-2 cursor-pointer dark:text-white\" fill=\"currentColor\" height=\"28\" stroke=\"currentColor\" stroke-width=\"0\" viewbox=\"0 0 16 16\" width=\"28\" xmlns=\"http://www.w3.org/2000/svg\"><path d=\"M6 .278a.768.768 0 0 1 .08.858 7.208 7.208 0 0 0-.878 3.46c0 4.021 3.278 7.277 7.318 7.277.527 0 1.04-.055 1.533-.16a.787.787 0 0 1 .81.316.733.733 0 0 1-.031.893A8.349 8.349 0 0 1 8.344 16C3.734 16 0 12.286 0 7.71 0 4.266 2.114 1.312 5.124.06A.752.752 0 0 1 6 .278z\"></path><path d=\"M10.794 3.148a.217.217 0 0 1 .412 0l.387 1.162c.173.518.579.924 1.097 1.097l1.162.387a.217.217 0 0 1 0 .412l-1.162.387a1.734 1.734 0 0 0-1.097 1.097l-.387 1.162a.217.217 0 0 1-.412 0l-.387-1.162A1.734 1.734 0 0 0 9.31 6.593l-1.162-.387a.217.217 0 0 1 0-.412l1.162-.387a1.734 1.734 0 0 0 1.097-1.097l.387-1.162zM13.863.099a.145.145 0 0 1 .274 0l.258.774c.115.346.386.617.732.732l.774.258a.145.145 0 0 1 0 .274l-.774.258a1.156 1.156 0 0 0-.732.732l-.258.774a.145.145 0 0 1-.274 0l-.258-.774a1.156 1.156 0 0 0-.732-.732l-.774-.258a.145.145 0 0 1 0-.274l.774-.258c.346-.115.617-.386.732-.732L13.863.1z\"></path></svg></li></ul><div class=\"text-center my-2 pr-4 pl-2\"><button class=\"text-white bg-purple-700 hover:bg-purple-800 focus:ring-4 focus:ring-purple-300 font-medium rounded-lg text-sm px-3 py-2 text-center inline-flex items-center mx-1 dark:bg-purple-500 dark:hover:bg-purple-800\">Login</button><button class=\"text-white bg-purple-700 hover:bg-purple-800 focus:ring-4 focus:ring-purple-300 font-medium rounded-lg text-sm px-3 py-2 text-center inline-flex items-center mx-1 dark:bg-purple-500 dark:hover:bg-purple-800\">Signup</button></div></div></div><hr class=\"dark:border-gray-500\"/><div class=\"max-h-[6vh] min-h-[40px] flex items-center ml-3 mr-3 md:ml-10 md:mr-10 my-1\"><span><svg class=\"text-purple-700 text-xl cursor-pointer dark:text-purple-300\" fill=\"currentColor\" height=\"1em\" stroke=\"currentColor\" stroke-width=\"0\" viewbox=\"0 0 1024 1024\" width=\"1em\" xmlns=\"http://www.w3.org/2000/svg\"><path d=\"M946.5 505L534.6 93.4a31.93 31.93 0 0 0-45.2 0L77.5 505c-12 12-18.8 28.3-18.8 45.3 0 35.3 28.7 64 64 64h43.4V908c0 17.7 14.3 32 32 32H448V716h112v224h265.9c17.7 0 32-14.3 32-32V614.3h43.4c17 0 33.3-6.7 45.3-18.8 24.9-25 24.9-65.5-.1-90.5z\"></path></svg></span><ul class=\"space-x-7 m-auto text-purple-700 font-semibold hidden md:flex items-center\"><li class=\"cursor-pointer hover:border-b-2 hover:border-purple-700 active:border-b-4 dark:text-purple-300\"><a href=\"/tutorial/html-home/\">HTML</a></li><li class=\"cursor-pointer hover:border-b-2 hover:border-purple-700 active:border-b-4 dark:text-purple-300\"><a href=\"/tutorial/css-home/\">CSS</a></li><li class=\"cursor-pointer hover:border-b-2 hover:border-purple-700 active:border-b-4 dark:text-purple-300\"><a href=\"/tutorial/js/\">JS</a></li><li class=\"cursor-pointer hover:border-b-2 hover:border-purple-700 active:border-b-4 dark:text-purple-300\"><a href=\"/tutorial/c/\">C</a></li><li class=\"cursor-pointer hover:border-b-2 hover:border-purple-700 active:border-b-4 dark:text-purple-300\"><a href=\"/tutorial/cplusplus/\">C++</a></li><li class=\"cursor-pointer hover:border-b-2 hover:border-purple-700 active:border-b-4 dark:text-purple-300\"><a href=\"/tutorial/java/\">JAVA</a></li><li class=\"cursor-pointer hover:border-b-2 hover:border-purple-700 active:border-b-4 dark:text-purple-300\"><a href=\"/tutorial/python/\">PYTHON</a></li><li class=\"cursor-pointer hover:border-b-2 hover:border-purple-700 active:border-b-4 dark:text-purple-300\"><a href=\"/tutorial/php/\">PHP</a></li><li class=\"cursor-pointer hover:border-b-2 hover:border-purple-700 active:border-b-4 dark:text-purple-300\"><a href=\"/tutorial/react-home/\">REACT JS</a></li></ul><input class=\"hidden right-10 md:right-10 absolute w-48 md:w-60 h-8 bg-white rounded border-2 border-purple-500 focus:border-purple-700 focus:ring-2 focus:ring-indigo-200 text-base outline-none text-gray-700 py-1 px-3 leading-8 transition-colors duration-200 ease-in-out dark:bg-gray-500 dark:text-gray-200\" id=\"search\" placeholder=\"Search...\"/><svg class=\"text-purple-700 dark:text-purple-300 cursor-pointer text-2xl absolute right-3 md:right-12 }\" fill=\"currentColor\" height=\"1em\" stroke=\"currentColor\" stroke-width=\"0\" viewbox=\"0 0 1024 1024\" width=\"1em\" xmlns=\"http://www.w3.org/2000/svg\"><path d=\"M909.6 854.5L649.9 594.8C690.2 542.7 712 479 712 412c0-80.2-31.3-155.4-87.9-212.1-56.6-56.7-132-87.9-212.1-87.9s-155.5 31.3-212.1 87.9C143.2 256.5 112 331.8 112 412c0 80.1 31.3 155.5 87.9 212.1C256.5 680.8 331.8 712 412 712c67 0 130.6-21.8 182.7-62l259.7 259.6a8.2 8.2 0 0 0 11.6 0l43.6-43.5a8.2 8.2 0 0 0 0-11.6zM570.4 570.4C528 612.7 471.8 636 412 636s-116-23.3-158.4-65.6C211.3 528 188 471.8 188 412s23.3-116.1 65.6-158.4C296 211.3 352.2 188 412 188s116.1 23.2 158.4 65.6S636 352.2 636 412s-23.3 116.1-65.6 158.4z\"></path></svg></div><div class=\"bg-purple-100 text-center shadow-lg absolute w-full dark:bg-gray-600 hidden mt-1 md:hidden\"><ul><li class=\"pt-4 text-purple-500 font-bold\"><a href=\"/\">Home</a></li><li class=\"pt-4 text-purple-500 font-bold\"><a href=\"/videos/\">Courses</a></li><li class=\"pt-4 text-purple-500 font-bold flex justify-center ml-3\">Tutorial <!-- --><svg class=\"mt-1\" fill=\"currentColor\" height=\"1em\" stroke=\"currentColor\" stroke-width=\"0\" viewbox=\"0 0 1024 1024\" width=\"1em\" xmlns=\"http://www.w3.org/2000/svg\"><path d=\"M840.4 300H183.6c-19.7 0-30.7 20.8-18.5 35l328.4 380.8c9.4 10.9 27.5 10.9 37 0L858.9 335c12.2-14.2 1.2-35-18.5-35z\"></path></svg></li><li class=\"my-2 text-purple-500 font-semibold text-sm bg-purple-200 dark:bg-gray-700 hidden\"><ul><li class=\"cursor-pointer py-1 border-y-2 dark:border-gray-400\"><a href=\"/tutorial/html-home/\">HTML</a></li><li class=\"cursor-pointer py-1 border-b-2 dark:border-gray-400\"><a href=\"/tutorial/css-home/\">CSS</a></li><li class=\"cursor-pointer py-1 border-b-2 dark:border-gray-400\"><a href=\"/tutorial/js/\">JS</a></li><li class=\"cursor-pointer py-1 border-b-2 dark:border-gray-400\"><a href=\"/tutorial/c/\">C</a></li><li class=\"cursor-pointer py-1 border-b-2 dark:border-gray-400\"><a href=\"/tutorial/cplusplus/\">C++</a></li><li class=\"cursor-pointer py-1 border-b-2 dark:border-gray-400\"><a href=\"/tutorial/java/\">JAVA</a></li><li class=\"cursor-pointer py-1 border-b-2 dark:border-gray-400\"><a href=\"/tutorial/python/\">PYTHON</a></li><li class=\"cursor-pointer py-1 border-b-2 dark:border-gray-400\"><a href=\"/tutorial/php/\">PHP</a></li><li class=\"cursor-pointer py-1 border-b-2 dark:border-gray-400\"><a href=\"/tutorial/react-home/\">REACT JS</a></li></ul></li><li class=\"pt-4 text-purple-500 font-bold\"><a href=\"/blog/\">Blog</a></li><li class=\"pt-4 text-purple-500 font-bold\"><a href=\"/notes/\">Notes</a></li><li class=\"pt-4 text-purple-500 font-bold\"><a href=\"/contact/\">Contact</a></li><li class=\"pt-4 text-purple-500 font-bold\"><a href=\"/my-gear/\">My Gear</a></li><li class=\"pt-4 pb-4 text-purple-500 font-bold\"><a href=\"/work/\">Work With Us</a></li></ul></div></div><div class=\"dark:bg-gray-900\"><div class=\"Toastify\"></div><div class=\"flex bg-white h-96 container mx-auto dark:bg-gray-900\"><div class=\"flex items-center text-center lg:text-left px-8 md:px-12 lg:w-1/2\"><div><h2 class=\"text-3xl font-semibold text-gray-800 md:text-4xl dark:text-white\">Welcome to <!-- --><span class=\"text-purple-700 dark:text-purple-600\"></span></h2><h4 class=\"text-xl font-semibold text-gray-800 md:text-2xl dark:text-white\">Learn <!-- --><span class=\"text-purple-700 dark:text-purple-600\"></span></h4><p class=\"mt-2 text-sm text-gray-500 md:text-base dark:text-gray-400\">Confused on which course to take? I have got you covered. Browse courses and find out the best course for you. Its free! Code With Harry is my attempt to teach basics and those coding techniques to people in short time which took me ages to learn.</p><div class=\"flex justify-center lg:justify-start mt-6\"><button class=\"px-3 py-2 lg:px-4 lg:py-3 bg-gray-900 text-gray-200 text-xs font-semibold rounded hover:text-white hover:bg-gray-800 dark:bg-gray-100 dark:text-gray-600 dark:hover:bg-gray-300\">Free Courses</button><button class=\"px-3 py-2 mx-4 lg:px-4 lg:py-3 bg-gray-300 text-gray-900 text-xs font-semibold rounded hover:bg-gray-400\">Explore Blog</button></div></div></div><div class=\"hidden lg:block lg:w-1/2\" style=\"clip-path:polygon(10% 0px, 100% 0%, 100% 100%, 0px 100%)\"><div class=\"h-full object-cover\" style='background-image:url(\"https://images.unsplash.com/photo-1498050108023-c5249f4df085?ixlib=rb-1.2.1&amp;ixid=eyJhcHBfaWQiOjEyMDd9&amp;auto=format&amp;fit=crop&amp;w=1352&amp;q=80\")'><div class=\"h-full bg-black opacity-25\"></div></div></div></div><div class=\"container mx-auto lg:my-2\"><h2 class=\"text-3xl font-medium title-font text-gray-900 my-10 text-center dark:text-purple-600\">Recommended Courses</h2><div class=\"flex flex-wrap justify-center mx-6\"><div class=\"p-4 md:w-1/3 flex justify-center\"><div class=\"max-w-sm rounded-2xl overflow-hidden shadow-lg dark:bg-slate-800\"><span style=\"box-sizing:border-box;display:inline-block;overflow:hidden;width:initial;height:initial;background:none;opacity:1;border:0;margin:0;padding:0;position:relative;max-width:100%\"><span style=\"box-sizing:border-box;display:block;width:initial;height:initial;background:none;opacity:1;border:0;margin:0;padding:0;max-width:100%\"><img alt=\"\" aria-hidden=\"true\" src=\"data:image/svg+xml,%3csvg%20xmlns=%27http://www.w3.org/2000/svg%27%20version=%271.1%27%20width=%27384%27%20height=%27216%27/%3e\" style=\"display:block;max-width:100%;width:initial;height:initial;background:none;opacity:1;border:0;margin:0;padding:0\"/></span><img alt=\"img\" class=\"lg:h-48 md:h-36 w-full object-cover object-center\" data-nimg=\"intrinsic\" decoding=\"async\" src=\"data:image/gif;base64,R0lGODlhAQABAIAAAAAAAP///yH5BAEAAAAALAAAAAABAAEAAAIBRAA7\" style=\"position:absolute;top:0;left:0;bottom:0;right:0;box-sizing:border-box;padding:0;border:none;margin:auto;display:block;width:0;height:0;min-width:100%;max-width:100%;min-height:100%;max-height:100%\"/><noscript><img alt=\"img\" class=\"lg:h-48 md:h-36 w-full object-cover object-center\" data-nimg=\"intrinsic\" decoding=\"async\" loading=\"lazy\" src=\"/_next/image/?url=https%3A%2F%2Fcwh-full-next-space.fra1.digitaloceanspaces.com%2Fvideoseries%2Fpython-100-days-of-code-1%2F7wnove7K-ZQ-HD.jpg&amp;w=828&amp;q=75\" srcset=\"/_next/image/?url=https%3A%2F%2Fcwh-full-next-space.fra1.digitaloceanspaces.com%2Fvideoseries%2Fpython-100-days-of-code-1%2F7wnove7K-ZQ-HD.jpg&amp;w=384&amp;q=75 1x, /_next/image/?url=https%3A%2F%2Fcwh-full-next-space.fra1.digitaloceanspaces.com%2Fvideoseries%2Fpython-100-days-of-code-1%2F7wnove7K-ZQ-HD.jpg&amp;w=828&amp;q=75 2x\" style=\"position:absolute;top:0;left:0;bottom:0;right:0;box-sizing:border-box;padding:0;border:none;margin:auto;display:block;width:0;height:0;min-width:100%;max-width:100%;min-height:100%;max-height:100%\"/></noscript></span><div class=\"px-6 md:my-11 lg:my-0 md:h-72 lg:h-64 lg:py-4 xl:h-52\"><span class=\"tracking-widest text-xs title-font font-medium mb-1 dark:text-gray-400\">FREE COURSE</span><div class=\"title-font flex text-lg font-medium text-gray-900 mb-3 dark:text-white\">Python Tutorials - 100 Days of Code    </div><p class=\"text-gray-700 text-base dark:text-gray-400\">Python is one of the most demanded programming languages in the job market. Surprisingly, it is equally easy to learn and master Python. Let's commit our 100 days of code to python!</p></div><div class=\"px-6 pt-4 pb-2\"><span class=\"inline-block text-white bg-purple-700 rounded-full px-3 py-2 text-sm font-semibold mr-2 my-2 cursor-pointer hover:bg-purple-600\">  Start Watching </span></div></div></div><div class=\"p-4 md:w-1/3 flex justify-center\"><div class=\"max-w-sm rounded-2xl overflow-hidden shadow-lg dark:bg-slate-800\"><span style=\"box-sizing:border-box;display:inline-block;overflow:hidden;width:initial;height:initial;background:none;opacity:1;border:0;margin:0;padding:0;position:relative;max-width:100%\"><span style=\"box-sizing:border-box;display:block;width:initial;height:initial;background:none;opacity:1;border:0;margin:0;padding:0;max-width:100%\"><img alt=\"\" aria-hidden=\"true\" src=\"data:image/svg+xml,%3csvg%20xmlns=%27http://www.w3.org/2000/svg%27%20version=%271.1%27%20width=%27384%27%20height=%27216%27/%3e\" style=\"display:block;max-width:100%;width:initial;height:initial;background:none;opacity:1;border:0;margin:0;padding:0\"/></span><img alt=\"img\" class=\"lg:h-48 md:h-36 w-full object-cover object-center\" data-nimg=\"intrinsic\" decoding=\"async\" src=\"data:image/gif;base64,R0lGODlhAQABAIAAAAAAAP///yH5BAEAAAAALAAAAAABAAEAAAIBRAA7\" style=\"position:absolute;top:0;left:0;bottom:0;right:0;box-sizing:border-box;padding:0;border:none;margin:auto;display:block;width:0;height:0;min-width:100%;max-width:100%;min-height:100%;max-height:100%\"/><noscript><img alt=\"img\" class=\"lg:h-48 md:h-36 w-full object-cover object-center\" data-nimg=\"intrinsic\" decoding=\"async\" loading=\"lazy\" src=\"/_next/image/?url=https%3A%2F%2Fcwh-full-next-space.fra1.digitaloceanspaces.com%2Fvideoseries%2Fultimate-js-tutorial-hindi-1%2FJS-Thumb.jpg&amp;w=828&amp;q=75\" srcset=\"/_next/image/?url=https%3A%2F%2Fcwh-full-next-space.fra1.digitaloceanspaces.com%2Fvideoseries%2Fultimate-js-tutorial-hindi-1%2FJS-Thumb.jpg&amp;w=384&amp;q=75 1x, /_next/image/?url=https%3A%2F%2Fcwh-full-next-space.fra1.digitaloceanspaces.com%2Fvideoseries%2Fultimate-js-tutorial-hindi-1%2FJS-Thumb.jpg&amp;w=828&amp;q=75 2x\" style=\"position:absolute;top:0;left:0;bottom:0;right:0;box-sizing:border-box;padding:0;border:none;margin:auto;display:block;width:0;height:0;min-width:100%;max-width:100%;min-height:100%;max-height:100%\"/></noscript></span><div class=\"px-6 md:my-11 lg:my-0 md:h-72 lg:h-64 lg:py-4 xl:h-52\"><span class=\"tracking-widest text-xs title-font font-medium mb-1 dark:text-gray-400\">FREE COURSE</span><div class=\"title-font flex text-lg font-medium text-gray-900 mb-3 dark:text-white\">Ultimate JavaScript Course</div><p class=\"text-gray-700 text-base dark:text-gray-400\">This latest JavaScript course comes with premium curriculum that covers everything from basics to advance. On top of that, you will get my handwritten notes of JS for completely free. What are you waiting for? Just Enroll Buddy</p></div><div class=\"px-6 pt-4 pb-2\"><span class=\"inline-block text-white bg-purple-700 rounded-full px-3 py-2 text-sm font-semibold mr-2 my-2 cursor-pointer hover:bg-purple-600\">  Start Watching </span></div></div></div><div class=\"p-4 md:w-1/3 flex justify-center\"><div class=\"max-w-sm rounded-2xl overflow-hidden shadow-lg dark:bg-slate-800\"><span style=\"box-sizing:border-box;display:inline-block;overflow:hidden;width:initial;height:initial;background:none;opacity:1;border:0;margin:0;padding:0;position:relative;max-width:100%\"><span style=\"box-sizing:border-box;display:block;width:initial;height:initial;background:none;opacity:1;border:0;margin:0;padding:0;max-width:100%\"><img alt=\"\" aria-hidden=\"true\" src=\"data:image/svg+xml,%3csvg%20xmlns=%27http://www.w3.org/2000/svg%27%20version=%271.1%27%20width=%27384%27%20height=%27216%27/%3e\" style=\"display:block;max-width:100%;width:initial;height:initial;background:none;opacity:1;border:0;margin:0;padding:0\"/></span><img alt=\"img\" class=\"lg:h-48 md:h-36 w-full object-cover object-center\" data-nimg=\"intrinsic\" decoding=\"async\" src=\"data:image/gif;base64,R0lGODlhAQABAIAAAAAAAP///yH5BAEAAAAALAAAAAABAAEAAAIBRAA7\" style=\"position:absolute;top:0;left:0;bottom:0;right:0;box-sizing:border-box;padding:0;border:none;margin:auto;display:block;width:0;height:0;min-width:100%;max-width:100%;min-height:100%;max-height:100%\"/><noscript><img alt=\"img\" class=\"lg:h-48 md:h-36 w-full object-cover object-center\" data-nimg=\"intrinsic\" decoding=\"async\" loading=\"lazy\" src=\"/_next/image/?url=https%3A%2F%2Fcodewithharry.nyc3.cdn.digitaloceanspaces.com%2Fassets%2F090fefe24d23d47584f6ddc7eb5a241e.png&amp;w=828&amp;q=75\" srcset=\"/_next/image/?url=https%3A%2F%2Fcodewithharry.nyc3.cdn.digitaloceanspaces.com%2Fassets%2F090fefe24d23d47584f6ddc7eb5a241e.png&amp;w=384&amp;q=75 1x, /_next/image/?url=https%3A%2F%2Fcodewithharry.nyc3.cdn.digitaloceanspaces.com%2Fassets%2F090fefe24d23d47584f6ddc7eb5a241e.png&amp;w=828&amp;q=75 2x\" style=\"position:absolute;top:0;left:0;bottom:0;right:0;box-sizing:border-box;padding:0;border:none;margin:auto;display:block;width:0;height:0;min-width:100%;max-width:100%;min-height:100%;max-height:100%\"/></noscript></span><div class=\"px-6 md:my-11 lg:my-0 md:h-72 lg:h-64 lg:py-4 xl:h-52\"><span class=\"tracking-widest text-xs title-font font-medium mb-1 dark:text-gray-400\">FREE COURSE</span><div class=\"title-font flex text-lg font-medium text-gray-900 mb-3 dark:text-white\">React JS Tutorials For Beginners</div><p class=\"text-gray-700 text-base dark:text-gray-400\">React is a free and open-source front-end JavaScript library. This series will cover React from starting to the end. We will learn react from the ground up!</p></div><div class=\"px-6 pt-4 pb-2\"><span class=\"inline-block text-white bg-purple-700 rounded-full px-3 py-2 text-sm font-semibold mr-2 my-2 cursor-pointer hover:bg-purple-600\">  Start Watching </span></div></div></div></div></div><div class=\"container mx-auto\"><section class=\"text-gray-600 body-font\"><div class=\"container px-5 py-12 mx-auto\"><h2 class=\"text-3xl font-medium title-font text-gray-900 mb-12 text-center dark:text-purple-600\">Testimonials</h2><div class=\"flex flex-wrap -m-4\"><div class=\"p-4 md:w-1/2 w-full\"><div class=\"h-full bg-gray-100 p-8 rounded dark:bg-gray-700\"><svg class=\"block w-5 h-5 text-gray-400 mb-4\" fill=\"currentColor\" viewbox=\"0 0 975.036 975.036\" xmlns=\"http://www.w3.org/2000/svg\"><path d=\"M925.036 57.197h-304c-27.6 0-50 22.4-50 50v304c0 27.601 22.4 50 50 50h145.5c-1.9 79.601-20.4 143.3-55.4 191.2-27.6 37.8-69.399 69.1-125.3 93.8-25.7 11.3-36.8 41.7-24.8 67.101l36 76c11.6 24.399 40.3 35.1 65.1 24.399 66.2-28.6 122.101-64.8 167.7-108.8 55.601-53.7 93.7-114.3 114.3-181.9 20.601-67.6 30.9-159.8 30.9-276.8v-239c0-27.599-22.401-50-50-50zM106.036 913.497c65.4-28.5 121-64.699 166.9-108.6 56.1-53.7 94.4-114.1 115-181.2 20.6-67.1 30.899-159.6 30.899-277.5v-239c0-27.6-22.399-50-50-50h-304c-27.6 0-50 22.4-50 50v304c0 27.601 22.4 50 50 50h145.5c-1.9 79.601-20.4 143.3-55.4 191.2-27.6 37.8-69.4 69.1-125.3 93.8-25.7 11.3-36.8 41.7-24.8 67.101l35.9 75.8c11.601 24.399 40.501 35.2 65.301 24.399z\"></path></svg><p class=\"leading-relaxed mb-6 dark:text-gray-300\">I don't have words to thank this man, I'm really grateful to have this channel and website in my daily routine. If you're a mere beginner, then you can trust this guy and can put your time into his content. I can assure you that it'll be worth it.</p><span class=\"inline-flex items-center\"><span class=\"flex-grow flex flex-col pl-4\"><span class=\"title-font font-medium text-gray-900 dark:text-white\">Mohit Kumar</span><span class=\"text-gray-500 text-sm dark:text-gray-400\">Web Developer</span></span></span></div></div><div class=\"p-4 md:w-1/2 w-full\"><div class=\"h-full bg-gray-100 p-8 rounded dark:bg-gray-700\"><svg class=\"block w-5 h-5 text-gray-400 mb-4\" fill=\"currentColor\" viewbox=\"0 0 975.036 975.036\" xmlns=\"http://www.w3.org/2000/svg\"><path d=\"M925.036 57.197h-304c-27.6 0-50 22.4-50 50v304c0 27.601 22.4 50 50 50h145.5c-1.9 79.601-20.4 143.3-55.4 191.2-27.6 37.8-69.399 69.1-125.3 93.8-25.7 11.3-36.8 41.7-24.8 67.101l36 76c11.6 24.399 40.3 35.1 65.1 24.399 66.2-28.6 122.101-64.8 167.7-108.8 55.601-53.7 93.7-114.3 114.3-181.9 20.601-67.6 30.9-159.8 30.9-276.8v-239c0-27.599-22.401-50-50-50zM106.036 913.497c65.4-28.5 121-64.699 166.9-108.6 56.1-53.7 94.4-114.1 115-181.2 20.6-67.1 30.899-159.6 30.899-277.5v-239c0-27.6-22.399-50-50-50h-304c-27.6 0-50 22.4-50 50v304c0 27.601 22.4 50 50 50h145.5c-1.9 79.601-20.4 143.3-55.4 191.2-27.6 37.8-69.4 69.1-125.3 93.8-25.7 11.3-36.8 41.7-24.8 67.101l35.9 75.8c11.601 24.399 40.501 35.2 65.301 24.399z\"></path></svg><p class=\"leading-relaxed mb-6 dark:text-gray-300\">For everyone who wants to level up their #Coding and #Dev skills - seriously, this channel is for you! Both basic and advanced stacks are covered on this channel, and one can learn according to his skill levels. And the icing on the cake is, everything is available for free.</p><span class=\"inline-flex items-center\"><span class=\"flex-grow flex flex-col pl-4\"><span class=\"title-font font-medium text-gray-900 dark:text-white\">Rakesh Shetty</span><span class=\"text-gray-500 text-sm dark:text-gray-400\">Web Developer</span></span></span></div></div></div></div></section></div></div><footer class=\"text-gray-600 bg-white body-font dark:bg-gray-800 dark:text-white\"><div class=\"container mx-auto py-4 px-5 flex flex-wrap flex-col sm:flex-row\"><div class=\"flex title-font font-medium items-center md:justify-start justify-center text-gray-900 dark:text-gray-200\"><span style=\"box-sizing:border-box;display:inline-block;overflow:hidden;width:initial;height:initial;background:none;opacity:1;border:0;margin:0;padding:0;position:relative;max-width:100%\"><span style=\"box-sizing:border-box;display:block;width:initial;height:initial;background:none;opacity:1;border:0;margin:0;padding:0;max-width:100%\"><img alt=\"\" aria-hidden=\"true\" src=\"data:image/svg+xml,%3csvg%20xmlns=%27http://www.w3.org/2000/svg%27%20version=%271.1%27%20width=%2748%27%20height=%2748%27/%3e\" style=\"display:block;max-width:100%;width:initial;height:initial;background:none;opacity:1;border:0;margin:0;padding:0\"/></span><img alt=\"CodeWithHarry Logo\" class=\"rounded h-12\" data-nimg=\"intrinsic\" decoding=\"async\" name=\"logo\" src=\"data:image/gif;base64,R0lGODlhAQABAIAAAAAAAP///yH5BAEAAAAALAAAAAABAAEAAAIBRAA7\" style=\"position:absolute;top:0;left:0;bottom:0;right:0;box-sizing:border-box;padding:0;border:none;margin:auto;display:block;width:0;height:0;min-width:100%;max-width:100%;min-height:100%;max-height:100%\"/><noscript><img alt=\"CodeWithHarry Logo\" class=\"rounded h-12\" data-nimg=\"intrinsic\" decoding=\"async\" loading=\"lazy\" name=\"logo\" src=\"/_next/image/?url=%2Fimg%2Flogo-blue.png&amp;w=96&amp;q=75\" srcset=\"/_next/image/?url=%2Fimg%2Flogo-blue.png&amp;w=48&amp;q=75 1x, /_next/image/?url=%2Fimg%2Flogo-blue.png&amp;w=96&amp;q=75 2x\" style=\"position:absolute;top:0;left:0;bottom:0;right:0;box-sizing:border-box;padding:0;border:none;margin:auto;display:block;width:0;height:0;min-width:100%;max-width:100%;min-height:100%;max-height:100%\"/></noscript></span><div class=\"ml-3 text-xl\">CodeWithHarry</div></div><p class=\"text-sm text-gray-500 sm:ml-4 sm:pl-4 sm:border-l-2 sm:border-gray-200 sm:py-2 mt-4 md:mt-2 mb-2 md:mb-0 text-center dark:text-gray-400\">Copyright © 2022 CodeWithHarry.com</p><div class=\"inline-flex sm:ml-auto sm:mt-0 mt-2 justify-center sm:justify-start\" style=\"align-items:center\"><a aria-label=\"facebook\" class=\"text-gray-500 dark:text-gray-300\" href=\"https://www.facebook.com/codewithharry\" rel=\"noreferrer\" target=\"_blank\"><svg class=\"w-5 h-5\" fill=\"currentColor\" stroke-linecap=\"round\" stroke-linejoin=\"round\" stroke-width=\"2\" viewbox=\"0 0 24 24\"><path d=\"M18 2h-3a5 5 0 00-5 5v3H7v4h3v8h4v-8h3l1-4h-4V7a1 1 0 011-1h3z\"></path></svg></a><a aria-label=\"twitter\" class=\"ml-3 text-gray-500 dark:text-gray-300\" href=\"https://www.twitter.com/codewithharry\" rel=\"noreferrer\" target=\"_blank\"><svg class=\"w-5 h-5\" fill=\"currentColor\" stroke-linecap=\"round\" stroke-linejoin=\"round\" stroke-width=\"2\" viewbox=\"0 0 24 24\"><path d=\"M23 3a10.9 10.9 0 01-3.14 1.53 4.48 4.48 0 00-7.86 3v1A10.66 10.66 0 013 4s-4 9 5 13a11.64 11.64 0 01-7 2c9 5 20 0 20-11.5a4.5 4.5 0 00-.08-.83A7.72 7.72 0 0023 3z\"></path></svg></a><a aria-label=\"instagram\" class=\"ml-3 text-gray-500 dark:text-gray-300\" href=\"https://www.instagram.com/codewithharry\" rel=\"noreferrer\" target=\"_blank\"><svg class=\"w-5 h-5\" fill=\"none\" stroke=\"currentColor\" stroke-linecap=\"round\" stroke-linejoin=\"round\" stroke-width=\"2\" viewbox=\"0 0 24 24\"><rect height=\"20\" rx=\"5\" ry=\"5\" width=\"20\" x=\"2\" y=\"2\"></rect><path d=\"M16 11.37A4 4 0 1112.63 8 4 4 0 0116 11.37zm1.5-4.87h.01\"></path></svg></a><a aria-label=\"github\" class=\"ml-3 text-gray-500 dark:text-gray-300\" href=\"https://www.github.com/codewithharry\" rel=\"noreferrer\" target=\"_blank\"><svg class=\"text-xl\" fill=\"currentColor\" height=\"1em\" stroke=\"currentColor\" stroke-width=\"0\" viewbox=\"0 0 1024 1024\" width=\"1em\" xmlns=\"http://www.w3.org/2000/svg\"><path d=\"M511.6 76.3C264.3 76.2 64 276.4 64 523.5 64 718.9 189.3 885 363.8 946c23.5 5.9 19.9-10.8 19.9-22.2v-77.5c-135.7 15.9-141.2-73.9-150.3-88.9C215 726 171.5 718 184.5 703c30.9-15.9 62.4 4 98.9 57.9 26.4 39.1 77.9 32.5 104 26 5.7-23.5 17.9-44.5 34.7-60.8-140.6-25.2-199.2-111-199.2-213 0-49.5 16.3-95 48.3-131.7-20.4-60.5 1.9-112.3 4.9-120 58.1-5.2 118.5 41.6 123.2 45.3 33-8.9 70.7-13.6 112.9-13.6 42.4 0 80.2 4.9 113.5 13.9 11.3-8.6 67.3-48.8 121.3-43.9 2.9 7.7 24.7 58.3 5.5 118 32.4 36.8 48.9 82.7 48.9 132.3 0 102.2-59 188.1-200 212.9a127.5 127.5 0 0 1 38.1 91v112.5c.8 9 0 17.9 15 17.9 177.1-59.7 304.6-227 304.6-424.1 0-247.2-200.4-447.3-447.5-447.3z\"></path></svg></a></div></div></footer></div></div><script id=\"__NEXT_DATA__\" type=\"application/json\">{\"props\":{\"pageProps\":{},\"__N_SSP\":true},\"page\":\"/\",\"query\":{},\"buildId\":\"m_hyoqLdBgkk3xZsvW8xP\",\"isFallback\":false,\"gssp\":true,\"scriptLoader\":[]}</script></body></html>>"
      ]
     },
     "execution_count": 13,
     "metadata": {},
     "output_type": "execute_result"
    }
   ],
   "source": [
    "soup.prettify "
   ]
  },
  {
   "cell_type": "markdown",
   "id": "816140bd",
   "metadata": {},
   "source": [
    "#### soup and soup.pretify vs code mai organised way mai dekhne ko mil sakta hai, yaha nhi milega"
   ]
  },
  {
   "cell_type": "markdown",
   "id": "b47e5bcf",
   "metadata": {},
   "source": [
    "# Step4:- HTML Tree Transversal"
   ]
  },
  {
   "cell_type": "code",
   "execution_count": 14,
   "id": "f7641b05",
   "metadata": {},
   "outputs": [
    {
     "name": "stdout",
     "output_type": "stream",
     "text": [
      "<title>Learn to code online - CodeWithHarry</title>\n"
     ]
    }
   ],
   "source": [
    "title = soup.title \n",
    "\n",
    "print(title) "
   ]
  },
  {
   "cell_type": "code",
   "execution_count": 15,
   "id": "7dcd58d5",
   "metadata": {},
   "outputs": [
    {
     "name": "stdout",
     "output_type": "stream",
     "text": [
      "<class 'bs4.element.Tag'>\n"
     ]
    }
   ],
   "source": [
    "print(type(title))  "
   ]
  },
  {
   "cell_type": "raw",
   "id": "5f8993a8",
   "metadata": {},
   "source": [
    "# Commonly used Tags:-\n",
    "1. Tag\n",
    "2. NavigableString\n",
    "3. BeautifulSoup\n",
    "4. Comment "
   ]
  },
  {
   "cell_type": "code",
   "execution_count": 16,
   "id": "d2545ecb",
   "metadata": {},
   "outputs": [
    {
     "name": "stdout",
     "output_type": "stream",
     "text": [
      "<class 'bs4.BeautifulSoup'>\n"
     ]
    }
   ],
   "source": [
    "print(type(soup)) "
   ]
  },
  {
   "cell_type": "code",
   "execution_count": 17,
   "id": "b4afd6cd",
   "metadata": {},
   "outputs": [
    {
     "name": "stdout",
     "output_type": "stream",
     "text": [
      "<class 'bs4.element.NavigableString'>\n"
     ]
    }
   ],
   "source": [
    "print(type(title.string)) "
   ]
  },
  {
   "cell_type": "markdown",
   "id": "f0985adc",
   "metadata": {},
   "source": [
    "# print 1st para"
   ]
  },
  {
   "cell_type": "code",
   "execution_count": 18,
   "id": "91930778",
   "metadata": {},
   "outputs": [
    {
     "data": {
      "text/plain": [
       "<p class=\"mt-2 text-sm text-gray-500 md:text-base dark:text-gray-400\">Confused on which course to take? I have got you covered. Browse courses and find out the best course for you. Its free! Code With Harry is my attempt to teach basics and those coding techniques to people in short time which took me ages to learn.</p>"
      ]
     },
     "execution_count": 18,
     "metadata": {},
     "output_type": "execute_result"
    }
   ],
   "source": [
    "soup.find('p')  "
   ]
  },
  {
   "cell_type": "markdown",
   "id": "48da7495",
   "metadata": {},
   "source": [
    "### print the class of the first para"
   ]
  },
  {
   "cell_type": "code",
   "execution_count": 19,
   "id": "39a1702d",
   "metadata": {},
   "outputs": [
    {
     "data": {
      "text/plain": [
       "['mt-2', 'text-sm', 'text-gray-500', 'md:text-base', 'dark:text-gray-400']"
      ]
     },
     "execution_count": 19,
     "metadata": {},
     "output_type": "execute_result"
    }
   ],
   "source": [
    "soup.find('p')['class'] "
   ]
  },
  {
   "cell_type": "markdown",
   "id": "ee1f0b8b",
   "metadata": {},
   "source": [
    "# print all the paragraphs:-"
   ]
  },
  {
   "cell_type": "code",
   "execution_count": 20,
   "id": "99f2057c",
   "metadata": {},
   "outputs": [
    {
     "data": {
      "text/plain": [
       "[<p class=\"mt-2 text-sm text-gray-500 md:text-base dark:text-gray-400\">Confused on which course to take? I have got you covered. Browse courses and find out the best course for you. Its free! Code With Harry is my attempt to teach basics and those coding techniques to people in short time which took me ages to learn.</p>,\n",
       " <p class=\"text-gray-700 text-base dark:text-gray-400\">Python is one of the most demanded programming languages in the job market. Surprisingly, it is equally easy to learn and master Python. Let's commit our 100 days of code to python!</p>,\n",
       " <p class=\"text-gray-700 text-base dark:text-gray-400\">This latest JavaScript course comes with premium curriculum that covers everything from basics to advance. On top of that, you will get my handwritten notes of JS for completely free. What are you waiting for? Just Enroll Buddy</p>,\n",
       " <p class=\"text-gray-700 text-base dark:text-gray-400\">React is a free and open-source front-end JavaScript library. This series will cover React from starting to the end. We will learn react from the ground up!</p>,\n",
       " <p class=\"leading-relaxed mb-6 dark:text-gray-300\">I don't have words to thank this man, I'm really grateful to have this channel and website in my daily routine. If you're a mere beginner, then you can trust this guy and can put your time into his content. I can assure you that it'll be worth it.</p>,\n",
       " <p class=\"leading-relaxed mb-6 dark:text-gray-300\">For everyone who wants to level up their #Coding and #Dev skills - seriously, this channel is for you! Both basic and advanced stacks are covered on this channel, and one can learn according to his skill levels. And the icing on the cake is, everything is available for free.</p>,\n",
       " <p class=\"text-sm text-gray-500 sm:ml-4 sm:pl-4 sm:border-l-2 sm:border-gray-200 sm:py-2 mt-4 md:mt-2 mb-2 md:mb-0 text-center dark:text-gray-400\">Copyright © 2022 CodeWithHarry.com</p>]"
      ]
     },
     "execution_count": 20,
     "metadata": {},
     "output_type": "execute_result"
    }
   ],
   "source": [
    "soup.find_all('p') "
   ]
  },
  {
   "cell_type": "markdown",
   "id": "aea7c2b9",
   "metadata": {},
   "source": [
    "## find all the para's having class as text-gray-700"
   ]
  },
  {
   "cell_type": "code",
   "execution_count": 21,
   "id": "f3c9244d",
   "metadata": {},
   "outputs": [
    {
     "data": {
      "text/plain": [
       "[<p class=\"text-gray-700 text-base dark:text-gray-400\">Python is one of the most demanded programming languages in the job market. Surprisingly, it is equally easy to learn and master Python. Let's commit our 100 days of code to python!</p>,\n",
       " <p class=\"text-gray-700 text-base dark:text-gray-400\">This latest JavaScript course comes with premium curriculum that covers everything from basics to advance. On top of that, you will get my handwritten notes of JS for completely free. What are you waiting for? Just Enroll Buddy</p>,\n",
       " <p class=\"text-gray-700 text-base dark:text-gray-400\">React is a free and open-source front-end JavaScript library. This series will cover React from starting to the end. We will learn react from the ground up!</p>]"
      ]
     },
     "execution_count": 21,
     "metadata": {},
     "output_type": "execute_result"
    }
   ],
   "source": [
    "soup.find_all('p', class_ = 'text-gray-700')  "
   ]
  },
  {
   "cell_type": "markdown",
   "id": "a49e2c0a",
   "metadata": {},
   "source": [
    "# print all the anchors-tags:-"
   ]
  },
  {
   "cell_type": "code",
   "execution_count": 22,
   "id": "d2316dac",
   "metadata": {},
   "outputs": [
    {
     "data": {
      "text/plain": [
       "[<a href=\"/\">CodeWithHarry</a>,\n",
       " <a href=\"/\">Home</a>,\n",
       " <a href=\"/videos/\">Courses</a>,\n",
       " <a href=\"/tutorials/\">Tutorial</a>,\n",
       " <a href=\"/blog/\">Blog</a>,\n",
       " <a href=\"/notes/\">Notes</a>,\n",
       " <a href=\"/contact/\">Contact</a>,\n",
       " <a href=\"/my-gear/\">My Gear</a>,\n",
       " <a href=\"/work/\">Work With Us</a>,\n",
       " <a href=\"/tutorial/html-home/\">HTML</a>,\n",
       " <a href=\"/tutorial/css-home/\">CSS</a>,\n",
       " <a href=\"/tutorial/js/\">JS</a>,\n",
       " <a href=\"/tutorial/c/\">C</a>,\n",
       " <a href=\"/tutorial/cplusplus/\">C++</a>,\n",
       " <a href=\"/tutorial/java/\">JAVA</a>,\n",
       " <a href=\"/tutorial/python/\">PYTHON</a>,\n",
       " <a href=\"/tutorial/php/\">PHP</a>,\n",
       " <a href=\"/tutorial/react-home/\">REACT JS</a>,\n",
       " <a href=\"/\">Home</a>,\n",
       " <a href=\"/videos/\">Courses</a>,\n",
       " <a href=\"/tutorial/html-home/\">HTML</a>,\n",
       " <a href=\"/tutorial/css-home/\">CSS</a>,\n",
       " <a href=\"/tutorial/js/\">JS</a>,\n",
       " <a href=\"/tutorial/c/\">C</a>,\n",
       " <a href=\"/tutorial/cplusplus/\">C++</a>,\n",
       " <a href=\"/tutorial/java/\">JAVA</a>,\n",
       " <a href=\"/tutorial/python/\">PYTHON</a>,\n",
       " <a href=\"/tutorial/php/\">PHP</a>,\n",
       " <a href=\"/tutorial/react-home/\">REACT JS</a>,\n",
       " <a href=\"/blog/\">Blog</a>,\n",
       " <a href=\"/notes/\">Notes</a>,\n",
       " <a href=\"/contact/\">Contact</a>,\n",
       " <a href=\"/my-gear/\">My Gear</a>,\n",
       " <a href=\"/work/\">Work With Us</a>,\n",
       " <a aria-label=\"facebook\" class=\"text-gray-500 dark:text-gray-300\" href=\"https://www.facebook.com/codewithharry\" rel=\"noreferrer\" target=\"_blank\"><svg class=\"w-5 h-5\" fill=\"currentColor\" stroke-linecap=\"round\" stroke-linejoin=\"round\" stroke-width=\"2\" viewbox=\"0 0 24 24\"><path d=\"M18 2h-3a5 5 0 00-5 5v3H7v4h3v8h4v-8h3l1-4h-4V7a1 1 0 011-1h3z\"></path></svg></a>,\n",
       " <a aria-label=\"twitter\" class=\"ml-3 text-gray-500 dark:text-gray-300\" href=\"https://www.twitter.com/codewithharry\" rel=\"noreferrer\" target=\"_blank\"><svg class=\"w-5 h-5\" fill=\"currentColor\" stroke-linecap=\"round\" stroke-linejoin=\"round\" stroke-width=\"2\" viewbox=\"0 0 24 24\"><path d=\"M23 3a10.9 10.9 0 01-3.14 1.53 4.48 4.48 0 00-7.86 3v1A10.66 10.66 0 013 4s-4 9 5 13a11.64 11.64 0 01-7 2c9 5 20 0 20-11.5a4.5 4.5 0 00-.08-.83A7.72 7.72 0 0023 3z\"></path></svg></a>,\n",
       " <a aria-label=\"instagram\" class=\"ml-3 text-gray-500 dark:text-gray-300\" href=\"https://www.instagram.com/codewithharry\" rel=\"noreferrer\" target=\"_blank\"><svg class=\"w-5 h-5\" fill=\"none\" stroke=\"currentColor\" stroke-linecap=\"round\" stroke-linejoin=\"round\" stroke-width=\"2\" viewbox=\"0 0 24 24\"><rect height=\"20\" rx=\"5\" ry=\"5\" width=\"20\" x=\"2\" y=\"2\"></rect><path d=\"M16 11.37A4 4 0 1112.63 8 4 4 0 0116 11.37zm1.5-4.87h.01\"></path></svg></a>,\n",
       " <a aria-label=\"github\" class=\"ml-3 text-gray-500 dark:text-gray-300\" href=\"https://www.github.com/codewithharry\" rel=\"noreferrer\" target=\"_blank\"><svg class=\"text-xl\" fill=\"currentColor\" height=\"1em\" stroke=\"currentColor\" stroke-width=\"0\" viewbox=\"0 0 1024 1024\" width=\"1em\" xmlns=\"http://www.w3.org/2000/svg\"><path d=\"M511.6 76.3C264.3 76.2 64 276.4 64 523.5 64 718.9 189.3 885 363.8 946c23.5 5.9 19.9-10.8 19.9-22.2v-77.5c-135.7 15.9-141.2-73.9-150.3-88.9C215 726 171.5 718 184.5 703c30.9-15.9 62.4 4 98.9 57.9 26.4 39.1 77.9 32.5 104 26 5.7-23.5 17.9-44.5 34.7-60.8-140.6-25.2-199.2-111-199.2-213 0-49.5 16.3-95 48.3-131.7-20.4-60.5 1.9-112.3 4.9-120 58.1-5.2 118.5 41.6 123.2 45.3 33-8.9 70.7-13.6 112.9-13.6 42.4 0 80.2 4.9 113.5 13.9 11.3-8.6 67.3-48.8 121.3-43.9 2.9 7.7 24.7 58.3 5.5 118 32.4 36.8 48.9 82.7 48.9 132.3 0 102.2-59 188.1-200 212.9a127.5 127.5 0 0 1 38.1 91v112.5c.8 9 0 17.9 15 17.9 177.1-59.7 304.6-227 304.6-424.1 0-247.2-200.4-447.3-447.5-447.3z\"></path></svg></a>]"
      ]
     },
     "execution_count": 22,
     "metadata": {},
     "output_type": "execute_result"
    }
   ],
   "source": [
    "soup.find_all('a') "
   ]
  },
  {
   "cell_type": "markdown",
   "id": "bc258d4a",
   "metadata": {},
   "source": [
    "# print the text from the para\n"
   ]
  },
  {
   "cell_type": "code",
   "execution_count": 23,
   "id": "252f12ca",
   "metadata": {},
   "outputs": [
    {
     "data": {
      "text/plain": [
       "'Confused on which course to take? I have got you covered. Browse courses and find out the best course for you. Its free! Code With Harry is my attempt to teach basics and those coding techniques to people in short time which took me ages to learn.'"
      ]
     },
     "execution_count": 23,
     "metadata": {},
     "output_type": "execute_result"
    }
   ],
   "source": [
    "soup.find('p').get_text() "
   ]
  },
  {
   "cell_type": "markdown",
   "id": "ac07a374",
   "metadata": {},
   "source": [
    "### print the text from website"
   ]
  },
  {
   "cell_type": "code",
   "execution_count": 24,
   "id": "8f52d8cd",
   "metadata": {},
   "outputs": [
    {
     "data": {
      "text/plain": [
       "\"Learn to code online - CodeWithHarryCodeWithHarryMenuLoginHomeCoursesTutorialBlogNotesContactMy GearWork With UsLoginSignupHTMLCSSJSCC++JAVAPYTHONPHPREACT JSHomeCoursesTutorial HTMLCSSJSCC++JAVAPYTHONPHPREACT JSBlogNotesContactMy GearWork With UsWelcome to Learn Confused on which course to take? I have got you covered. Browse courses and find out the best course for you. Its free! Code With Harry is my attempt to teach basics and those coding techniques to people in short time which took me ages to learn.Free CoursesExplore BlogRecommended CoursesFREE COURSEPython Tutorials - 100 Days of Code    Python is one of the most demanded programming languages in the job market. Surprisingly, it is equally easy to learn and master Python. Let's commit our 100 days of code to python!  Start Watching FREE COURSEUltimate JavaScript CourseThis latest JavaScript course comes with premium curriculum that covers everything from basics to advance. On top of that, you will get my handwritten notes of JS for completely free. What are you waiting for? Just Enroll Buddy  Start Watching FREE COURSEReact JS Tutorials For BeginnersReact is a free and open-source front-end JavaScript library. This series will cover React from starting to the end. We will learn react from the ground up!  Start Watching TestimonialsI don't have words to thank this man, I'm really grateful to have this channel and website in my daily routine. If you're a mere beginner, then you can trust this guy and can put your time into his content. I can assure you that it'll be worth it.Mohit KumarWeb DeveloperFor everyone who wants to level up their #Coding and #Dev skills - seriously, this channel is for you! Both basic and advanced stacks are covered on this channel, and one can learn according to his skill levels. And the icing on the cake is, everything is available for free.Rakesh ShettyWeb DeveloperCodeWithHarryCopyright © 2022 CodeWithHarry.com\""
      ]
     },
     "execution_count": 24,
     "metadata": {},
     "output_type": "execute_result"
    }
   ],
   "source": [
    "soup.get_text() "
   ]
  },
  {
   "cell_type": "markdown",
   "id": "6919733b",
   "metadata": {},
   "source": [
    "# get the links of the page:- get all the anchor tags "
   ]
  },
  {
   "cell_type": "code",
   "execution_count": 25,
   "id": "c0d22faa",
   "metadata": {},
   "outputs": [
    {
     "data": {
      "text/plain": [
       "[<a href=\"/\">CodeWithHarry</a>,\n",
       " <a href=\"/\">Home</a>,\n",
       " <a href=\"/videos/\">Courses</a>,\n",
       " <a href=\"/tutorials/\">Tutorial</a>,\n",
       " <a href=\"/blog/\">Blog</a>,\n",
       " <a href=\"/notes/\">Notes</a>,\n",
       " <a href=\"/contact/\">Contact</a>,\n",
       " <a href=\"/my-gear/\">My Gear</a>,\n",
       " <a href=\"/work/\">Work With Us</a>,\n",
       " <a href=\"/tutorial/html-home/\">HTML</a>,\n",
       " <a href=\"/tutorial/css-home/\">CSS</a>,\n",
       " <a href=\"/tutorial/js/\">JS</a>,\n",
       " <a href=\"/tutorial/c/\">C</a>,\n",
       " <a href=\"/tutorial/cplusplus/\">C++</a>,\n",
       " <a href=\"/tutorial/java/\">JAVA</a>,\n",
       " <a href=\"/tutorial/python/\">PYTHON</a>,\n",
       " <a href=\"/tutorial/php/\">PHP</a>,\n",
       " <a href=\"/tutorial/react-home/\">REACT JS</a>,\n",
       " <a href=\"/\">Home</a>,\n",
       " <a href=\"/videos/\">Courses</a>,\n",
       " <a href=\"/tutorial/html-home/\">HTML</a>,\n",
       " <a href=\"/tutorial/css-home/\">CSS</a>,\n",
       " <a href=\"/tutorial/js/\">JS</a>,\n",
       " <a href=\"/tutorial/c/\">C</a>,\n",
       " <a href=\"/tutorial/cplusplus/\">C++</a>,\n",
       " <a href=\"/tutorial/java/\">JAVA</a>,\n",
       " <a href=\"/tutorial/python/\">PYTHON</a>,\n",
       " <a href=\"/tutorial/php/\">PHP</a>,\n",
       " <a href=\"/tutorial/react-home/\">REACT JS</a>,\n",
       " <a href=\"/blog/\">Blog</a>,\n",
       " <a href=\"/notes/\">Notes</a>,\n",
       " <a href=\"/contact/\">Contact</a>,\n",
       " <a href=\"/my-gear/\">My Gear</a>,\n",
       " <a href=\"/work/\">Work With Us</a>,\n",
       " <a aria-label=\"facebook\" class=\"text-gray-500 dark:text-gray-300\" href=\"https://www.facebook.com/codewithharry\" rel=\"noreferrer\" target=\"_blank\"><svg class=\"w-5 h-5\" fill=\"currentColor\" stroke-linecap=\"round\" stroke-linejoin=\"round\" stroke-width=\"2\" viewbox=\"0 0 24 24\"><path d=\"M18 2h-3a5 5 0 00-5 5v3H7v4h3v8h4v-8h3l1-4h-4V7a1 1 0 011-1h3z\"></path></svg></a>,\n",
       " <a aria-label=\"twitter\" class=\"ml-3 text-gray-500 dark:text-gray-300\" href=\"https://www.twitter.com/codewithharry\" rel=\"noreferrer\" target=\"_blank\"><svg class=\"w-5 h-5\" fill=\"currentColor\" stroke-linecap=\"round\" stroke-linejoin=\"round\" stroke-width=\"2\" viewbox=\"0 0 24 24\"><path d=\"M23 3a10.9 10.9 0 01-3.14 1.53 4.48 4.48 0 00-7.86 3v1A10.66 10.66 0 013 4s-4 9 5 13a11.64 11.64 0 01-7 2c9 5 20 0 20-11.5a4.5 4.5 0 00-.08-.83A7.72 7.72 0 0023 3z\"></path></svg></a>,\n",
       " <a aria-label=\"instagram\" class=\"ml-3 text-gray-500 dark:text-gray-300\" href=\"https://www.instagram.com/codewithharry\" rel=\"noreferrer\" target=\"_blank\"><svg class=\"w-5 h-5\" fill=\"none\" stroke=\"currentColor\" stroke-linecap=\"round\" stroke-linejoin=\"round\" stroke-width=\"2\" viewbox=\"0 0 24 24\"><rect height=\"20\" rx=\"5\" ry=\"5\" width=\"20\" x=\"2\" y=\"2\"></rect><path d=\"M16 11.37A4 4 0 1112.63 8 4 4 0 0116 11.37zm1.5-4.87h.01\"></path></svg></a>,\n",
       " <a aria-label=\"github\" class=\"ml-3 text-gray-500 dark:text-gray-300\" href=\"https://www.github.com/codewithharry\" rel=\"noreferrer\" target=\"_blank\"><svg class=\"text-xl\" fill=\"currentColor\" height=\"1em\" stroke=\"currentColor\" stroke-width=\"0\" viewbox=\"0 0 1024 1024\" width=\"1em\" xmlns=\"http://www.w3.org/2000/svg\"><path d=\"M511.6 76.3C264.3 76.2 64 276.4 64 523.5 64 718.9 189.3 885 363.8 946c23.5 5.9 19.9-10.8 19.9-22.2v-77.5c-135.7 15.9-141.2-73.9-150.3-88.9C215 726 171.5 718 184.5 703c30.9-15.9 62.4 4 98.9 57.9 26.4 39.1 77.9 32.5 104 26 5.7-23.5 17.9-44.5 34.7-60.8-140.6-25.2-199.2-111-199.2-213 0-49.5 16.3-95 48.3-131.7-20.4-60.5 1.9-112.3 4.9-120 58.1-5.2 118.5 41.6 123.2 45.3 33-8.9 70.7-13.6 112.9-13.6 42.4 0 80.2 4.9 113.5 13.9 11.3-8.6 67.3-48.8 121.3-43.9 2.9 7.7 24.7 58.3 5.5 118 32.4 36.8 48.9 82.7 48.9 132.3 0 102.2-59 188.1-200 212.9a127.5 127.5 0 0 1 38.1 91v112.5c.8 9 0 17.9 15 17.9 177.1-59.7 304.6-227 304.6-424.1 0-247.2-200.4-447.3-447.5-447.3z\"></path></svg></a>]"
      ]
     },
     "execution_count": 25,
     "metadata": {},
     "output_type": "execute_result"
    }
   ],
   "source": [
    "soup.find_all('a') "
   ]
  },
  {
   "cell_type": "code",
   "execution_count": 26,
   "id": "aaa9502b",
   "metadata": {},
   "outputs": [
    {
     "name": "stdout",
     "output_type": "stream",
     "text": [
      "/\n",
      "/\n",
      "/videos/\n",
      "/tutorials/\n",
      "/blog/\n",
      "/notes/\n",
      "/contact/\n",
      "/my-gear/\n",
      "/work/\n",
      "/tutorial/html-home/\n",
      "/tutorial/css-home/\n",
      "/tutorial/js/\n",
      "/tutorial/c/\n",
      "/tutorial/cplusplus/\n",
      "/tutorial/java/\n",
      "/tutorial/python/\n",
      "/tutorial/php/\n",
      "/tutorial/react-home/\n",
      "/\n",
      "/videos/\n",
      "/tutorial/html-home/\n",
      "/tutorial/css-home/\n",
      "/tutorial/js/\n",
      "/tutorial/c/\n",
      "/tutorial/cplusplus/\n",
      "/tutorial/java/\n",
      "/tutorial/python/\n",
      "/tutorial/php/\n",
      "/tutorial/react-home/\n",
      "/blog/\n",
      "/notes/\n",
      "/contact/\n",
      "/my-gear/\n",
      "/work/\n",
      "https://www.facebook.com/codewithharry\n",
      "https://www.twitter.com/codewithharry\n",
      "https://www.instagram.com/codewithharry\n",
      "https://www.github.com/codewithharry\n"
     ]
    }
   ],
   "source": [
    "# to get any attribute we can just write .get and it's attribute name.\n",
    "for link in soup.find_all('a'):\n",
    "    print(link.get('href'))  "
   ]
  },
  {
   "cell_type": "markdown",
   "id": "8a51b0a9",
   "metadata": {},
   "source": [
    "#### now we can see that these links are repeatative links, also some there might be a case that we will see some '#' in these links"
   ]
  },
  {
   "cell_type": "code",
   "execution_count": 27,
   "id": "13473c4f",
   "metadata": {},
   "outputs": [],
   "source": [
    "anchors = soup.find_all('a')\n",
    "all_links = set()\n",
    "\n",
    "for anchor in anchors:\n",
    "    link = anchor.get('href')\n",
    "    # to remove the links which are '#'\n",
    "    if link != '#':\n",
    "        linkText = 'https://codewithharry.com' + link\n",
    "        all_links.add(linkText)\n"
   ]
  },
  {
   "cell_type": "code",
   "execution_count": 28,
   "id": "2798d807",
   "metadata": {},
   "outputs": [
    {
     "data": {
      "text/plain": [
       "{'https://codewithharry.com/',\n",
       " 'https://codewithharry.com/blog/',\n",
       " 'https://codewithharry.com/contact/',\n",
       " 'https://codewithharry.com/my-gear/',\n",
       " 'https://codewithharry.com/notes/',\n",
       " 'https://codewithharry.com/tutorial/c/',\n",
       " 'https://codewithharry.com/tutorial/cplusplus/',\n",
       " 'https://codewithharry.com/tutorial/css-home/',\n",
       " 'https://codewithharry.com/tutorial/html-home/',\n",
       " 'https://codewithharry.com/tutorial/java/',\n",
       " 'https://codewithharry.com/tutorial/js/',\n",
       " 'https://codewithharry.com/tutorial/php/',\n",
       " 'https://codewithharry.com/tutorial/python/',\n",
       " 'https://codewithharry.com/tutorial/react-home/',\n",
       " 'https://codewithharry.com/tutorials/',\n",
       " 'https://codewithharry.com/videos/',\n",
       " 'https://codewithharry.com/work/',\n",
       " 'https://codewithharry.comhttps://www.facebook.com/codewithharry',\n",
       " 'https://codewithharry.comhttps://www.github.com/codewithharry',\n",
       " 'https://codewithharry.comhttps://www.instagram.com/codewithharry',\n",
       " 'https://codewithharry.comhttps://www.twitter.com/codewithharry'}"
      ]
     },
     "execution_count": 28,
     "metadata": {},
     "output_type": "execute_result"
    }
   ],
   "source": [
    "all_links "
   ]
  },
  {
   "cell_type": "markdown",
   "id": "f7ee6796",
   "metadata": {},
   "source": [
    "# how to get the comment of markup"
   ]
  },
  {
   "cell_type": "code",
   "execution_count": 29,
   "id": "7ea44abc",
   "metadata": {},
   "outputs": [],
   "source": [
    "markup = \"<p><!-- this is a comment --></p>\" "
   ]
  },
  {
   "cell_type": "code",
   "execution_count": 30,
   "id": "73dd7eeb",
   "metadata": {},
   "outputs": [],
   "source": [
    "soup2 = BeautifulSoup(markup) "
   ]
  },
  {
   "cell_type": "code",
   "execution_count": 31,
   "id": "8d1ae09d",
   "metadata": {},
   "outputs": [
    {
     "name": "stdout",
     "output_type": "stream",
     "text": [
      "<class 'bs4.BeautifulSoup'>\n"
     ]
    }
   ],
   "source": [
    "print(type(soup2)) "
   ]
  },
  {
   "cell_type": "code",
   "execution_count": 32,
   "id": "5998b02a",
   "metadata": {},
   "outputs": [
    {
     "name": "stdout",
     "output_type": "stream",
     "text": [
      "<class 'bs4.element.Comment'>\n"
     ]
    }
   ],
   "source": [
    "print(type(soup2.p.string))  "
   ]
  },
  {
   "cell_type": "code",
   "execution_count": 33,
   "id": "3597bd9f",
   "metadata": {},
   "outputs": [
    {
     "data": {
      "text/plain": [
       "' this is a comment '"
      ]
     },
     "execution_count": 33,
     "metadata": {},
     "output_type": "execute_result"
    }
   ],
   "source": [
    "soup2.p.string "
   ]
  },
  {
   "cell_type": "markdown",
   "id": "1f994860",
   "metadata": {},
   "source": [
    "# --------------------------------------------------------------------------------------------------------"
   ]
  },
  {
   "cell_type": "markdown",
   "id": "e48d1a82",
   "metadata": {},
   "source": [
    "# give me the divs which have id = navcontent"
   ]
  },
  {
   "cell_type": "raw",
   "id": "796d1811",
   "metadata": {},
   "source": [
    "## difference b/w contents and childeren:-\n",
    "\n",
    "1. .contents :- it gives us a generator, means it is not sotred into memory, but we can iterate thourgh it whenever we want.\n",
    "2. .childrens :- it gives us a list, means the list is stored into the memory, we can iterate though it. and do slicing index"
   ]
  },
  {
   "cell_type": "code",
   "execution_count": 34,
   "id": "f5eacc2c",
   "metadata": {},
   "outputs": [],
   "source": [
    "navcontent = soup.find(id = 'nav-content') "
   ]
  },
  {
   "cell_type": "code",
   "execution_count": 35,
   "id": "12dbfc41",
   "metadata": {},
   "outputs": [
    {
     "data": {
      "text/plain": [
       "<div class=\"w-full flex-grow lg:flex lg:flex-1 lg:content-center lg:justify-end lg:w-auto h-0 lg:h-auto overflow-hidden mt-2 lg:mt-0 z-20 transition-all\" id=\"nav-content\"><ul class=\"flex items-center flex-col lg:flex-row\"><div class=\"search-icon cursor-pointer px-6 hidden\" id=\"search-toggle\"><svg class=\"fill-current pointer-events-none text-grey-darkest w-4 h-4 inline\" viewbox=\"0 0 20 20\" xmlns=\"http://www.w3.org/2000/svg\"><path d=\"M12.9 14.32a8 8 0 1 1 1.41-1.41l5.35 5.33-1.42 1.42-5.33-5.34zM8 14A6 6 0 1 0 8 2a6 6 0 0 0 0 12z\"></path></svg></div><li class=\"mx-2 my-2 text-black hover:border-b-2 hover:border-purple-700 dark:text-white\"><a href=\"/\">Home</a></li><li class=\"mx-2 my-2 text-black hover:border-b-2 hover:border-purple-700 dark:text-white\"><a href=\"/videos/\">Courses</a></li><li class=\"mx-2 my-2 text-black hover:border-b-2 hover:border-purple-700 dark:text-white\"><a href=\"/tutorials/\">Tutorial</a></li><li class=\"mx-2 my-2 text-black hover:border-b-2 hover:border-purple-700 dark:text-white\"><a href=\"/blog/\">Blog</a></li><li class=\"mx-2 my-2 text-black hover:border-b-2 hover:border-purple-700 dark:text-white\"><a href=\"/notes/\">Notes</a></li><li class=\"mx-2 my-2 text-black hover:border-b-2 hover:border-purple-700 dark:text-white\"><a href=\"/contact/\">Contact</a></li><li class=\"mx-2 my-2 text-black hover:border-b-2 hover:border-purple-700 dark:text-white\"><a href=\"/my-gear/\">My Gear</a></li><li class=\"mx-2 my-2 text-black hover:border-b-2 hover:border-purple-700 dark:text-white\"><a href=\"/work/\">Work With Us</a></li><li><svg class=\"hidden md:block text-purple-700 mt-1 ml-2 cursor-pointer dark:text-white\" fill=\"currentColor\" height=\"28\" stroke=\"currentColor\" stroke-width=\"0\" viewbox=\"0 0 16 16\" width=\"28\" xmlns=\"http://www.w3.org/2000/svg\"><path d=\"M6 .278a.768.768 0 0 1 .08.858 7.208 7.208 0 0 0-.878 3.46c0 4.021 3.278 7.277 7.318 7.277.527 0 1.04-.055 1.533-.16a.787.787 0 0 1 .81.316.733.733 0 0 1-.031.893A8.349 8.349 0 0 1 8.344 16C3.734 16 0 12.286 0 7.71 0 4.266 2.114 1.312 5.124.06A.752.752 0 0 1 6 .278z\"></path><path d=\"M10.794 3.148a.217.217 0 0 1 .412 0l.387 1.162c.173.518.579.924 1.097 1.097l1.162.387a.217.217 0 0 1 0 .412l-1.162.387a1.734 1.734 0 0 0-1.097 1.097l-.387 1.162a.217.217 0 0 1-.412 0l-.387-1.162A1.734 1.734 0 0 0 9.31 6.593l-1.162-.387a.217.217 0 0 1 0-.412l1.162-.387a1.734 1.734 0 0 0 1.097-1.097l.387-1.162zM13.863.099a.145.145 0 0 1 .274 0l.258.774c.115.346.386.617.732.732l.774.258a.145.145 0 0 1 0 .274l-.774.258a1.156 1.156 0 0 0-.732.732l-.258.774a.145.145 0 0 1-.274 0l-.258-.774a1.156 1.156 0 0 0-.732-.732l-.774-.258a.145.145 0 0 1 0-.274l.774-.258c.346-.115.617-.386.732-.732L13.863.1z\"></path></svg></li></ul><div class=\"text-center my-2 pr-4 pl-2\"><button class=\"text-white bg-purple-700 hover:bg-purple-800 focus:ring-4 focus:ring-purple-300 font-medium rounded-lg text-sm px-3 py-2 text-center inline-flex items-center mx-1 dark:bg-purple-500 dark:hover:bg-purple-800\">Login</button><button class=\"text-white bg-purple-700 hover:bg-purple-800 focus:ring-4 focus:ring-purple-300 font-medium rounded-lg text-sm px-3 py-2 text-center inline-flex items-center mx-1 dark:bg-purple-500 dark:hover:bg-purple-800\">Signup</button></div></div>"
      ]
     },
     "execution_count": 35,
     "metadata": {},
     "output_type": "execute_result"
    }
   ],
   "source": [
    "navcontent "
   ]
  },
  {
   "cell_type": "markdown",
   "id": "e652bfa1",
   "metadata": {},
   "source": [
    "## get the children of the div"
   ]
  },
  {
   "cell_type": "code",
   "execution_count": 36,
   "id": "7c71db1a",
   "metadata": {},
   "outputs": [
    {
     "data": {
      "text/plain": [
       "<list_iterator at 0x208deabb040>"
      ]
     },
     "execution_count": 36,
     "metadata": {},
     "output_type": "execute_result"
    }
   ],
   "source": [
    "navcontent.children"
   ]
  },
  {
   "cell_type": "code",
   "execution_count": 37,
   "id": "328b72a5",
   "metadata": {},
   "outputs": [
    {
     "name": "stdout",
     "output_type": "stream",
     "text": [
      "<ul class=\"flex items-center flex-col lg:flex-row\"><div class=\"search-icon cursor-pointer px-6 hidden\" id=\"search-toggle\"><svg class=\"fill-current pointer-events-none text-grey-darkest w-4 h-4 inline\" viewbox=\"0 0 20 20\" xmlns=\"http://www.w3.org/2000/svg\"><path d=\"M12.9 14.32a8 8 0 1 1 1.41-1.41l5.35 5.33-1.42 1.42-5.33-5.34zM8 14A6 6 0 1 0 8 2a6 6 0 0 0 0 12z\"></path></svg></div><li class=\"mx-2 my-2 text-black hover:border-b-2 hover:border-purple-700 dark:text-white\"><a href=\"/\">Home</a></li><li class=\"mx-2 my-2 text-black hover:border-b-2 hover:border-purple-700 dark:text-white\"><a href=\"/videos/\">Courses</a></li><li class=\"mx-2 my-2 text-black hover:border-b-2 hover:border-purple-700 dark:text-white\"><a href=\"/tutorials/\">Tutorial</a></li><li class=\"mx-2 my-2 text-black hover:border-b-2 hover:border-purple-700 dark:text-white\"><a href=\"/blog/\">Blog</a></li><li class=\"mx-2 my-2 text-black hover:border-b-2 hover:border-purple-700 dark:text-white\"><a href=\"/notes/\">Notes</a></li><li class=\"mx-2 my-2 text-black hover:border-b-2 hover:border-purple-700 dark:text-white\"><a href=\"/contact/\">Contact</a></li><li class=\"mx-2 my-2 text-black hover:border-b-2 hover:border-purple-700 dark:text-white\"><a href=\"/my-gear/\">My Gear</a></li><li class=\"mx-2 my-2 text-black hover:border-b-2 hover:border-purple-700 dark:text-white\"><a href=\"/work/\">Work With Us</a></li><li><svg class=\"hidden md:block text-purple-700 mt-1 ml-2 cursor-pointer dark:text-white\" fill=\"currentColor\" height=\"28\" stroke=\"currentColor\" stroke-width=\"0\" viewbox=\"0 0 16 16\" width=\"28\" xmlns=\"http://www.w3.org/2000/svg\"><path d=\"M6 .278a.768.768 0 0 1 .08.858 7.208 7.208 0 0 0-.878 3.46c0 4.021 3.278 7.277 7.318 7.277.527 0 1.04-.055 1.533-.16a.787.787 0 0 1 .81.316.733.733 0 0 1-.031.893A8.349 8.349 0 0 1 8.344 16C3.734 16 0 12.286 0 7.71 0 4.266 2.114 1.312 5.124.06A.752.752 0 0 1 6 .278z\"></path><path d=\"M10.794 3.148a.217.217 0 0 1 .412 0l.387 1.162c.173.518.579.924 1.097 1.097l1.162.387a.217.217 0 0 1 0 .412l-1.162.387a1.734 1.734 0 0 0-1.097 1.097l-.387 1.162a.217.217 0 0 1-.412 0l-.387-1.162A1.734 1.734 0 0 0 9.31 6.593l-1.162-.387a.217.217 0 0 1 0-.412l1.162-.387a1.734 1.734 0 0 0 1.097-1.097l.387-1.162zM13.863.099a.145.145 0 0 1 .274 0l.258.774c.115.346.386.617.732.732l.774.258a.145.145 0 0 1 0 .274l-.774.258a1.156 1.156 0 0 0-.732.732l-.258.774a.145.145 0 0 1-.274 0l-.258-.774a1.156 1.156 0 0 0-.732-.732l-.774-.258a.145.145 0 0 1 0-.274l.774-.258c.346-.115.617-.386.732-.732L13.863.1z\"></path></svg></li></ul>\n",
      "<div class=\"text-center my-2 pr-4 pl-2\"><button class=\"text-white bg-purple-700 hover:bg-purple-800 focus:ring-4 focus:ring-purple-300 font-medium rounded-lg text-sm px-3 py-2 text-center inline-flex items-center mx-1 dark:bg-purple-500 dark:hover:bg-purple-800\">Login</button><button class=\"text-white bg-purple-700 hover:bg-purple-800 focus:ring-4 focus:ring-purple-300 font-medium rounded-lg text-sm px-3 py-2 text-center inline-flex items-center mx-1 dark:bg-purple-500 dark:hover:bg-purple-800\">Signup</button></div>\n"
     ]
    }
   ],
   "source": [
    "for elem in navcontent.children:\n",
    "    print(elem) "
   ]
  },
  {
   "cell_type": "markdown",
   "id": "07511736",
   "metadata": {},
   "source": [
    "## get the content of the div"
   ]
  },
  {
   "cell_type": "code",
   "execution_count": 38,
   "id": "088ec373",
   "metadata": {},
   "outputs": [
    {
     "data": {
      "text/plain": [
       "[<ul class=\"flex items-center flex-col lg:flex-row\"><div class=\"search-icon cursor-pointer px-6 hidden\" id=\"search-toggle\"><svg class=\"fill-current pointer-events-none text-grey-darkest w-4 h-4 inline\" viewbox=\"0 0 20 20\" xmlns=\"http://www.w3.org/2000/svg\"><path d=\"M12.9 14.32a8 8 0 1 1 1.41-1.41l5.35 5.33-1.42 1.42-5.33-5.34zM8 14A6 6 0 1 0 8 2a6 6 0 0 0 0 12z\"></path></svg></div><li class=\"mx-2 my-2 text-black hover:border-b-2 hover:border-purple-700 dark:text-white\"><a href=\"/\">Home</a></li><li class=\"mx-2 my-2 text-black hover:border-b-2 hover:border-purple-700 dark:text-white\"><a href=\"/videos/\">Courses</a></li><li class=\"mx-2 my-2 text-black hover:border-b-2 hover:border-purple-700 dark:text-white\"><a href=\"/tutorials/\">Tutorial</a></li><li class=\"mx-2 my-2 text-black hover:border-b-2 hover:border-purple-700 dark:text-white\"><a href=\"/blog/\">Blog</a></li><li class=\"mx-2 my-2 text-black hover:border-b-2 hover:border-purple-700 dark:text-white\"><a href=\"/notes/\">Notes</a></li><li class=\"mx-2 my-2 text-black hover:border-b-2 hover:border-purple-700 dark:text-white\"><a href=\"/contact/\">Contact</a></li><li class=\"mx-2 my-2 text-black hover:border-b-2 hover:border-purple-700 dark:text-white\"><a href=\"/my-gear/\">My Gear</a></li><li class=\"mx-2 my-2 text-black hover:border-b-2 hover:border-purple-700 dark:text-white\"><a href=\"/work/\">Work With Us</a></li><li><svg class=\"hidden md:block text-purple-700 mt-1 ml-2 cursor-pointer dark:text-white\" fill=\"currentColor\" height=\"28\" stroke=\"currentColor\" stroke-width=\"0\" viewbox=\"0 0 16 16\" width=\"28\" xmlns=\"http://www.w3.org/2000/svg\"><path d=\"M6 .278a.768.768 0 0 1 .08.858 7.208 7.208 0 0 0-.878 3.46c0 4.021 3.278 7.277 7.318 7.277.527 0 1.04-.055 1.533-.16a.787.787 0 0 1 .81.316.733.733 0 0 1-.031.893A8.349 8.349 0 0 1 8.344 16C3.734 16 0 12.286 0 7.71 0 4.266 2.114 1.312 5.124.06A.752.752 0 0 1 6 .278z\"></path><path d=\"M10.794 3.148a.217.217 0 0 1 .412 0l.387 1.162c.173.518.579.924 1.097 1.097l1.162.387a.217.217 0 0 1 0 .412l-1.162.387a1.734 1.734 0 0 0-1.097 1.097l-.387 1.162a.217.217 0 0 1-.412 0l-.387-1.162A1.734 1.734 0 0 0 9.31 6.593l-1.162-.387a.217.217 0 0 1 0-.412l1.162-.387a1.734 1.734 0 0 0 1.097-1.097l.387-1.162zM13.863.099a.145.145 0 0 1 .274 0l.258.774c.115.346.386.617.732.732l.774.258a.145.145 0 0 1 0 .274l-.774.258a1.156 1.156 0 0 0-.732.732l-.258.774a.145.145 0 0 1-.274 0l-.258-.774a1.156 1.156 0 0 0-.732-.732l-.774-.258a.145.145 0 0 1 0-.274l.774-.258c.346-.115.617-.386.732-.732L13.863.1z\"></path></svg></li></ul>,\n",
       " <div class=\"text-center my-2 pr-4 pl-2\"><button class=\"text-white bg-purple-700 hover:bg-purple-800 focus:ring-4 focus:ring-purple-300 font-medium rounded-lg text-sm px-3 py-2 text-center inline-flex items-center mx-1 dark:bg-purple-500 dark:hover:bg-purple-800\">Login</button><button class=\"text-white bg-purple-700 hover:bg-purple-800 focus:ring-4 focus:ring-purple-300 font-medium rounded-lg text-sm px-3 py-2 text-center inline-flex items-center mx-1 dark:bg-purple-500 dark:hover:bg-purple-800\">Signup</button></div>]"
      ]
     },
     "execution_count": 38,
     "metadata": {},
     "output_type": "execute_result"
    }
   ],
   "source": [
    "navcontent.contents  "
   ]
  },
  {
   "cell_type": "code",
   "execution_count": 39,
   "id": "7bb2e06e",
   "metadata": {},
   "outputs": [
    {
     "data": {
      "text/plain": [
       "<ul class=\"flex items-center flex-col lg:flex-row\"><div class=\"search-icon cursor-pointer px-6 hidden\" id=\"search-toggle\"><svg class=\"fill-current pointer-events-none text-grey-darkest w-4 h-4 inline\" viewbox=\"0 0 20 20\" xmlns=\"http://www.w3.org/2000/svg\"><path d=\"M12.9 14.32a8 8 0 1 1 1.41-1.41l5.35 5.33-1.42 1.42-5.33-5.34zM8 14A6 6 0 1 0 8 2a6 6 0 0 0 0 12z\"></path></svg></div><li class=\"mx-2 my-2 text-black hover:border-b-2 hover:border-purple-700 dark:text-white\"><a href=\"/\">Home</a></li><li class=\"mx-2 my-2 text-black hover:border-b-2 hover:border-purple-700 dark:text-white\"><a href=\"/videos/\">Courses</a></li><li class=\"mx-2 my-2 text-black hover:border-b-2 hover:border-purple-700 dark:text-white\"><a href=\"/tutorials/\">Tutorial</a></li><li class=\"mx-2 my-2 text-black hover:border-b-2 hover:border-purple-700 dark:text-white\"><a href=\"/blog/\">Blog</a></li><li class=\"mx-2 my-2 text-black hover:border-b-2 hover:border-purple-700 dark:text-white\"><a href=\"/notes/\">Notes</a></li><li class=\"mx-2 my-2 text-black hover:border-b-2 hover:border-purple-700 dark:text-white\"><a href=\"/contact/\">Contact</a></li><li class=\"mx-2 my-2 text-black hover:border-b-2 hover:border-purple-700 dark:text-white\"><a href=\"/my-gear/\">My Gear</a></li><li class=\"mx-2 my-2 text-black hover:border-b-2 hover:border-purple-700 dark:text-white\"><a href=\"/work/\">Work With Us</a></li><li><svg class=\"hidden md:block text-purple-700 mt-1 ml-2 cursor-pointer dark:text-white\" fill=\"currentColor\" height=\"28\" stroke=\"currentColor\" stroke-width=\"0\" viewbox=\"0 0 16 16\" width=\"28\" xmlns=\"http://www.w3.org/2000/svg\"><path d=\"M6 .278a.768.768 0 0 1 .08.858 7.208 7.208 0 0 0-.878 3.46c0 4.021 3.278 7.277 7.318 7.277.527 0 1.04-.055 1.533-.16a.787.787 0 0 1 .81.316.733.733 0 0 1-.031.893A8.349 8.349 0 0 1 8.344 16C3.734 16 0 12.286 0 7.71 0 4.266 2.114 1.312 5.124.06A.752.752 0 0 1 6 .278z\"></path><path d=\"M10.794 3.148a.217.217 0 0 1 .412 0l.387 1.162c.173.518.579.924 1.097 1.097l1.162.387a.217.217 0 0 1 0 .412l-1.162.387a1.734 1.734 0 0 0-1.097 1.097l-.387 1.162a.217.217 0 0 1-.412 0l-.387-1.162A1.734 1.734 0 0 0 9.31 6.593l-1.162-.387a.217.217 0 0 1 0-.412l1.162-.387a1.734 1.734 0 0 0 1.097-1.097l.387-1.162zM13.863.099a.145.145 0 0 1 .274 0l.258.774c.115.346.386.617.732.732l.774.258a.145.145 0 0 1 0 .274l-.774.258a1.156 1.156 0 0 0-.732.732l-.258.774a.145.145 0 0 1-.274 0l-.258-.774a1.156 1.156 0 0 0-.732-.732l-.774-.258a.145.145 0 0 1 0-.274l.774-.258c.346-.115.617-.386.732-.732L13.863.1z\"></path></svg></li></ul>"
      ]
     },
     "execution_count": 39,
     "metadata": {},
     "output_type": "execute_result"
    }
   ],
   "source": [
    "navcontent.contents[0] "
   ]
  },
  {
   "cell_type": "code",
   "execution_count": 40,
   "id": "6d1ad393",
   "metadata": {},
   "outputs": [
    {
     "name": "stdout",
     "output_type": "stream",
     "text": [
      "Home\n",
      "Courses\n",
      "Tutorial\n",
      "Blog\n",
      "Notes\n",
      "Contact\n",
      "My Gear\n",
      "Work With Us\n",
      "Login\n",
      "Signup\n"
     ]
    }
   ],
   "source": [
    "for item in navcontent.strings:\n",
    "    print(item) "
   ]
  },
  {
   "cell_type": "code",
   "execution_count": 41,
   "id": "1151b807",
   "metadata": {},
   "outputs": [
    {
     "name": "stdout",
     "output_type": "stream",
     "text": [
      "Home\n",
      "Courses\n",
      "Tutorial\n",
      "Blog\n",
      "Notes\n",
      "Contact\n",
      "My Gear\n",
      "Work With Us\n"
     ]
    }
   ],
   "source": [
    "for item in navcontent.contents[0].strings: \n",
    "    print(item) "
   ]
  },
  {
   "cell_type": "code",
   "execution_count": 42,
   "id": "30babd08",
   "metadata": {},
   "outputs": [
    {
     "name": "stdout",
     "output_type": "stream",
     "text": [
      "Login\n",
      "Signup\n"
     ]
    }
   ],
   "source": [
    "for item in navcontent.contents[1].strings: \n",
    "    print(item) "
   ]
  },
  {
   "cell_type": "code",
   "execution_count": 43,
   "id": "2213ab63",
   "metadata": {},
   "outputs": [
    {
     "name": "stdout",
     "output_type": "stream",
     "text": [
      "Login\n",
      "Signup\n"
     ]
    }
   ],
   "source": [
    "for item in navcontent.contents[1].stripped_strings: \n",
    "    print(item) "
   ]
  },
  {
   "cell_type": "markdown",
   "id": "92caed97",
   "metadata": {},
   "source": [
    "# print the parent tag of the current element "
   ]
  },
  {
   "cell_type": "code",
   "execution_count": 44,
   "id": "04140f72",
   "metadata": {},
   "outputs": [
    {
     "name": "stdout",
     "output_type": "stream",
     "text": [
      "<div class=\"w-full flex flex-wrap items-center lg:justify-between mt-0 py-4\"><div class=\"px-0 lg:pl-4 flex items-center lg:mx-4 cursor-pointer text-purple-700 text-xl font-bold mx-3 dark:text-purple-300\"><a href=\"/\">CodeWithHarry</a></div><div class=\"flex items-center md:hidden\"><div class=\"text-purple-700 text-md font-semibold\">Menu</div><svg class=\"text-purple-700 mt-1\" fill=\"currentColor\" height=\"1em\" stroke=\"currentColor\" stroke-width=\"0\" viewbox=\"0 0 1024 1024\" width=\"1em\" xmlns=\"http://www.w3.org/2000/svg\"><path d=\"M840.4 300H183.6c-19.7 0-30.7 20.8-18.5 35l328.4 380.8c9.4 10.9 27.5 10.9 37 0L858.9 335c12.2-14.2 1.2-35-18.5-35z\"></path></svg></div><svg class=\"md:hidden text-purple-700 mt-1 ml-2 cursor-pointer dark:text-white\" fill=\"currentColor\" height=\"28\" stroke=\"currentColor\" stroke-width=\"0\" viewbox=\"0 0 16 16\" width=\"28\" xmlns=\"http://www.w3.org/2000/svg\"><path d=\"M6 .278a.768.768 0 0 1 .08.858 7.208 7.208 0 0 0-.878 3.46c0 4.021 3.278 7.277 7.318 7.277.527 0 1.04-.055 1.533-.16a.787.787 0 0 1 .81.316.733.733 0 0 1-.031.893A8.349 8.349 0 0 1 8.344 16C3.734 16 0 12.286 0 7.71 0 4.266 2.114 1.312 5.124.06A.752.752 0 0 1 6 .278z\"></path><path d=\"M10.794 3.148a.217.217 0 0 1 .412 0l.387 1.162c.173.518.579.924 1.097 1.097l1.162.387a.217.217 0 0 1 0 .412l-1.162.387a1.734 1.734 0 0 0-1.097 1.097l-.387 1.162a.217.217 0 0 1-.412 0l-.387-1.162A1.734 1.734 0 0 0 9.31 6.593l-1.162-.387a.217.217 0 0 1 0-.412l1.162-.387a1.734 1.734 0 0 0 1.097-1.097l.387-1.162zM13.863.099a.145.145 0 0 1 .274 0l.258.774c.115.346.386.617.732.732l.774.258a.145.145 0 0 1 0 .274l-.774.258a1.156 1.156 0 0 0-.732.732l-.258.774a.145.145 0 0 1-.274 0l-.258-.774a1.156 1.156 0 0 0-.732-.732l-.774-.258a.145.145 0 0 1 0-.274l.774-.258c.346-.115.617-.386.732-.732L13.863.1z\"></path></svg><button class=\"md:hidden text-white bg-purple-700 hover:bg-purple-800 focus:ring-4 focus:ring-purple-300 font-medium rounded-lg text-sm px-3 py-2 text-center inline-flex items-center mx-1 absolute right-3 md:right-12\">Login</button><div class=\"w-full flex-grow lg:flex lg:flex-1 lg:content-center lg:justify-end lg:w-auto h-0 lg:h-auto overflow-hidden mt-2 lg:mt-0 z-20 transition-all\" id=\"nav-content\"><ul class=\"flex items-center flex-col lg:flex-row\"><div class=\"search-icon cursor-pointer px-6 hidden\" id=\"search-toggle\"><svg class=\"fill-current pointer-events-none text-grey-darkest w-4 h-4 inline\" viewbox=\"0 0 20 20\" xmlns=\"http://www.w3.org/2000/svg\"><path d=\"M12.9 14.32a8 8 0 1 1 1.41-1.41l5.35 5.33-1.42 1.42-5.33-5.34zM8 14A6 6 0 1 0 8 2a6 6 0 0 0 0 12z\"></path></svg></div><li class=\"mx-2 my-2 text-black hover:border-b-2 hover:border-purple-700 dark:text-white\"><a href=\"/\">Home</a></li><li class=\"mx-2 my-2 text-black hover:border-b-2 hover:border-purple-700 dark:text-white\"><a href=\"/videos/\">Courses</a></li><li class=\"mx-2 my-2 text-black hover:border-b-2 hover:border-purple-700 dark:text-white\"><a href=\"/tutorials/\">Tutorial</a></li><li class=\"mx-2 my-2 text-black hover:border-b-2 hover:border-purple-700 dark:text-white\"><a href=\"/blog/\">Blog</a></li><li class=\"mx-2 my-2 text-black hover:border-b-2 hover:border-purple-700 dark:text-white\"><a href=\"/notes/\">Notes</a></li><li class=\"mx-2 my-2 text-black hover:border-b-2 hover:border-purple-700 dark:text-white\"><a href=\"/contact/\">Contact</a></li><li class=\"mx-2 my-2 text-black hover:border-b-2 hover:border-purple-700 dark:text-white\"><a href=\"/my-gear/\">My Gear</a></li><li class=\"mx-2 my-2 text-black hover:border-b-2 hover:border-purple-700 dark:text-white\"><a href=\"/work/\">Work With Us</a></li><li><svg class=\"hidden md:block text-purple-700 mt-1 ml-2 cursor-pointer dark:text-white\" fill=\"currentColor\" height=\"28\" stroke=\"currentColor\" stroke-width=\"0\" viewbox=\"0 0 16 16\" width=\"28\" xmlns=\"http://www.w3.org/2000/svg\"><path d=\"M6 .278a.768.768 0 0 1 .08.858 7.208 7.208 0 0 0-.878 3.46c0 4.021 3.278 7.277 7.318 7.277.527 0 1.04-.055 1.533-.16a.787.787 0 0 1 .81.316.733.733 0 0 1-.031.893A8.349 8.349 0 0 1 8.344 16C3.734 16 0 12.286 0 7.71 0 4.266 2.114 1.312 5.124.06A.752.752 0 0 1 6 .278z\"></path><path d=\"M10.794 3.148a.217.217 0 0 1 .412 0l.387 1.162c.173.518.579.924 1.097 1.097l1.162.387a.217.217 0 0 1 0 .412l-1.162.387a1.734 1.734 0 0 0-1.097 1.097l-.387 1.162a.217.217 0 0 1-.412 0l-.387-1.162A1.734 1.734 0 0 0 9.31 6.593l-1.162-.387a.217.217 0 0 1 0-.412l1.162-.387a1.734 1.734 0 0 0 1.097-1.097l.387-1.162zM13.863.099a.145.145 0 0 1 .274 0l.258.774c.115.346.386.617.732.732l.774.258a.145.145 0 0 1 0 .274l-.774.258a1.156 1.156 0 0 0-.732.732l-.258.774a.145.145 0 0 1-.274 0l-.258-.774a1.156 1.156 0 0 0-.732-.732l-.774-.258a.145.145 0 0 1 0-.274l.774-.258c.346-.115.617-.386.732-.732L13.863.1z\"></path></svg></li></ul><div class=\"text-center my-2 pr-4 pl-2\"><button class=\"text-white bg-purple-700 hover:bg-purple-800 focus:ring-4 focus:ring-purple-300 font-medium rounded-lg text-sm px-3 py-2 text-center inline-flex items-center mx-1 dark:bg-purple-500 dark:hover:bg-purple-800\">Login</button><button class=\"text-white bg-purple-700 hover:bg-purple-800 focus:ring-4 focus:ring-purple-300 font-medium rounded-lg text-sm px-3 py-2 text-center inline-flex items-center mx-1 dark:bg-purple-500 dark:hover:bg-purple-800\">Signup</button></div></div></div>\n"
     ]
    }
   ],
   "source": [
    "print(navcontent.parent) "
   ]
  },
  {
   "cell_type": "code",
   "execution_count": 45,
   "id": "1040ffba",
   "metadata": {},
   "outputs": [
    {
     "name": "stdout",
     "output_type": "stream",
     "text": [
      "<generator object PageElement.parents at 0x00000208DEAA7F90>\n"
     ]
    }
   ],
   "source": [
    "print(navcontent.parents)  "
   ]
  },
  {
   "cell_type": "markdown",
   "id": "ddb03218",
   "metadata": {},
   "source": [
    "# print the parents tag of the current element, from starting to current"
   ]
  },
  {
   "cell_type": "code",
   "execution_count": 46,
   "id": "73ca5284",
   "metadata": {},
   "outputs": [
    {
     "name": "stdout",
     "output_type": "stream",
     "text": [
      "<div class=\"w-full flex flex-wrap items-center lg:justify-between mt-0 py-4\"><div class=\"px-0 lg:pl-4 flex items-center lg:mx-4 cursor-pointer text-purple-700 text-xl font-bold mx-3 dark:text-purple-300\"><a href=\"/\">CodeWithHarry</a></div><div class=\"flex items-center md:hidden\"><div class=\"text-purple-700 text-md font-semibold\">Menu</div><svg class=\"text-purple-700 mt-1\" fill=\"currentColor\" height=\"1em\" stroke=\"currentColor\" stroke-width=\"0\" viewbox=\"0 0 1024 1024\" width=\"1em\" xmlns=\"http://www.w3.org/2000/svg\"><path d=\"M840.4 300H183.6c-19.7 0-30.7 20.8-18.5 35l328.4 380.8c9.4 10.9 27.5 10.9 37 0L858.9 335c12.2-14.2 1.2-35-18.5-35z\"></path></svg></div><svg class=\"md:hidden text-purple-700 mt-1 ml-2 cursor-pointer dark:text-white\" fill=\"currentColor\" height=\"28\" stroke=\"currentColor\" stroke-width=\"0\" viewbox=\"0 0 16 16\" width=\"28\" xmlns=\"http://www.w3.org/2000/svg\"><path d=\"M6 .278a.768.768 0 0 1 .08.858 7.208 7.208 0 0 0-.878 3.46c0 4.021 3.278 7.277 7.318 7.277.527 0 1.04-.055 1.533-.16a.787.787 0 0 1 .81.316.733.733 0 0 1-.031.893A8.349 8.349 0 0 1 8.344 16C3.734 16 0 12.286 0 7.71 0 4.266 2.114 1.312 5.124.06A.752.752 0 0 1 6 .278z\"></path><path d=\"M10.794 3.148a.217.217 0 0 1 .412 0l.387 1.162c.173.518.579.924 1.097 1.097l1.162.387a.217.217 0 0 1 0 .412l-1.162.387a1.734 1.734 0 0 0-1.097 1.097l-.387 1.162a.217.217 0 0 1-.412 0l-.387-1.162A1.734 1.734 0 0 0 9.31 6.593l-1.162-.387a.217.217 0 0 1 0-.412l1.162-.387a1.734 1.734 0 0 0 1.097-1.097l.387-1.162zM13.863.099a.145.145 0 0 1 .274 0l.258.774c.115.346.386.617.732.732l.774.258a.145.145 0 0 1 0 .274l-.774.258a1.156 1.156 0 0 0-.732.732l-.258.774a.145.145 0 0 1-.274 0l-.258-.774a1.156 1.156 0 0 0-.732-.732l-.774-.258a.145.145 0 0 1 0-.274l.774-.258c.346-.115.617-.386.732-.732L13.863.1z\"></path></svg><button class=\"md:hidden text-white bg-purple-700 hover:bg-purple-800 focus:ring-4 focus:ring-purple-300 font-medium rounded-lg text-sm px-3 py-2 text-center inline-flex items-center mx-1 absolute right-3 md:right-12\">Login</button><div class=\"w-full flex-grow lg:flex lg:flex-1 lg:content-center lg:justify-end lg:w-auto h-0 lg:h-auto overflow-hidden mt-2 lg:mt-0 z-20 transition-all\" id=\"nav-content\"><ul class=\"flex items-center flex-col lg:flex-row\"><div class=\"search-icon cursor-pointer px-6 hidden\" id=\"search-toggle\"><svg class=\"fill-current pointer-events-none text-grey-darkest w-4 h-4 inline\" viewbox=\"0 0 20 20\" xmlns=\"http://www.w3.org/2000/svg\"><path d=\"M12.9 14.32a8 8 0 1 1 1.41-1.41l5.35 5.33-1.42 1.42-5.33-5.34zM8 14A6 6 0 1 0 8 2a6 6 0 0 0 0 12z\"></path></svg></div><li class=\"mx-2 my-2 text-black hover:border-b-2 hover:border-purple-700 dark:text-white\"><a href=\"/\">Home</a></li><li class=\"mx-2 my-2 text-black hover:border-b-2 hover:border-purple-700 dark:text-white\"><a href=\"/videos/\">Courses</a></li><li class=\"mx-2 my-2 text-black hover:border-b-2 hover:border-purple-700 dark:text-white\"><a href=\"/tutorials/\">Tutorial</a></li><li class=\"mx-2 my-2 text-black hover:border-b-2 hover:border-purple-700 dark:text-white\"><a href=\"/blog/\">Blog</a></li><li class=\"mx-2 my-2 text-black hover:border-b-2 hover:border-purple-700 dark:text-white\"><a href=\"/notes/\">Notes</a></li><li class=\"mx-2 my-2 text-black hover:border-b-2 hover:border-purple-700 dark:text-white\"><a href=\"/contact/\">Contact</a></li><li class=\"mx-2 my-2 text-black hover:border-b-2 hover:border-purple-700 dark:text-white\"><a href=\"/my-gear/\">My Gear</a></li><li class=\"mx-2 my-2 text-black hover:border-b-2 hover:border-purple-700 dark:text-white\"><a href=\"/work/\">Work With Us</a></li><li><svg class=\"hidden md:block text-purple-700 mt-1 ml-2 cursor-pointer dark:text-white\" fill=\"currentColor\" height=\"28\" stroke=\"currentColor\" stroke-width=\"0\" viewbox=\"0 0 16 16\" width=\"28\" xmlns=\"http://www.w3.org/2000/svg\"><path d=\"M6 .278a.768.768 0 0 1 .08.858 7.208 7.208 0 0 0-.878 3.46c0 4.021 3.278 7.277 7.318 7.277.527 0 1.04-.055 1.533-.16a.787.787 0 0 1 .81.316.733.733 0 0 1-.031.893A8.349 8.349 0 0 1 8.344 16C3.734 16 0 12.286 0 7.71 0 4.266 2.114 1.312 5.124.06A.752.752 0 0 1 6 .278z\"></path><path d=\"M10.794 3.148a.217.217 0 0 1 .412 0l.387 1.162c.173.518.579.924 1.097 1.097l1.162.387a.217.217 0 0 1 0 .412l-1.162.387a1.734 1.734 0 0 0-1.097 1.097l-.387 1.162a.217.217 0 0 1-.412 0l-.387-1.162A1.734 1.734 0 0 0 9.31 6.593l-1.162-.387a.217.217 0 0 1 0-.412l1.162-.387a1.734 1.734 0 0 0 1.097-1.097l.387-1.162zM13.863.099a.145.145 0 0 1 .274 0l.258.774c.115.346.386.617.732.732l.774.258a.145.145 0 0 1 0 .274l-.774.258a1.156 1.156 0 0 0-.732.732l-.258.774a.145.145 0 0 1-.274 0l-.258-.774a1.156 1.156 0 0 0-.732-.732l-.774-.258a.145.145 0 0 1 0-.274l.774-.258c.346-.115.617-.386.732-.732L13.863.1z\"></path></svg></li></ul><div class=\"text-center my-2 pr-4 pl-2\"><button class=\"text-white bg-purple-700 hover:bg-purple-800 focus:ring-4 focus:ring-purple-300 font-medium rounded-lg text-sm px-3 py-2 text-center inline-flex items-center mx-1 dark:bg-purple-500 dark:hover:bg-purple-800\">Login</button><button class=\"text-white bg-purple-700 hover:bg-purple-800 focus:ring-4 focus:ring-purple-300 font-medium rounded-lg text-sm px-3 py-2 text-center inline-flex items-center mx-1 dark:bg-purple-500 dark:hover:bg-purple-800\">Signup</button></div></div></div>\n",
      "<div class=\"w-full z-10 sticky bg-white top-0 border-b border-grey-light shadow-md dark:bg-gray-800 dark:border-black\" id=\"imgpreview2\"><div class=\"w-full flex flex-wrap items-center lg:justify-between mt-0 py-4\"><div class=\"px-0 lg:pl-4 flex items-center lg:mx-4 cursor-pointer text-purple-700 text-xl font-bold mx-3 dark:text-purple-300\"><a href=\"/\">CodeWithHarry</a></div><div class=\"flex items-center md:hidden\"><div class=\"text-purple-700 text-md font-semibold\">Menu</div><svg class=\"text-purple-700 mt-1\" fill=\"currentColor\" height=\"1em\" stroke=\"currentColor\" stroke-width=\"0\" viewbox=\"0 0 1024 1024\" width=\"1em\" xmlns=\"http://www.w3.org/2000/svg\"><path d=\"M840.4 300H183.6c-19.7 0-30.7 20.8-18.5 35l328.4 380.8c9.4 10.9 27.5 10.9 37 0L858.9 335c12.2-14.2 1.2-35-18.5-35z\"></path></svg></div><svg class=\"md:hidden text-purple-700 mt-1 ml-2 cursor-pointer dark:text-white\" fill=\"currentColor\" height=\"28\" stroke=\"currentColor\" stroke-width=\"0\" viewbox=\"0 0 16 16\" width=\"28\" xmlns=\"http://www.w3.org/2000/svg\"><path d=\"M6 .278a.768.768 0 0 1 .08.858 7.208 7.208 0 0 0-.878 3.46c0 4.021 3.278 7.277 7.318 7.277.527 0 1.04-.055 1.533-.16a.787.787 0 0 1 .81.316.733.733 0 0 1-.031.893A8.349 8.349 0 0 1 8.344 16C3.734 16 0 12.286 0 7.71 0 4.266 2.114 1.312 5.124.06A.752.752 0 0 1 6 .278z\"></path><path d=\"M10.794 3.148a.217.217 0 0 1 .412 0l.387 1.162c.173.518.579.924 1.097 1.097l1.162.387a.217.217 0 0 1 0 .412l-1.162.387a1.734 1.734 0 0 0-1.097 1.097l-.387 1.162a.217.217 0 0 1-.412 0l-.387-1.162A1.734 1.734 0 0 0 9.31 6.593l-1.162-.387a.217.217 0 0 1 0-.412l1.162-.387a1.734 1.734 0 0 0 1.097-1.097l.387-1.162zM13.863.099a.145.145 0 0 1 .274 0l.258.774c.115.346.386.617.732.732l.774.258a.145.145 0 0 1 0 .274l-.774.258a1.156 1.156 0 0 0-.732.732l-.258.774a.145.145 0 0 1-.274 0l-.258-.774a1.156 1.156 0 0 0-.732-.732l-.774-.258a.145.145 0 0 1 0-.274l.774-.258c.346-.115.617-.386.732-.732L13.863.1z\"></path></svg><button class=\"md:hidden text-white bg-purple-700 hover:bg-purple-800 focus:ring-4 focus:ring-purple-300 font-medium rounded-lg text-sm px-3 py-2 text-center inline-flex items-center mx-1 absolute right-3 md:right-12\">Login</button><div class=\"w-full flex-grow lg:flex lg:flex-1 lg:content-center lg:justify-end lg:w-auto h-0 lg:h-auto overflow-hidden mt-2 lg:mt-0 z-20 transition-all\" id=\"nav-content\"><ul class=\"flex items-center flex-col lg:flex-row\"><div class=\"search-icon cursor-pointer px-6 hidden\" id=\"search-toggle\"><svg class=\"fill-current pointer-events-none text-grey-darkest w-4 h-4 inline\" viewbox=\"0 0 20 20\" xmlns=\"http://www.w3.org/2000/svg\"><path d=\"M12.9 14.32a8 8 0 1 1 1.41-1.41l5.35 5.33-1.42 1.42-5.33-5.34zM8 14A6 6 0 1 0 8 2a6 6 0 0 0 0 12z\"></path></svg></div><li class=\"mx-2 my-2 text-black hover:border-b-2 hover:border-purple-700 dark:text-white\"><a href=\"/\">Home</a></li><li class=\"mx-2 my-2 text-black hover:border-b-2 hover:border-purple-700 dark:text-white\"><a href=\"/videos/\">Courses</a></li><li class=\"mx-2 my-2 text-black hover:border-b-2 hover:border-purple-700 dark:text-white\"><a href=\"/tutorials/\">Tutorial</a></li><li class=\"mx-2 my-2 text-black hover:border-b-2 hover:border-purple-700 dark:text-white\"><a href=\"/blog/\">Blog</a></li><li class=\"mx-2 my-2 text-black hover:border-b-2 hover:border-purple-700 dark:text-white\"><a href=\"/notes/\">Notes</a></li><li class=\"mx-2 my-2 text-black hover:border-b-2 hover:border-purple-700 dark:text-white\"><a href=\"/contact/\">Contact</a></li><li class=\"mx-2 my-2 text-black hover:border-b-2 hover:border-purple-700 dark:text-white\"><a href=\"/my-gear/\">My Gear</a></li><li class=\"mx-2 my-2 text-black hover:border-b-2 hover:border-purple-700 dark:text-white\"><a href=\"/work/\">Work With Us</a></li><li><svg class=\"hidden md:block text-purple-700 mt-1 ml-2 cursor-pointer dark:text-white\" fill=\"currentColor\" height=\"28\" stroke=\"currentColor\" stroke-width=\"0\" viewbox=\"0 0 16 16\" width=\"28\" xmlns=\"http://www.w3.org/2000/svg\"><path d=\"M6 .278a.768.768 0 0 1 .08.858 7.208 7.208 0 0 0-.878 3.46c0 4.021 3.278 7.277 7.318 7.277.527 0 1.04-.055 1.533-.16a.787.787 0 0 1 .81.316.733.733 0 0 1-.031.893A8.349 8.349 0 0 1 8.344 16C3.734 16 0 12.286 0 7.71 0 4.266 2.114 1.312 5.124.06A.752.752 0 0 1 6 .278z\"></path><path d=\"M10.794 3.148a.217.217 0 0 1 .412 0l.387 1.162c.173.518.579.924 1.097 1.097l1.162.387a.217.217 0 0 1 0 .412l-1.162.387a1.734 1.734 0 0 0-1.097 1.097l-.387 1.162a.217.217 0 0 1-.412 0l-.387-1.162A1.734 1.734 0 0 0 9.31 6.593l-1.162-.387a.217.217 0 0 1 0-.412l1.162-.387a1.734 1.734 0 0 0 1.097-1.097l.387-1.162zM13.863.099a.145.145 0 0 1 .274 0l.258.774c.115.346.386.617.732.732l.774.258a.145.145 0 0 1 0 .274l-.774.258a1.156 1.156 0 0 0-.732.732l-.258.774a.145.145 0 0 1-.274 0l-.258-.774a1.156 1.156 0 0 0-.732-.732l-.774-.258a.145.145 0 0 1 0-.274l.774-.258c.346-.115.617-.386.732-.732L13.863.1z\"></path></svg></li></ul><div class=\"text-center my-2 pr-4 pl-2\"><button class=\"text-white bg-purple-700 hover:bg-purple-800 focus:ring-4 focus:ring-purple-300 font-medium rounded-lg text-sm px-3 py-2 text-center inline-flex items-center mx-1 dark:bg-purple-500 dark:hover:bg-purple-800\">Login</button><button class=\"text-white bg-purple-700 hover:bg-purple-800 focus:ring-4 focus:ring-purple-300 font-medium rounded-lg text-sm px-3 py-2 text-center inline-flex items-center mx-1 dark:bg-purple-500 dark:hover:bg-purple-800\">Signup</button></div></div></div><hr class=\"dark:border-gray-500\"/><div class=\"max-h-[6vh] min-h-[40px] flex items-center ml-3 mr-3 md:ml-10 md:mr-10 my-1\"><span><svg class=\"text-purple-700 text-xl cursor-pointer dark:text-purple-300\" fill=\"currentColor\" height=\"1em\" stroke=\"currentColor\" stroke-width=\"0\" viewbox=\"0 0 1024 1024\" width=\"1em\" xmlns=\"http://www.w3.org/2000/svg\"><path d=\"M946.5 505L534.6 93.4a31.93 31.93 0 0 0-45.2 0L77.5 505c-12 12-18.8 28.3-18.8 45.3 0 35.3 28.7 64 64 64h43.4V908c0 17.7 14.3 32 32 32H448V716h112v224h265.9c17.7 0 32-14.3 32-32V614.3h43.4c17 0 33.3-6.7 45.3-18.8 24.9-25 24.9-65.5-.1-90.5z\"></path></svg></span><ul class=\"space-x-7 m-auto text-purple-700 font-semibold hidden md:flex items-center\"><li class=\"cursor-pointer hover:border-b-2 hover:border-purple-700 active:border-b-4 dark:text-purple-300\"><a href=\"/tutorial/html-home/\">HTML</a></li><li class=\"cursor-pointer hover:border-b-2 hover:border-purple-700 active:border-b-4 dark:text-purple-300\"><a href=\"/tutorial/css-home/\">CSS</a></li><li class=\"cursor-pointer hover:border-b-2 hover:border-purple-700 active:border-b-4 dark:text-purple-300\"><a href=\"/tutorial/js/\">JS</a></li><li class=\"cursor-pointer hover:border-b-2 hover:border-purple-700 active:border-b-4 dark:text-purple-300\"><a href=\"/tutorial/c/\">C</a></li><li class=\"cursor-pointer hover:border-b-2 hover:border-purple-700 active:border-b-4 dark:text-purple-300\"><a href=\"/tutorial/cplusplus/\">C++</a></li><li class=\"cursor-pointer hover:border-b-2 hover:border-purple-700 active:border-b-4 dark:text-purple-300\"><a href=\"/tutorial/java/\">JAVA</a></li><li class=\"cursor-pointer hover:border-b-2 hover:border-purple-700 active:border-b-4 dark:text-purple-300\"><a href=\"/tutorial/python/\">PYTHON</a></li><li class=\"cursor-pointer hover:border-b-2 hover:border-purple-700 active:border-b-4 dark:text-purple-300\"><a href=\"/tutorial/php/\">PHP</a></li><li class=\"cursor-pointer hover:border-b-2 hover:border-purple-700 active:border-b-4 dark:text-purple-300\"><a href=\"/tutorial/react-home/\">REACT JS</a></li></ul><input class=\"hidden right-10 md:right-10 absolute w-48 md:w-60 h-8 bg-white rounded border-2 border-purple-500 focus:border-purple-700 focus:ring-2 focus:ring-indigo-200 text-base outline-none text-gray-700 py-1 px-3 leading-8 transition-colors duration-200 ease-in-out dark:bg-gray-500 dark:text-gray-200\" id=\"search\" placeholder=\"Search...\"/><svg class=\"text-purple-700 dark:text-purple-300 cursor-pointer text-2xl absolute right-3 md:right-12 }\" fill=\"currentColor\" height=\"1em\" stroke=\"currentColor\" stroke-width=\"0\" viewbox=\"0 0 1024 1024\" width=\"1em\" xmlns=\"http://www.w3.org/2000/svg\"><path d=\"M909.6 854.5L649.9 594.8C690.2 542.7 712 479 712 412c0-80.2-31.3-155.4-87.9-212.1-56.6-56.7-132-87.9-212.1-87.9s-155.5 31.3-212.1 87.9C143.2 256.5 112 331.8 112 412c0 80.1 31.3 155.5 87.9 212.1C256.5 680.8 331.8 712 412 712c67 0 130.6-21.8 182.7-62l259.7 259.6a8.2 8.2 0 0 0 11.6 0l43.6-43.5a8.2 8.2 0 0 0 0-11.6zM570.4 570.4C528 612.7 471.8 636 412 636s-116-23.3-158.4-65.6C211.3 528 188 471.8 188 412s23.3-116.1 65.6-158.4C296 211.3 352.2 188 412 188s116.1 23.2 158.4 65.6S636 352.2 636 412s-23.3 116.1-65.6 158.4z\"></path></svg></div><div class=\"bg-purple-100 text-center shadow-lg absolute w-full dark:bg-gray-600 hidden mt-1 md:hidden\"><ul><li class=\"pt-4 text-purple-500 font-bold\"><a href=\"/\">Home</a></li><li class=\"pt-4 text-purple-500 font-bold\"><a href=\"/videos/\">Courses</a></li><li class=\"pt-4 text-purple-500 font-bold flex justify-center ml-3\">Tutorial <!-- --><svg class=\"mt-1\" fill=\"currentColor\" height=\"1em\" stroke=\"currentColor\" stroke-width=\"0\" viewbox=\"0 0 1024 1024\" width=\"1em\" xmlns=\"http://www.w3.org/2000/svg\"><path d=\"M840.4 300H183.6c-19.7 0-30.7 20.8-18.5 35l328.4 380.8c9.4 10.9 27.5 10.9 37 0L858.9 335c12.2-14.2 1.2-35-18.5-35z\"></path></svg></li><li class=\"my-2 text-purple-500 font-semibold text-sm bg-purple-200 dark:bg-gray-700 hidden\"><ul><li class=\"cursor-pointer py-1 border-y-2 dark:border-gray-400\"><a href=\"/tutorial/html-home/\">HTML</a></li><li class=\"cursor-pointer py-1 border-b-2 dark:border-gray-400\"><a href=\"/tutorial/css-home/\">CSS</a></li><li class=\"cursor-pointer py-1 border-b-2 dark:border-gray-400\"><a href=\"/tutorial/js/\">JS</a></li><li class=\"cursor-pointer py-1 border-b-2 dark:border-gray-400\"><a href=\"/tutorial/c/\">C</a></li><li class=\"cursor-pointer py-1 border-b-2 dark:border-gray-400\"><a href=\"/tutorial/cplusplus/\">C++</a></li><li class=\"cursor-pointer py-1 border-b-2 dark:border-gray-400\"><a href=\"/tutorial/java/\">JAVA</a></li><li class=\"cursor-pointer py-1 border-b-2 dark:border-gray-400\"><a href=\"/tutorial/python/\">PYTHON</a></li><li class=\"cursor-pointer py-1 border-b-2 dark:border-gray-400\"><a href=\"/tutorial/php/\">PHP</a></li><li class=\"cursor-pointer py-1 border-b-2 dark:border-gray-400\"><a href=\"/tutorial/react-home/\">REACT JS</a></li></ul></li><li class=\"pt-4 text-purple-500 font-bold\"><a href=\"/blog/\">Blog</a></li><li class=\"pt-4 text-purple-500 font-bold\"><a href=\"/notes/\">Notes</a></li><li class=\"pt-4 text-purple-500 font-bold\"><a href=\"/contact/\">Contact</a></li><li class=\"pt-4 text-purple-500 font-bold\"><a href=\"/my-gear/\">My Gear</a></li><li class=\"pt-4 pb-4 text-purple-500 font-bold\"><a href=\"/work/\">Work With Us</a></li></ul></div></div>\n",
      "<div class=\"\"><div class=\"\" style=\"position:fixed;top:0;left:0;height:2px;background:transparent;z-index:99999999999;width:100%\"><div class=\"\" style=\"height:100%;background:purple;transition:all 500ms ease;width:0%\"><div style=\"box-shadow:0 0 10px purple, 0 0 10px purple;width:5%;opacity:1;position:absolute;height:100%;transition:all 500ms ease;transform:rotate(3deg) translate(0px, -4px);left:-10rem\"></div></div></div><div class=\"w-full z-10 sticky bg-white top-0 border-b border-grey-light shadow-md dark:bg-gray-800 dark:border-black\" id=\"imgpreview2\"><div class=\"w-full flex flex-wrap items-center lg:justify-between mt-0 py-4\"><div class=\"px-0 lg:pl-4 flex items-center lg:mx-4 cursor-pointer text-purple-700 text-xl font-bold mx-3 dark:text-purple-300\"><a href=\"/\">CodeWithHarry</a></div><div class=\"flex items-center md:hidden\"><div class=\"text-purple-700 text-md font-semibold\">Menu</div><svg class=\"text-purple-700 mt-1\" fill=\"currentColor\" height=\"1em\" stroke=\"currentColor\" stroke-width=\"0\" viewbox=\"0 0 1024 1024\" width=\"1em\" xmlns=\"http://www.w3.org/2000/svg\"><path d=\"M840.4 300H183.6c-19.7 0-30.7 20.8-18.5 35l328.4 380.8c9.4 10.9 27.5 10.9 37 0L858.9 335c12.2-14.2 1.2-35-18.5-35z\"></path></svg></div><svg class=\"md:hidden text-purple-700 mt-1 ml-2 cursor-pointer dark:text-white\" fill=\"currentColor\" height=\"28\" stroke=\"currentColor\" stroke-width=\"0\" viewbox=\"0 0 16 16\" width=\"28\" xmlns=\"http://www.w3.org/2000/svg\"><path d=\"M6 .278a.768.768 0 0 1 .08.858 7.208 7.208 0 0 0-.878 3.46c0 4.021 3.278 7.277 7.318 7.277.527 0 1.04-.055 1.533-.16a.787.787 0 0 1 .81.316.733.733 0 0 1-.031.893A8.349 8.349 0 0 1 8.344 16C3.734 16 0 12.286 0 7.71 0 4.266 2.114 1.312 5.124.06A.752.752 0 0 1 6 .278z\"></path><path d=\"M10.794 3.148a.217.217 0 0 1 .412 0l.387 1.162c.173.518.579.924 1.097 1.097l1.162.387a.217.217 0 0 1 0 .412l-1.162.387a1.734 1.734 0 0 0-1.097 1.097l-.387 1.162a.217.217 0 0 1-.412 0l-.387-1.162A1.734 1.734 0 0 0 9.31 6.593l-1.162-.387a.217.217 0 0 1 0-.412l1.162-.387a1.734 1.734 0 0 0 1.097-1.097l.387-1.162zM13.863.099a.145.145 0 0 1 .274 0l.258.774c.115.346.386.617.732.732l.774.258a.145.145 0 0 1 0 .274l-.774.258a1.156 1.156 0 0 0-.732.732l-.258.774a.145.145 0 0 1-.274 0l-.258-.774a1.156 1.156 0 0 0-.732-.732l-.774-.258a.145.145 0 0 1 0-.274l.774-.258c.346-.115.617-.386.732-.732L13.863.1z\"></path></svg><button class=\"md:hidden text-white bg-purple-700 hover:bg-purple-800 focus:ring-4 focus:ring-purple-300 font-medium rounded-lg text-sm px-3 py-2 text-center inline-flex items-center mx-1 absolute right-3 md:right-12\">Login</button><div class=\"w-full flex-grow lg:flex lg:flex-1 lg:content-center lg:justify-end lg:w-auto h-0 lg:h-auto overflow-hidden mt-2 lg:mt-0 z-20 transition-all\" id=\"nav-content\"><ul class=\"flex items-center flex-col lg:flex-row\"><div class=\"search-icon cursor-pointer px-6 hidden\" id=\"search-toggle\"><svg class=\"fill-current pointer-events-none text-grey-darkest w-4 h-4 inline\" viewbox=\"0 0 20 20\" xmlns=\"http://www.w3.org/2000/svg\"><path d=\"M12.9 14.32a8 8 0 1 1 1.41-1.41l5.35 5.33-1.42 1.42-5.33-5.34zM8 14A6 6 0 1 0 8 2a6 6 0 0 0 0 12z\"></path></svg></div><li class=\"mx-2 my-2 text-black hover:border-b-2 hover:border-purple-700 dark:text-white\"><a href=\"/\">Home</a></li><li class=\"mx-2 my-2 text-black hover:border-b-2 hover:border-purple-700 dark:text-white\"><a href=\"/videos/\">Courses</a></li><li class=\"mx-2 my-2 text-black hover:border-b-2 hover:border-purple-700 dark:text-white\"><a href=\"/tutorials/\">Tutorial</a></li><li class=\"mx-2 my-2 text-black hover:border-b-2 hover:border-purple-700 dark:text-white\"><a href=\"/blog/\">Blog</a></li><li class=\"mx-2 my-2 text-black hover:border-b-2 hover:border-purple-700 dark:text-white\"><a href=\"/notes/\">Notes</a></li><li class=\"mx-2 my-2 text-black hover:border-b-2 hover:border-purple-700 dark:text-white\"><a href=\"/contact/\">Contact</a></li><li class=\"mx-2 my-2 text-black hover:border-b-2 hover:border-purple-700 dark:text-white\"><a href=\"/my-gear/\">My Gear</a></li><li class=\"mx-2 my-2 text-black hover:border-b-2 hover:border-purple-700 dark:text-white\"><a href=\"/work/\">Work With Us</a></li><li><svg class=\"hidden md:block text-purple-700 mt-1 ml-2 cursor-pointer dark:text-white\" fill=\"currentColor\" height=\"28\" stroke=\"currentColor\" stroke-width=\"0\" viewbox=\"0 0 16 16\" width=\"28\" xmlns=\"http://www.w3.org/2000/svg\"><path d=\"M6 .278a.768.768 0 0 1 .08.858 7.208 7.208 0 0 0-.878 3.46c0 4.021 3.278 7.277 7.318 7.277.527 0 1.04-.055 1.533-.16a.787.787 0 0 1 .81.316.733.733 0 0 1-.031.893A8.349 8.349 0 0 1 8.344 16C3.734 16 0 12.286 0 7.71 0 4.266 2.114 1.312 5.124.06A.752.752 0 0 1 6 .278z\"></path><path d=\"M10.794 3.148a.217.217 0 0 1 .412 0l.387 1.162c.173.518.579.924 1.097 1.097l1.162.387a.217.217 0 0 1 0 .412l-1.162.387a1.734 1.734 0 0 0-1.097 1.097l-.387 1.162a.217.217 0 0 1-.412 0l-.387-1.162A1.734 1.734 0 0 0 9.31 6.593l-1.162-.387a.217.217 0 0 1 0-.412l1.162-.387a1.734 1.734 0 0 0 1.097-1.097l.387-1.162zM13.863.099a.145.145 0 0 1 .274 0l.258.774c.115.346.386.617.732.732l.774.258a.145.145 0 0 1 0 .274l-.774.258a1.156 1.156 0 0 0-.732.732l-.258.774a.145.145 0 0 1-.274 0l-.258-.774a1.156 1.156 0 0 0-.732-.732l-.774-.258a.145.145 0 0 1 0-.274l.774-.258c.346-.115.617-.386.732-.732L13.863.1z\"></path></svg></li></ul><div class=\"text-center my-2 pr-4 pl-2\"><button class=\"text-white bg-purple-700 hover:bg-purple-800 focus:ring-4 focus:ring-purple-300 font-medium rounded-lg text-sm px-3 py-2 text-center inline-flex items-center mx-1 dark:bg-purple-500 dark:hover:bg-purple-800\">Login</button><button class=\"text-white bg-purple-700 hover:bg-purple-800 focus:ring-4 focus:ring-purple-300 font-medium rounded-lg text-sm px-3 py-2 text-center inline-flex items-center mx-1 dark:bg-purple-500 dark:hover:bg-purple-800\">Signup</button></div></div></div><hr class=\"dark:border-gray-500\"/><div class=\"max-h-[6vh] min-h-[40px] flex items-center ml-3 mr-3 md:ml-10 md:mr-10 my-1\"><span><svg class=\"text-purple-700 text-xl cursor-pointer dark:text-purple-300\" fill=\"currentColor\" height=\"1em\" stroke=\"currentColor\" stroke-width=\"0\" viewbox=\"0 0 1024 1024\" width=\"1em\" xmlns=\"http://www.w3.org/2000/svg\"><path d=\"M946.5 505L534.6 93.4a31.93 31.93 0 0 0-45.2 0L77.5 505c-12 12-18.8 28.3-18.8 45.3 0 35.3 28.7 64 64 64h43.4V908c0 17.7 14.3 32 32 32H448V716h112v224h265.9c17.7 0 32-14.3 32-32V614.3h43.4c17 0 33.3-6.7 45.3-18.8 24.9-25 24.9-65.5-.1-90.5z\"></path></svg></span><ul class=\"space-x-7 m-auto text-purple-700 font-semibold hidden md:flex items-center\"><li class=\"cursor-pointer hover:border-b-2 hover:border-purple-700 active:border-b-4 dark:text-purple-300\"><a href=\"/tutorial/html-home/\">HTML</a></li><li class=\"cursor-pointer hover:border-b-2 hover:border-purple-700 active:border-b-4 dark:text-purple-300\"><a href=\"/tutorial/css-home/\">CSS</a></li><li class=\"cursor-pointer hover:border-b-2 hover:border-purple-700 active:border-b-4 dark:text-purple-300\"><a href=\"/tutorial/js/\">JS</a></li><li class=\"cursor-pointer hover:border-b-2 hover:border-purple-700 active:border-b-4 dark:text-purple-300\"><a href=\"/tutorial/c/\">C</a></li><li class=\"cursor-pointer hover:border-b-2 hover:border-purple-700 active:border-b-4 dark:text-purple-300\"><a href=\"/tutorial/cplusplus/\">C++</a></li><li class=\"cursor-pointer hover:border-b-2 hover:border-purple-700 active:border-b-4 dark:text-purple-300\"><a href=\"/tutorial/java/\">JAVA</a></li><li class=\"cursor-pointer hover:border-b-2 hover:border-purple-700 active:border-b-4 dark:text-purple-300\"><a href=\"/tutorial/python/\">PYTHON</a></li><li class=\"cursor-pointer hover:border-b-2 hover:border-purple-700 active:border-b-4 dark:text-purple-300\"><a href=\"/tutorial/php/\">PHP</a></li><li class=\"cursor-pointer hover:border-b-2 hover:border-purple-700 active:border-b-4 dark:text-purple-300\"><a href=\"/tutorial/react-home/\">REACT JS</a></li></ul><input class=\"hidden right-10 md:right-10 absolute w-48 md:w-60 h-8 bg-white rounded border-2 border-purple-500 focus:border-purple-700 focus:ring-2 focus:ring-indigo-200 text-base outline-none text-gray-700 py-1 px-3 leading-8 transition-colors duration-200 ease-in-out dark:bg-gray-500 dark:text-gray-200\" id=\"search\" placeholder=\"Search...\"/><svg class=\"text-purple-700 dark:text-purple-300 cursor-pointer text-2xl absolute right-3 md:right-12 }\" fill=\"currentColor\" height=\"1em\" stroke=\"currentColor\" stroke-width=\"0\" viewbox=\"0 0 1024 1024\" width=\"1em\" xmlns=\"http://www.w3.org/2000/svg\"><path d=\"M909.6 854.5L649.9 594.8C690.2 542.7 712 479 712 412c0-80.2-31.3-155.4-87.9-212.1-56.6-56.7-132-87.9-212.1-87.9s-155.5 31.3-212.1 87.9C143.2 256.5 112 331.8 112 412c0 80.1 31.3 155.5 87.9 212.1C256.5 680.8 331.8 712 412 712c67 0 130.6-21.8 182.7-62l259.7 259.6a8.2 8.2 0 0 0 11.6 0l43.6-43.5a8.2 8.2 0 0 0 0-11.6zM570.4 570.4C528 612.7 471.8 636 412 636s-116-23.3-158.4-65.6C211.3 528 188 471.8 188 412s23.3-116.1 65.6-158.4C296 211.3 352.2 188 412 188s116.1 23.2 158.4 65.6S636 352.2 636 412s-23.3 116.1-65.6 158.4z\"></path></svg></div><div class=\"bg-purple-100 text-center shadow-lg absolute w-full dark:bg-gray-600 hidden mt-1 md:hidden\"><ul><li class=\"pt-4 text-purple-500 font-bold\"><a href=\"/\">Home</a></li><li class=\"pt-4 text-purple-500 font-bold\"><a href=\"/videos/\">Courses</a></li><li class=\"pt-4 text-purple-500 font-bold flex justify-center ml-3\">Tutorial <!-- --><svg class=\"mt-1\" fill=\"currentColor\" height=\"1em\" stroke=\"currentColor\" stroke-width=\"0\" viewbox=\"0 0 1024 1024\" width=\"1em\" xmlns=\"http://www.w3.org/2000/svg\"><path d=\"M840.4 300H183.6c-19.7 0-30.7 20.8-18.5 35l328.4 380.8c9.4 10.9 27.5 10.9 37 0L858.9 335c12.2-14.2 1.2-35-18.5-35z\"></path></svg></li><li class=\"my-2 text-purple-500 font-semibold text-sm bg-purple-200 dark:bg-gray-700 hidden\"><ul><li class=\"cursor-pointer py-1 border-y-2 dark:border-gray-400\"><a href=\"/tutorial/html-home/\">HTML</a></li><li class=\"cursor-pointer py-1 border-b-2 dark:border-gray-400\"><a href=\"/tutorial/css-home/\">CSS</a></li><li class=\"cursor-pointer py-1 border-b-2 dark:border-gray-400\"><a href=\"/tutorial/js/\">JS</a></li><li class=\"cursor-pointer py-1 border-b-2 dark:border-gray-400\"><a href=\"/tutorial/c/\">C</a></li><li class=\"cursor-pointer py-1 border-b-2 dark:border-gray-400\"><a href=\"/tutorial/cplusplus/\">C++</a></li><li class=\"cursor-pointer py-1 border-b-2 dark:border-gray-400\"><a href=\"/tutorial/java/\">JAVA</a></li><li class=\"cursor-pointer py-1 border-b-2 dark:border-gray-400\"><a href=\"/tutorial/python/\">PYTHON</a></li><li class=\"cursor-pointer py-1 border-b-2 dark:border-gray-400\"><a href=\"/tutorial/php/\">PHP</a></li><li class=\"cursor-pointer py-1 border-b-2 dark:border-gray-400\"><a href=\"/tutorial/react-home/\">REACT JS</a></li></ul></li><li class=\"pt-4 text-purple-500 font-bold\"><a href=\"/blog/\">Blog</a></li><li class=\"pt-4 text-purple-500 font-bold\"><a href=\"/notes/\">Notes</a></li><li class=\"pt-4 text-purple-500 font-bold\"><a href=\"/contact/\">Contact</a></li><li class=\"pt-4 text-purple-500 font-bold\"><a href=\"/my-gear/\">My Gear</a></li><li class=\"pt-4 pb-4 text-purple-500 font-bold\"><a href=\"/work/\">Work With Us</a></li></ul></div></div><div class=\"dark:bg-gray-900\"><div class=\"Toastify\"></div><div class=\"flex bg-white h-96 container mx-auto dark:bg-gray-900\"><div class=\"flex items-center text-center lg:text-left px-8 md:px-12 lg:w-1/2\"><div><h2 class=\"text-3xl font-semibold text-gray-800 md:text-4xl dark:text-white\">Welcome to <!-- --><span class=\"text-purple-700 dark:text-purple-600\"></span></h2><h4 class=\"text-xl font-semibold text-gray-800 md:text-2xl dark:text-white\">Learn <!-- --><span class=\"text-purple-700 dark:text-purple-600\"></span></h4><p class=\"mt-2 text-sm text-gray-500 md:text-base dark:text-gray-400\">Confused on which course to take? I have got you covered. Browse courses and find out the best course for you. Its free! Code With Harry is my attempt to teach basics and those coding techniques to people in short time which took me ages to learn.</p><div class=\"flex justify-center lg:justify-start mt-6\"><button class=\"px-3 py-2 lg:px-4 lg:py-3 bg-gray-900 text-gray-200 text-xs font-semibold rounded hover:text-white hover:bg-gray-800 dark:bg-gray-100 dark:text-gray-600 dark:hover:bg-gray-300\">Free Courses</button><button class=\"px-3 py-2 mx-4 lg:px-4 lg:py-3 bg-gray-300 text-gray-900 text-xs font-semibold rounded hover:bg-gray-400\">Explore Blog</button></div></div></div><div class=\"hidden lg:block lg:w-1/2\" style=\"clip-path:polygon(10% 0px, 100% 0%, 100% 100%, 0px 100%)\"><div class=\"h-full object-cover\" style='background-image:url(\"https://images.unsplash.com/photo-1498050108023-c5249f4df085?ixlib=rb-1.2.1&amp;ixid=eyJhcHBfaWQiOjEyMDd9&amp;auto=format&amp;fit=crop&amp;w=1352&amp;q=80\")'><div class=\"h-full bg-black opacity-25\"></div></div></div></div><div class=\"container mx-auto lg:my-2\"><h2 class=\"text-3xl font-medium title-font text-gray-900 my-10 text-center dark:text-purple-600\">Recommended Courses</h2><div class=\"flex flex-wrap justify-center mx-6\"><div class=\"p-4 md:w-1/3 flex justify-center\"><div class=\"max-w-sm rounded-2xl overflow-hidden shadow-lg dark:bg-slate-800\"><span style=\"box-sizing:border-box;display:inline-block;overflow:hidden;width:initial;height:initial;background:none;opacity:1;border:0;margin:0;padding:0;position:relative;max-width:100%\"><span style=\"box-sizing:border-box;display:block;width:initial;height:initial;background:none;opacity:1;border:0;margin:0;padding:0;max-width:100%\"><img alt=\"\" aria-hidden=\"true\" src=\"data:image/svg+xml,%3csvg%20xmlns=%27http://www.w3.org/2000/svg%27%20version=%271.1%27%20width=%27384%27%20height=%27216%27/%3e\" style=\"display:block;max-width:100%;width:initial;height:initial;background:none;opacity:1;border:0;margin:0;padding:0\"/></span><img alt=\"img\" class=\"lg:h-48 md:h-36 w-full object-cover object-center\" data-nimg=\"intrinsic\" decoding=\"async\" src=\"data:image/gif;base64,R0lGODlhAQABAIAAAAAAAP///yH5BAEAAAAALAAAAAABAAEAAAIBRAA7\" style=\"position:absolute;top:0;left:0;bottom:0;right:0;box-sizing:border-box;padding:0;border:none;margin:auto;display:block;width:0;height:0;min-width:100%;max-width:100%;min-height:100%;max-height:100%\"/><noscript><img alt=\"img\" class=\"lg:h-48 md:h-36 w-full object-cover object-center\" data-nimg=\"intrinsic\" decoding=\"async\" loading=\"lazy\" src=\"/_next/image/?url=https%3A%2F%2Fcwh-full-next-space.fra1.digitaloceanspaces.com%2Fvideoseries%2Fpython-100-days-of-code-1%2F7wnove7K-ZQ-HD.jpg&amp;w=828&amp;q=75\" srcset=\"/_next/image/?url=https%3A%2F%2Fcwh-full-next-space.fra1.digitaloceanspaces.com%2Fvideoseries%2Fpython-100-days-of-code-1%2F7wnove7K-ZQ-HD.jpg&amp;w=384&amp;q=75 1x, /_next/image/?url=https%3A%2F%2Fcwh-full-next-space.fra1.digitaloceanspaces.com%2Fvideoseries%2Fpython-100-days-of-code-1%2F7wnove7K-ZQ-HD.jpg&amp;w=828&amp;q=75 2x\" style=\"position:absolute;top:0;left:0;bottom:0;right:0;box-sizing:border-box;padding:0;border:none;margin:auto;display:block;width:0;height:0;min-width:100%;max-width:100%;min-height:100%;max-height:100%\"/></noscript></span><div class=\"px-6 md:my-11 lg:my-0 md:h-72 lg:h-64 lg:py-4 xl:h-52\"><span class=\"tracking-widest text-xs title-font font-medium mb-1 dark:text-gray-400\">FREE COURSE</span><div class=\"title-font flex text-lg font-medium text-gray-900 mb-3 dark:text-white\">Python Tutorials - 100 Days of Code    </div><p class=\"text-gray-700 text-base dark:text-gray-400\">Python is one of the most demanded programming languages in the job market. Surprisingly, it is equally easy to learn and master Python. Let's commit our 100 days of code to python!</p></div><div class=\"px-6 pt-4 pb-2\"><span class=\"inline-block text-white bg-purple-700 rounded-full px-3 py-2 text-sm font-semibold mr-2 my-2 cursor-pointer hover:bg-purple-600\">  Start Watching </span></div></div></div><div class=\"p-4 md:w-1/3 flex justify-center\"><div class=\"max-w-sm rounded-2xl overflow-hidden shadow-lg dark:bg-slate-800\"><span style=\"box-sizing:border-box;display:inline-block;overflow:hidden;width:initial;height:initial;background:none;opacity:1;border:0;margin:0;padding:0;position:relative;max-width:100%\"><span style=\"box-sizing:border-box;display:block;width:initial;height:initial;background:none;opacity:1;border:0;margin:0;padding:0;max-width:100%\"><img alt=\"\" aria-hidden=\"true\" src=\"data:image/svg+xml,%3csvg%20xmlns=%27http://www.w3.org/2000/svg%27%20version=%271.1%27%20width=%27384%27%20height=%27216%27/%3e\" style=\"display:block;max-width:100%;width:initial;height:initial;background:none;opacity:1;border:0;margin:0;padding:0\"/></span><img alt=\"img\" class=\"lg:h-48 md:h-36 w-full object-cover object-center\" data-nimg=\"intrinsic\" decoding=\"async\" src=\"data:image/gif;base64,R0lGODlhAQABAIAAAAAAAP///yH5BAEAAAAALAAAAAABAAEAAAIBRAA7\" style=\"position:absolute;top:0;left:0;bottom:0;right:0;box-sizing:border-box;padding:0;border:none;margin:auto;display:block;width:0;height:0;min-width:100%;max-width:100%;min-height:100%;max-height:100%\"/><noscript><img alt=\"img\" class=\"lg:h-48 md:h-36 w-full object-cover object-center\" data-nimg=\"intrinsic\" decoding=\"async\" loading=\"lazy\" src=\"/_next/image/?url=https%3A%2F%2Fcwh-full-next-space.fra1.digitaloceanspaces.com%2Fvideoseries%2Fultimate-js-tutorial-hindi-1%2FJS-Thumb.jpg&amp;w=828&amp;q=75\" srcset=\"/_next/image/?url=https%3A%2F%2Fcwh-full-next-space.fra1.digitaloceanspaces.com%2Fvideoseries%2Fultimate-js-tutorial-hindi-1%2FJS-Thumb.jpg&amp;w=384&amp;q=75 1x, /_next/image/?url=https%3A%2F%2Fcwh-full-next-space.fra1.digitaloceanspaces.com%2Fvideoseries%2Fultimate-js-tutorial-hindi-1%2FJS-Thumb.jpg&amp;w=828&amp;q=75 2x\" style=\"position:absolute;top:0;left:0;bottom:0;right:0;box-sizing:border-box;padding:0;border:none;margin:auto;display:block;width:0;height:0;min-width:100%;max-width:100%;min-height:100%;max-height:100%\"/></noscript></span><div class=\"px-6 md:my-11 lg:my-0 md:h-72 lg:h-64 lg:py-4 xl:h-52\"><span class=\"tracking-widest text-xs title-font font-medium mb-1 dark:text-gray-400\">FREE COURSE</span><div class=\"title-font flex text-lg font-medium text-gray-900 mb-3 dark:text-white\">Ultimate JavaScript Course</div><p class=\"text-gray-700 text-base dark:text-gray-400\">This latest JavaScript course comes with premium curriculum that covers everything from basics to advance. On top of that, you will get my handwritten notes of JS for completely free. What are you waiting for? Just Enroll Buddy</p></div><div class=\"px-6 pt-4 pb-2\"><span class=\"inline-block text-white bg-purple-700 rounded-full px-3 py-2 text-sm font-semibold mr-2 my-2 cursor-pointer hover:bg-purple-600\">  Start Watching </span></div></div></div><div class=\"p-4 md:w-1/3 flex justify-center\"><div class=\"max-w-sm rounded-2xl overflow-hidden shadow-lg dark:bg-slate-800\"><span style=\"box-sizing:border-box;display:inline-block;overflow:hidden;width:initial;height:initial;background:none;opacity:1;border:0;margin:0;padding:0;position:relative;max-width:100%\"><span style=\"box-sizing:border-box;display:block;width:initial;height:initial;background:none;opacity:1;border:0;margin:0;padding:0;max-width:100%\"><img alt=\"\" aria-hidden=\"true\" src=\"data:image/svg+xml,%3csvg%20xmlns=%27http://www.w3.org/2000/svg%27%20version=%271.1%27%20width=%27384%27%20height=%27216%27/%3e\" style=\"display:block;max-width:100%;width:initial;height:initial;background:none;opacity:1;border:0;margin:0;padding:0\"/></span><img alt=\"img\" class=\"lg:h-48 md:h-36 w-full object-cover object-center\" data-nimg=\"intrinsic\" decoding=\"async\" src=\"data:image/gif;base64,R0lGODlhAQABAIAAAAAAAP///yH5BAEAAAAALAAAAAABAAEAAAIBRAA7\" style=\"position:absolute;top:0;left:0;bottom:0;right:0;box-sizing:border-box;padding:0;border:none;margin:auto;display:block;width:0;height:0;min-width:100%;max-width:100%;min-height:100%;max-height:100%\"/><noscript><img alt=\"img\" class=\"lg:h-48 md:h-36 w-full object-cover object-center\" data-nimg=\"intrinsic\" decoding=\"async\" loading=\"lazy\" src=\"/_next/image/?url=https%3A%2F%2Fcodewithharry.nyc3.cdn.digitaloceanspaces.com%2Fassets%2F090fefe24d23d47584f6ddc7eb5a241e.png&amp;w=828&amp;q=75\" srcset=\"/_next/image/?url=https%3A%2F%2Fcodewithharry.nyc3.cdn.digitaloceanspaces.com%2Fassets%2F090fefe24d23d47584f6ddc7eb5a241e.png&amp;w=384&amp;q=75 1x, /_next/image/?url=https%3A%2F%2Fcodewithharry.nyc3.cdn.digitaloceanspaces.com%2Fassets%2F090fefe24d23d47584f6ddc7eb5a241e.png&amp;w=828&amp;q=75 2x\" style=\"position:absolute;top:0;left:0;bottom:0;right:0;box-sizing:border-box;padding:0;border:none;margin:auto;display:block;width:0;height:0;min-width:100%;max-width:100%;min-height:100%;max-height:100%\"/></noscript></span><div class=\"px-6 md:my-11 lg:my-0 md:h-72 lg:h-64 lg:py-4 xl:h-52\"><span class=\"tracking-widest text-xs title-font font-medium mb-1 dark:text-gray-400\">FREE COURSE</span><div class=\"title-font flex text-lg font-medium text-gray-900 mb-3 dark:text-white\">React JS Tutorials For Beginners</div><p class=\"text-gray-700 text-base dark:text-gray-400\">React is a free and open-source front-end JavaScript library. This series will cover React from starting to the end. We will learn react from the ground up!</p></div><div class=\"px-6 pt-4 pb-2\"><span class=\"inline-block text-white bg-purple-700 rounded-full px-3 py-2 text-sm font-semibold mr-2 my-2 cursor-pointer hover:bg-purple-600\">  Start Watching </span></div></div></div></div></div><div class=\"container mx-auto\"><section class=\"text-gray-600 body-font\"><div class=\"container px-5 py-12 mx-auto\"><h2 class=\"text-3xl font-medium title-font text-gray-900 mb-12 text-center dark:text-purple-600\">Testimonials</h2><div class=\"flex flex-wrap -m-4\"><div class=\"p-4 md:w-1/2 w-full\"><div class=\"h-full bg-gray-100 p-8 rounded dark:bg-gray-700\"><svg class=\"block w-5 h-5 text-gray-400 mb-4\" fill=\"currentColor\" viewbox=\"0 0 975.036 975.036\" xmlns=\"http://www.w3.org/2000/svg\"><path d=\"M925.036 57.197h-304c-27.6 0-50 22.4-50 50v304c0 27.601 22.4 50 50 50h145.5c-1.9 79.601-20.4 143.3-55.4 191.2-27.6 37.8-69.399 69.1-125.3 93.8-25.7 11.3-36.8 41.7-24.8 67.101l36 76c11.6 24.399 40.3 35.1 65.1 24.399 66.2-28.6 122.101-64.8 167.7-108.8 55.601-53.7 93.7-114.3 114.3-181.9 20.601-67.6 30.9-159.8 30.9-276.8v-239c0-27.599-22.401-50-50-50zM106.036 913.497c65.4-28.5 121-64.699 166.9-108.6 56.1-53.7 94.4-114.1 115-181.2 20.6-67.1 30.899-159.6 30.899-277.5v-239c0-27.6-22.399-50-50-50h-304c-27.6 0-50 22.4-50 50v304c0 27.601 22.4 50 50 50h145.5c-1.9 79.601-20.4 143.3-55.4 191.2-27.6 37.8-69.4 69.1-125.3 93.8-25.7 11.3-36.8 41.7-24.8 67.101l35.9 75.8c11.601 24.399 40.501 35.2 65.301 24.399z\"></path></svg><p class=\"leading-relaxed mb-6 dark:text-gray-300\">I don't have words to thank this man, I'm really grateful to have this channel and website in my daily routine. If you're a mere beginner, then you can trust this guy and can put your time into his content. I can assure you that it'll be worth it.</p><span class=\"inline-flex items-center\"><span class=\"flex-grow flex flex-col pl-4\"><span class=\"title-font font-medium text-gray-900 dark:text-white\">Mohit Kumar</span><span class=\"text-gray-500 text-sm dark:text-gray-400\">Web Developer</span></span></span></div></div><div class=\"p-4 md:w-1/2 w-full\"><div class=\"h-full bg-gray-100 p-8 rounded dark:bg-gray-700\"><svg class=\"block w-5 h-5 text-gray-400 mb-4\" fill=\"currentColor\" viewbox=\"0 0 975.036 975.036\" xmlns=\"http://www.w3.org/2000/svg\"><path d=\"M925.036 57.197h-304c-27.6 0-50 22.4-50 50v304c0 27.601 22.4 50 50 50h145.5c-1.9 79.601-20.4 143.3-55.4 191.2-27.6 37.8-69.399 69.1-125.3 93.8-25.7 11.3-36.8 41.7-24.8 67.101l36 76c11.6 24.399 40.3 35.1 65.1 24.399 66.2-28.6 122.101-64.8 167.7-108.8 55.601-53.7 93.7-114.3 114.3-181.9 20.601-67.6 30.9-159.8 30.9-276.8v-239c0-27.599-22.401-50-50-50zM106.036 913.497c65.4-28.5 121-64.699 166.9-108.6 56.1-53.7 94.4-114.1 115-181.2 20.6-67.1 30.899-159.6 30.899-277.5v-239c0-27.6-22.399-50-50-50h-304c-27.6 0-50 22.4-50 50v304c0 27.601 22.4 50 50 50h145.5c-1.9 79.601-20.4 143.3-55.4 191.2-27.6 37.8-69.4 69.1-125.3 93.8-25.7 11.3-36.8 41.7-24.8 67.101l35.9 75.8c11.601 24.399 40.501 35.2 65.301 24.399z\"></path></svg><p class=\"leading-relaxed mb-6 dark:text-gray-300\">For everyone who wants to level up their #Coding and #Dev skills - seriously, this channel is for you! Both basic and advanced stacks are covered on this channel, and one can learn according to his skill levels. And the icing on the cake is, everything is available for free.</p><span class=\"inline-flex items-center\"><span class=\"flex-grow flex flex-col pl-4\"><span class=\"title-font font-medium text-gray-900 dark:text-white\">Rakesh Shetty</span><span class=\"text-gray-500 text-sm dark:text-gray-400\">Web Developer</span></span></span></div></div></div></div></section></div></div><footer class=\"text-gray-600 bg-white body-font dark:bg-gray-800 dark:text-white\"><div class=\"container mx-auto py-4 px-5 flex flex-wrap flex-col sm:flex-row\"><div class=\"flex title-font font-medium items-center md:justify-start justify-center text-gray-900 dark:text-gray-200\"><span style=\"box-sizing:border-box;display:inline-block;overflow:hidden;width:initial;height:initial;background:none;opacity:1;border:0;margin:0;padding:0;position:relative;max-width:100%\"><span style=\"box-sizing:border-box;display:block;width:initial;height:initial;background:none;opacity:1;border:0;margin:0;padding:0;max-width:100%\"><img alt=\"\" aria-hidden=\"true\" src=\"data:image/svg+xml,%3csvg%20xmlns=%27http://www.w3.org/2000/svg%27%20version=%271.1%27%20width=%2748%27%20height=%2748%27/%3e\" style=\"display:block;max-width:100%;width:initial;height:initial;background:none;opacity:1;border:0;margin:0;padding:0\"/></span><img alt=\"CodeWithHarry Logo\" class=\"rounded h-12\" data-nimg=\"intrinsic\" decoding=\"async\" name=\"logo\" src=\"data:image/gif;base64,R0lGODlhAQABAIAAAAAAAP///yH5BAEAAAAALAAAAAABAAEAAAIBRAA7\" style=\"position:absolute;top:0;left:0;bottom:0;right:0;box-sizing:border-box;padding:0;border:none;margin:auto;display:block;width:0;height:0;min-width:100%;max-width:100%;min-height:100%;max-height:100%\"/><noscript><img alt=\"CodeWithHarry Logo\" class=\"rounded h-12\" data-nimg=\"intrinsic\" decoding=\"async\" loading=\"lazy\" name=\"logo\" src=\"/_next/image/?url=%2Fimg%2Flogo-blue.png&amp;w=96&amp;q=75\" srcset=\"/_next/image/?url=%2Fimg%2Flogo-blue.png&amp;w=48&amp;q=75 1x, /_next/image/?url=%2Fimg%2Flogo-blue.png&amp;w=96&amp;q=75 2x\" style=\"position:absolute;top:0;left:0;bottom:0;right:0;box-sizing:border-box;padding:0;border:none;margin:auto;display:block;width:0;height:0;min-width:100%;max-width:100%;min-height:100%;max-height:100%\"/></noscript></span><div class=\"ml-3 text-xl\">CodeWithHarry</div></div><p class=\"text-sm text-gray-500 sm:ml-4 sm:pl-4 sm:border-l-2 sm:border-gray-200 sm:py-2 mt-4 md:mt-2 mb-2 md:mb-0 text-center dark:text-gray-400\">Copyright © 2022 CodeWithHarry.com</p><div class=\"inline-flex sm:ml-auto sm:mt-0 mt-2 justify-center sm:justify-start\" style=\"align-items:center\"><a aria-label=\"facebook\" class=\"text-gray-500 dark:text-gray-300\" href=\"https://www.facebook.com/codewithharry\" rel=\"noreferrer\" target=\"_blank\"><svg class=\"w-5 h-5\" fill=\"currentColor\" stroke-linecap=\"round\" stroke-linejoin=\"round\" stroke-width=\"2\" viewbox=\"0 0 24 24\"><path d=\"M18 2h-3a5 5 0 00-5 5v3H7v4h3v8h4v-8h3l1-4h-4V7a1 1 0 011-1h3z\"></path></svg></a><a aria-label=\"twitter\" class=\"ml-3 text-gray-500 dark:text-gray-300\" href=\"https://www.twitter.com/codewithharry\" rel=\"noreferrer\" target=\"_blank\"><svg class=\"w-5 h-5\" fill=\"currentColor\" stroke-linecap=\"round\" stroke-linejoin=\"round\" stroke-width=\"2\" viewbox=\"0 0 24 24\"><path d=\"M23 3a10.9 10.9 0 01-3.14 1.53 4.48 4.48 0 00-7.86 3v1A10.66 10.66 0 013 4s-4 9 5 13a11.64 11.64 0 01-7 2c9 5 20 0 20-11.5a4.5 4.5 0 00-.08-.83A7.72 7.72 0 0023 3z\"></path></svg></a><a aria-label=\"instagram\" class=\"ml-3 text-gray-500 dark:text-gray-300\" href=\"https://www.instagram.com/codewithharry\" rel=\"noreferrer\" target=\"_blank\"><svg class=\"w-5 h-5\" fill=\"none\" stroke=\"currentColor\" stroke-linecap=\"round\" stroke-linejoin=\"round\" stroke-width=\"2\" viewbox=\"0 0 24 24\"><rect height=\"20\" rx=\"5\" ry=\"5\" width=\"20\" x=\"2\" y=\"2\"></rect><path d=\"M16 11.37A4 4 0 1112.63 8 4 4 0 0116 11.37zm1.5-4.87h.01\"></path></svg></a><a aria-label=\"github\" class=\"ml-3 text-gray-500 dark:text-gray-300\" href=\"https://www.github.com/codewithharry\" rel=\"noreferrer\" target=\"_blank\"><svg class=\"text-xl\" fill=\"currentColor\" height=\"1em\" stroke=\"currentColor\" stroke-width=\"0\" viewbox=\"0 0 1024 1024\" width=\"1em\" xmlns=\"http://www.w3.org/2000/svg\"><path d=\"M511.6 76.3C264.3 76.2 64 276.4 64 523.5 64 718.9 189.3 885 363.8 946c23.5 5.9 19.9-10.8 19.9-22.2v-77.5c-135.7 15.9-141.2-73.9-150.3-88.9C215 726 171.5 718 184.5 703c30.9-15.9 62.4 4 98.9 57.9 26.4 39.1 77.9 32.5 104 26 5.7-23.5 17.9-44.5 34.7-60.8-140.6-25.2-199.2-111-199.2-213 0-49.5 16.3-95 48.3-131.7-20.4-60.5 1.9-112.3 4.9-120 58.1-5.2 118.5 41.6 123.2 45.3 33-8.9 70.7-13.6 112.9-13.6 42.4 0 80.2 4.9 113.5 13.9 11.3-8.6 67.3-48.8 121.3-43.9 2.9 7.7 24.7 58.3 5.5 118 32.4 36.8 48.9 82.7 48.9 132.3 0 102.2-59 188.1-200 212.9a127.5 127.5 0 0 1 38.1 91v112.5c.8 9 0 17.9 15 17.9 177.1-59.7 304.6-227 304.6-424.1 0-247.2-200.4-447.3-447.5-447.3z\"></path></svg></a></div></div></footer></div>\n",
      "<div id=\"__next\"><div class=\"\"><div class=\"\" style=\"position:fixed;top:0;left:0;height:2px;background:transparent;z-index:99999999999;width:100%\"><div class=\"\" style=\"height:100%;background:purple;transition:all 500ms ease;width:0%\"><div style=\"box-shadow:0 0 10px purple, 0 0 10px purple;width:5%;opacity:1;position:absolute;height:100%;transition:all 500ms ease;transform:rotate(3deg) translate(0px, -4px);left:-10rem\"></div></div></div><div class=\"w-full z-10 sticky bg-white top-0 border-b border-grey-light shadow-md dark:bg-gray-800 dark:border-black\" id=\"imgpreview2\"><div class=\"w-full flex flex-wrap items-center lg:justify-between mt-0 py-4\"><div class=\"px-0 lg:pl-4 flex items-center lg:mx-4 cursor-pointer text-purple-700 text-xl font-bold mx-3 dark:text-purple-300\"><a href=\"/\">CodeWithHarry</a></div><div class=\"flex items-center md:hidden\"><div class=\"text-purple-700 text-md font-semibold\">Menu</div><svg class=\"text-purple-700 mt-1\" fill=\"currentColor\" height=\"1em\" stroke=\"currentColor\" stroke-width=\"0\" viewbox=\"0 0 1024 1024\" width=\"1em\" xmlns=\"http://www.w3.org/2000/svg\"><path d=\"M840.4 300H183.6c-19.7 0-30.7 20.8-18.5 35l328.4 380.8c9.4 10.9 27.5 10.9 37 0L858.9 335c12.2-14.2 1.2-35-18.5-35z\"></path></svg></div><svg class=\"md:hidden text-purple-700 mt-1 ml-2 cursor-pointer dark:text-white\" fill=\"currentColor\" height=\"28\" stroke=\"currentColor\" stroke-width=\"0\" viewbox=\"0 0 16 16\" width=\"28\" xmlns=\"http://www.w3.org/2000/svg\"><path d=\"M6 .278a.768.768 0 0 1 .08.858 7.208 7.208 0 0 0-.878 3.46c0 4.021 3.278 7.277 7.318 7.277.527 0 1.04-.055 1.533-.16a.787.787 0 0 1 .81.316.733.733 0 0 1-.031.893A8.349 8.349 0 0 1 8.344 16C3.734 16 0 12.286 0 7.71 0 4.266 2.114 1.312 5.124.06A.752.752 0 0 1 6 .278z\"></path><path d=\"M10.794 3.148a.217.217 0 0 1 .412 0l.387 1.162c.173.518.579.924 1.097 1.097l1.162.387a.217.217 0 0 1 0 .412l-1.162.387a1.734 1.734 0 0 0-1.097 1.097l-.387 1.162a.217.217 0 0 1-.412 0l-.387-1.162A1.734 1.734 0 0 0 9.31 6.593l-1.162-.387a.217.217 0 0 1 0-.412l1.162-.387a1.734 1.734 0 0 0 1.097-1.097l.387-1.162zM13.863.099a.145.145 0 0 1 .274 0l.258.774c.115.346.386.617.732.732l.774.258a.145.145 0 0 1 0 .274l-.774.258a1.156 1.156 0 0 0-.732.732l-.258.774a.145.145 0 0 1-.274 0l-.258-.774a1.156 1.156 0 0 0-.732-.732l-.774-.258a.145.145 0 0 1 0-.274l.774-.258c.346-.115.617-.386.732-.732L13.863.1z\"></path></svg><button class=\"md:hidden text-white bg-purple-700 hover:bg-purple-800 focus:ring-4 focus:ring-purple-300 font-medium rounded-lg text-sm px-3 py-2 text-center inline-flex items-center mx-1 absolute right-3 md:right-12\">Login</button><div class=\"w-full flex-grow lg:flex lg:flex-1 lg:content-center lg:justify-end lg:w-auto h-0 lg:h-auto overflow-hidden mt-2 lg:mt-0 z-20 transition-all\" id=\"nav-content\"><ul class=\"flex items-center flex-col lg:flex-row\"><div class=\"search-icon cursor-pointer px-6 hidden\" id=\"search-toggle\"><svg class=\"fill-current pointer-events-none text-grey-darkest w-4 h-4 inline\" viewbox=\"0 0 20 20\" xmlns=\"http://www.w3.org/2000/svg\"><path d=\"M12.9 14.32a8 8 0 1 1 1.41-1.41l5.35 5.33-1.42 1.42-5.33-5.34zM8 14A6 6 0 1 0 8 2a6 6 0 0 0 0 12z\"></path></svg></div><li class=\"mx-2 my-2 text-black hover:border-b-2 hover:border-purple-700 dark:text-white\"><a href=\"/\">Home</a></li><li class=\"mx-2 my-2 text-black hover:border-b-2 hover:border-purple-700 dark:text-white\"><a href=\"/videos/\">Courses</a></li><li class=\"mx-2 my-2 text-black hover:border-b-2 hover:border-purple-700 dark:text-white\"><a href=\"/tutorials/\">Tutorial</a></li><li class=\"mx-2 my-2 text-black hover:border-b-2 hover:border-purple-700 dark:text-white\"><a href=\"/blog/\">Blog</a></li><li class=\"mx-2 my-2 text-black hover:border-b-2 hover:border-purple-700 dark:text-white\"><a href=\"/notes/\">Notes</a></li><li class=\"mx-2 my-2 text-black hover:border-b-2 hover:border-purple-700 dark:text-white\"><a href=\"/contact/\">Contact</a></li><li class=\"mx-2 my-2 text-black hover:border-b-2 hover:border-purple-700 dark:text-white\"><a href=\"/my-gear/\">My Gear</a></li><li class=\"mx-2 my-2 text-black hover:border-b-2 hover:border-purple-700 dark:text-white\"><a href=\"/work/\">Work With Us</a></li><li><svg class=\"hidden md:block text-purple-700 mt-1 ml-2 cursor-pointer dark:text-white\" fill=\"currentColor\" height=\"28\" stroke=\"currentColor\" stroke-width=\"0\" viewbox=\"0 0 16 16\" width=\"28\" xmlns=\"http://www.w3.org/2000/svg\"><path d=\"M6 .278a.768.768 0 0 1 .08.858 7.208 7.208 0 0 0-.878 3.46c0 4.021 3.278 7.277 7.318 7.277.527 0 1.04-.055 1.533-.16a.787.787 0 0 1 .81.316.733.733 0 0 1-.031.893A8.349 8.349 0 0 1 8.344 16C3.734 16 0 12.286 0 7.71 0 4.266 2.114 1.312 5.124.06A.752.752 0 0 1 6 .278z\"></path><path d=\"M10.794 3.148a.217.217 0 0 1 .412 0l.387 1.162c.173.518.579.924 1.097 1.097l1.162.387a.217.217 0 0 1 0 .412l-1.162.387a1.734 1.734 0 0 0-1.097 1.097l-.387 1.162a.217.217 0 0 1-.412 0l-.387-1.162A1.734 1.734 0 0 0 9.31 6.593l-1.162-.387a.217.217 0 0 1 0-.412l1.162-.387a1.734 1.734 0 0 0 1.097-1.097l.387-1.162zM13.863.099a.145.145 0 0 1 .274 0l.258.774c.115.346.386.617.732.732l.774.258a.145.145 0 0 1 0 .274l-.774.258a1.156 1.156 0 0 0-.732.732l-.258.774a.145.145 0 0 1-.274 0l-.258-.774a1.156 1.156 0 0 0-.732-.732l-.774-.258a.145.145 0 0 1 0-.274l.774-.258c.346-.115.617-.386.732-.732L13.863.1z\"></path></svg></li></ul><div class=\"text-center my-2 pr-4 pl-2\"><button class=\"text-white bg-purple-700 hover:bg-purple-800 focus:ring-4 focus:ring-purple-300 font-medium rounded-lg text-sm px-3 py-2 text-center inline-flex items-center mx-1 dark:bg-purple-500 dark:hover:bg-purple-800\">Login</button><button class=\"text-white bg-purple-700 hover:bg-purple-800 focus:ring-4 focus:ring-purple-300 font-medium rounded-lg text-sm px-3 py-2 text-center inline-flex items-center mx-1 dark:bg-purple-500 dark:hover:bg-purple-800\">Signup</button></div></div></div><hr class=\"dark:border-gray-500\"/><div class=\"max-h-[6vh] min-h-[40px] flex items-center ml-3 mr-3 md:ml-10 md:mr-10 my-1\"><span><svg class=\"text-purple-700 text-xl cursor-pointer dark:text-purple-300\" fill=\"currentColor\" height=\"1em\" stroke=\"currentColor\" stroke-width=\"0\" viewbox=\"0 0 1024 1024\" width=\"1em\" xmlns=\"http://www.w3.org/2000/svg\"><path d=\"M946.5 505L534.6 93.4a31.93 31.93 0 0 0-45.2 0L77.5 505c-12 12-18.8 28.3-18.8 45.3 0 35.3 28.7 64 64 64h43.4V908c0 17.7 14.3 32 32 32H448V716h112v224h265.9c17.7 0 32-14.3 32-32V614.3h43.4c17 0 33.3-6.7 45.3-18.8 24.9-25 24.9-65.5-.1-90.5z\"></path></svg></span><ul class=\"space-x-7 m-auto text-purple-700 font-semibold hidden md:flex items-center\"><li class=\"cursor-pointer hover:border-b-2 hover:border-purple-700 active:border-b-4 dark:text-purple-300\"><a href=\"/tutorial/html-home/\">HTML</a></li><li class=\"cursor-pointer hover:border-b-2 hover:border-purple-700 active:border-b-4 dark:text-purple-300\"><a href=\"/tutorial/css-home/\">CSS</a></li><li class=\"cursor-pointer hover:border-b-2 hover:border-purple-700 active:border-b-4 dark:text-purple-300\"><a href=\"/tutorial/js/\">JS</a></li><li class=\"cursor-pointer hover:border-b-2 hover:border-purple-700 active:border-b-4 dark:text-purple-300\"><a href=\"/tutorial/c/\">C</a></li><li class=\"cursor-pointer hover:border-b-2 hover:border-purple-700 active:border-b-4 dark:text-purple-300\"><a href=\"/tutorial/cplusplus/\">C++</a></li><li class=\"cursor-pointer hover:border-b-2 hover:border-purple-700 active:border-b-4 dark:text-purple-300\"><a href=\"/tutorial/java/\">JAVA</a></li><li class=\"cursor-pointer hover:border-b-2 hover:border-purple-700 active:border-b-4 dark:text-purple-300\"><a href=\"/tutorial/python/\">PYTHON</a></li><li class=\"cursor-pointer hover:border-b-2 hover:border-purple-700 active:border-b-4 dark:text-purple-300\"><a href=\"/tutorial/php/\">PHP</a></li><li class=\"cursor-pointer hover:border-b-2 hover:border-purple-700 active:border-b-4 dark:text-purple-300\"><a href=\"/tutorial/react-home/\">REACT JS</a></li></ul><input class=\"hidden right-10 md:right-10 absolute w-48 md:w-60 h-8 bg-white rounded border-2 border-purple-500 focus:border-purple-700 focus:ring-2 focus:ring-indigo-200 text-base outline-none text-gray-700 py-1 px-3 leading-8 transition-colors duration-200 ease-in-out dark:bg-gray-500 dark:text-gray-200\" id=\"search\" placeholder=\"Search...\"/><svg class=\"text-purple-700 dark:text-purple-300 cursor-pointer text-2xl absolute right-3 md:right-12 }\" fill=\"currentColor\" height=\"1em\" stroke=\"currentColor\" stroke-width=\"0\" viewbox=\"0 0 1024 1024\" width=\"1em\" xmlns=\"http://www.w3.org/2000/svg\"><path d=\"M909.6 854.5L649.9 594.8C690.2 542.7 712 479 712 412c0-80.2-31.3-155.4-87.9-212.1-56.6-56.7-132-87.9-212.1-87.9s-155.5 31.3-212.1 87.9C143.2 256.5 112 331.8 112 412c0 80.1 31.3 155.5 87.9 212.1C256.5 680.8 331.8 712 412 712c67 0 130.6-21.8 182.7-62l259.7 259.6a8.2 8.2 0 0 0 11.6 0l43.6-43.5a8.2 8.2 0 0 0 0-11.6zM570.4 570.4C528 612.7 471.8 636 412 636s-116-23.3-158.4-65.6C211.3 528 188 471.8 188 412s23.3-116.1 65.6-158.4C296 211.3 352.2 188 412 188s116.1 23.2 158.4 65.6S636 352.2 636 412s-23.3 116.1-65.6 158.4z\"></path></svg></div><div class=\"bg-purple-100 text-center shadow-lg absolute w-full dark:bg-gray-600 hidden mt-1 md:hidden\"><ul><li class=\"pt-4 text-purple-500 font-bold\"><a href=\"/\">Home</a></li><li class=\"pt-4 text-purple-500 font-bold\"><a href=\"/videos/\">Courses</a></li><li class=\"pt-4 text-purple-500 font-bold flex justify-center ml-3\">Tutorial <!-- --><svg class=\"mt-1\" fill=\"currentColor\" height=\"1em\" stroke=\"currentColor\" stroke-width=\"0\" viewbox=\"0 0 1024 1024\" width=\"1em\" xmlns=\"http://www.w3.org/2000/svg\"><path d=\"M840.4 300H183.6c-19.7 0-30.7 20.8-18.5 35l328.4 380.8c9.4 10.9 27.5 10.9 37 0L858.9 335c12.2-14.2 1.2-35-18.5-35z\"></path></svg></li><li class=\"my-2 text-purple-500 font-semibold text-sm bg-purple-200 dark:bg-gray-700 hidden\"><ul><li class=\"cursor-pointer py-1 border-y-2 dark:border-gray-400\"><a href=\"/tutorial/html-home/\">HTML</a></li><li class=\"cursor-pointer py-1 border-b-2 dark:border-gray-400\"><a href=\"/tutorial/css-home/\">CSS</a></li><li class=\"cursor-pointer py-1 border-b-2 dark:border-gray-400\"><a href=\"/tutorial/js/\">JS</a></li><li class=\"cursor-pointer py-1 border-b-2 dark:border-gray-400\"><a href=\"/tutorial/c/\">C</a></li><li class=\"cursor-pointer py-1 border-b-2 dark:border-gray-400\"><a href=\"/tutorial/cplusplus/\">C++</a></li><li class=\"cursor-pointer py-1 border-b-2 dark:border-gray-400\"><a href=\"/tutorial/java/\">JAVA</a></li><li class=\"cursor-pointer py-1 border-b-2 dark:border-gray-400\"><a href=\"/tutorial/python/\">PYTHON</a></li><li class=\"cursor-pointer py-1 border-b-2 dark:border-gray-400\"><a href=\"/tutorial/php/\">PHP</a></li><li class=\"cursor-pointer py-1 border-b-2 dark:border-gray-400\"><a href=\"/tutorial/react-home/\">REACT JS</a></li></ul></li><li class=\"pt-4 text-purple-500 font-bold\"><a href=\"/blog/\">Blog</a></li><li class=\"pt-4 text-purple-500 font-bold\"><a href=\"/notes/\">Notes</a></li><li class=\"pt-4 text-purple-500 font-bold\"><a href=\"/contact/\">Contact</a></li><li class=\"pt-4 text-purple-500 font-bold\"><a href=\"/my-gear/\">My Gear</a></li><li class=\"pt-4 pb-4 text-purple-500 font-bold\"><a href=\"/work/\">Work With Us</a></li></ul></div></div><div class=\"dark:bg-gray-900\"><div class=\"Toastify\"></div><div class=\"flex bg-white h-96 container mx-auto dark:bg-gray-900\"><div class=\"flex items-center text-center lg:text-left px-8 md:px-12 lg:w-1/2\"><div><h2 class=\"text-3xl font-semibold text-gray-800 md:text-4xl dark:text-white\">Welcome to <!-- --><span class=\"text-purple-700 dark:text-purple-600\"></span></h2><h4 class=\"text-xl font-semibold text-gray-800 md:text-2xl dark:text-white\">Learn <!-- --><span class=\"text-purple-700 dark:text-purple-600\"></span></h4><p class=\"mt-2 text-sm text-gray-500 md:text-base dark:text-gray-400\">Confused on which course to take? I have got you covered. Browse courses and find out the best course for you. Its free! Code With Harry is my attempt to teach basics and those coding techniques to people in short time which took me ages to learn.</p><div class=\"flex justify-center lg:justify-start mt-6\"><button class=\"px-3 py-2 lg:px-4 lg:py-3 bg-gray-900 text-gray-200 text-xs font-semibold rounded hover:text-white hover:bg-gray-800 dark:bg-gray-100 dark:text-gray-600 dark:hover:bg-gray-300\">Free Courses</button><button class=\"px-3 py-2 mx-4 lg:px-4 lg:py-3 bg-gray-300 text-gray-900 text-xs font-semibold rounded hover:bg-gray-400\">Explore Blog</button></div></div></div><div class=\"hidden lg:block lg:w-1/2\" style=\"clip-path:polygon(10% 0px, 100% 0%, 100% 100%, 0px 100%)\"><div class=\"h-full object-cover\" style='background-image:url(\"https://images.unsplash.com/photo-1498050108023-c5249f4df085?ixlib=rb-1.2.1&amp;ixid=eyJhcHBfaWQiOjEyMDd9&amp;auto=format&amp;fit=crop&amp;w=1352&amp;q=80\")'><div class=\"h-full bg-black opacity-25\"></div></div></div></div><div class=\"container mx-auto lg:my-2\"><h2 class=\"text-3xl font-medium title-font text-gray-900 my-10 text-center dark:text-purple-600\">Recommended Courses</h2><div class=\"flex flex-wrap justify-center mx-6\"><div class=\"p-4 md:w-1/3 flex justify-center\"><div class=\"max-w-sm rounded-2xl overflow-hidden shadow-lg dark:bg-slate-800\"><span style=\"box-sizing:border-box;display:inline-block;overflow:hidden;width:initial;height:initial;background:none;opacity:1;border:0;margin:0;padding:0;position:relative;max-width:100%\"><span style=\"box-sizing:border-box;display:block;width:initial;height:initial;background:none;opacity:1;border:0;margin:0;padding:0;max-width:100%\"><img alt=\"\" aria-hidden=\"true\" src=\"data:image/svg+xml,%3csvg%20xmlns=%27http://www.w3.org/2000/svg%27%20version=%271.1%27%20width=%27384%27%20height=%27216%27/%3e\" style=\"display:block;max-width:100%;width:initial;height:initial;background:none;opacity:1;border:0;margin:0;padding:0\"/></span><img alt=\"img\" class=\"lg:h-48 md:h-36 w-full object-cover object-center\" data-nimg=\"intrinsic\" decoding=\"async\" src=\"data:image/gif;base64,R0lGODlhAQABAIAAAAAAAP///yH5BAEAAAAALAAAAAABAAEAAAIBRAA7\" style=\"position:absolute;top:0;left:0;bottom:0;right:0;box-sizing:border-box;padding:0;border:none;margin:auto;display:block;width:0;height:0;min-width:100%;max-width:100%;min-height:100%;max-height:100%\"/><noscript><img alt=\"img\" class=\"lg:h-48 md:h-36 w-full object-cover object-center\" data-nimg=\"intrinsic\" decoding=\"async\" loading=\"lazy\" src=\"/_next/image/?url=https%3A%2F%2Fcwh-full-next-space.fra1.digitaloceanspaces.com%2Fvideoseries%2Fpython-100-days-of-code-1%2F7wnove7K-ZQ-HD.jpg&amp;w=828&amp;q=75\" srcset=\"/_next/image/?url=https%3A%2F%2Fcwh-full-next-space.fra1.digitaloceanspaces.com%2Fvideoseries%2Fpython-100-days-of-code-1%2F7wnove7K-ZQ-HD.jpg&amp;w=384&amp;q=75 1x, /_next/image/?url=https%3A%2F%2Fcwh-full-next-space.fra1.digitaloceanspaces.com%2Fvideoseries%2Fpython-100-days-of-code-1%2F7wnove7K-ZQ-HD.jpg&amp;w=828&amp;q=75 2x\" style=\"position:absolute;top:0;left:0;bottom:0;right:0;box-sizing:border-box;padding:0;border:none;margin:auto;display:block;width:0;height:0;min-width:100%;max-width:100%;min-height:100%;max-height:100%\"/></noscript></span><div class=\"px-6 md:my-11 lg:my-0 md:h-72 lg:h-64 lg:py-4 xl:h-52\"><span class=\"tracking-widest text-xs title-font font-medium mb-1 dark:text-gray-400\">FREE COURSE</span><div class=\"title-font flex text-lg font-medium text-gray-900 mb-3 dark:text-white\">Python Tutorials - 100 Days of Code    </div><p class=\"text-gray-700 text-base dark:text-gray-400\">Python is one of the most demanded programming languages in the job market. Surprisingly, it is equally easy to learn and master Python. Let's commit our 100 days of code to python!</p></div><div class=\"px-6 pt-4 pb-2\"><span class=\"inline-block text-white bg-purple-700 rounded-full px-3 py-2 text-sm font-semibold mr-2 my-2 cursor-pointer hover:bg-purple-600\">  Start Watching </span></div></div></div><div class=\"p-4 md:w-1/3 flex justify-center\"><div class=\"max-w-sm rounded-2xl overflow-hidden shadow-lg dark:bg-slate-800\"><span style=\"box-sizing:border-box;display:inline-block;overflow:hidden;width:initial;height:initial;background:none;opacity:1;border:0;margin:0;padding:0;position:relative;max-width:100%\"><span style=\"box-sizing:border-box;display:block;width:initial;height:initial;background:none;opacity:1;border:0;margin:0;padding:0;max-width:100%\"><img alt=\"\" aria-hidden=\"true\" src=\"data:image/svg+xml,%3csvg%20xmlns=%27http://www.w3.org/2000/svg%27%20version=%271.1%27%20width=%27384%27%20height=%27216%27/%3e\" style=\"display:block;max-width:100%;width:initial;height:initial;background:none;opacity:1;border:0;margin:0;padding:0\"/></span><img alt=\"img\" class=\"lg:h-48 md:h-36 w-full object-cover object-center\" data-nimg=\"intrinsic\" decoding=\"async\" src=\"data:image/gif;base64,R0lGODlhAQABAIAAAAAAAP///yH5BAEAAAAALAAAAAABAAEAAAIBRAA7\" style=\"position:absolute;top:0;left:0;bottom:0;right:0;box-sizing:border-box;padding:0;border:none;margin:auto;display:block;width:0;height:0;min-width:100%;max-width:100%;min-height:100%;max-height:100%\"/><noscript><img alt=\"img\" class=\"lg:h-48 md:h-36 w-full object-cover object-center\" data-nimg=\"intrinsic\" decoding=\"async\" loading=\"lazy\" src=\"/_next/image/?url=https%3A%2F%2Fcwh-full-next-space.fra1.digitaloceanspaces.com%2Fvideoseries%2Fultimate-js-tutorial-hindi-1%2FJS-Thumb.jpg&amp;w=828&amp;q=75\" srcset=\"/_next/image/?url=https%3A%2F%2Fcwh-full-next-space.fra1.digitaloceanspaces.com%2Fvideoseries%2Fultimate-js-tutorial-hindi-1%2FJS-Thumb.jpg&amp;w=384&amp;q=75 1x, /_next/image/?url=https%3A%2F%2Fcwh-full-next-space.fra1.digitaloceanspaces.com%2Fvideoseries%2Fultimate-js-tutorial-hindi-1%2FJS-Thumb.jpg&amp;w=828&amp;q=75 2x\" style=\"position:absolute;top:0;left:0;bottom:0;right:0;box-sizing:border-box;padding:0;border:none;margin:auto;display:block;width:0;height:0;min-width:100%;max-width:100%;min-height:100%;max-height:100%\"/></noscript></span><div class=\"px-6 md:my-11 lg:my-0 md:h-72 lg:h-64 lg:py-4 xl:h-52\"><span class=\"tracking-widest text-xs title-font font-medium mb-1 dark:text-gray-400\">FREE COURSE</span><div class=\"title-font flex text-lg font-medium text-gray-900 mb-3 dark:text-white\">Ultimate JavaScript Course</div><p class=\"text-gray-700 text-base dark:text-gray-400\">This latest JavaScript course comes with premium curriculum that covers everything from basics to advance. On top of that, you will get my handwritten notes of JS for completely free. What are you waiting for? Just Enroll Buddy</p></div><div class=\"px-6 pt-4 pb-2\"><span class=\"inline-block text-white bg-purple-700 rounded-full px-3 py-2 text-sm font-semibold mr-2 my-2 cursor-pointer hover:bg-purple-600\">  Start Watching </span></div></div></div><div class=\"p-4 md:w-1/3 flex justify-center\"><div class=\"max-w-sm rounded-2xl overflow-hidden shadow-lg dark:bg-slate-800\"><span style=\"box-sizing:border-box;display:inline-block;overflow:hidden;width:initial;height:initial;background:none;opacity:1;border:0;margin:0;padding:0;position:relative;max-width:100%\"><span style=\"box-sizing:border-box;display:block;width:initial;height:initial;background:none;opacity:1;border:0;margin:0;padding:0;max-width:100%\"><img alt=\"\" aria-hidden=\"true\" src=\"data:image/svg+xml,%3csvg%20xmlns=%27http://www.w3.org/2000/svg%27%20version=%271.1%27%20width=%27384%27%20height=%27216%27/%3e\" style=\"display:block;max-width:100%;width:initial;height:initial;background:none;opacity:1;border:0;margin:0;padding:0\"/></span><img alt=\"img\" class=\"lg:h-48 md:h-36 w-full object-cover object-center\" data-nimg=\"intrinsic\" decoding=\"async\" src=\"data:image/gif;base64,R0lGODlhAQABAIAAAAAAAP///yH5BAEAAAAALAAAAAABAAEAAAIBRAA7\" style=\"position:absolute;top:0;left:0;bottom:0;right:0;box-sizing:border-box;padding:0;border:none;margin:auto;display:block;width:0;height:0;min-width:100%;max-width:100%;min-height:100%;max-height:100%\"/><noscript><img alt=\"img\" class=\"lg:h-48 md:h-36 w-full object-cover object-center\" data-nimg=\"intrinsic\" decoding=\"async\" loading=\"lazy\" src=\"/_next/image/?url=https%3A%2F%2Fcodewithharry.nyc3.cdn.digitaloceanspaces.com%2Fassets%2F090fefe24d23d47584f6ddc7eb5a241e.png&amp;w=828&amp;q=75\" srcset=\"/_next/image/?url=https%3A%2F%2Fcodewithharry.nyc3.cdn.digitaloceanspaces.com%2Fassets%2F090fefe24d23d47584f6ddc7eb5a241e.png&amp;w=384&amp;q=75 1x, /_next/image/?url=https%3A%2F%2Fcodewithharry.nyc3.cdn.digitaloceanspaces.com%2Fassets%2F090fefe24d23d47584f6ddc7eb5a241e.png&amp;w=828&amp;q=75 2x\" style=\"position:absolute;top:0;left:0;bottom:0;right:0;box-sizing:border-box;padding:0;border:none;margin:auto;display:block;width:0;height:0;min-width:100%;max-width:100%;min-height:100%;max-height:100%\"/></noscript></span><div class=\"px-6 md:my-11 lg:my-0 md:h-72 lg:h-64 lg:py-4 xl:h-52\"><span class=\"tracking-widest text-xs title-font font-medium mb-1 dark:text-gray-400\">FREE COURSE</span><div class=\"title-font flex text-lg font-medium text-gray-900 mb-3 dark:text-white\">React JS Tutorials For Beginners</div><p class=\"text-gray-700 text-base dark:text-gray-400\">React is a free and open-source front-end JavaScript library. This series will cover React from starting to the end. We will learn react from the ground up!</p></div><div class=\"px-6 pt-4 pb-2\"><span class=\"inline-block text-white bg-purple-700 rounded-full px-3 py-2 text-sm font-semibold mr-2 my-2 cursor-pointer hover:bg-purple-600\">  Start Watching </span></div></div></div></div></div><div class=\"container mx-auto\"><section class=\"text-gray-600 body-font\"><div class=\"container px-5 py-12 mx-auto\"><h2 class=\"text-3xl font-medium title-font text-gray-900 mb-12 text-center dark:text-purple-600\">Testimonials</h2><div class=\"flex flex-wrap -m-4\"><div class=\"p-4 md:w-1/2 w-full\"><div class=\"h-full bg-gray-100 p-8 rounded dark:bg-gray-700\"><svg class=\"block w-5 h-5 text-gray-400 mb-4\" fill=\"currentColor\" viewbox=\"0 0 975.036 975.036\" xmlns=\"http://www.w3.org/2000/svg\"><path d=\"M925.036 57.197h-304c-27.6 0-50 22.4-50 50v304c0 27.601 22.4 50 50 50h145.5c-1.9 79.601-20.4 143.3-55.4 191.2-27.6 37.8-69.399 69.1-125.3 93.8-25.7 11.3-36.8 41.7-24.8 67.101l36 76c11.6 24.399 40.3 35.1 65.1 24.399 66.2-28.6 122.101-64.8 167.7-108.8 55.601-53.7 93.7-114.3 114.3-181.9 20.601-67.6 30.9-159.8 30.9-276.8v-239c0-27.599-22.401-50-50-50zM106.036 913.497c65.4-28.5 121-64.699 166.9-108.6 56.1-53.7 94.4-114.1 115-181.2 20.6-67.1 30.899-159.6 30.899-277.5v-239c0-27.6-22.399-50-50-50h-304c-27.6 0-50 22.4-50 50v304c0 27.601 22.4 50 50 50h145.5c-1.9 79.601-20.4 143.3-55.4 191.2-27.6 37.8-69.4 69.1-125.3 93.8-25.7 11.3-36.8 41.7-24.8 67.101l35.9 75.8c11.601 24.399 40.501 35.2 65.301 24.399z\"></path></svg><p class=\"leading-relaxed mb-6 dark:text-gray-300\">I don't have words to thank this man, I'm really grateful to have this channel and website in my daily routine. If you're a mere beginner, then you can trust this guy and can put your time into his content. I can assure you that it'll be worth it.</p><span class=\"inline-flex items-center\"><span class=\"flex-grow flex flex-col pl-4\"><span class=\"title-font font-medium text-gray-900 dark:text-white\">Mohit Kumar</span><span class=\"text-gray-500 text-sm dark:text-gray-400\">Web Developer</span></span></span></div></div><div class=\"p-4 md:w-1/2 w-full\"><div class=\"h-full bg-gray-100 p-8 rounded dark:bg-gray-700\"><svg class=\"block w-5 h-5 text-gray-400 mb-4\" fill=\"currentColor\" viewbox=\"0 0 975.036 975.036\" xmlns=\"http://www.w3.org/2000/svg\"><path d=\"M925.036 57.197h-304c-27.6 0-50 22.4-50 50v304c0 27.601 22.4 50 50 50h145.5c-1.9 79.601-20.4 143.3-55.4 191.2-27.6 37.8-69.399 69.1-125.3 93.8-25.7 11.3-36.8 41.7-24.8 67.101l36 76c11.6 24.399 40.3 35.1 65.1 24.399 66.2-28.6 122.101-64.8 167.7-108.8 55.601-53.7 93.7-114.3 114.3-181.9 20.601-67.6 30.9-159.8 30.9-276.8v-239c0-27.599-22.401-50-50-50zM106.036 913.497c65.4-28.5 121-64.699 166.9-108.6 56.1-53.7 94.4-114.1 115-181.2 20.6-67.1 30.899-159.6 30.899-277.5v-239c0-27.6-22.399-50-50-50h-304c-27.6 0-50 22.4-50 50v304c0 27.601 22.4 50 50 50h145.5c-1.9 79.601-20.4 143.3-55.4 191.2-27.6 37.8-69.4 69.1-125.3 93.8-25.7 11.3-36.8 41.7-24.8 67.101l35.9 75.8c11.601 24.399 40.501 35.2 65.301 24.399z\"></path></svg><p class=\"leading-relaxed mb-6 dark:text-gray-300\">For everyone who wants to level up their #Coding and #Dev skills - seriously, this channel is for you! Both basic and advanced stacks are covered on this channel, and one can learn according to his skill levels. And the icing on the cake is, everything is available for free.</p><span class=\"inline-flex items-center\"><span class=\"flex-grow flex flex-col pl-4\"><span class=\"title-font font-medium text-gray-900 dark:text-white\">Rakesh Shetty</span><span class=\"text-gray-500 text-sm dark:text-gray-400\">Web Developer</span></span></span></div></div></div></div></section></div></div><footer class=\"text-gray-600 bg-white body-font dark:bg-gray-800 dark:text-white\"><div class=\"container mx-auto py-4 px-5 flex flex-wrap flex-col sm:flex-row\"><div class=\"flex title-font font-medium items-center md:justify-start justify-center text-gray-900 dark:text-gray-200\"><span style=\"box-sizing:border-box;display:inline-block;overflow:hidden;width:initial;height:initial;background:none;opacity:1;border:0;margin:0;padding:0;position:relative;max-width:100%\"><span style=\"box-sizing:border-box;display:block;width:initial;height:initial;background:none;opacity:1;border:0;margin:0;padding:0;max-width:100%\"><img alt=\"\" aria-hidden=\"true\" src=\"data:image/svg+xml,%3csvg%20xmlns=%27http://www.w3.org/2000/svg%27%20version=%271.1%27%20width=%2748%27%20height=%2748%27/%3e\" style=\"display:block;max-width:100%;width:initial;height:initial;background:none;opacity:1;border:0;margin:0;padding:0\"/></span><img alt=\"CodeWithHarry Logo\" class=\"rounded h-12\" data-nimg=\"intrinsic\" decoding=\"async\" name=\"logo\" src=\"data:image/gif;base64,R0lGODlhAQABAIAAAAAAAP///yH5BAEAAAAALAAAAAABAAEAAAIBRAA7\" style=\"position:absolute;top:0;left:0;bottom:0;right:0;box-sizing:border-box;padding:0;border:none;margin:auto;display:block;width:0;height:0;min-width:100%;max-width:100%;min-height:100%;max-height:100%\"/><noscript><img alt=\"CodeWithHarry Logo\" class=\"rounded h-12\" data-nimg=\"intrinsic\" decoding=\"async\" loading=\"lazy\" name=\"logo\" src=\"/_next/image/?url=%2Fimg%2Flogo-blue.png&amp;w=96&amp;q=75\" srcset=\"/_next/image/?url=%2Fimg%2Flogo-blue.png&amp;w=48&amp;q=75 1x, /_next/image/?url=%2Fimg%2Flogo-blue.png&amp;w=96&amp;q=75 2x\" style=\"position:absolute;top:0;left:0;bottom:0;right:0;box-sizing:border-box;padding:0;border:none;margin:auto;display:block;width:0;height:0;min-width:100%;max-width:100%;min-height:100%;max-height:100%\"/></noscript></span><div class=\"ml-3 text-xl\">CodeWithHarry</div></div><p class=\"text-sm text-gray-500 sm:ml-4 sm:pl-4 sm:border-l-2 sm:border-gray-200 sm:py-2 mt-4 md:mt-2 mb-2 md:mb-0 text-center dark:text-gray-400\">Copyright © 2022 CodeWithHarry.com</p><div class=\"inline-flex sm:ml-auto sm:mt-0 mt-2 justify-center sm:justify-start\" style=\"align-items:center\"><a aria-label=\"facebook\" class=\"text-gray-500 dark:text-gray-300\" href=\"https://www.facebook.com/codewithharry\" rel=\"noreferrer\" target=\"_blank\"><svg class=\"w-5 h-5\" fill=\"currentColor\" stroke-linecap=\"round\" stroke-linejoin=\"round\" stroke-width=\"2\" viewbox=\"0 0 24 24\"><path d=\"M18 2h-3a5 5 0 00-5 5v3H7v4h3v8h4v-8h3l1-4h-4V7a1 1 0 011-1h3z\"></path></svg></a><a aria-label=\"twitter\" class=\"ml-3 text-gray-500 dark:text-gray-300\" href=\"https://www.twitter.com/codewithharry\" rel=\"noreferrer\" target=\"_blank\"><svg class=\"w-5 h-5\" fill=\"currentColor\" stroke-linecap=\"round\" stroke-linejoin=\"round\" stroke-width=\"2\" viewbox=\"0 0 24 24\"><path d=\"M23 3a10.9 10.9 0 01-3.14 1.53 4.48 4.48 0 00-7.86 3v1A10.66 10.66 0 013 4s-4 9 5 13a11.64 11.64 0 01-7 2c9 5 20 0 20-11.5a4.5 4.5 0 00-.08-.83A7.72 7.72 0 0023 3z\"></path></svg></a><a aria-label=\"instagram\" class=\"ml-3 text-gray-500 dark:text-gray-300\" href=\"https://www.instagram.com/codewithharry\" rel=\"noreferrer\" target=\"_blank\"><svg class=\"w-5 h-5\" fill=\"none\" stroke=\"currentColor\" stroke-linecap=\"round\" stroke-linejoin=\"round\" stroke-width=\"2\" viewbox=\"0 0 24 24\"><rect height=\"20\" rx=\"5\" ry=\"5\" width=\"20\" x=\"2\" y=\"2\"></rect><path d=\"M16 11.37A4 4 0 1112.63 8 4 4 0 0116 11.37zm1.5-4.87h.01\"></path></svg></a><a aria-label=\"github\" class=\"ml-3 text-gray-500 dark:text-gray-300\" href=\"https://www.github.com/codewithharry\" rel=\"noreferrer\" target=\"_blank\"><svg class=\"text-xl\" fill=\"currentColor\" height=\"1em\" stroke=\"currentColor\" stroke-width=\"0\" viewbox=\"0 0 1024 1024\" width=\"1em\" xmlns=\"http://www.w3.org/2000/svg\"><path d=\"M511.6 76.3C264.3 76.2 64 276.4 64 523.5 64 718.9 189.3 885 363.8 946c23.5 5.9 19.9-10.8 19.9-22.2v-77.5c-135.7 15.9-141.2-73.9-150.3-88.9C215 726 171.5 718 184.5 703c30.9-15.9 62.4 4 98.9 57.9 26.4 39.1 77.9 32.5 104 26 5.7-23.5 17.9-44.5 34.7-60.8-140.6-25.2-199.2-111-199.2-213 0-49.5 16.3-95 48.3-131.7-20.4-60.5 1.9-112.3 4.9-120 58.1-5.2 118.5 41.6 123.2 45.3 33-8.9 70.7-13.6 112.9-13.6 42.4 0 80.2 4.9 113.5 13.9 11.3-8.6 67.3-48.8 121.3-43.9 2.9 7.7 24.7 58.3 5.5 118 32.4 36.8 48.9 82.7 48.9 132.3 0 102.2-59 188.1-200 212.9a127.5 127.5 0 0 1 38.1 91v112.5c.8 9 0 17.9 15 17.9 177.1-59.7 304.6-227 304.6-424.1 0-247.2-200.4-447.3-447.5-447.3z\"></path></svg></a></div></div></footer></div></div>\n",
      "<body><div id=\"__next\"><div class=\"\"><div class=\"\" style=\"position:fixed;top:0;left:0;height:2px;background:transparent;z-index:99999999999;width:100%\"><div class=\"\" style=\"height:100%;background:purple;transition:all 500ms ease;width:0%\"><div style=\"box-shadow:0 0 10px purple, 0 0 10px purple;width:5%;opacity:1;position:absolute;height:100%;transition:all 500ms ease;transform:rotate(3deg) translate(0px, -4px);left:-10rem\"></div></div></div><div class=\"w-full z-10 sticky bg-white top-0 border-b border-grey-light shadow-md dark:bg-gray-800 dark:border-black\" id=\"imgpreview2\"><div class=\"w-full flex flex-wrap items-center lg:justify-between mt-0 py-4\"><div class=\"px-0 lg:pl-4 flex items-center lg:mx-4 cursor-pointer text-purple-700 text-xl font-bold mx-3 dark:text-purple-300\"><a href=\"/\">CodeWithHarry</a></div><div class=\"flex items-center md:hidden\"><div class=\"text-purple-700 text-md font-semibold\">Menu</div><svg class=\"text-purple-700 mt-1\" fill=\"currentColor\" height=\"1em\" stroke=\"currentColor\" stroke-width=\"0\" viewbox=\"0 0 1024 1024\" width=\"1em\" xmlns=\"http://www.w3.org/2000/svg\"><path d=\"M840.4 300H183.6c-19.7 0-30.7 20.8-18.5 35l328.4 380.8c9.4 10.9 27.5 10.9 37 0L858.9 335c12.2-14.2 1.2-35-18.5-35z\"></path></svg></div><svg class=\"md:hidden text-purple-700 mt-1 ml-2 cursor-pointer dark:text-white\" fill=\"currentColor\" height=\"28\" stroke=\"currentColor\" stroke-width=\"0\" viewbox=\"0 0 16 16\" width=\"28\" xmlns=\"http://www.w3.org/2000/svg\"><path d=\"M6 .278a.768.768 0 0 1 .08.858 7.208 7.208 0 0 0-.878 3.46c0 4.021 3.278 7.277 7.318 7.277.527 0 1.04-.055 1.533-.16a.787.787 0 0 1 .81.316.733.733 0 0 1-.031.893A8.349 8.349 0 0 1 8.344 16C3.734 16 0 12.286 0 7.71 0 4.266 2.114 1.312 5.124.06A.752.752 0 0 1 6 .278z\"></path><path d=\"M10.794 3.148a.217.217 0 0 1 .412 0l.387 1.162c.173.518.579.924 1.097 1.097l1.162.387a.217.217 0 0 1 0 .412l-1.162.387a1.734 1.734 0 0 0-1.097 1.097l-.387 1.162a.217.217 0 0 1-.412 0l-.387-1.162A1.734 1.734 0 0 0 9.31 6.593l-1.162-.387a.217.217 0 0 1 0-.412l1.162-.387a1.734 1.734 0 0 0 1.097-1.097l.387-1.162zM13.863.099a.145.145 0 0 1 .274 0l.258.774c.115.346.386.617.732.732l.774.258a.145.145 0 0 1 0 .274l-.774.258a1.156 1.156 0 0 0-.732.732l-.258.774a.145.145 0 0 1-.274 0l-.258-.774a1.156 1.156 0 0 0-.732-.732l-.774-.258a.145.145 0 0 1 0-.274l.774-.258c.346-.115.617-.386.732-.732L13.863.1z\"></path></svg><button class=\"md:hidden text-white bg-purple-700 hover:bg-purple-800 focus:ring-4 focus:ring-purple-300 font-medium rounded-lg text-sm px-3 py-2 text-center inline-flex items-center mx-1 absolute right-3 md:right-12\">Login</button><div class=\"w-full flex-grow lg:flex lg:flex-1 lg:content-center lg:justify-end lg:w-auto h-0 lg:h-auto overflow-hidden mt-2 lg:mt-0 z-20 transition-all\" id=\"nav-content\"><ul class=\"flex items-center flex-col lg:flex-row\"><div class=\"search-icon cursor-pointer px-6 hidden\" id=\"search-toggle\"><svg class=\"fill-current pointer-events-none text-grey-darkest w-4 h-4 inline\" viewbox=\"0 0 20 20\" xmlns=\"http://www.w3.org/2000/svg\"><path d=\"M12.9 14.32a8 8 0 1 1 1.41-1.41l5.35 5.33-1.42 1.42-5.33-5.34zM8 14A6 6 0 1 0 8 2a6 6 0 0 0 0 12z\"></path></svg></div><li class=\"mx-2 my-2 text-black hover:border-b-2 hover:border-purple-700 dark:text-white\"><a href=\"/\">Home</a></li><li class=\"mx-2 my-2 text-black hover:border-b-2 hover:border-purple-700 dark:text-white\"><a href=\"/videos/\">Courses</a></li><li class=\"mx-2 my-2 text-black hover:border-b-2 hover:border-purple-700 dark:text-white\"><a href=\"/tutorials/\">Tutorial</a></li><li class=\"mx-2 my-2 text-black hover:border-b-2 hover:border-purple-700 dark:text-white\"><a href=\"/blog/\">Blog</a></li><li class=\"mx-2 my-2 text-black hover:border-b-2 hover:border-purple-700 dark:text-white\"><a href=\"/notes/\">Notes</a></li><li class=\"mx-2 my-2 text-black hover:border-b-2 hover:border-purple-700 dark:text-white\"><a href=\"/contact/\">Contact</a></li><li class=\"mx-2 my-2 text-black hover:border-b-2 hover:border-purple-700 dark:text-white\"><a href=\"/my-gear/\">My Gear</a></li><li class=\"mx-2 my-2 text-black hover:border-b-2 hover:border-purple-700 dark:text-white\"><a href=\"/work/\">Work With Us</a></li><li><svg class=\"hidden md:block text-purple-700 mt-1 ml-2 cursor-pointer dark:text-white\" fill=\"currentColor\" height=\"28\" stroke=\"currentColor\" stroke-width=\"0\" viewbox=\"0 0 16 16\" width=\"28\" xmlns=\"http://www.w3.org/2000/svg\"><path d=\"M6 .278a.768.768 0 0 1 .08.858 7.208 7.208 0 0 0-.878 3.46c0 4.021 3.278 7.277 7.318 7.277.527 0 1.04-.055 1.533-.16a.787.787 0 0 1 .81.316.733.733 0 0 1-.031.893A8.349 8.349 0 0 1 8.344 16C3.734 16 0 12.286 0 7.71 0 4.266 2.114 1.312 5.124.06A.752.752 0 0 1 6 .278z\"></path><path d=\"M10.794 3.148a.217.217 0 0 1 .412 0l.387 1.162c.173.518.579.924 1.097 1.097l1.162.387a.217.217 0 0 1 0 .412l-1.162.387a1.734 1.734 0 0 0-1.097 1.097l-.387 1.162a.217.217 0 0 1-.412 0l-.387-1.162A1.734 1.734 0 0 0 9.31 6.593l-1.162-.387a.217.217 0 0 1 0-.412l1.162-.387a1.734 1.734 0 0 0 1.097-1.097l.387-1.162zM13.863.099a.145.145 0 0 1 .274 0l.258.774c.115.346.386.617.732.732l.774.258a.145.145 0 0 1 0 .274l-.774.258a1.156 1.156 0 0 0-.732.732l-.258.774a.145.145 0 0 1-.274 0l-.258-.774a1.156 1.156 0 0 0-.732-.732l-.774-.258a.145.145 0 0 1 0-.274l.774-.258c.346-.115.617-.386.732-.732L13.863.1z\"></path></svg></li></ul><div class=\"text-center my-2 pr-4 pl-2\"><button class=\"text-white bg-purple-700 hover:bg-purple-800 focus:ring-4 focus:ring-purple-300 font-medium rounded-lg text-sm px-3 py-2 text-center inline-flex items-center mx-1 dark:bg-purple-500 dark:hover:bg-purple-800\">Login</button><button class=\"text-white bg-purple-700 hover:bg-purple-800 focus:ring-4 focus:ring-purple-300 font-medium rounded-lg text-sm px-3 py-2 text-center inline-flex items-center mx-1 dark:bg-purple-500 dark:hover:bg-purple-800\">Signup</button></div></div></div><hr class=\"dark:border-gray-500\"/><div class=\"max-h-[6vh] min-h-[40px] flex items-center ml-3 mr-3 md:ml-10 md:mr-10 my-1\"><span><svg class=\"text-purple-700 text-xl cursor-pointer dark:text-purple-300\" fill=\"currentColor\" height=\"1em\" stroke=\"currentColor\" stroke-width=\"0\" viewbox=\"0 0 1024 1024\" width=\"1em\" xmlns=\"http://www.w3.org/2000/svg\"><path d=\"M946.5 505L534.6 93.4a31.93 31.93 0 0 0-45.2 0L77.5 505c-12 12-18.8 28.3-18.8 45.3 0 35.3 28.7 64 64 64h43.4V908c0 17.7 14.3 32 32 32H448V716h112v224h265.9c17.7 0 32-14.3 32-32V614.3h43.4c17 0 33.3-6.7 45.3-18.8 24.9-25 24.9-65.5-.1-90.5z\"></path></svg></span><ul class=\"space-x-7 m-auto text-purple-700 font-semibold hidden md:flex items-center\"><li class=\"cursor-pointer hover:border-b-2 hover:border-purple-700 active:border-b-4 dark:text-purple-300\"><a href=\"/tutorial/html-home/\">HTML</a></li><li class=\"cursor-pointer hover:border-b-2 hover:border-purple-700 active:border-b-4 dark:text-purple-300\"><a href=\"/tutorial/css-home/\">CSS</a></li><li class=\"cursor-pointer hover:border-b-2 hover:border-purple-700 active:border-b-4 dark:text-purple-300\"><a href=\"/tutorial/js/\">JS</a></li><li class=\"cursor-pointer hover:border-b-2 hover:border-purple-700 active:border-b-4 dark:text-purple-300\"><a href=\"/tutorial/c/\">C</a></li><li class=\"cursor-pointer hover:border-b-2 hover:border-purple-700 active:border-b-4 dark:text-purple-300\"><a href=\"/tutorial/cplusplus/\">C++</a></li><li class=\"cursor-pointer hover:border-b-2 hover:border-purple-700 active:border-b-4 dark:text-purple-300\"><a href=\"/tutorial/java/\">JAVA</a></li><li class=\"cursor-pointer hover:border-b-2 hover:border-purple-700 active:border-b-4 dark:text-purple-300\"><a href=\"/tutorial/python/\">PYTHON</a></li><li class=\"cursor-pointer hover:border-b-2 hover:border-purple-700 active:border-b-4 dark:text-purple-300\"><a href=\"/tutorial/php/\">PHP</a></li><li class=\"cursor-pointer hover:border-b-2 hover:border-purple-700 active:border-b-4 dark:text-purple-300\"><a href=\"/tutorial/react-home/\">REACT JS</a></li></ul><input class=\"hidden right-10 md:right-10 absolute w-48 md:w-60 h-8 bg-white rounded border-2 border-purple-500 focus:border-purple-700 focus:ring-2 focus:ring-indigo-200 text-base outline-none text-gray-700 py-1 px-3 leading-8 transition-colors duration-200 ease-in-out dark:bg-gray-500 dark:text-gray-200\" id=\"search\" placeholder=\"Search...\"/><svg class=\"text-purple-700 dark:text-purple-300 cursor-pointer text-2xl absolute right-3 md:right-12 }\" fill=\"currentColor\" height=\"1em\" stroke=\"currentColor\" stroke-width=\"0\" viewbox=\"0 0 1024 1024\" width=\"1em\" xmlns=\"http://www.w3.org/2000/svg\"><path d=\"M909.6 854.5L649.9 594.8C690.2 542.7 712 479 712 412c0-80.2-31.3-155.4-87.9-212.1-56.6-56.7-132-87.9-212.1-87.9s-155.5 31.3-212.1 87.9C143.2 256.5 112 331.8 112 412c0 80.1 31.3 155.5 87.9 212.1C256.5 680.8 331.8 712 412 712c67 0 130.6-21.8 182.7-62l259.7 259.6a8.2 8.2 0 0 0 11.6 0l43.6-43.5a8.2 8.2 0 0 0 0-11.6zM570.4 570.4C528 612.7 471.8 636 412 636s-116-23.3-158.4-65.6C211.3 528 188 471.8 188 412s23.3-116.1 65.6-158.4C296 211.3 352.2 188 412 188s116.1 23.2 158.4 65.6S636 352.2 636 412s-23.3 116.1-65.6 158.4z\"></path></svg></div><div class=\"bg-purple-100 text-center shadow-lg absolute w-full dark:bg-gray-600 hidden mt-1 md:hidden\"><ul><li class=\"pt-4 text-purple-500 font-bold\"><a href=\"/\">Home</a></li><li class=\"pt-4 text-purple-500 font-bold\"><a href=\"/videos/\">Courses</a></li><li class=\"pt-4 text-purple-500 font-bold flex justify-center ml-3\">Tutorial <!-- --><svg class=\"mt-1\" fill=\"currentColor\" height=\"1em\" stroke=\"currentColor\" stroke-width=\"0\" viewbox=\"0 0 1024 1024\" width=\"1em\" xmlns=\"http://www.w3.org/2000/svg\"><path d=\"M840.4 300H183.6c-19.7 0-30.7 20.8-18.5 35l328.4 380.8c9.4 10.9 27.5 10.9 37 0L858.9 335c12.2-14.2 1.2-35-18.5-35z\"></path></svg></li><li class=\"my-2 text-purple-500 font-semibold text-sm bg-purple-200 dark:bg-gray-700 hidden\"><ul><li class=\"cursor-pointer py-1 border-y-2 dark:border-gray-400\"><a href=\"/tutorial/html-home/\">HTML</a></li><li class=\"cursor-pointer py-1 border-b-2 dark:border-gray-400\"><a href=\"/tutorial/css-home/\">CSS</a></li><li class=\"cursor-pointer py-1 border-b-2 dark:border-gray-400\"><a href=\"/tutorial/js/\">JS</a></li><li class=\"cursor-pointer py-1 border-b-2 dark:border-gray-400\"><a href=\"/tutorial/c/\">C</a></li><li class=\"cursor-pointer py-1 border-b-2 dark:border-gray-400\"><a href=\"/tutorial/cplusplus/\">C++</a></li><li class=\"cursor-pointer py-1 border-b-2 dark:border-gray-400\"><a href=\"/tutorial/java/\">JAVA</a></li><li class=\"cursor-pointer py-1 border-b-2 dark:border-gray-400\"><a href=\"/tutorial/python/\">PYTHON</a></li><li class=\"cursor-pointer py-1 border-b-2 dark:border-gray-400\"><a href=\"/tutorial/php/\">PHP</a></li><li class=\"cursor-pointer py-1 border-b-2 dark:border-gray-400\"><a href=\"/tutorial/react-home/\">REACT JS</a></li></ul></li><li class=\"pt-4 text-purple-500 font-bold\"><a href=\"/blog/\">Blog</a></li><li class=\"pt-4 text-purple-500 font-bold\"><a href=\"/notes/\">Notes</a></li><li class=\"pt-4 text-purple-500 font-bold\"><a href=\"/contact/\">Contact</a></li><li class=\"pt-4 text-purple-500 font-bold\"><a href=\"/my-gear/\">My Gear</a></li><li class=\"pt-4 pb-4 text-purple-500 font-bold\"><a href=\"/work/\">Work With Us</a></li></ul></div></div><div class=\"dark:bg-gray-900\"><div class=\"Toastify\"></div><div class=\"flex bg-white h-96 container mx-auto dark:bg-gray-900\"><div class=\"flex items-center text-center lg:text-left px-8 md:px-12 lg:w-1/2\"><div><h2 class=\"text-3xl font-semibold text-gray-800 md:text-4xl dark:text-white\">Welcome to <!-- --><span class=\"text-purple-700 dark:text-purple-600\"></span></h2><h4 class=\"text-xl font-semibold text-gray-800 md:text-2xl dark:text-white\">Learn <!-- --><span class=\"text-purple-700 dark:text-purple-600\"></span></h4><p class=\"mt-2 text-sm text-gray-500 md:text-base dark:text-gray-400\">Confused on which course to take? I have got you covered. Browse courses and find out the best course for you. Its free! Code With Harry is my attempt to teach basics and those coding techniques to people in short time which took me ages to learn.</p><div class=\"flex justify-center lg:justify-start mt-6\"><button class=\"px-3 py-2 lg:px-4 lg:py-3 bg-gray-900 text-gray-200 text-xs font-semibold rounded hover:text-white hover:bg-gray-800 dark:bg-gray-100 dark:text-gray-600 dark:hover:bg-gray-300\">Free Courses</button><button class=\"px-3 py-2 mx-4 lg:px-4 lg:py-3 bg-gray-300 text-gray-900 text-xs font-semibold rounded hover:bg-gray-400\">Explore Blog</button></div></div></div><div class=\"hidden lg:block lg:w-1/2\" style=\"clip-path:polygon(10% 0px, 100% 0%, 100% 100%, 0px 100%)\"><div class=\"h-full object-cover\" style='background-image:url(\"https://images.unsplash.com/photo-1498050108023-c5249f4df085?ixlib=rb-1.2.1&amp;ixid=eyJhcHBfaWQiOjEyMDd9&amp;auto=format&amp;fit=crop&amp;w=1352&amp;q=80\")'><div class=\"h-full bg-black opacity-25\"></div></div></div></div><div class=\"container mx-auto lg:my-2\"><h2 class=\"text-3xl font-medium title-font text-gray-900 my-10 text-center dark:text-purple-600\">Recommended Courses</h2><div class=\"flex flex-wrap justify-center mx-6\"><div class=\"p-4 md:w-1/3 flex justify-center\"><div class=\"max-w-sm rounded-2xl overflow-hidden shadow-lg dark:bg-slate-800\"><span style=\"box-sizing:border-box;display:inline-block;overflow:hidden;width:initial;height:initial;background:none;opacity:1;border:0;margin:0;padding:0;position:relative;max-width:100%\"><span style=\"box-sizing:border-box;display:block;width:initial;height:initial;background:none;opacity:1;border:0;margin:0;padding:0;max-width:100%\"><img alt=\"\" aria-hidden=\"true\" src=\"data:image/svg+xml,%3csvg%20xmlns=%27http://www.w3.org/2000/svg%27%20version=%271.1%27%20width=%27384%27%20height=%27216%27/%3e\" style=\"display:block;max-width:100%;width:initial;height:initial;background:none;opacity:1;border:0;margin:0;padding:0\"/></span><img alt=\"img\" class=\"lg:h-48 md:h-36 w-full object-cover object-center\" data-nimg=\"intrinsic\" decoding=\"async\" src=\"data:image/gif;base64,R0lGODlhAQABAIAAAAAAAP///yH5BAEAAAAALAAAAAABAAEAAAIBRAA7\" style=\"position:absolute;top:0;left:0;bottom:0;right:0;box-sizing:border-box;padding:0;border:none;margin:auto;display:block;width:0;height:0;min-width:100%;max-width:100%;min-height:100%;max-height:100%\"/><noscript><img alt=\"img\" class=\"lg:h-48 md:h-36 w-full object-cover object-center\" data-nimg=\"intrinsic\" decoding=\"async\" loading=\"lazy\" src=\"/_next/image/?url=https%3A%2F%2Fcwh-full-next-space.fra1.digitaloceanspaces.com%2Fvideoseries%2Fpython-100-days-of-code-1%2F7wnove7K-ZQ-HD.jpg&amp;w=828&amp;q=75\" srcset=\"/_next/image/?url=https%3A%2F%2Fcwh-full-next-space.fra1.digitaloceanspaces.com%2Fvideoseries%2Fpython-100-days-of-code-1%2F7wnove7K-ZQ-HD.jpg&amp;w=384&amp;q=75 1x, /_next/image/?url=https%3A%2F%2Fcwh-full-next-space.fra1.digitaloceanspaces.com%2Fvideoseries%2Fpython-100-days-of-code-1%2F7wnove7K-ZQ-HD.jpg&amp;w=828&amp;q=75 2x\" style=\"position:absolute;top:0;left:0;bottom:0;right:0;box-sizing:border-box;padding:0;border:none;margin:auto;display:block;width:0;height:0;min-width:100%;max-width:100%;min-height:100%;max-height:100%\"/></noscript></span><div class=\"px-6 md:my-11 lg:my-0 md:h-72 lg:h-64 lg:py-4 xl:h-52\"><span class=\"tracking-widest text-xs title-font font-medium mb-1 dark:text-gray-400\">FREE COURSE</span><div class=\"title-font flex text-lg font-medium text-gray-900 mb-3 dark:text-white\">Python Tutorials - 100 Days of Code    </div><p class=\"text-gray-700 text-base dark:text-gray-400\">Python is one of the most demanded programming languages in the job market. Surprisingly, it is equally easy to learn and master Python. Let's commit our 100 days of code to python!</p></div><div class=\"px-6 pt-4 pb-2\"><span class=\"inline-block text-white bg-purple-700 rounded-full px-3 py-2 text-sm font-semibold mr-2 my-2 cursor-pointer hover:bg-purple-600\">  Start Watching </span></div></div></div><div class=\"p-4 md:w-1/3 flex justify-center\"><div class=\"max-w-sm rounded-2xl overflow-hidden shadow-lg dark:bg-slate-800\"><span style=\"box-sizing:border-box;display:inline-block;overflow:hidden;width:initial;height:initial;background:none;opacity:1;border:0;margin:0;padding:0;position:relative;max-width:100%\"><span style=\"box-sizing:border-box;display:block;width:initial;height:initial;background:none;opacity:1;border:0;margin:0;padding:0;max-width:100%\"><img alt=\"\" aria-hidden=\"true\" src=\"data:image/svg+xml,%3csvg%20xmlns=%27http://www.w3.org/2000/svg%27%20version=%271.1%27%20width=%27384%27%20height=%27216%27/%3e\" style=\"display:block;max-width:100%;width:initial;height:initial;background:none;opacity:1;border:0;margin:0;padding:0\"/></span><img alt=\"img\" class=\"lg:h-48 md:h-36 w-full object-cover object-center\" data-nimg=\"intrinsic\" decoding=\"async\" src=\"data:image/gif;base64,R0lGODlhAQABAIAAAAAAAP///yH5BAEAAAAALAAAAAABAAEAAAIBRAA7\" style=\"position:absolute;top:0;left:0;bottom:0;right:0;box-sizing:border-box;padding:0;border:none;margin:auto;display:block;width:0;height:0;min-width:100%;max-width:100%;min-height:100%;max-height:100%\"/><noscript><img alt=\"img\" class=\"lg:h-48 md:h-36 w-full object-cover object-center\" data-nimg=\"intrinsic\" decoding=\"async\" loading=\"lazy\" src=\"/_next/image/?url=https%3A%2F%2Fcwh-full-next-space.fra1.digitaloceanspaces.com%2Fvideoseries%2Fultimate-js-tutorial-hindi-1%2FJS-Thumb.jpg&amp;w=828&amp;q=75\" srcset=\"/_next/image/?url=https%3A%2F%2Fcwh-full-next-space.fra1.digitaloceanspaces.com%2Fvideoseries%2Fultimate-js-tutorial-hindi-1%2FJS-Thumb.jpg&amp;w=384&amp;q=75 1x, /_next/image/?url=https%3A%2F%2Fcwh-full-next-space.fra1.digitaloceanspaces.com%2Fvideoseries%2Fultimate-js-tutorial-hindi-1%2FJS-Thumb.jpg&amp;w=828&amp;q=75 2x\" style=\"position:absolute;top:0;left:0;bottom:0;right:0;box-sizing:border-box;padding:0;border:none;margin:auto;display:block;width:0;height:0;min-width:100%;max-width:100%;min-height:100%;max-height:100%\"/></noscript></span><div class=\"px-6 md:my-11 lg:my-0 md:h-72 lg:h-64 lg:py-4 xl:h-52\"><span class=\"tracking-widest text-xs title-font font-medium mb-1 dark:text-gray-400\">FREE COURSE</span><div class=\"title-font flex text-lg font-medium text-gray-900 mb-3 dark:text-white\">Ultimate JavaScript Course</div><p class=\"text-gray-700 text-base dark:text-gray-400\">This latest JavaScript course comes with premium curriculum that covers everything from basics to advance. On top of that, you will get my handwritten notes of JS for completely free. What are you waiting for? Just Enroll Buddy</p></div><div class=\"px-6 pt-4 pb-2\"><span class=\"inline-block text-white bg-purple-700 rounded-full px-3 py-2 text-sm font-semibold mr-2 my-2 cursor-pointer hover:bg-purple-600\">  Start Watching </span></div></div></div><div class=\"p-4 md:w-1/3 flex justify-center\"><div class=\"max-w-sm rounded-2xl overflow-hidden shadow-lg dark:bg-slate-800\"><span style=\"box-sizing:border-box;display:inline-block;overflow:hidden;width:initial;height:initial;background:none;opacity:1;border:0;margin:0;padding:0;position:relative;max-width:100%\"><span style=\"box-sizing:border-box;display:block;width:initial;height:initial;background:none;opacity:1;border:0;margin:0;padding:0;max-width:100%\"><img alt=\"\" aria-hidden=\"true\" src=\"data:image/svg+xml,%3csvg%20xmlns=%27http://www.w3.org/2000/svg%27%20version=%271.1%27%20width=%27384%27%20height=%27216%27/%3e\" style=\"display:block;max-width:100%;width:initial;height:initial;background:none;opacity:1;border:0;margin:0;padding:0\"/></span><img alt=\"img\" class=\"lg:h-48 md:h-36 w-full object-cover object-center\" data-nimg=\"intrinsic\" decoding=\"async\" src=\"data:image/gif;base64,R0lGODlhAQABAIAAAAAAAP///yH5BAEAAAAALAAAAAABAAEAAAIBRAA7\" style=\"position:absolute;top:0;left:0;bottom:0;right:0;box-sizing:border-box;padding:0;border:none;margin:auto;display:block;width:0;height:0;min-width:100%;max-width:100%;min-height:100%;max-height:100%\"/><noscript><img alt=\"img\" class=\"lg:h-48 md:h-36 w-full object-cover object-center\" data-nimg=\"intrinsic\" decoding=\"async\" loading=\"lazy\" src=\"/_next/image/?url=https%3A%2F%2Fcodewithharry.nyc3.cdn.digitaloceanspaces.com%2Fassets%2F090fefe24d23d47584f6ddc7eb5a241e.png&amp;w=828&amp;q=75\" srcset=\"/_next/image/?url=https%3A%2F%2Fcodewithharry.nyc3.cdn.digitaloceanspaces.com%2Fassets%2F090fefe24d23d47584f6ddc7eb5a241e.png&amp;w=384&amp;q=75 1x, /_next/image/?url=https%3A%2F%2Fcodewithharry.nyc3.cdn.digitaloceanspaces.com%2Fassets%2F090fefe24d23d47584f6ddc7eb5a241e.png&amp;w=828&amp;q=75 2x\" style=\"position:absolute;top:0;left:0;bottom:0;right:0;box-sizing:border-box;padding:0;border:none;margin:auto;display:block;width:0;height:0;min-width:100%;max-width:100%;min-height:100%;max-height:100%\"/></noscript></span><div class=\"px-6 md:my-11 lg:my-0 md:h-72 lg:h-64 lg:py-4 xl:h-52\"><span class=\"tracking-widest text-xs title-font font-medium mb-1 dark:text-gray-400\">FREE COURSE</span><div class=\"title-font flex text-lg font-medium text-gray-900 mb-3 dark:text-white\">React JS Tutorials For Beginners</div><p class=\"text-gray-700 text-base dark:text-gray-400\">React is a free and open-source front-end JavaScript library. This series will cover React from starting to the end. We will learn react from the ground up!</p></div><div class=\"px-6 pt-4 pb-2\"><span class=\"inline-block text-white bg-purple-700 rounded-full px-3 py-2 text-sm font-semibold mr-2 my-2 cursor-pointer hover:bg-purple-600\">  Start Watching </span></div></div></div></div></div><div class=\"container mx-auto\"><section class=\"text-gray-600 body-font\"><div class=\"container px-5 py-12 mx-auto\"><h2 class=\"text-3xl font-medium title-font text-gray-900 mb-12 text-center dark:text-purple-600\">Testimonials</h2><div class=\"flex flex-wrap -m-4\"><div class=\"p-4 md:w-1/2 w-full\"><div class=\"h-full bg-gray-100 p-8 rounded dark:bg-gray-700\"><svg class=\"block w-5 h-5 text-gray-400 mb-4\" fill=\"currentColor\" viewbox=\"0 0 975.036 975.036\" xmlns=\"http://www.w3.org/2000/svg\"><path d=\"M925.036 57.197h-304c-27.6 0-50 22.4-50 50v304c0 27.601 22.4 50 50 50h145.5c-1.9 79.601-20.4 143.3-55.4 191.2-27.6 37.8-69.399 69.1-125.3 93.8-25.7 11.3-36.8 41.7-24.8 67.101l36 76c11.6 24.399 40.3 35.1 65.1 24.399 66.2-28.6 122.101-64.8 167.7-108.8 55.601-53.7 93.7-114.3 114.3-181.9 20.601-67.6 30.9-159.8 30.9-276.8v-239c0-27.599-22.401-50-50-50zM106.036 913.497c65.4-28.5 121-64.699 166.9-108.6 56.1-53.7 94.4-114.1 115-181.2 20.6-67.1 30.899-159.6 30.899-277.5v-239c0-27.6-22.399-50-50-50h-304c-27.6 0-50 22.4-50 50v304c0 27.601 22.4 50 50 50h145.5c-1.9 79.601-20.4 143.3-55.4 191.2-27.6 37.8-69.4 69.1-125.3 93.8-25.7 11.3-36.8 41.7-24.8 67.101l35.9 75.8c11.601 24.399 40.501 35.2 65.301 24.399z\"></path></svg><p class=\"leading-relaxed mb-6 dark:text-gray-300\">I don't have words to thank this man, I'm really grateful to have this channel and website in my daily routine. If you're a mere beginner, then you can trust this guy and can put your time into his content. I can assure you that it'll be worth it.</p><span class=\"inline-flex items-center\"><span class=\"flex-grow flex flex-col pl-4\"><span class=\"title-font font-medium text-gray-900 dark:text-white\">Mohit Kumar</span><span class=\"text-gray-500 text-sm dark:text-gray-400\">Web Developer</span></span></span></div></div><div class=\"p-4 md:w-1/2 w-full\"><div class=\"h-full bg-gray-100 p-8 rounded dark:bg-gray-700\"><svg class=\"block w-5 h-5 text-gray-400 mb-4\" fill=\"currentColor\" viewbox=\"0 0 975.036 975.036\" xmlns=\"http://www.w3.org/2000/svg\"><path d=\"M925.036 57.197h-304c-27.6 0-50 22.4-50 50v304c0 27.601 22.4 50 50 50h145.5c-1.9 79.601-20.4 143.3-55.4 191.2-27.6 37.8-69.399 69.1-125.3 93.8-25.7 11.3-36.8 41.7-24.8 67.101l36 76c11.6 24.399 40.3 35.1 65.1 24.399 66.2-28.6 122.101-64.8 167.7-108.8 55.601-53.7 93.7-114.3 114.3-181.9 20.601-67.6 30.9-159.8 30.9-276.8v-239c0-27.599-22.401-50-50-50zM106.036 913.497c65.4-28.5 121-64.699 166.9-108.6 56.1-53.7 94.4-114.1 115-181.2 20.6-67.1 30.899-159.6 30.899-277.5v-239c0-27.6-22.399-50-50-50h-304c-27.6 0-50 22.4-50 50v304c0 27.601 22.4 50 50 50h145.5c-1.9 79.601-20.4 143.3-55.4 191.2-27.6 37.8-69.4 69.1-125.3 93.8-25.7 11.3-36.8 41.7-24.8 67.101l35.9 75.8c11.601 24.399 40.501 35.2 65.301 24.399z\"></path></svg><p class=\"leading-relaxed mb-6 dark:text-gray-300\">For everyone who wants to level up their #Coding and #Dev skills - seriously, this channel is for you! Both basic and advanced stacks are covered on this channel, and one can learn according to his skill levels. And the icing on the cake is, everything is available for free.</p><span class=\"inline-flex items-center\"><span class=\"flex-grow flex flex-col pl-4\"><span class=\"title-font font-medium text-gray-900 dark:text-white\">Rakesh Shetty</span><span class=\"text-gray-500 text-sm dark:text-gray-400\">Web Developer</span></span></span></div></div></div></div></section></div></div><footer class=\"text-gray-600 bg-white body-font dark:bg-gray-800 dark:text-white\"><div class=\"container mx-auto py-4 px-5 flex flex-wrap flex-col sm:flex-row\"><div class=\"flex title-font font-medium items-center md:justify-start justify-center text-gray-900 dark:text-gray-200\"><span style=\"box-sizing:border-box;display:inline-block;overflow:hidden;width:initial;height:initial;background:none;opacity:1;border:0;margin:0;padding:0;position:relative;max-width:100%\"><span style=\"box-sizing:border-box;display:block;width:initial;height:initial;background:none;opacity:1;border:0;margin:0;padding:0;max-width:100%\"><img alt=\"\" aria-hidden=\"true\" src=\"data:image/svg+xml,%3csvg%20xmlns=%27http://www.w3.org/2000/svg%27%20version=%271.1%27%20width=%2748%27%20height=%2748%27/%3e\" style=\"display:block;max-width:100%;width:initial;height:initial;background:none;opacity:1;border:0;margin:0;padding:0\"/></span><img alt=\"CodeWithHarry Logo\" class=\"rounded h-12\" data-nimg=\"intrinsic\" decoding=\"async\" name=\"logo\" src=\"data:image/gif;base64,R0lGODlhAQABAIAAAAAAAP///yH5BAEAAAAALAAAAAABAAEAAAIBRAA7\" style=\"position:absolute;top:0;left:0;bottom:0;right:0;box-sizing:border-box;padding:0;border:none;margin:auto;display:block;width:0;height:0;min-width:100%;max-width:100%;min-height:100%;max-height:100%\"/><noscript><img alt=\"CodeWithHarry Logo\" class=\"rounded h-12\" data-nimg=\"intrinsic\" decoding=\"async\" loading=\"lazy\" name=\"logo\" src=\"/_next/image/?url=%2Fimg%2Flogo-blue.png&amp;w=96&amp;q=75\" srcset=\"/_next/image/?url=%2Fimg%2Flogo-blue.png&amp;w=48&amp;q=75 1x, /_next/image/?url=%2Fimg%2Flogo-blue.png&amp;w=96&amp;q=75 2x\" style=\"position:absolute;top:0;left:0;bottom:0;right:0;box-sizing:border-box;padding:0;border:none;margin:auto;display:block;width:0;height:0;min-width:100%;max-width:100%;min-height:100%;max-height:100%\"/></noscript></span><div class=\"ml-3 text-xl\">CodeWithHarry</div></div><p class=\"text-sm text-gray-500 sm:ml-4 sm:pl-4 sm:border-l-2 sm:border-gray-200 sm:py-2 mt-4 md:mt-2 mb-2 md:mb-0 text-center dark:text-gray-400\">Copyright © 2022 CodeWithHarry.com</p><div class=\"inline-flex sm:ml-auto sm:mt-0 mt-2 justify-center sm:justify-start\" style=\"align-items:center\"><a aria-label=\"facebook\" class=\"text-gray-500 dark:text-gray-300\" href=\"https://www.facebook.com/codewithharry\" rel=\"noreferrer\" target=\"_blank\"><svg class=\"w-5 h-5\" fill=\"currentColor\" stroke-linecap=\"round\" stroke-linejoin=\"round\" stroke-width=\"2\" viewbox=\"0 0 24 24\"><path d=\"M18 2h-3a5 5 0 00-5 5v3H7v4h3v8h4v-8h3l1-4h-4V7a1 1 0 011-1h3z\"></path></svg></a><a aria-label=\"twitter\" class=\"ml-3 text-gray-500 dark:text-gray-300\" href=\"https://www.twitter.com/codewithharry\" rel=\"noreferrer\" target=\"_blank\"><svg class=\"w-5 h-5\" fill=\"currentColor\" stroke-linecap=\"round\" stroke-linejoin=\"round\" stroke-width=\"2\" viewbox=\"0 0 24 24\"><path d=\"M23 3a10.9 10.9 0 01-3.14 1.53 4.48 4.48 0 00-7.86 3v1A10.66 10.66 0 013 4s-4 9 5 13a11.64 11.64 0 01-7 2c9 5 20 0 20-11.5a4.5 4.5 0 00-.08-.83A7.72 7.72 0 0023 3z\"></path></svg></a><a aria-label=\"instagram\" class=\"ml-3 text-gray-500 dark:text-gray-300\" href=\"https://www.instagram.com/codewithharry\" rel=\"noreferrer\" target=\"_blank\"><svg class=\"w-5 h-5\" fill=\"none\" stroke=\"currentColor\" stroke-linecap=\"round\" stroke-linejoin=\"round\" stroke-width=\"2\" viewbox=\"0 0 24 24\"><rect height=\"20\" rx=\"5\" ry=\"5\" width=\"20\" x=\"2\" y=\"2\"></rect><path d=\"M16 11.37A4 4 0 1112.63 8 4 4 0 0116 11.37zm1.5-4.87h.01\"></path></svg></a><a aria-label=\"github\" class=\"ml-3 text-gray-500 dark:text-gray-300\" href=\"https://www.github.com/codewithharry\" rel=\"noreferrer\" target=\"_blank\"><svg class=\"text-xl\" fill=\"currentColor\" height=\"1em\" stroke=\"currentColor\" stroke-width=\"0\" viewbox=\"0 0 1024 1024\" width=\"1em\" xmlns=\"http://www.w3.org/2000/svg\"><path d=\"M511.6 76.3C264.3 76.2 64 276.4 64 523.5 64 718.9 189.3 885 363.8 946c23.5 5.9 19.9-10.8 19.9-22.2v-77.5c-135.7 15.9-141.2-73.9-150.3-88.9C215 726 171.5 718 184.5 703c30.9-15.9 62.4 4 98.9 57.9 26.4 39.1 77.9 32.5 104 26 5.7-23.5 17.9-44.5 34.7-60.8-140.6-25.2-199.2-111-199.2-213 0-49.5 16.3-95 48.3-131.7-20.4-60.5 1.9-112.3 4.9-120 58.1-5.2 118.5 41.6 123.2 45.3 33-8.9 70.7-13.6 112.9-13.6 42.4 0 80.2 4.9 113.5 13.9 11.3-8.6 67.3-48.8 121.3-43.9 2.9 7.7 24.7 58.3 5.5 118 32.4 36.8 48.9 82.7 48.9 132.3 0 102.2-59 188.1-200 212.9a127.5 127.5 0 0 1 38.1 91v112.5c.8 9 0 17.9 15 17.9 177.1-59.7 304.6-227 304.6-424.1 0-247.2-200.4-447.3-447.5-447.3z\"></path></svg></a></div></div></footer></div></div><script id=\"__NEXT_DATA__\" type=\"application/json\">{\"props\":{\"pageProps\":{},\"__N_SSP\":true},\"page\":\"/\",\"query\":{},\"buildId\":\"m_hyoqLdBgkk3xZsvW8xP\",\"isFallback\":false,\"gssp\":true,\"scriptLoader\":[]}</script></body>\n",
      "<html><head><meta content=\"width=device-width\" name=\"viewport\"/><meta charset=\"utf-8\"/><link href=\"/img/favicon.ico\" rel=\"shortcut icon\" type=\"image/x-icon\"/><script async=\"\" crossorigin=\"anonymous\" src=\"https://pagead2.googlesyndication.com/pagead/js/adsbygoogle.js?client=ca-pub-9655830461045889\"></script><title>Learn to code online - CodeWithHarry</title><meta content=\"Generated by create next app\" name=\"description\"/><link href=\"/img/favicon.ico\" rel=\"icon\"/><meta content=\"7\" name=\"next-head-count\"/><meta name=\"next-font-preconnect\"/><link as=\"style\" href=\"/_next/static/css/ced2f5f753e05303.css\" rel=\"preload\"/><link data-n-g=\"\" href=\"/_next/static/css/ced2f5f753e05303.css\" rel=\"stylesheet\"/><link as=\"style\" href=\"/_next/static/css/470c5e8db7cdc7e9.css\" rel=\"preload\"/><link data-n-p=\"\" href=\"/_next/static/css/470c5e8db7cdc7e9.css\" rel=\"stylesheet\"/><noscript data-n-css=\"\"></noscript><script defer=\"\" nomodule=\"\" src=\"/_next/static/chunks/polyfills-5cd94c89d3acac5f.js\"></script><script defer=\"\" src=\"/_next/static/chunks/webpack-beddf46cb441c0f2.js\"></script><script defer=\"\" src=\"/_next/static/chunks/framework-a87821de553db91d.js\"></script><script defer=\"\" src=\"/_next/static/chunks/main-49d106e7eacac86b.js\"></script><script defer=\"\" src=\"/_next/static/chunks/pages/_app-a93afd1efa83860f.js\"></script><script defer=\"\" src=\"/_next/static/chunks/10-5d256216d58885d9.js\"></script><script defer=\"\" src=\"/_next/static/chunks/pages/index-2eb23443eb493791.js\"></script><script defer=\"\" src=\"/_next/static/m_hyoqLdBgkk3xZsvW8xP/_buildManifest.js\"></script><script defer=\"\" src=\"/_next/static/m_hyoqLdBgkk3xZsvW8xP/_ssgManifest.js\"></script><script defer=\"\" src=\"/_next/static/m_hyoqLdBgkk3xZsvW8xP/_middlewareManifest.js\"></script></head><body><div id=\"__next\"><div class=\"\"><div class=\"\" style=\"position:fixed;top:0;left:0;height:2px;background:transparent;z-index:99999999999;width:100%\"><div class=\"\" style=\"height:100%;background:purple;transition:all 500ms ease;width:0%\"><div style=\"box-shadow:0 0 10px purple, 0 0 10px purple;width:5%;opacity:1;position:absolute;height:100%;transition:all 500ms ease;transform:rotate(3deg) translate(0px, -4px);left:-10rem\"></div></div></div><div class=\"w-full z-10 sticky bg-white top-0 border-b border-grey-light shadow-md dark:bg-gray-800 dark:border-black\" id=\"imgpreview2\"><div class=\"w-full flex flex-wrap items-center lg:justify-between mt-0 py-4\"><div class=\"px-0 lg:pl-4 flex items-center lg:mx-4 cursor-pointer text-purple-700 text-xl font-bold mx-3 dark:text-purple-300\"><a href=\"/\">CodeWithHarry</a></div><div class=\"flex items-center md:hidden\"><div class=\"text-purple-700 text-md font-semibold\">Menu</div><svg class=\"text-purple-700 mt-1\" fill=\"currentColor\" height=\"1em\" stroke=\"currentColor\" stroke-width=\"0\" viewbox=\"0 0 1024 1024\" width=\"1em\" xmlns=\"http://www.w3.org/2000/svg\"><path d=\"M840.4 300H183.6c-19.7 0-30.7 20.8-18.5 35l328.4 380.8c9.4 10.9 27.5 10.9 37 0L858.9 335c12.2-14.2 1.2-35-18.5-35z\"></path></svg></div><svg class=\"md:hidden text-purple-700 mt-1 ml-2 cursor-pointer dark:text-white\" fill=\"currentColor\" height=\"28\" stroke=\"currentColor\" stroke-width=\"0\" viewbox=\"0 0 16 16\" width=\"28\" xmlns=\"http://www.w3.org/2000/svg\"><path d=\"M6 .278a.768.768 0 0 1 .08.858 7.208 7.208 0 0 0-.878 3.46c0 4.021 3.278 7.277 7.318 7.277.527 0 1.04-.055 1.533-.16a.787.787 0 0 1 .81.316.733.733 0 0 1-.031.893A8.349 8.349 0 0 1 8.344 16C3.734 16 0 12.286 0 7.71 0 4.266 2.114 1.312 5.124.06A.752.752 0 0 1 6 .278z\"></path><path d=\"M10.794 3.148a.217.217 0 0 1 .412 0l.387 1.162c.173.518.579.924 1.097 1.097l1.162.387a.217.217 0 0 1 0 .412l-1.162.387a1.734 1.734 0 0 0-1.097 1.097l-.387 1.162a.217.217 0 0 1-.412 0l-.387-1.162A1.734 1.734 0 0 0 9.31 6.593l-1.162-.387a.217.217 0 0 1 0-.412l1.162-.387a1.734 1.734 0 0 0 1.097-1.097l.387-1.162zM13.863.099a.145.145 0 0 1 .274 0l.258.774c.115.346.386.617.732.732l.774.258a.145.145 0 0 1 0 .274l-.774.258a1.156 1.156 0 0 0-.732.732l-.258.774a.145.145 0 0 1-.274 0l-.258-.774a1.156 1.156 0 0 0-.732-.732l-.774-.258a.145.145 0 0 1 0-.274l.774-.258c.346-.115.617-.386.732-.732L13.863.1z\"></path></svg><button class=\"md:hidden text-white bg-purple-700 hover:bg-purple-800 focus:ring-4 focus:ring-purple-300 font-medium rounded-lg text-sm px-3 py-2 text-center inline-flex items-center mx-1 absolute right-3 md:right-12\">Login</button><div class=\"w-full flex-grow lg:flex lg:flex-1 lg:content-center lg:justify-end lg:w-auto h-0 lg:h-auto overflow-hidden mt-2 lg:mt-0 z-20 transition-all\" id=\"nav-content\"><ul class=\"flex items-center flex-col lg:flex-row\"><div class=\"search-icon cursor-pointer px-6 hidden\" id=\"search-toggle\"><svg class=\"fill-current pointer-events-none text-grey-darkest w-4 h-4 inline\" viewbox=\"0 0 20 20\" xmlns=\"http://www.w3.org/2000/svg\"><path d=\"M12.9 14.32a8 8 0 1 1 1.41-1.41l5.35 5.33-1.42 1.42-5.33-5.34zM8 14A6 6 0 1 0 8 2a6 6 0 0 0 0 12z\"></path></svg></div><li class=\"mx-2 my-2 text-black hover:border-b-2 hover:border-purple-700 dark:text-white\"><a href=\"/\">Home</a></li><li class=\"mx-2 my-2 text-black hover:border-b-2 hover:border-purple-700 dark:text-white\"><a href=\"/videos/\">Courses</a></li><li class=\"mx-2 my-2 text-black hover:border-b-2 hover:border-purple-700 dark:text-white\"><a href=\"/tutorials/\">Tutorial</a></li><li class=\"mx-2 my-2 text-black hover:border-b-2 hover:border-purple-700 dark:text-white\"><a href=\"/blog/\">Blog</a></li><li class=\"mx-2 my-2 text-black hover:border-b-2 hover:border-purple-700 dark:text-white\"><a href=\"/notes/\">Notes</a></li><li class=\"mx-2 my-2 text-black hover:border-b-2 hover:border-purple-700 dark:text-white\"><a href=\"/contact/\">Contact</a></li><li class=\"mx-2 my-2 text-black hover:border-b-2 hover:border-purple-700 dark:text-white\"><a href=\"/my-gear/\">My Gear</a></li><li class=\"mx-2 my-2 text-black hover:border-b-2 hover:border-purple-700 dark:text-white\"><a href=\"/work/\">Work With Us</a></li><li><svg class=\"hidden md:block text-purple-700 mt-1 ml-2 cursor-pointer dark:text-white\" fill=\"currentColor\" height=\"28\" stroke=\"currentColor\" stroke-width=\"0\" viewbox=\"0 0 16 16\" width=\"28\" xmlns=\"http://www.w3.org/2000/svg\"><path d=\"M6 .278a.768.768 0 0 1 .08.858 7.208 7.208 0 0 0-.878 3.46c0 4.021 3.278 7.277 7.318 7.277.527 0 1.04-.055 1.533-.16a.787.787 0 0 1 .81.316.733.733 0 0 1-.031.893A8.349 8.349 0 0 1 8.344 16C3.734 16 0 12.286 0 7.71 0 4.266 2.114 1.312 5.124.06A.752.752 0 0 1 6 .278z\"></path><path d=\"M10.794 3.148a.217.217 0 0 1 .412 0l.387 1.162c.173.518.579.924 1.097 1.097l1.162.387a.217.217 0 0 1 0 .412l-1.162.387a1.734 1.734 0 0 0-1.097 1.097l-.387 1.162a.217.217 0 0 1-.412 0l-.387-1.162A1.734 1.734 0 0 0 9.31 6.593l-1.162-.387a.217.217 0 0 1 0-.412l1.162-.387a1.734 1.734 0 0 0 1.097-1.097l.387-1.162zM13.863.099a.145.145 0 0 1 .274 0l.258.774c.115.346.386.617.732.732l.774.258a.145.145 0 0 1 0 .274l-.774.258a1.156 1.156 0 0 0-.732.732l-.258.774a.145.145 0 0 1-.274 0l-.258-.774a1.156 1.156 0 0 0-.732-.732l-.774-.258a.145.145 0 0 1 0-.274l.774-.258c.346-.115.617-.386.732-.732L13.863.1z\"></path></svg></li></ul><div class=\"text-center my-2 pr-4 pl-2\"><button class=\"text-white bg-purple-700 hover:bg-purple-800 focus:ring-4 focus:ring-purple-300 font-medium rounded-lg text-sm px-3 py-2 text-center inline-flex items-center mx-1 dark:bg-purple-500 dark:hover:bg-purple-800\">Login</button><button class=\"text-white bg-purple-700 hover:bg-purple-800 focus:ring-4 focus:ring-purple-300 font-medium rounded-lg text-sm px-3 py-2 text-center inline-flex items-center mx-1 dark:bg-purple-500 dark:hover:bg-purple-800\">Signup</button></div></div></div><hr class=\"dark:border-gray-500\"/><div class=\"max-h-[6vh] min-h-[40px] flex items-center ml-3 mr-3 md:ml-10 md:mr-10 my-1\"><span><svg class=\"text-purple-700 text-xl cursor-pointer dark:text-purple-300\" fill=\"currentColor\" height=\"1em\" stroke=\"currentColor\" stroke-width=\"0\" viewbox=\"0 0 1024 1024\" width=\"1em\" xmlns=\"http://www.w3.org/2000/svg\"><path d=\"M946.5 505L534.6 93.4a31.93 31.93 0 0 0-45.2 0L77.5 505c-12 12-18.8 28.3-18.8 45.3 0 35.3 28.7 64 64 64h43.4V908c0 17.7 14.3 32 32 32H448V716h112v224h265.9c17.7 0 32-14.3 32-32V614.3h43.4c17 0 33.3-6.7 45.3-18.8 24.9-25 24.9-65.5-.1-90.5z\"></path></svg></span><ul class=\"space-x-7 m-auto text-purple-700 font-semibold hidden md:flex items-center\"><li class=\"cursor-pointer hover:border-b-2 hover:border-purple-700 active:border-b-4 dark:text-purple-300\"><a href=\"/tutorial/html-home/\">HTML</a></li><li class=\"cursor-pointer hover:border-b-2 hover:border-purple-700 active:border-b-4 dark:text-purple-300\"><a href=\"/tutorial/css-home/\">CSS</a></li><li class=\"cursor-pointer hover:border-b-2 hover:border-purple-700 active:border-b-4 dark:text-purple-300\"><a href=\"/tutorial/js/\">JS</a></li><li class=\"cursor-pointer hover:border-b-2 hover:border-purple-700 active:border-b-4 dark:text-purple-300\"><a href=\"/tutorial/c/\">C</a></li><li class=\"cursor-pointer hover:border-b-2 hover:border-purple-700 active:border-b-4 dark:text-purple-300\"><a href=\"/tutorial/cplusplus/\">C++</a></li><li class=\"cursor-pointer hover:border-b-2 hover:border-purple-700 active:border-b-4 dark:text-purple-300\"><a href=\"/tutorial/java/\">JAVA</a></li><li class=\"cursor-pointer hover:border-b-2 hover:border-purple-700 active:border-b-4 dark:text-purple-300\"><a href=\"/tutorial/python/\">PYTHON</a></li><li class=\"cursor-pointer hover:border-b-2 hover:border-purple-700 active:border-b-4 dark:text-purple-300\"><a href=\"/tutorial/php/\">PHP</a></li><li class=\"cursor-pointer hover:border-b-2 hover:border-purple-700 active:border-b-4 dark:text-purple-300\"><a href=\"/tutorial/react-home/\">REACT JS</a></li></ul><input class=\"hidden right-10 md:right-10 absolute w-48 md:w-60 h-8 bg-white rounded border-2 border-purple-500 focus:border-purple-700 focus:ring-2 focus:ring-indigo-200 text-base outline-none text-gray-700 py-1 px-3 leading-8 transition-colors duration-200 ease-in-out dark:bg-gray-500 dark:text-gray-200\" id=\"search\" placeholder=\"Search...\"/><svg class=\"text-purple-700 dark:text-purple-300 cursor-pointer text-2xl absolute right-3 md:right-12 }\" fill=\"currentColor\" height=\"1em\" stroke=\"currentColor\" stroke-width=\"0\" viewbox=\"0 0 1024 1024\" width=\"1em\" xmlns=\"http://www.w3.org/2000/svg\"><path d=\"M909.6 854.5L649.9 594.8C690.2 542.7 712 479 712 412c0-80.2-31.3-155.4-87.9-212.1-56.6-56.7-132-87.9-212.1-87.9s-155.5 31.3-212.1 87.9C143.2 256.5 112 331.8 112 412c0 80.1 31.3 155.5 87.9 212.1C256.5 680.8 331.8 712 412 712c67 0 130.6-21.8 182.7-62l259.7 259.6a8.2 8.2 0 0 0 11.6 0l43.6-43.5a8.2 8.2 0 0 0 0-11.6zM570.4 570.4C528 612.7 471.8 636 412 636s-116-23.3-158.4-65.6C211.3 528 188 471.8 188 412s23.3-116.1 65.6-158.4C296 211.3 352.2 188 412 188s116.1 23.2 158.4 65.6S636 352.2 636 412s-23.3 116.1-65.6 158.4z\"></path></svg></div><div class=\"bg-purple-100 text-center shadow-lg absolute w-full dark:bg-gray-600 hidden mt-1 md:hidden\"><ul><li class=\"pt-4 text-purple-500 font-bold\"><a href=\"/\">Home</a></li><li class=\"pt-4 text-purple-500 font-bold\"><a href=\"/videos/\">Courses</a></li><li class=\"pt-4 text-purple-500 font-bold flex justify-center ml-3\">Tutorial <!-- --><svg class=\"mt-1\" fill=\"currentColor\" height=\"1em\" stroke=\"currentColor\" stroke-width=\"0\" viewbox=\"0 0 1024 1024\" width=\"1em\" xmlns=\"http://www.w3.org/2000/svg\"><path d=\"M840.4 300H183.6c-19.7 0-30.7 20.8-18.5 35l328.4 380.8c9.4 10.9 27.5 10.9 37 0L858.9 335c12.2-14.2 1.2-35-18.5-35z\"></path></svg></li><li class=\"my-2 text-purple-500 font-semibold text-sm bg-purple-200 dark:bg-gray-700 hidden\"><ul><li class=\"cursor-pointer py-1 border-y-2 dark:border-gray-400\"><a href=\"/tutorial/html-home/\">HTML</a></li><li class=\"cursor-pointer py-1 border-b-2 dark:border-gray-400\"><a href=\"/tutorial/css-home/\">CSS</a></li><li class=\"cursor-pointer py-1 border-b-2 dark:border-gray-400\"><a href=\"/tutorial/js/\">JS</a></li><li class=\"cursor-pointer py-1 border-b-2 dark:border-gray-400\"><a href=\"/tutorial/c/\">C</a></li><li class=\"cursor-pointer py-1 border-b-2 dark:border-gray-400\"><a href=\"/tutorial/cplusplus/\">C++</a></li><li class=\"cursor-pointer py-1 border-b-2 dark:border-gray-400\"><a href=\"/tutorial/java/\">JAVA</a></li><li class=\"cursor-pointer py-1 border-b-2 dark:border-gray-400\"><a href=\"/tutorial/python/\">PYTHON</a></li><li class=\"cursor-pointer py-1 border-b-2 dark:border-gray-400\"><a href=\"/tutorial/php/\">PHP</a></li><li class=\"cursor-pointer py-1 border-b-2 dark:border-gray-400\"><a href=\"/tutorial/react-home/\">REACT JS</a></li></ul></li><li class=\"pt-4 text-purple-500 font-bold\"><a href=\"/blog/\">Blog</a></li><li class=\"pt-4 text-purple-500 font-bold\"><a href=\"/notes/\">Notes</a></li><li class=\"pt-4 text-purple-500 font-bold\"><a href=\"/contact/\">Contact</a></li><li class=\"pt-4 text-purple-500 font-bold\"><a href=\"/my-gear/\">My Gear</a></li><li class=\"pt-4 pb-4 text-purple-500 font-bold\"><a href=\"/work/\">Work With Us</a></li></ul></div></div><div class=\"dark:bg-gray-900\"><div class=\"Toastify\"></div><div class=\"flex bg-white h-96 container mx-auto dark:bg-gray-900\"><div class=\"flex items-center text-center lg:text-left px-8 md:px-12 lg:w-1/2\"><div><h2 class=\"text-3xl font-semibold text-gray-800 md:text-4xl dark:text-white\">Welcome to <!-- --><span class=\"text-purple-700 dark:text-purple-600\"></span></h2><h4 class=\"text-xl font-semibold text-gray-800 md:text-2xl dark:text-white\">Learn <!-- --><span class=\"text-purple-700 dark:text-purple-600\"></span></h4><p class=\"mt-2 text-sm text-gray-500 md:text-base dark:text-gray-400\">Confused on which course to take? I have got you covered. Browse courses and find out the best course for you. Its free! Code With Harry is my attempt to teach basics and those coding techniques to people in short time which took me ages to learn.</p><div class=\"flex justify-center lg:justify-start mt-6\"><button class=\"px-3 py-2 lg:px-4 lg:py-3 bg-gray-900 text-gray-200 text-xs font-semibold rounded hover:text-white hover:bg-gray-800 dark:bg-gray-100 dark:text-gray-600 dark:hover:bg-gray-300\">Free Courses</button><button class=\"px-3 py-2 mx-4 lg:px-4 lg:py-3 bg-gray-300 text-gray-900 text-xs font-semibold rounded hover:bg-gray-400\">Explore Blog</button></div></div></div><div class=\"hidden lg:block lg:w-1/2\" style=\"clip-path:polygon(10% 0px, 100% 0%, 100% 100%, 0px 100%)\"><div class=\"h-full object-cover\" style='background-image:url(\"https://images.unsplash.com/photo-1498050108023-c5249f4df085?ixlib=rb-1.2.1&amp;ixid=eyJhcHBfaWQiOjEyMDd9&amp;auto=format&amp;fit=crop&amp;w=1352&amp;q=80\")'><div class=\"h-full bg-black opacity-25\"></div></div></div></div><div class=\"container mx-auto lg:my-2\"><h2 class=\"text-3xl font-medium title-font text-gray-900 my-10 text-center dark:text-purple-600\">Recommended Courses</h2><div class=\"flex flex-wrap justify-center mx-6\"><div class=\"p-4 md:w-1/3 flex justify-center\"><div class=\"max-w-sm rounded-2xl overflow-hidden shadow-lg dark:bg-slate-800\"><span style=\"box-sizing:border-box;display:inline-block;overflow:hidden;width:initial;height:initial;background:none;opacity:1;border:0;margin:0;padding:0;position:relative;max-width:100%\"><span style=\"box-sizing:border-box;display:block;width:initial;height:initial;background:none;opacity:1;border:0;margin:0;padding:0;max-width:100%\"><img alt=\"\" aria-hidden=\"true\" src=\"data:image/svg+xml,%3csvg%20xmlns=%27http://www.w3.org/2000/svg%27%20version=%271.1%27%20width=%27384%27%20height=%27216%27/%3e\" style=\"display:block;max-width:100%;width:initial;height:initial;background:none;opacity:1;border:0;margin:0;padding:0\"/></span><img alt=\"img\" class=\"lg:h-48 md:h-36 w-full object-cover object-center\" data-nimg=\"intrinsic\" decoding=\"async\" src=\"data:image/gif;base64,R0lGODlhAQABAIAAAAAAAP///yH5BAEAAAAALAAAAAABAAEAAAIBRAA7\" style=\"position:absolute;top:0;left:0;bottom:0;right:0;box-sizing:border-box;padding:0;border:none;margin:auto;display:block;width:0;height:0;min-width:100%;max-width:100%;min-height:100%;max-height:100%\"/><noscript><img alt=\"img\" class=\"lg:h-48 md:h-36 w-full object-cover object-center\" data-nimg=\"intrinsic\" decoding=\"async\" loading=\"lazy\" src=\"/_next/image/?url=https%3A%2F%2Fcwh-full-next-space.fra1.digitaloceanspaces.com%2Fvideoseries%2Fpython-100-days-of-code-1%2F7wnove7K-ZQ-HD.jpg&amp;w=828&amp;q=75\" srcset=\"/_next/image/?url=https%3A%2F%2Fcwh-full-next-space.fra1.digitaloceanspaces.com%2Fvideoseries%2Fpython-100-days-of-code-1%2F7wnove7K-ZQ-HD.jpg&amp;w=384&amp;q=75 1x, /_next/image/?url=https%3A%2F%2Fcwh-full-next-space.fra1.digitaloceanspaces.com%2Fvideoseries%2Fpython-100-days-of-code-1%2F7wnove7K-ZQ-HD.jpg&amp;w=828&amp;q=75 2x\" style=\"position:absolute;top:0;left:0;bottom:0;right:0;box-sizing:border-box;padding:0;border:none;margin:auto;display:block;width:0;height:0;min-width:100%;max-width:100%;min-height:100%;max-height:100%\"/></noscript></span><div class=\"px-6 md:my-11 lg:my-0 md:h-72 lg:h-64 lg:py-4 xl:h-52\"><span class=\"tracking-widest text-xs title-font font-medium mb-1 dark:text-gray-400\">FREE COURSE</span><div class=\"title-font flex text-lg font-medium text-gray-900 mb-3 dark:text-white\">Python Tutorials - 100 Days of Code    </div><p class=\"text-gray-700 text-base dark:text-gray-400\">Python is one of the most demanded programming languages in the job market. Surprisingly, it is equally easy to learn and master Python. Let's commit our 100 days of code to python!</p></div><div class=\"px-6 pt-4 pb-2\"><span class=\"inline-block text-white bg-purple-700 rounded-full px-3 py-2 text-sm font-semibold mr-2 my-2 cursor-pointer hover:bg-purple-600\">  Start Watching </span></div></div></div><div class=\"p-4 md:w-1/3 flex justify-center\"><div class=\"max-w-sm rounded-2xl overflow-hidden shadow-lg dark:bg-slate-800\"><span style=\"box-sizing:border-box;display:inline-block;overflow:hidden;width:initial;height:initial;background:none;opacity:1;border:0;margin:0;padding:0;position:relative;max-width:100%\"><span style=\"box-sizing:border-box;display:block;width:initial;height:initial;background:none;opacity:1;border:0;margin:0;padding:0;max-width:100%\"><img alt=\"\" aria-hidden=\"true\" src=\"data:image/svg+xml,%3csvg%20xmlns=%27http://www.w3.org/2000/svg%27%20version=%271.1%27%20width=%27384%27%20height=%27216%27/%3e\" style=\"display:block;max-width:100%;width:initial;height:initial;background:none;opacity:1;border:0;margin:0;padding:0\"/></span><img alt=\"img\" class=\"lg:h-48 md:h-36 w-full object-cover object-center\" data-nimg=\"intrinsic\" decoding=\"async\" src=\"data:image/gif;base64,R0lGODlhAQABAIAAAAAAAP///yH5BAEAAAAALAAAAAABAAEAAAIBRAA7\" style=\"position:absolute;top:0;left:0;bottom:0;right:0;box-sizing:border-box;padding:0;border:none;margin:auto;display:block;width:0;height:0;min-width:100%;max-width:100%;min-height:100%;max-height:100%\"/><noscript><img alt=\"img\" class=\"lg:h-48 md:h-36 w-full object-cover object-center\" data-nimg=\"intrinsic\" decoding=\"async\" loading=\"lazy\" src=\"/_next/image/?url=https%3A%2F%2Fcwh-full-next-space.fra1.digitaloceanspaces.com%2Fvideoseries%2Fultimate-js-tutorial-hindi-1%2FJS-Thumb.jpg&amp;w=828&amp;q=75\" srcset=\"/_next/image/?url=https%3A%2F%2Fcwh-full-next-space.fra1.digitaloceanspaces.com%2Fvideoseries%2Fultimate-js-tutorial-hindi-1%2FJS-Thumb.jpg&amp;w=384&amp;q=75 1x, /_next/image/?url=https%3A%2F%2Fcwh-full-next-space.fra1.digitaloceanspaces.com%2Fvideoseries%2Fultimate-js-tutorial-hindi-1%2FJS-Thumb.jpg&amp;w=828&amp;q=75 2x\" style=\"position:absolute;top:0;left:0;bottom:0;right:0;box-sizing:border-box;padding:0;border:none;margin:auto;display:block;width:0;height:0;min-width:100%;max-width:100%;min-height:100%;max-height:100%\"/></noscript></span><div class=\"px-6 md:my-11 lg:my-0 md:h-72 lg:h-64 lg:py-4 xl:h-52\"><span class=\"tracking-widest text-xs title-font font-medium mb-1 dark:text-gray-400\">FREE COURSE</span><div class=\"title-font flex text-lg font-medium text-gray-900 mb-3 dark:text-white\">Ultimate JavaScript Course</div><p class=\"text-gray-700 text-base dark:text-gray-400\">This latest JavaScript course comes with premium curriculum that covers everything from basics to advance. On top of that, you will get my handwritten notes of JS for completely free. What are you waiting for? Just Enroll Buddy</p></div><div class=\"px-6 pt-4 pb-2\"><span class=\"inline-block text-white bg-purple-700 rounded-full px-3 py-2 text-sm font-semibold mr-2 my-2 cursor-pointer hover:bg-purple-600\">  Start Watching </span></div></div></div><div class=\"p-4 md:w-1/3 flex justify-center\"><div class=\"max-w-sm rounded-2xl overflow-hidden shadow-lg dark:bg-slate-800\"><span style=\"box-sizing:border-box;display:inline-block;overflow:hidden;width:initial;height:initial;background:none;opacity:1;border:0;margin:0;padding:0;position:relative;max-width:100%\"><span style=\"box-sizing:border-box;display:block;width:initial;height:initial;background:none;opacity:1;border:0;margin:0;padding:0;max-width:100%\"><img alt=\"\" aria-hidden=\"true\" src=\"data:image/svg+xml,%3csvg%20xmlns=%27http://www.w3.org/2000/svg%27%20version=%271.1%27%20width=%27384%27%20height=%27216%27/%3e\" style=\"display:block;max-width:100%;width:initial;height:initial;background:none;opacity:1;border:0;margin:0;padding:0\"/></span><img alt=\"img\" class=\"lg:h-48 md:h-36 w-full object-cover object-center\" data-nimg=\"intrinsic\" decoding=\"async\" src=\"data:image/gif;base64,R0lGODlhAQABAIAAAAAAAP///yH5BAEAAAAALAAAAAABAAEAAAIBRAA7\" style=\"position:absolute;top:0;left:0;bottom:0;right:0;box-sizing:border-box;padding:0;border:none;margin:auto;display:block;width:0;height:0;min-width:100%;max-width:100%;min-height:100%;max-height:100%\"/><noscript><img alt=\"img\" class=\"lg:h-48 md:h-36 w-full object-cover object-center\" data-nimg=\"intrinsic\" decoding=\"async\" loading=\"lazy\" src=\"/_next/image/?url=https%3A%2F%2Fcodewithharry.nyc3.cdn.digitaloceanspaces.com%2Fassets%2F090fefe24d23d47584f6ddc7eb5a241e.png&amp;w=828&amp;q=75\" srcset=\"/_next/image/?url=https%3A%2F%2Fcodewithharry.nyc3.cdn.digitaloceanspaces.com%2Fassets%2F090fefe24d23d47584f6ddc7eb5a241e.png&amp;w=384&amp;q=75 1x, /_next/image/?url=https%3A%2F%2Fcodewithharry.nyc3.cdn.digitaloceanspaces.com%2Fassets%2F090fefe24d23d47584f6ddc7eb5a241e.png&amp;w=828&amp;q=75 2x\" style=\"position:absolute;top:0;left:0;bottom:0;right:0;box-sizing:border-box;padding:0;border:none;margin:auto;display:block;width:0;height:0;min-width:100%;max-width:100%;min-height:100%;max-height:100%\"/></noscript></span><div class=\"px-6 md:my-11 lg:my-0 md:h-72 lg:h-64 lg:py-4 xl:h-52\"><span class=\"tracking-widest text-xs title-font font-medium mb-1 dark:text-gray-400\">FREE COURSE</span><div class=\"title-font flex text-lg font-medium text-gray-900 mb-3 dark:text-white\">React JS Tutorials For Beginners</div><p class=\"text-gray-700 text-base dark:text-gray-400\">React is a free and open-source front-end JavaScript library. This series will cover React from starting to the end. We will learn react from the ground up!</p></div><div class=\"px-6 pt-4 pb-2\"><span class=\"inline-block text-white bg-purple-700 rounded-full px-3 py-2 text-sm font-semibold mr-2 my-2 cursor-pointer hover:bg-purple-600\">  Start Watching </span></div></div></div></div></div><div class=\"container mx-auto\"><section class=\"text-gray-600 body-font\"><div class=\"container px-5 py-12 mx-auto\"><h2 class=\"text-3xl font-medium title-font text-gray-900 mb-12 text-center dark:text-purple-600\">Testimonials</h2><div class=\"flex flex-wrap -m-4\"><div class=\"p-4 md:w-1/2 w-full\"><div class=\"h-full bg-gray-100 p-8 rounded dark:bg-gray-700\"><svg class=\"block w-5 h-5 text-gray-400 mb-4\" fill=\"currentColor\" viewbox=\"0 0 975.036 975.036\" xmlns=\"http://www.w3.org/2000/svg\"><path d=\"M925.036 57.197h-304c-27.6 0-50 22.4-50 50v304c0 27.601 22.4 50 50 50h145.5c-1.9 79.601-20.4 143.3-55.4 191.2-27.6 37.8-69.399 69.1-125.3 93.8-25.7 11.3-36.8 41.7-24.8 67.101l36 76c11.6 24.399 40.3 35.1 65.1 24.399 66.2-28.6 122.101-64.8 167.7-108.8 55.601-53.7 93.7-114.3 114.3-181.9 20.601-67.6 30.9-159.8 30.9-276.8v-239c0-27.599-22.401-50-50-50zM106.036 913.497c65.4-28.5 121-64.699 166.9-108.6 56.1-53.7 94.4-114.1 115-181.2 20.6-67.1 30.899-159.6 30.899-277.5v-239c0-27.6-22.399-50-50-50h-304c-27.6 0-50 22.4-50 50v304c0 27.601 22.4 50 50 50h145.5c-1.9 79.601-20.4 143.3-55.4 191.2-27.6 37.8-69.4 69.1-125.3 93.8-25.7 11.3-36.8 41.7-24.8 67.101l35.9 75.8c11.601 24.399 40.501 35.2 65.301 24.399z\"></path></svg><p class=\"leading-relaxed mb-6 dark:text-gray-300\">I don't have words to thank this man, I'm really grateful to have this channel and website in my daily routine. If you're a mere beginner, then you can trust this guy and can put your time into his content. I can assure you that it'll be worth it.</p><span class=\"inline-flex items-center\"><span class=\"flex-grow flex flex-col pl-4\"><span class=\"title-font font-medium text-gray-900 dark:text-white\">Mohit Kumar</span><span class=\"text-gray-500 text-sm dark:text-gray-400\">Web Developer</span></span></span></div></div><div class=\"p-4 md:w-1/2 w-full\"><div class=\"h-full bg-gray-100 p-8 rounded dark:bg-gray-700\"><svg class=\"block w-5 h-5 text-gray-400 mb-4\" fill=\"currentColor\" viewbox=\"0 0 975.036 975.036\" xmlns=\"http://www.w3.org/2000/svg\"><path d=\"M925.036 57.197h-304c-27.6 0-50 22.4-50 50v304c0 27.601 22.4 50 50 50h145.5c-1.9 79.601-20.4 143.3-55.4 191.2-27.6 37.8-69.399 69.1-125.3 93.8-25.7 11.3-36.8 41.7-24.8 67.101l36 76c11.6 24.399 40.3 35.1 65.1 24.399 66.2-28.6 122.101-64.8 167.7-108.8 55.601-53.7 93.7-114.3 114.3-181.9 20.601-67.6 30.9-159.8 30.9-276.8v-239c0-27.599-22.401-50-50-50zM106.036 913.497c65.4-28.5 121-64.699 166.9-108.6 56.1-53.7 94.4-114.1 115-181.2 20.6-67.1 30.899-159.6 30.899-277.5v-239c0-27.6-22.399-50-50-50h-304c-27.6 0-50 22.4-50 50v304c0 27.601 22.4 50 50 50h145.5c-1.9 79.601-20.4 143.3-55.4 191.2-27.6 37.8-69.4 69.1-125.3 93.8-25.7 11.3-36.8 41.7-24.8 67.101l35.9 75.8c11.601 24.399 40.501 35.2 65.301 24.399z\"></path></svg><p class=\"leading-relaxed mb-6 dark:text-gray-300\">For everyone who wants to level up their #Coding and #Dev skills - seriously, this channel is for you! Both basic and advanced stacks are covered on this channel, and one can learn according to his skill levels. And the icing on the cake is, everything is available for free.</p><span class=\"inline-flex items-center\"><span class=\"flex-grow flex flex-col pl-4\"><span class=\"title-font font-medium text-gray-900 dark:text-white\">Rakesh Shetty</span><span class=\"text-gray-500 text-sm dark:text-gray-400\">Web Developer</span></span></span></div></div></div></div></section></div></div><footer class=\"text-gray-600 bg-white body-font dark:bg-gray-800 dark:text-white\"><div class=\"container mx-auto py-4 px-5 flex flex-wrap flex-col sm:flex-row\"><div class=\"flex title-font font-medium items-center md:justify-start justify-center text-gray-900 dark:text-gray-200\"><span style=\"box-sizing:border-box;display:inline-block;overflow:hidden;width:initial;height:initial;background:none;opacity:1;border:0;margin:0;padding:0;position:relative;max-width:100%\"><span style=\"box-sizing:border-box;display:block;width:initial;height:initial;background:none;opacity:1;border:0;margin:0;padding:0;max-width:100%\"><img alt=\"\" aria-hidden=\"true\" src=\"data:image/svg+xml,%3csvg%20xmlns=%27http://www.w3.org/2000/svg%27%20version=%271.1%27%20width=%2748%27%20height=%2748%27/%3e\" style=\"display:block;max-width:100%;width:initial;height:initial;background:none;opacity:1;border:0;margin:0;padding:0\"/></span><img alt=\"CodeWithHarry Logo\" class=\"rounded h-12\" data-nimg=\"intrinsic\" decoding=\"async\" name=\"logo\" src=\"data:image/gif;base64,R0lGODlhAQABAIAAAAAAAP///yH5BAEAAAAALAAAAAABAAEAAAIBRAA7\" style=\"position:absolute;top:0;left:0;bottom:0;right:0;box-sizing:border-box;padding:0;border:none;margin:auto;display:block;width:0;height:0;min-width:100%;max-width:100%;min-height:100%;max-height:100%\"/><noscript><img alt=\"CodeWithHarry Logo\" class=\"rounded h-12\" data-nimg=\"intrinsic\" decoding=\"async\" loading=\"lazy\" name=\"logo\" src=\"/_next/image/?url=%2Fimg%2Flogo-blue.png&amp;w=96&amp;q=75\" srcset=\"/_next/image/?url=%2Fimg%2Flogo-blue.png&amp;w=48&amp;q=75 1x, /_next/image/?url=%2Fimg%2Flogo-blue.png&amp;w=96&amp;q=75 2x\" style=\"position:absolute;top:0;left:0;bottom:0;right:0;box-sizing:border-box;padding:0;border:none;margin:auto;display:block;width:0;height:0;min-width:100%;max-width:100%;min-height:100%;max-height:100%\"/></noscript></span><div class=\"ml-3 text-xl\">CodeWithHarry</div></div><p class=\"text-sm text-gray-500 sm:ml-4 sm:pl-4 sm:border-l-2 sm:border-gray-200 sm:py-2 mt-4 md:mt-2 mb-2 md:mb-0 text-center dark:text-gray-400\">Copyright © 2022 CodeWithHarry.com</p><div class=\"inline-flex sm:ml-auto sm:mt-0 mt-2 justify-center sm:justify-start\" style=\"align-items:center\"><a aria-label=\"facebook\" class=\"text-gray-500 dark:text-gray-300\" href=\"https://www.facebook.com/codewithharry\" rel=\"noreferrer\" target=\"_blank\"><svg class=\"w-5 h-5\" fill=\"currentColor\" stroke-linecap=\"round\" stroke-linejoin=\"round\" stroke-width=\"2\" viewbox=\"0 0 24 24\"><path d=\"M18 2h-3a5 5 0 00-5 5v3H7v4h3v8h4v-8h3l1-4h-4V7a1 1 0 011-1h3z\"></path></svg></a><a aria-label=\"twitter\" class=\"ml-3 text-gray-500 dark:text-gray-300\" href=\"https://www.twitter.com/codewithharry\" rel=\"noreferrer\" target=\"_blank\"><svg class=\"w-5 h-5\" fill=\"currentColor\" stroke-linecap=\"round\" stroke-linejoin=\"round\" stroke-width=\"2\" viewbox=\"0 0 24 24\"><path d=\"M23 3a10.9 10.9 0 01-3.14 1.53 4.48 4.48 0 00-7.86 3v1A10.66 10.66 0 013 4s-4 9 5 13a11.64 11.64 0 01-7 2c9 5 20 0 20-11.5a4.5 4.5 0 00-.08-.83A7.72 7.72 0 0023 3z\"></path></svg></a><a aria-label=\"instagram\" class=\"ml-3 text-gray-500 dark:text-gray-300\" href=\"https://www.instagram.com/codewithharry\" rel=\"noreferrer\" target=\"_blank\"><svg class=\"w-5 h-5\" fill=\"none\" stroke=\"currentColor\" stroke-linecap=\"round\" stroke-linejoin=\"round\" stroke-width=\"2\" viewbox=\"0 0 24 24\"><rect height=\"20\" rx=\"5\" ry=\"5\" width=\"20\" x=\"2\" y=\"2\"></rect><path d=\"M16 11.37A4 4 0 1112.63 8 4 4 0 0116 11.37zm1.5-4.87h.01\"></path></svg></a><a aria-label=\"github\" class=\"ml-3 text-gray-500 dark:text-gray-300\" href=\"https://www.github.com/codewithharry\" rel=\"noreferrer\" target=\"_blank\"><svg class=\"text-xl\" fill=\"currentColor\" height=\"1em\" stroke=\"currentColor\" stroke-width=\"0\" viewbox=\"0 0 1024 1024\" width=\"1em\" xmlns=\"http://www.w3.org/2000/svg\"><path d=\"M511.6 76.3C264.3 76.2 64 276.4 64 523.5 64 718.9 189.3 885 363.8 946c23.5 5.9 19.9-10.8 19.9-22.2v-77.5c-135.7 15.9-141.2-73.9-150.3-88.9C215 726 171.5 718 184.5 703c30.9-15.9 62.4 4 98.9 57.9 26.4 39.1 77.9 32.5 104 26 5.7-23.5 17.9-44.5 34.7-60.8-140.6-25.2-199.2-111-199.2-213 0-49.5 16.3-95 48.3-131.7-20.4-60.5 1.9-112.3 4.9-120 58.1-5.2 118.5 41.6 123.2 45.3 33-8.9 70.7-13.6 112.9-13.6 42.4 0 80.2 4.9 113.5 13.9 11.3-8.6 67.3-48.8 121.3-43.9 2.9 7.7 24.7 58.3 5.5 118 32.4 36.8 48.9 82.7 48.9 132.3 0 102.2-59 188.1-200 212.9a127.5 127.5 0 0 1 38.1 91v112.5c.8 9 0 17.9 15 17.9 177.1-59.7 304.6-227 304.6-424.1 0-247.2-200.4-447.3-447.5-447.3z\"></path></svg></a></div></div></footer></div></div><script id=\"__NEXT_DATA__\" type=\"application/json\">{\"props\":{\"pageProps\":{},\"__N_SSP\":true},\"page\":\"/\",\"query\":{},\"buildId\":\"m_hyoqLdBgkk3xZsvW8xP\",\"isFallback\":false,\"gssp\":true,\"scriptLoader\":[]}</script></body></html>\n",
      "<!DOCTYPE html>\n",
      "<html><head><meta content=\"width=device-width\" name=\"viewport\"/><meta charset=\"utf-8\"/><link href=\"/img/favicon.ico\" rel=\"shortcut icon\" type=\"image/x-icon\"/><script async=\"\" crossorigin=\"anonymous\" src=\"https://pagead2.googlesyndication.com/pagead/js/adsbygoogle.js?client=ca-pub-9655830461045889\"></script><title>Learn to code online - CodeWithHarry</title><meta content=\"Generated by create next app\" name=\"description\"/><link href=\"/img/favicon.ico\" rel=\"icon\"/><meta content=\"7\" name=\"next-head-count\"/><meta name=\"next-font-preconnect\"/><link as=\"style\" href=\"/_next/static/css/ced2f5f753e05303.css\" rel=\"preload\"/><link data-n-g=\"\" href=\"/_next/static/css/ced2f5f753e05303.css\" rel=\"stylesheet\"/><link as=\"style\" href=\"/_next/static/css/470c5e8db7cdc7e9.css\" rel=\"preload\"/><link data-n-p=\"\" href=\"/_next/static/css/470c5e8db7cdc7e9.css\" rel=\"stylesheet\"/><noscript data-n-css=\"\"></noscript><script defer=\"\" nomodule=\"\" src=\"/_next/static/chunks/polyfills-5cd94c89d3acac5f.js\"></script><script defer=\"\" src=\"/_next/static/chunks/webpack-beddf46cb441c0f2.js\"></script><script defer=\"\" src=\"/_next/static/chunks/framework-a87821de553db91d.js\"></script><script defer=\"\" src=\"/_next/static/chunks/main-49d106e7eacac86b.js\"></script><script defer=\"\" src=\"/_next/static/chunks/pages/_app-a93afd1efa83860f.js\"></script><script defer=\"\" src=\"/_next/static/chunks/10-5d256216d58885d9.js\"></script><script defer=\"\" src=\"/_next/static/chunks/pages/index-2eb23443eb493791.js\"></script><script defer=\"\" src=\"/_next/static/m_hyoqLdBgkk3xZsvW8xP/_buildManifest.js\"></script><script defer=\"\" src=\"/_next/static/m_hyoqLdBgkk3xZsvW8xP/_ssgManifest.js\"></script><script defer=\"\" src=\"/_next/static/m_hyoqLdBgkk3xZsvW8xP/_middlewareManifest.js\"></script></head><body><div id=\"__next\"><div class=\"\"><div class=\"\" style=\"position:fixed;top:0;left:0;height:2px;background:transparent;z-index:99999999999;width:100%\"><div class=\"\" style=\"height:100%;background:purple;transition:all 500ms ease;width:0%\"><div style=\"box-shadow:0 0 10px purple, 0 0 10px purple;width:5%;opacity:1;position:absolute;height:100%;transition:all 500ms ease;transform:rotate(3deg) translate(0px, -4px);left:-10rem\"></div></div></div><div class=\"w-full z-10 sticky bg-white top-0 border-b border-grey-light shadow-md dark:bg-gray-800 dark:border-black\" id=\"imgpreview2\"><div class=\"w-full flex flex-wrap items-center lg:justify-between mt-0 py-4\"><div class=\"px-0 lg:pl-4 flex items-center lg:mx-4 cursor-pointer text-purple-700 text-xl font-bold mx-3 dark:text-purple-300\"><a href=\"/\">CodeWithHarry</a></div><div class=\"flex items-center md:hidden\"><div class=\"text-purple-700 text-md font-semibold\">Menu</div><svg class=\"text-purple-700 mt-1\" fill=\"currentColor\" height=\"1em\" stroke=\"currentColor\" stroke-width=\"0\" viewbox=\"0 0 1024 1024\" width=\"1em\" xmlns=\"http://www.w3.org/2000/svg\"><path d=\"M840.4 300H183.6c-19.7 0-30.7 20.8-18.5 35l328.4 380.8c9.4 10.9 27.5 10.9 37 0L858.9 335c12.2-14.2 1.2-35-18.5-35z\"></path></svg></div><svg class=\"md:hidden text-purple-700 mt-1 ml-2 cursor-pointer dark:text-white\" fill=\"currentColor\" height=\"28\" stroke=\"currentColor\" stroke-width=\"0\" viewbox=\"0 0 16 16\" width=\"28\" xmlns=\"http://www.w3.org/2000/svg\"><path d=\"M6 .278a.768.768 0 0 1 .08.858 7.208 7.208 0 0 0-.878 3.46c0 4.021 3.278 7.277 7.318 7.277.527 0 1.04-.055 1.533-.16a.787.787 0 0 1 .81.316.733.733 0 0 1-.031.893A8.349 8.349 0 0 1 8.344 16C3.734 16 0 12.286 0 7.71 0 4.266 2.114 1.312 5.124.06A.752.752 0 0 1 6 .278z\"></path><path d=\"M10.794 3.148a.217.217 0 0 1 .412 0l.387 1.162c.173.518.579.924 1.097 1.097l1.162.387a.217.217 0 0 1 0 .412l-1.162.387a1.734 1.734 0 0 0-1.097 1.097l-.387 1.162a.217.217 0 0 1-.412 0l-.387-1.162A1.734 1.734 0 0 0 9.31 6.593l-1.162-.387a.217.217 0 0 1 0-.412l1.162-.387a1.734 1.734 0 0 0 1.097-1.097l.387-1.162zM13.863.099a.145.145 0 0 1 .274 0l.258.774c.115.346.386.617.732.732l.774.258a.145.145 0 0 1 0 .274l-.774.258a1.156 1.156 0 0 0-.732.732l-.258.774a.145.145 0 0 1-.274 0l-.258-.774a1.156 1.156 0 0 0-.732-.732l-.774-.258a.145.145 0 0 1 0-.274l.774-.258c.346-.115.617-.386.732-.732L13.863.1z\"></path></svg><button class=\"md:hidden text-white bg-purple-700 hover:bg-purple-800 focus:ring-4 focus:ring-purple-300 font-medium rounded-lg text-sm px-3 py-2 text-center inline-flex items-center mx-1 absolute right-3 md:right-12\">Login</button><div class=\"w-full flex-grow lg:flex lg:flex-1 lg:content-center lg:justify-end lg:w-auto h-0 lg:h-auto overflow-hidden mt-2 lg:mt-0 z-20 transition-all\" id=\"nav-content\"><ul class=\"flex items-center flex-col lg:flex-row\"><div class=\"search-icon cursor-pointer px-6 hidden\" id=\"search-toggle\"><svg class=\"fill-current pointer-events-none text-grey-darkest w-4 h-4 inline\" viewbox=\"0 0 20 20\" xmlns=\"http://www.w3.org/2000/svg\"><path d=\"M12.9 14.32a8 8 0 1 1 1.41-1.41l5.35 5.33-1.42 1.42-5.33-5.34zM8 14A6 6 0 1 0 8 2a6 6 0 0 0 0 12z\"></path></svg></div><li class=\"mx-2 my-2 text-black hover:border-b-2 hover:border-purple-700 dark:text-white\"><a href=\"/\">Home</a></li><li class=\"mx-2 my-2 text-black hover:border-b-2 hover:border-purple-700 dark:text-white\"><a href=\"/videos/\">Courses</a></li><li class=\"mx-2 my-2 text-black hover:border-b-2 hover:border-purple-700 dark:text-white\"><a href=\"/tutorials/\">Tutorial</a></li><li class=\"mx-2 my-2 text-black hover:border-b-2 hover:border-purple-700 dark:text-white\"><a href=\"/blog/\">Blog</a></li><li class=\"mx-2 my-2 text-black hover:border-b-2 hover:border-purple-700 dark:text-white\"><a href=\"/notes/\">Notes</a></li><li class=\"mx-2 my-2 text-black hover:border-b-2 hover:border-purple-700 dark:text-white\"><a href=\"/contact/\">Contact</a></li><li class=\"mx-2 my-2 text-black hover:border-b-2 hover:border-purple-700 dark:text-white\"><a href=\"/my-gear/\">My Gear</a></li><li class=\"mx-2 my-2 text-black hover:border-b-2 hover:border-purple-700 dark:text-white\"><a href=\"/work/\">Work With Us</a></li><li><svg class=\"hidden md:block text-purple-700 mt-1 ml-2 cursor-pointer dark:text-white\" fill=\"currentColor\" height=\"28\" stroke=\"currentColor\" stroke-width=\"0\" viewbox=\"0 0 16 16\" width=\"28\" xmlns=\"http://www.w3.org/2000/svg\"><path d=\"M6 .278a.768.768 0 0 1 .08.858 7.208 7.208 0 0 0-.878 3.46c0 4.021 3.278 7.277 7.318 7.277.527 0 1.04-.055 1.533-.16a.787.787 0 0 1 .81.316.733.733 0 0 1-.031.893A8.349 8.349 0 0 1 8.344 16C3.734 16 0 12.286 0 7.71 0 4.266 2.114 1.312 5.124.06A.752.752 0 0 1 6 .278z\"></path><path d=\"M10.794 3.148a.217.217 0 0 1 .412 0l.387 1.162c.173.518.579.924 1.097 1.097l1.162.387a.217.217 0 0 1 0 .412l-1.162.387a1.734 1.734 0 0 0-1.097 1.097l-.387 1.162a.217.217 0 0 1-.412 0l-.387-1.162A1.734 1.734 0 0 0 9.31 6.593l-1.162-.387a.217.217 0 0 1 0-.412l1.162-.387a1.734 1.734 0 0 0 1.097-1.097l.387-1.162zM13.863.099a.145.145 0 0 1 .274 0l.258.774c.115.346.386.617.732.732l.774.258a.145.145 0 0 1 0 .274l-.774.258a1.156 1.156 0 0 0-.732.732l-.258.774a.145.145 0 0 1-.274 0l-.258-.774a1.156 1.156 0 0 0-.732-.732l-.774-.258a.145.145 0 0 1 0-.274l.774-.258c.346-.115.617-.386.732-.732L13.863.1z\"></path></svg></li></ul><div class=\"text-center my-2 pr-4 pl-2\"><button class=\"text-white bg-purple-700 hover:bg-purple-800 focus:ring-4 focus:ring-purple-300 font-medium rounded-lg text-sm px-3 py-2 text-center inline-flex items-center mx-1 dark:bg-purple-500 dark:hover:bg-purple-800\">Login</button><button class=\"text-white bg-purple-700 hover:bg-purple-800 focus:ring-4 focus:ring-purple-300 font-medium rounded-lg text-sm px-3 py-2 text-center inline-flex items-center mx-1 dark:bg-purple-500 dark:hover:bg-purple-800\">Signup</button></div></div></div><hr class=\"dark:border-gray-500\"/><div class=\"max-h-[6vh] min-h-[40px] flex items-center ml-3 mr-3 md:ml-10 md:mr-10 my-1\"><span><svg class=\"text-purple-700 text-xl cursor-pointer dark:text-purple-300\" fill=\"currentColor\" height=\"1em\" stroke=\"currentColor\" stroke-width=\"0\" viewbox=\"0 0 1024 1024\" width=\"1em\" xmlns=\"http://www.w3.org/2000/svg\"><path d=\"M946.5 505L534.6 93.4a31.93 31.93 0 0 0-45.2 0L77.5 505c-12 12-18.8 28.3-18.8 45.3 0 35.3 28.7 64 64 64h43.4V908c0 17.7 14.3 32 32 32H448V716h112v224h265.9c17.7 0 32-14.3 32-32V614.3h43.4c17 0 33.3-6.7 45.3-18.8 24.9-25 24.9-65.5-.1-90.5z\"></path></svg></span><ul class=\"space-x-7 m-auto text-purple-700 font-semibold hidden md:flex items-center\"><li class=\"cursor-pointer hover:border-b-2 hover:border-purple-700 active:border-b-4 dark:text-purple-300\"><a href=\"/tutorial/html-home/\">HTML</a></li><li class=\"cursor-pointer hover:border-b-2 hover:border-purple-700 active:border-b-4 dark:text-purple-300\"><a href=\"/tutorial/css-home/\">CSS</a></li><li class=\"cursor-pointer hover:border-b-2 hover:border-purple-700 active:border-b-4 dark:text-purple-300\"><a href=\"/tutorial/js/\">JS</a></li><li class=\"cursor-pointer hover:border-b-2 hover:border-purple-700 active:border-b-4 dark:text-purple-300\"><a href=\"/tutorial/c/\">C</a></li><li class=\"cursor-pointer hover:border-b-2 hover:border-purple-700 active:border-b-4 dark:text-purple-300\"><a href=\"/tutorial/cplusplus/\">C++</a></li><li class=\"cursor-pointer hover:border-b-2 hover:border-purple-700 active:border-b-4 dark:text-purple-300\"><a href=\"/tutorial/java/\">JAVA</a></li><li class=\"cursor-pointer hover:border-b-2 hover:border-purple-700 active:border-b-4 dark:text-purple-300\"><a href=\"/tutorial/python/\">PYTHON</a></li><li class=\"cursor-pointer hover:border-b-2 hover:border-purple-700 active:border-b-4 dark:text-purple-300\"><a href=\"/tutorial/php/\">PHP</a></li><li class=\"cursor-pointer hover:border-b-2 hover:border-purple-700 active:border-b-4 dark:text-purple-300\"><a href=\"/tutorial/react-home/\">REACT JS</a></li></ul><input class=\"hidden right-10 md:right-10 absolute w-48 md:w-60 h-8 bg-white rounded border-2 border-purple-500 focus:border-purple-700 focus:ring-2 focus:ring-indigo-200 text-base outline-none text-gray-700 py-1 px-3 leading-8 transition-colors duration-200 ease-in-out dark:bg-gray-500 dark:text-gray-200\" id=\"search\" placeholder=\"Search...\"/><svg class=\"text-purple-700 dark:text-purple-300 cursor-pointer text-2xl absolute right-3 md:right-12 }\" fill=\"currentColor\" height=\"1em\" stroke=\"currentColor\" stroke-width=\"0\" viewbox=\"0 0 1024 1024\" width=\"1em\" xmlns=\"http://www.w3.org/2000/svg\"><path d=\"M909.6 854.5L649.9 594.8C690.2 542.7 712 479 712 412c0-80.2-31.3-155.4-87.9-212.1-56.6-56.7-132-87.9-212.1-87.9s-155.5 31.3-212.1 87.9C143.2 256.5 112 331.8 112 412c0 80.1 31.3 155.5 87.9 212.1C256.5 680.8 331.8 712 412 712c67 0 130.6-21.8 182.7-62l259.7 259.6a8.2 8.2 0 0 0 11.6 0l43.6-43.5a8.2 8.2 0 0 0 0-11.6zM570.4 570.4C528 612.7 471.8 636 412 636s-116-23.3-158.4-65.6C211.3 528 188 471.8 188 412s23.3-116.1 65.6-158.4C296 211.3 352.2 188 412 188s116.1 23.2 158.4 65.6S636 352.2 636 412s-23.3 116.1-65.6 158.4z\"></path></svg></div><div class=\"bg-purple-100 text-center shadow-lg absolute w-full dark:bg-gray-600 hidden mt-1 md:hidden\"><ul><li class=\"pt-4 text-purple-500 font-bold\"><a href=\"/\">Home</a></li><li class=\"pt-4 text-purple-500 font-bold\"><a href=\"/videos/\">Courses</a></li><li class=\"pt-4 text-purple-500 font-bold flex justify-center ml-3\">Tutorial <!-- --><svg class=\"mt-1\" fill=\"currentColor\" height=\"1em\" stroke=\"currentColor\" stroke-width=\"0\" viewbox=\"0 0 1024 1024\" width=\"1em\" xmlns=\"http://www.w3.org/2000/svg\"><path d=\"M840.4 300H183.6c-19.7 0-30.7 20.8-18.5 35l328.4 380.8c9.4 10.9 27.5 10.9 37 0L858.9 335c12.2-14.2 1.2-35-18.5-35z\"></path></svg></li><li class=\"my-2 text-purple-500 font-semibold text-sm bg-purple-200 dark:bg-gray-700 hidden\"><ul><li class=\"cursor-pointer py-1 border-y-2 dark:border-gray-400\"><a href=\"/tutorial/html-home/\">HTML</a></li><li class=\"cursor-pointer py-1 border-b-2 dark:border-gray-400\"><a href=\"/tutorial/css-home/\">CSS</a></li><li class=\"cursor-pointer py-1 border-b-2 dark:border-gray-400\"><a href=\"/tutorial/js/\">JS</a></li><li class=\"cursor-pointer py-1 border-b-2 dark:border-gray-400\"><a href=\"/tutorial/c/\">C</a></li><li class=\"cursor-pointer py-1 border-b-2 dark:border-gray-400\"><a href=\"/tutorial/cplusplus/\">C++</a></li><li class=\"cursor-pointer py-1 border-b-2 dark:border-gray-400\"><a href=\"/tutorial/java/\">JAVA</a></li><li class=\"cursor-pointer py-1 border-b-2 dark:border-gray-400\"><a href=\"/tutorial/python/\">PYTHON</a></li><li class=\"cursor-pointer py-1 border-b-2 dark:border-gray-400\"><a href=\"/tutorial/php/\">PHP</a></li><li class=\"cursor-pointer py-1 border-b-2 dark:border-gray-400\"><a href=\"/tutorial/react-home/\">REACT JS</a></li></ul></li><li class=\"pt-4 text-purple-500 font-bold\"><a href=\"/blog/\">Blog</a></li><li class=\"pt-4 text-purple-500 font-bold\"><a href=\"/notes/\">Notes</a></li><li class=\"pt-4 text-purple-500 font-bold\"><a href=\"/contact/\">Contact</a></li><li class=\"pt-4 text-purple-500 font-bold\"><a href=\"/my-gear/\">My Gear</a></li><li class=\"pt-4 pb-4 text-purple-500 font-bold\"><a href=\"/work/\">Work With Us</a></li></ul></div></div><div class=\"dark:bg-gray-900\"><div class=\"Toastify\"></div><div class=\"flex bg-white h-96 container mx-auto dark:bg-gray-900\"><div class=\"flex items-center text-center lg:text-left px-8 md:px-12 lg:w-1/2\"><div><h2 class=\"text-3xl font-semibold text-gray-800 md:text-4xl dark:text-white\">Welcome to <!-- --><span class=\"text-purple-700 dark:text-purple-600\"></span></h2><h4 class=\"text-xl font-semibold text-gray-800 md:text-2xl dark:text-white\">Learn <!-- --><span class=\"text-purple-700 dark:text-purple-600\"></span></h4><p class=\"mt-2 text-sm text-gray-500 md:text-base dark:text-gray-400\">Confused on which course to take? I have got you covered. Browse courses and find out the best course for you. Its free! Code With Harry is my attempt to teach basics and those coding techniques to people in short time which took me ages to learn.</p><div class=\"flex justify-center lg:justify-start mt-6\"><button class=\"px-3 py-2 lg:px-4 lg:py-3 bg-gray-900 text-gray-200 text-xs font-semibold rounded hover:text-white hover:bg-gray-800 dark:bg-gray-100 dark:text-gray-600 dark:hover:bg-gray-300\">Free Courses</button><button class=\"px-3 py-2 mx-4 lg:px-4 lg:py-3 bg-gray-300 text-gray-900 text-xs font-semibold rounded hover:bg-gray-400\">Explore Blog</button></div></div></div><div class=\"hidden lg:block lg:w-1/2\" style=\"clip-path:polygon(10% 0px, 100% 0%, 100% 100%, 0px 100%)\"><div class=\"h-full object-cover\" style='background-image:url(\"https://images.unsplash.com/photo-1498050108023-c5249f4df085?ixlib=rb-1.2.1&amp;ixid=eyJhcHBfaWQiOjEyMDd9&amp;auto=format&amp;fit=crop&amp;w=1352&amp;q=80\")'><div class=\"h-full bg-black opacity-25\"></div></div></div></div><div class=\"container mx-auto lg:my-2\"><h2 class=\"text-3xl font-medium title-font text-gray-900 my-10 text-center dark:text-purple-600\">Recommended Courses</h2><div class=\"flex flex-wrap justify-center mx-6\"><div class=\"p-4 md:w-1/3 flex justify-center\"><div class=\"max-w-sm rounded-2xl overflow-hidden shadow-lg dark:bg-slate-800\"><span style=\"box-sizing:border-box;display:inline-block;overflow:hidden;width:initial;height:initial;background:none;opacity:1;border:0;margin:0;padding:0;position:relative;max-width:100%\"><span style=\"box-sizing:border-box;display:block;width:initial;height:initial;background:none;opacity:1;border:0;margin:0;padding:0;max-width:100%\"><img alt=\"\" aria-hidden=\"true\" src=\"data:image/svg+xml,%3csvg%20xmlns=%27http://www.w3.org/2000/svg%27%20version=%271.1%27%20width=%27384%27%20height=%27216%27/%3e\" style=\"display:block;max-width:100%;width:initial;height:initial;background:none;opacity:1;border:0;margin:0;padding:0\"/></span><img alt=\"img\" class=\"lg:h-48 md:h-36 w-full object-cover object-center\" data-nimg=\"intrinsic\" decoding=\"async\" src=\"data:image/gif;base64,R0lGODlhAQABAIAAAAAAAP///yH5BAEAAAAALAAAAAABAAEAAAIBRAA7\" style=\"position:absolute;top:0;left:0;bottom:0;right:0;box-sizing:border-box;padding:0;border:none;margin:auto;display:block;width:0;height:0;min-width:100%;max-width:100%;min-height:100%;max-height:100%\"/><noscript><img alt=\"img\" class=\"lg:h-48 md:h-36 w-full object-cover object-center\" data-nimg=\"intrinsic\" decoding=\"async\" loading=\"lazy\" src=\"/_next/image/?url=https%3A%2F%2Fcwh-full-next-space.fra1.digitaloceanspaces.com%2Fvideoseries%2Fpython-100-days-of-code-1%2F7wnove7K-ZQ-HD.jpg&amp;w=828&amp;q=75\" srcset=\"/_next/image/?url=https%3A%2F%2Fcwh-full-next-space.fra1.digitaloceanspaces.com%2Fvideoseries%2Fpython-100-days-of-code-1%2F7wnove7K-ZQ-HD.jpg&amp;w=384&amp;q=75 1x, /_next/image/?url=https%3A%2F%2Fcwh-full-next-space.fra1.digitaloceanspaces.com%2Fvideoseries%2Fpython-100-days-of-code-1%2F7wnove7K-ZQ-HD.jpg&amp;w=828&amp;q=75 2x\" style=\"position:absolute;top:0;left:0;bottom:0;right:0;box-sizing:border-box;padding:0;border:none;margin:auto;display:block;width:0;height:0;min-width:100%;max-width:100%;min-height:100%;max-height:100%\"/></noscript></span><div class=\"px-6 md:my-11 lg:my-0 md:h-72 lg:h-64 lg:py-4 xl:h-52\"><span class=\"tracking-widest text-xs title-font font-medium mb-1 dark:text-gray-400\">FREE COURSE</span><div class=\"title-font flex text-lg font-medium text-gray-900 mb-3 dark:text-white\">Python Tutorials - 100 Days of Code    </div><p class=\"text-gray-700 text-base dark:text-gray-400\">Python is one of the most demanded programming languages in the job market. Surprisingly, it is equally easy to learn and master Python. Let's commit our 100 days of code to python!</p></div><div class=\"px-6 pt-4 pb-2\"><span class=\"inline-block text-white bg-purple-700 rounded-full px-3 py-2 text-sm font-semibold mr-2 my-2 cursor-pointer hover:bg-purple-600\">  Start Watching </span></div></div></div><div class=\"p-4 md:w-1/3 flex justify-center\"><div class=\"max-w-sm rounded-2xl overflow-hidden shadow-lg dark:bg-slate-800\"><span style=\"box-sizing:border-box;display:inline-block;overflow:hidden;width:initial;height:initial;background:none;opacity:1;border:0;margin:0;padding:0;position:relative;max-width:100%\"><span style=\"box-sizing:border-box;display:block;width:initial;height:initial;background:none;opacity:1;border:0;margin:0;padding:0;max-width:100%\"><img alt=\"\" aria-hidden=\"true\" src=\"data:image/svg+xml,%3csvg%20xmlns=%27http://www.w3.org/2000/svg%27%20version=%271.1%27%20width=%27384%27%20height=%27216%27/%3e\" style=\"display:block;max-width:100%;width:initial;height:initial;background:none;opacity:1;border:0;margin:0;padding:0\"/></span><img alt=\"img\" class=\"lg:h-48 md:h-36 w-full object-cover object-center\" data-nimg=\"intrinsic\" decoding=\"async\" src=\"data:image/gif;base64,R0lGODlhAQABAIAAAAAAAP///yH5BAEAAAAALAAAAAABAAEAAAIBRAA7\" style=\"position:absolute;top:0;left:0;bottom:0;right:0;box-sizing:border-box;padding:0;border:none;margin:auto;display:block;width:0;height:0;min-width:100%;max-width:100%;min-height:100%;max-height:100%\"/><noscript><img alt=\"img\" class=\"lg:h-48 md:h-36 w-full object-cover object-center\" data-nimg=\"intrinsic\" decoding=\"async\" loading=\"lazy\" src=\"/_next/image/?url=https%3A%2F%2Fcwh-full-next-space.fra1.digitaloceanspaces.com%2Fvideoseries%2Fultimate-js-tutorial-hindi-1%2FJS-Thumb.jpg&amp;w=828&amp;q=75\" srcset=\"/_next/image/?url=https%3A%2F%2Fcwh-full-next-space.fra1.digitaloceanspaces.com%2Fvideoseries%2Fultimate-js-tutorial-hindi-1%2FJS-Thumb.jpg&amp;w=384&amp;q=75 1x, /_next/image/?url=https%3A%2F%2Fcwh-full-next-space.fra1.digitaloceanspaces.com%2Fvideoseries%2Fultimate-js-tutorial-hindi-1%2FJS-Thumb.jpg&amp;w=828&amp;q=75 2x\" style=\"position:absolute;top:0;left:0;bottom:0;right:0;box-sizing:border-box;padding:0;border:none;margin:auto;display:block;width:0;height:0;min-width:100%;max-width:100%;min-height:100%;max-height:100%\"/></noscript></span><div class=\"px-6 md:my-11 lg:my-0 md:h-72 lg:h-64 lg:py-4 xl:h-52\"><span class=\"tracking-widest text-xs title-font font-medium mb-1 dark:text-gray-400\">FREE COURSE</span><div class=\"title-font flex text-lg font-medium text-gray-900 mb-3 dark:text-white\">Ultimate JavaScript Course</div><p class=\"text-gray-700 text-base dark:text-gray-400\">This latest JavaScript course comes with premium curriculum that covers everything from basics to advance. On top of that, you will get my handwritten notes of JS for completely free. What are you waiting for? Just Enroll Buddy</p></div><div class=\"px-6 pt-4 pb-2\"><span class=\"inline-block text-white bg-purple-700 rounded-full px-3 py-2 text-sm font-semibold mr-2 my-2 cursor-pointer hover:bg-purple-600\">  Start Watching </span></div></div></div><div class=\"p-4 md:w-1/3 flex justify-center\"><div class=\"max-w-sm rounded-2xl overflow-hidden shadow-lg dark:bg-slate-800\"><span style=\"box-sizing:border-box;display:inline-block;overflow:hidden;width:initial;height:initial;background:none;opacity:1;border:0;margin:0;padding:0;position:relative;max-width:100%\"><span style=\"box-sizing:border-box;display:block;width:initial;height:initial;background:none;opacity:1;border:0;margin:0;padding:0;max-width:100%\"><img alt=\"\" aria-hidden=\"true\" src=\"data:image/svg+xml,%3csvg%20xmlns=%27http://www.w3.org/2000/svg%27%20version=%271.1%27%20width=%27384%27%20height=%27216%27/%3e\" style=\"display:block;max-width:100%;width:initial;height:initial;background:none;opacity:1;border:0;margin:0;padding:0\"/></span><img alt=\"img\" class=\"lg:h-48 md:h-36 w-full object-cover object-center\" data-nimg=\"intrinsic\" decoding=\"async\" src=\"data:image/gif;base64,R0lGODlhAQABAIAAAAAAAP///yH5BAEAAAAALAAAAAABAAEAAAIBRAA7\" style=\"position:absolute;top:0;left:0;bottom:0;right:0;box-sizing:border-box;padding:0;border:none;margin:auto;display:block;width:0;height:0;min-width:100%;max-width:100%;min-height:100%;max-height:100%\"/><noscript><img alt=\"img\" class=\"lg:h-48 md:h-36 w-full object-cover object-center\" data-nimg=\"intrinsic\" decoding=\"async\" loading=\"lazy\" src=\"/_next/image/?url=https%3A%2F%2Fcodewithharry.nyc3.cdn.digitaloceanspaces.com%2Fassets%2F090fefe24d23d47584f6ddc7eb5a241e.png&amp;w=828&amp;q=75\" srcset=\"/_next/image/?url=https%3A%2F%2Fcodewithharry.nyc3.cdn.digitaloceanspaces.com%2Fassets%2F090fefe24d23d47584f6ddc7eb5a241e.png&amp;w=384&amp;q=75 1x, /_next/image/?url=https%3A%2F%2Fcodewithharry.nyc3.cdn.digitaloceanspaces.com%2Fassets%2F090fefe24d23d47584f6ddc7eb5a241e.png&amp;w=828&amp;q=75 2x\" style=\"position:absolute;top:0;left:0;bottom:0;right:0;box-sizing:border-box;padding:0;border:none;margin:auto;display:block;width:0;height:0;min-width:100%;max-width:100%;min-height:100%;max-height:100%\"/></noscript></span><div class=\"px-6 md:my-11 lg:my-0 md:h-72 lg:h-64 lg:py-4 xl:h-52\"><span class=\"tracking-widest text-xs title-font font-medium mb-1 dark:text-gray-400\">FREE COURSE</span><div class=\"title-font flex text-lg font-medium text-gray-900 mb-3 dark:text-white\">React JS Tutorials For Beginners</div><p class=\"text-gray-700 text-base dark:text-gray-400\">React is a free and open-source front-end JavaScript library. This series will cover React from starting to the end. We will learn react from the ground up!</p></div><div class=\"px-6 pt-4 pb-2\"><span class=\"inline-block text-white bg-purple-700 rounded-full px-3 py-2 text-sm font-semibold mr-2 my-2 cursor-pointer hover:bg-purple-600\">  Start Watching </span></div></div></div></div></div><div class=\"container mx-auto\"><section class=\"text-gray-600 body-font\"><div class=\"container px-5 py-12 mx-auto\"><h2 class=\"text-3xl font-medium title-font text-gray-900 mb-12 text-center dark:text-purple-600\">Testimonials</h2><div class=\"flex flex-wrap -m-4\"><div class=\"p-4 md:w-1/2 w-full\"><div class=\"h-full bg-gray-100 p-8 rounded dark:bg-gray-700\"><svg class=\"block w-5 h-5 text-gray-400 mb-4\" fill=\"currentColor\" viewbox=\"0 0 975.036 975.036\" xmlns=\"http://www.w3.org/2000/svg\"><path d=\"M925.036 57.197h-304c-27.6 0-50 22.4-50 50v304c0 27.601 22.4 50 50 50h145.5c-1.9 79.601-20.4 143.3-55.4 191.2-27.6 37.8-69.399 69.1-125.3 93.8-25.7 11.3-36.8 41.7-24.8 67.101l36 76c11.6 24.399 40.3 35.1 65.1 24.399 66.2-28.6 122.101-64.8 167.7-108.8 55.601-53.7 93.7-114.3 114.3-181.9 20.601-67.6 30.9-159.8 30.9-276.8v-239c0-27.599-22.401-50-50-50zM106.036 913.497c65.4-28.5 121-64.699 166.9-108.6 56.1-53.7 94.4-114.1 115-181.2 20.6-67.1 30.899-159.6 30.899-277.5v-239c0-27.6-22.399-50-50-50h-304c-27.6 0-50 22.4-50 50v304c0 27.601 22.4 50 50 50h145.5c-1.9 79.601-20.4 143.3-55.4 191.2-27.6 37.8-69.4 69.1-125.3 93.8-25.7 11.3-36.8 41.7-24.8 67.101l35.9 75.8c11.601 24.399 40.501 35.2 65.301 24.399z\"></path></svg><p class=\"leading-relaxed mb-6 dark:text-gray-300\">I don't have words to thank this man, I'm really grateful to have this channel and website in my daily routine. If you're a mere beginner, then you can trust this guy and can put your time into his content. I can assure you that it'll be worth it.</p><span class=\"inline-flex items-center\"><span class=\"flex-grow flex flex-col pl-4\"><span class=\"title-font font-medium text-gray-900 dark:text-white\">Mohit Kumar</span><span class=\"text-gray-500 text-sm dark:text-gray-400\">Web Developer</span></span></span></div></div><div class=\"p-4 md:w-1/2 w-full\"><div class=\"h-full bg-gray-100 p-8 rounded dark:bg-gray-700\"><svg class=\"block w-5 h-5 text-gray-400 mb-4\" fill=\"currentColor\" viewbox=\"0 0 975.036 975.036\" xmlns=\"http://www.w3.org/2000/svg\"><path d=\"M925.036 57.197h-304c-27.6 0-50 22.4-50 50v304c0 27.601 22.4 50 50 50h145.5c-1.9 79.601-20.4 143.3-55.4 191.2-27.6 37.8-69.399 69.1-125.3 93.8-25.7 11.3-36.8 41.7-24.8 67.101l36 76c11.6 24.399 40.3 35.1 65.1 24.399 66.2-28.6 122.101-64.8 167.7-108.8 55.601-53.7 93.7-114.3 114.3-181.9 20.601-67.6 30.9-159.8 30.9-276.8v-239c0-27.599-22.401-50-50-50zM106.036 913.497c65.4-28.5 121-64.699 166.9-108.6 56.1-53.7 94.4-114.1 115-181.2 20.6-67.1 30.899-159.6 30.899-277.5v-239c0-27.6-22.399-50-50-50h-304c-27.6 0-50 22.4-50 50v304c0 27.601 22.4 50 50 50h145.5c-1.9 79.601-20.4 143.3-55.4 191.2-27.6 37.8-69.4 69.1-125.3 93.8-25.7 11.3-36.8 41.7-24.8 67.101l35.9 75.8c11.601 24.399 40.501 35.2 65.301 24.399z\"></path></svg><p class=\"leading-relaxed mb-6 dark:text-gray-300\">For everyone who wants to level up their #Coding and #Dev skills - seriously, this channel is for you! Both basic and advanced stacks are covered on this channel, and one can learn according to his skill levels. And the icing on the cake is, everything is available for free.</p><span class=\"inline-flex items-center\"><span class=\"flex-grow flex flex-col pl-4\"><span class=\"title-font font-medium text-gray-900 dark:text-white\">Rakesh Shetty</span><span class=\"text-gray-500 text-sm dark:text-gray-400\">Web Developer</span></span></span></div></div></div></div></section></div></div><footer class=\"text-gray-600 bg-white body-font dark:bg-gray-800 dark:text-white\"><div class=\"container mx-auto py-4 px-5 flex flex-wrap flex-col sm:flex-row\"><div class=\"flex title-font font-medium items-center md:justify-start justify-center text-gray-900 dark:text-gray-200\"><span style=\"box-sizing:border-box;display:inline-block;overflow:hidden;width:initial;height:initial;background:none;opacity:1;border:0;margin:0;padding:0;position:relative;max-width:100%\"><span style=\"box-sizing:border-box;display:block;width:initial;height:initial;background:none;opacity:1;border:0;margin:0;padding:0;max-width:100%\"><img alt=\"\" aria-hidden=\"true\" src=\"data:image/svg+xml,%3csvg%20xmlns=%27http://www.w3.org/2000/svg%27%20version=%271.1%27%20width=%2748%27%20height=%2748%27/%3e\" style=\"display:block;max-width:100%;width:initial;height:initial;background:none;opacity:1;border:0;margin:0;padding:0\"/></span><img alt=\"CodeWithHarry Logo\" class=\"rounded h-12\" data-nimg=\"intrinsic\" decoding=\"async\" name=\"logo\" src=\"data:image/gif;base64,R0lGODlhAQABAIAAAAAAAP///yH5BAEAAAAALAAAAAABAAEAAAIBRAA7\" style=\"position:absolute;top:0;left:0;bottom:0;right:0;box-sizing:border-box;padding:0;border:none;margin:auto;display:block;width:0;height:0;min-width:100%;max-width:100%;min-height:100%;max-height:100%\"/><noscript><img alt=\"CodeWithHarry Logo\" class=\"rounded h-12\" data-nimg=\"intrinsic\" decoding=\"async\" loading=\"lazy\" name=\"logo\" src=\"/_next/image/?url=%2Fimg%2Flogo-blue.png&amp;w=96&amp;q=75\" srcset=\"/_next/image/?url=%2Fimg%2Flogo-blue.png&amp;w=48&amp;q=75 1x, /_next/image/?url=%2Fimg%2Flogo-blue.png&amp;w=96&amp;q=75 2x\" style=\"position:absolute;top:0;left:0;bottom:0;right:0;box-sizing:border-box;padding:0;border:none;margin:auto;display:block;width:0;height:0;min-width:100%;max-width:100%;min-height:100%;max-height:100%\"/></noscript></span><div class=\"ml-3 text-xl\">CodeWithHarry</div></div><p class=\"text-sm text-gray-500 sm:ml-4 sm:pl-4 sm:border-l-2 sm:border-gray-200 sm:py-2 mt-4 md:mt-2 mb-2 md:mb-0 text-center dark:text-gray-400\">Copyright © 2022 CodeWithHarry.com</p><div class=\"inline-flex sm:ml-auto sm:mt-0 mt-2 justify-center sm:justify-start\" style=\"align-items:center\"><a aria-label=\"facebook\" class=\"text-gray-500 dark:text-gray-300\" href=\"https://www.facebook.com/codewithharry\" rel=\"noreferrer\" target=\"_blank\"><svg class=\"w-5 h-5\" fill=\"currentColor\" stroke-linecap=\"round\" stroke-linejoin=\"round\" stroke-width=\"2\" viewbox=\"0 0 24 24\"><path d=\"M18 2h-3a5 5 0 00-5 5v3H7v4h3v8h4v-8h3l1-4h-4V7a1 1 0 011-1h3z\"></path></svg></a><a aria-label=\"twitter\" class=\"ml-3 text-gray-500 dark:text-gray-300\" href=\"https://www.twitter.com/codewithharry\" rel=\"noreferrer\" target=\"_blank\"><svg class=\"w-5 h-5\" fill=\"currentColor\" stroke-linecap=\"round\" stroke-linejoin=\"round\" stroke-width=\"2\" viewbox=\"0 0 24 24\"><path d=\"M23 3a10.9 10.9 0 01-3.14 1.53 4.48 4.48 0 00-7.86 3v1A10.66 10.66 0 013 4s-4 9 5 13a11.64 11.64 0 01-7 2c9 5 20 0 20-11.5a4.5 4.5 0 00-.08-.83A7.72 7.72 0 0023 3z\"></path></svg></a><a aria-label=\"instagram\" class=\"ml-3 text-gray-500 dark:text-gray-300\" href=\"https://www.instagram.com/codewithharry\" rel=\"noreferrer\" target=\"_blank\"><svg class=\"w-5 h-5\" fill=\"none\" stroke=\"currentColor\" stroke-linecap=\"round\" stroke-linejoin=\"round\" stroke-width=\"2\" viewbox=\"0 0 24 24\"><rect height=\"20\" rx=\"5\" ry=\"5\" width=\"20\" x=\"2\" y=\"2\"></rect><path d=\"M16 11.37A4 4 0 1112.63 8 4 4 0 0116 11.37zm1.5-4.87h.01\"></path></svg></a><a aria-label=\"github\" class=\"ml-3 text-gray-500 dark:text-gray-300\" href=\"https://www.github.com/codewithharry\" rel=\"noreferrer\" target=\"_blank\"><svg class=\"text-xl\" fill=\"currentColor\" height=\"1em\" stroke=\"currentColor\" stroke-width=\"0\" viewbox=\"0 0 1024 1024\" width=\"1em\" xmlns=\"http://www.w3.org/2000/svg\"><path d=\"M511.6 76.3C264.3 76.2 64 276.4 64 523.5 64 718.9 189.3 885 363.8 946c23.5 5.9 19.9-10.8 19.9-22.2v-77.5c-135.7 15.9-141.2-73.9-150.3-88.9C215 726 171.5 718 184.5 703c30.9-15.9 62.4 4 98.9 57.9 26.4 39.1 77.9 32.5 104 26 5.7-23.5 17.9-44.5 34.7-60.8-140.6-25.2-199.2-111-199.2-213 0-49.5 16.3-95 48.3-131.7-20.4-60.5 1.9-112.3 4.9-120 58.1-5.2 118.5 41.6 123.2 45.3 33-8.9 70.7-13.6 112.9-13.6 42.4 0 80.2 4.9 113.5 13.9 11.3-8.6 67.3-48.8 121.3-43.9 2.9 7.7 24.7 58.3 5.5 118 32.4 36.8 48.9 82.7 48.9 132.3 0 102.2-59 188.1-200 212.9a127.5 127.5 0 0 1 38.1 91v112.5c.8 9 0 17.9 15 17.9 177.1-59.7 304.6-227 304.6-424.1 0-247.2-200.4-447.3-447.5-447.3z\"></path></svg></a></div></div></footer></div></div><script id=\"__NEXT_DATA__\" type=\"application/json\">{\"props\":{\"pageProps\":{},\"__N_SSP\":true},\"page\":\"/\",\"query\":{},\"buildId\":\"m_hyoqLdBgkk3xZsvW8xP\",\"isFallback\":false,\"gssp\":true,\"scriptLoader\":[]}</script></body></html>\n"
     ]
    }
   ],
   "source": [
    "for parent_tree in navcontent.parents:\n",
    "    print(parent_tree) "
   ]
  },
  {
   "cell_type": "markdown",
   "id": "ae68deb3",
   "metadata": {},
   "source": [
    "# print just the names of the  parents tag of the current element, from starting to current"
   ]
  },
  {
   "cell_type": "code",
   "execution_count": 47,
   "id": "8d80e437",
   "metadata": {},
   "outputs": [
    {
     "name": "stdout",
     "output_type": "stream",
     "text": [
      "div\n",
      "div\n",
      "div\n",
      "div\n",
      "body\n",
      "html\n",
      "[document]\n"
     ]
    }
   ],
   "source": [
    "for parent_tree in navcontent.parents:\n",
    "    print(parent_tree.name)  "
   ]
  },
  {
   "cell_type": "markdown",
   "id": "ce65bf75",
   "metadata": {},
   "source": [
    "# next silblings and previous siblings"
   ]
  },
  {
   "cell_type": "code",
   "execution_count": 48,
   "id": "4f044835",
   "metadata": {},
   "outputs": [
    {
     "name": "stdout",
     "output_type": "stream",
     "text": [
      "None\n"
     ]
    }
   ],
   "source": [
    "print(navcontent.next_sibling)  "
   ]
  },
  {
   "cell_type": "markdown",
   "id": "3b5a1b11",
   "metadata": {},
   "source": [
    "### next ki bhi next siblings"
   ]
  },
  {
   "cell_type": "code",
   "execution_count": 49,
   "id": "09d5e9d8",
   "metadata": {},
   "outputs": [
    {
     "ename": "AttributeError",
     "evalue": "'NoneType' object has no attribute 'next_sibling'",
     "output_type": "error",
     "traceback": [
      "\u001b[1;31m---------------------------------------------------------------------------\u001b[0m",
      "\u001b[1;31mAttributeError\u001b[0m                            Traceback (most recent call last)",
      "Input \u001b[1;32mIn [49]\u001b[0m, in \u001b[0;36m<cell line: 1>\u001b[1;34m()\u001b[0m\n\u001b[1;32m----> 1\u001b[0m \u001b[38;5;28mprint\u001b[39m(\u001b[43mnavcontent\u001b[49m\u001b[38;5;241;43m.\u001b[39;49m\u001b[43mnext_sibling\u001b[49m\u001b[38;5;241;43m.\u001b[39;49m\u001b[43mnext_sibling\u001b[49m)\n",
      "\u001b[1;31mAttributeError\u001b[0m: 'NoneType' object has no attribute 'next_sibling'"
     ]
    }
   ],
   "source": [
    "print(navcontent.next_sibling.next_sibling)  "
   ]
  },
  {
   "cell_type": "code",
   "execution_count": 50,
   "id": "e0284ff9",
   "metadata": {},
   "outputs": [
    {
     "name": "stdout",
     "output_type": "stream",
     "text": [
      "<button class=\"md:hidden text-white bg-purple-700 hover:bg-purple-800 focus:ring-4 focus:ring-purple-300 font-medium rounded-lg text-sm px-3 py-2 text-center inline-flex items-center mx-1 absolute right-3 md:right-12\">Login</button>\n"
     ]
    }
   ],
   "source": [
    "print(navcontent.previous_sibling) "
   ]
  },
  {
   "cell_type": "markdown",
   "id": "66ae5680",
   "metadata": {},
   "source": [
    "### previous ki bhi previous siblings"
   ]
  },
  {
   "cell_type": "code",
   "execution_count": 51,
   "id": "3ac4beeb",
   "metadata": {},
   "outputs": [
    {
     "name": "stdout",
     "output_type": "stream",
     "text": [
      "<svg class=\"md:hidden text-purple-700 mt-1 ml-2 cursor-pointer dark:text-white\" fill=\"currentColor\" height=\"28\" stroke=\"currentColor\" stroke-width=\"0\" viewbox=\"0 0 16 16\" width=\"28\" xmlns=\"http://www.w3.org/2000/svg\"><path d=\"M6 .278a.768.768 0 0 1 .08.858 7.208 7.208 0 0 0-.878 3.46c0 4.021 3.278 7.277 7.318 7.277.527 0 1.04-.055 1.533-.16a.787.787 0 0 1 .81.316.733.733 0 0 1-.031.893A8.349 8.349 0 0 1 8.344 16C3.734 16 0 12.286 0 7.71 0 4.266 2.114 1.312 5.124.06A.752.752 0 0 1 6 .278z\"></path><path d=\"M10.794 3.148a.217.217 0 0 1 .412 0l.387 1.162c.173.518.579.924 1.097 1.097l1.162.387a.217.217 0 0 1 0 .412l-1.162.387a1.734 1.734 0 0 0-1.097 1.097l-.387 1.162a.217.217 0 0 1-.412 0l-.387-1.162A1.734 1.734 0 0 0 9.31 6.593l-1.162-.387a.217.217 0 0 1 0-.412l1.162-.387a1.734 1.734 0 0 0 1.097-1.097l.387-1.162zM13.863.099a.145.145 0 0 1 .274 0l.258.774c.115.346.386.617.732.732l.774.258a.145.145 0 0 1 0 .274l-.774.258a1.156 1.156 0 0 0-.732.732l-.258.774a.145.145 0 0 1-.274 0l-.258-.774a1.156 1.156 0 0 0-.732-.732l-.774-.258a.145.145 0 0 1 0-.274l.774-.258c.346-.115.617-.386.732-.732L13.863.1z\"></path></svg>\n"
     ]
    }
   ],
   "source": [
    "print(navcontent.previous_sibling.previous_sibling)  "
   ]
  },
  {
   "cell_type": "markdown",
   "id": "62978318",
   "metadata": {},
   "source": [
    "## point to be noted, that blanks and new lines are also considered a element is this siblings functions"
   ]
  },
  {
   "cell_type": "code",
   "execution_count": 52,
   "id": "07c69627",
   "metadata": {},
   "outputs": [
    {
     "data": {
      "text/plain": [
       "<generator object PageElement.previous_siblings at 0x00000208DF4E6B30>"
      ]
     },
     "execution_count": 52,
     "metadata": {},
     "output_type": "execute_result"
    }
   ],
   "source": [
    "navcontent.previous_siblings "
   ]
  },
  {
   "cell_type": "code",
   "execution_count": 53,
   "id": "925c94bf",
   "metadata": {},
   "outputs": [
    {
     "name": "stdout",
     "output_type": "stream",
     "text": [
      "button\n",
      "svg\n",
      "div\n",
      "div\n"
     ]
    }
   ],
   "source": [
    "for i in navcontent.previous_siblings:\n",
    "    print(i.name)  "
   ]
  },
  {
   "cell_type": "code",
   "execution_count": 54,
   "id": "1d59fdc3",
   "metadata": {},
   "outputs": [],
   "source": [
    "for i in navcontent.next_siblings: \n",
    "    print(i.name)"
   ]
  },
  {
   "cell_type": "markdown",
   "id": "6ef8f447",
   "metadata": {},
   "source": [
    "# css selector"
   ]
  },
  {
   "cell_type": "raw",
   "id": "b3519775",
   "metadata": {},
   "source": [
    "The select function in Beautiful Soup is used to find elements in an HTML or XML document based on CSS selectors. CSS selectors are a way of selecting one or more elements from an HTML or XML document based on their attributes, such as class, id, tag name, and so on.\n",
    "\n",
    "If you use soup.select('.aadil'), it will find all the elements in the HTML or XML document that have a class attribute of aadil. It will return a list of all those elements."
   ]
  },
  {
   "cell_type": "raw",
   "id": "7e22bda0",
   "metadata": {},
   "source": [
    "Here are some examples of CSS selectors:-\n",
    "\n",
    "p selects all <p> elements\n",
    "#my-id selects the element with an id attribute of \"my-id\"\n",
    ".my-class selects all elements with a class attribute of \"my-class\"\n",
    "p a selects all <a> elements that are descendants of a <p> element\n",
    "p > a selects all <a> elements that are direct children of a <p> element\n",
    "The above are just a few examples of CSS selectors. There are many more selectors and combinations of selectors that can be used to select elements in a document. The CSS selector syntax is very flexible and powerful."
   ]
  },
  {
   "cell_type": "code",
   "execution_count": 55,
   "id": "61e5c8f7",
   "metadata": {},
   "outputs": [],
   "source": [
    "elem = soup.select('#nav-content') "
   ]
  },
  {
   "cell_type": "code",
   "execution_count": 56,
   "id": "80a4a534",
   "metadata": {},
   "outputs": [
    {
     "data": {
      "text/plain": [
       "[<div class=\"w-full flex-grow lg:flex lg:flex-1 lg:content-center lg:justify-end lg:w-auto h-0 lg:h-auto overflow-hidden mt-2 lg:mt-0 z-20 transition-all\" id=\"nav-content\"><ul class=\"flex items-center flex-col lg:flex-row\"><div class=\"search-icon cursor-pointer px-6 hidden\" id=\"search-toggle\"><svg class=\"fill-current pointer-events-none text-grey-darkest w-4 h-4 inline\" viewbox=\"0 0 20 20\" xmlns=\"http://www.w3.org/2000/svg\"><path d=\"M12.9 14.32a8 8 0 1 1 1.41-1.41l5.35 5.33-1.42 1.42-5.33-5.34zM8 14A6 6 0 1 0 8 2a6 6 0 0 0 0 12z\"></path></svg></div><li class=\"mx-2 my-2 text-black hover:border-b-2 hover:border-purple-700 dark:text-white\"><a href=\"/\">Home</a></li><li class=\"mx-2 my-2 text-black hover:border-b-2 hover:border-purple-700 dark:text-white\"><a href=\"/videos/\">Courses</a></li><li class=\"mx-2 my-2 text-black hover:border-b-2 hover:border-purple-700 dark:text-white\"><a href=\"/tutorials/\">Tutorial</a></li><li class=\"mx-2 my-2 text-black hover:border-b-2 hover:border-purple-700 dark:text-white\"><a href=\"/blog/\">Blog</a></li><li class=\"mx-2 my-2 text-black hover:border-b-2 hover:border-purple-700 dark:text-white\"><a href=\"/notes/\">Notes</a></li><li class=\"mx-2 my-2 text-black hover:border-b-2 hover:border-purple-700 dark:text-white\"><a href=\"/contact/\">Contact</a></li><li class=\"mx-2 my-2 text-black hover:border-b-2 hover:border-purple-700 dark:text-white\"><a href=\"/my-gear/\">My Gear</a></li><li class=\"mx-2 my-2 text-black hover:border-b-2 hover:border-purple-700 dark:text-white\"><a href=\"/work/\">Work With Us</a></li><li><svg class=\"hidden md:block text-purple-700 mt-1 ml-2 cursor-pointer dark:text-white\" fill=\"currentColor\" height=\"28\" stroke=\"currentColor\" stroke-width=\"0\" viewbox=\"0 0 16 16\" width=\"28\" xmlns=\"http://www.w3.org/2000/svg\"><path d=\"M6 .278a.768.768 0 0 1 .08.858 7.208 7.208 0 0 0-.878 3.46c0 4.021 3.278 7.277 7.318 7.277.527 0 1.04-.055 1.533-.16a.787.787 0 0 1 .81.316.733.733 0 0 1-.031.893A8.349 8.349 0 0 1 8.344 16C3.734 16 0 12.286 0 7.71 0 4.266 2.114 1.312 5.124.06A.752.752 0 0 1 6 .278z\"></path><path d=\"M10.794 3.148a.217.217 0 0 1 .412 0l.387 1.162c.173.518.579.924 1.097 1.097l1.162.387a.217.217 0 0 1 0 .412l-1.162.387a1.734 1.734 0 0 0-1.097 1.097l-.387 1.162a.217.217 0 0 1-.412 0l-.387-1.162A1.734 1.734 0 0 0 9.31 6.593l-1.162-.387a.217.217 0 0 1 0-.412l1.162-.387a1.734 1.734 0 0 0 1.097-1.097l.387-1.162zM13.863.099a.145.145 0 0 1 .274 0l.258.774c.115.346.386.617.732.732l.774.258a.145.145 0 0 1 0 .274l-.774.258a1.156 1.156 0 0 0-.732.732l-.258.774a.145.145 0 0 1-.274 0l-.258-.774a1.156 1.156 0 0 0-.732-.732l-.774-.258a.145.145 0 0 1 0-.274l.774-.258c.346-.115.617-.386.732-.732L13.863.1z\"></path></svg></li></ul><div class=\"text-center my-2 pr-4 pl-2\"><button class=\"text-white bg-purple-700 hover:bg-purple-800 focus:ring-4 focus:ring-purple-300 font-medium rounded-lg text-sm px-3 py-2 text-center inline-flex items-center mx-1 dark:bg-purple-500 dark:hover:bg-purple-800\">Login</button><button class=\"text-white bg-purple-700 hover:bg-purple-800 focus:ring-4 focus:ring-purple-300 font-medium rounded-lg text-sm px-3 py-2 text-center inline-flex items-center mx-1 dark:bg-purple-500 dark:hover:bg-purple-800\">Signup</button></div></div>]"
      ]
     },
     "execution_count": 56,
     "metadata": {},
     "output_type": "execute_result"
    }
   ],
   "source": [
    "elem "
   ]
  },
  {
   "cell_type": "code",
   "execution_count": 57,
   "id": "5e7f7c4f",
   "metadata": {},
   "outputs": [],
   "source": [
    "elem = soup.select('.mx-2') "
   ]
  },
  {
   "cell_type": "code",
   "execution_count": 58,
   "id": "63b5cf06",
   "metadata": {},
   "outputs": [
    {
     "data": {
      "text/plain": [
       "[<li class=\"mx-2 my-2 text-black hover:border-b-2 hover:border-purple-700 dark:text-white\"><a href=\"/\">Home</a></li>,\n",
       " <li class=\"mx-2 my-2 text-black hover:border-b-2 hover:border-purple-700 dark:text-white\"><a href=\"/videos/\">Courses</a></li>,\n",
       " <li class=\"mx-2 my-2 text-black hover:border-b-2 hover:border-purple-700 dark:text-white\"><a href=\"/tutorials/\">Tutorial</a></li>,\n",
       " <li class=\"mx-2 my-2 text-black hover:border-b-2 hover:border-purple-700 dark:text-white\"><a href=\"/blog/\">Blog</a></li>,\n",
       " <li class=\"mx-2 my-2 text-black hover:border-b-2 hover:border-purple-700 dark:text-white\"><a href=\"/notes/\">Notes</a></li>,\n",
       " <li class=\"mx-2 my-2 text-black hover:border-b-2 hover:border-purple-700 dark:text-white\"><a href=\"/contact/\">Contact</a></li>,\n",
       " <li class=\"mx-2 my-2 text-black hover:border-b-2 hover:border-purple-700 dark:text-white\"><a href=\"/my-gear/\">My Gear</a></li>,\n",
       " <li class=\"mx-2 my-2 text-black hover:border-b-2 hover:border-purple-700 dark:text-white\"><a href=\"/work/\">Work With Us</a></li>]"
      ]
     },
     "execution_count": 58,
     "metadata": {},
     "output_type": "execute_result"
    }
   ],
   "source": [
    "elem "
   ]
  }
 ],
 "metadata": {
  "kernelspec": {
   "display_name": "Python 3 (ipykernel)",
   "language": "python",
   "name": "python3"
  },
  "language_info": {
   "codemirror_mode": {
    "name": "ipython",
    "version": 3
   },
   "file_extension": ".py",
   "mimetype": "text/x-python",
   "name": "python",
   "nbconvert_exporter": "python",
   "pygments_lexer": "ipython3",
   "version": "3.9.7"
  }
 },
 "nbformat": 4,
 "nbformat_minor": 5
}
